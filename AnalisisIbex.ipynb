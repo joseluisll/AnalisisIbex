{
  "nbformat": 4,
  "nbformat_minor": 0,
  "metadata": {
    "colab": {
      "provenance": [],
      "history_visible": true,
      "authorship_tag": "ABX9TyO1VPG5go96BxF2wOKVtniR",
      "include_colab_link": true
    },
    "kernelspec": {
      "name": "python3",
      "display_name": "Python 3"
    },
    "language_info": {
      "name": "python"
    }
  },
  "cells": [
    {
      "cell_type": "markdown",
      "metadata": {
        "id": "view-in-github",
        "colab_type": "text"
      },
      "source": [
        "<a href=\"https://colab.research.google.com/github/joseluisll/AnalisisIbex/blob/main/AnalisisIbex.ipynb\" target=\"_parent\"><img src=\"https://colab.research.google.com/assets/colab-badge.svg\" alt=\"Open In Colab\"/></a>"
      ]
    },
    {
      "cell_type": "code",
      "source": [
        "# Instala plotly en Colab\n",
        "!pip install plotly\n",
        "!pip install gradio\n",
        "!pip install schedule==1.1.0\n",
        "\n",
        "import numpy as np\n",
        "import pandas as pd\n",
        "import plotly.graph_objects as go"
      ],
      "metadata": {
        "colab": {
          "base_uri": "https://localhost:8080/"
        },
        "id": "tGbqaum6wBLo",
        "outputId": "3e468323-1de1-49a4-9458-4aa53126d8a2"
      },
      "execution_count": 11,
      "outputs": [
        {
          "output_type": "stream",
          "name": "stdout",
          "text": [
            "Requirement already satisfied: plotly in /usr/local/lib/python3.11/dist-packages (5.24.1)\n",
            "Requirement already satisfied: tenacity>=6.2.0 in /usr/local/lib/python3.11/dist-packages (from plotly) (9.1.2)\n",
            "Requirement already satisfied: packaging in /usr/local/lib/python3.11/dist-packages (from plotly) (24.2)\n",
            "Requirement already satisfied: gradio in /usr/local/lib/python3.11/dist-packages (5.25.2)\n",
            "Requirement already satisfied: aiofiles<25.0,>=22.0 in /usr/local/lib/python3.11/dist-packages (from gradio) (24.1.0)\n",
            "Requirement already satisfied: anyio<5.0,>=3.0 in /usr/local/lib/python3.11/dist-packages (from gradio) (4.9.0)\n",
            "Requirement already satisfied: fastapi<1.0,>=0.115.2 in /usr/local/lib/python3.11/dist-packages (from gradio) (0.115.12)\n",
            "Requirement already satisfied: ffmpy in /usr/local/lib/python3.11/dist-packages (from gradio) (0.5.0)\n",
            "Requirement already satisfied: gradio-client==1.8.0 in /usr/local/lib/python3.11/dist-packages (from gradio) (1.8.0)\n",
            "Requirement already satisfied: groovy~=0.1 in /usr/local/lib/python3.11/dist-packages (from gradio) (0.1.2)\n",
            "Requirement already satisfied: httpx>=0.24.1 in /usr/local/lib/python3.11/dist-packages (from gradio) (0.28.1)\n",
            "Requirement already satisfied: huggingface-hub>=0.28.1 in /usr/local/lib/python3.11/dist-packages (from gradio) (0.30.2)\n",
            "Requirement already satisfied: jinja2<4.0 in /usr/local/lib/python3.11/dist-packages (from gradio) (3.1.6)\n",
            "Requirement already satisfied: markupsafe<4.0,>=2.0 in /usr/local/lib/python3.11/dist-packages (from gradio) (3.0.2)\n",
            "Requirement already satisfied: numpy<3.0,>=1.0 in /usr/local/lib/python3.11/dist-packages (from gradio) (2.0.2)\n",
            "Requirement already satisfied: orjson~=3.0 in /usr/local/lib/python3.11/dist-packages (from gradio) (3.10.16)\n",
            "Requirement already satisfied: packaging in /usr/local/lib/python3.11/dist-packages (from gradio) (24.2)\n",
            "Requirement already satisfied: pandas<3.0,>=1.0 in /usr/local/lib/python3.11/dist-packages (from gradio) (2.2.2)\n",
            "Requirement already satisfied: pillow<12.0,>=8.0 in /usr/local/lib/python3.11/dist-packages (from gradio) (11.1.0)\n",
            "Requirement already satisfied: pydantic<2.12,>=2.0 in /usr/local/lib/python3.11/dist-packages (from gradio) (2.11.3)\n",
            "Requirement already satisfied: pydub in /usr/local/lib/python3.11/dist-packages (from gradio) (0.25.1)\n",
            "Requirement already satisfied: python-multipart>=0.0.18 in /usr/local/lib/python3.11/dist-packages (from gradio) (0.0.20)\n",
            "Requirement already satisfied: pyyaml<7.0,>=5.0 in /usr/local/lib/python3.11/dist-packages (from gradio) (6.0.2)\n",
            "Requirement already satisfied: ruff>=0.9.3 in /usr/local/lib/python3.11/dist-packages (from gradio) (0.11.5)\n",
            "Requirement already satisfied: safehttpx<0.2.0,>=0.1.6 in /usr/local/lib/python3.11/dist-packages (from gradio) (0.1.6)\n",
            "Requirement already satisfied: semantic-version~=2.0 in /usr/local/lib/python3.11/dist-packages (from gradio) (2.10.0)\n",
            "Requirement already satisfied: starlette<1.0,>=0.40.0 in /usr/local/lib/python3.11/dist-packages (from gradio) (0.46.2)\n",
            "Requirement already satisfied: tomlkit<0.14.0,>=0.12.0 in /usr/local/lib/python3.11/dist-packages (from gradio) (0.13.2)\n",
            "Requirement already satisfied: typer<1.0,>=0.12 in /usr/local/lib/python3.11/dist-packages (from gradio) (0.15.2)\n",
            "Requirement already satisfied: typing-extensions~=4.0 in /usr/local/lib/python3.11/dist-packages (from gradio) (4.13.1)\n",
            "Requirement already satisfied: uvicorn>=0.14.0 in /usr/local/lib/python3.11/dist-packages (from gradio) (0.34.1)\n",
            "Requirement already satisfied: fsspec in /usr/local/lib/python3.11/dist-packages (from gradio-client==1.8.0->gradio) (2025.3.2)\n",
            "Requirement already satisfied: websockets<16.0,>=10.0 in /usr/local/lib/python3.11/dist-packages (from gradio-client==1.8.0->gradio) (15.0.1)\n",
            "Requirement already satisfied: idna>=2.8 in /usr/local/lib/python3.11/dist-packages (from anyio<5.0,>=3.0->gradio) (3.10)\n",
            "Requirement already satisfied: sniffio>=1.1 in /usr/local/lib/python3.11/dist-packages (from anyio<5.0,>=3.0->gradio) (1.3.1)\n",
            "Requirement already satisfied: certifi in /usr/local/lib/python3.11/dist-packages (from httpx>=0.24.1->gradio) (2025.1.31)\n",
            "Requirement already satisfied: httpcore==1.* in /usr/local/lib/python3.11/dist-packages (from httpx>=0.24.1->gradio) (1.0.7)\n",
            "Requirement already satisfied: h11<0.15,>=0.13 in /usr/local/lib/python3.11/dist-packages (from httpcore==1.*->httpx>=0.24.1->gradio) (0.14.0)\n",
            "Requirement already satisfied: filelock in /usr/local/lib/python3.11/dist-packages (from huggingface-hub>=0.28.1->gradio) (3.18.0)\n",
            "Requirement already satisfied: requests in /usr/local/lib/python3.11/dist-packages (from huggingface-hub>=0.28.1->gradio) (2.32.3)\n",
            "Requirement already satisfied: tqdm>=4.42.1 in /usr/local/lib/python3.11/dist-packages (from huggingface-hub>=0.28.1->gradio) (4.67.1)\n",
            "Requirement already satisfied: python-dateutil>=2.8.2 in /usr/local/lib/python3.11/dist-packages (from pandas<3.0,>=1.0->gradio) (2.8.2)\n",
            "Requirement already satisfied: pytz>=2020.1 in /usr/local/lib/python3.11/dist-packages (from pandas<3.0,>=1.0->gradio) (2025.2)\n",
            "Requirement already satisfied: tzdata>=2022.7 in /usr/local/lib/python3.11/dist-packages (from pandas<3.0,>=1.0->gradio) (2025.2)\n",
            "Requirement already satisfied: annotated-types>=0.6.0 in /usr/local/lib/python3.11/dist-packages (from pydantic<2.12,>=2.0->gradio) (0.7.0)\n",
            "Requirement already satisfied: pydantic-core==2.33.1 in /usr/local/lib/python3.11/dist-packages (from pydantic<2.12,>=2.0->gradio) (2.33.1)\n",
            "Requirement already satisfied: typing-inspection>=0.4.0 in /usr/local/lib/python3.11/dist-packages (from pydantic<2.12,>=2.0->gradio) (0.4.0)\n",
            "Requirement already satisfied: click>=8.0.0 in /usr/local/lib/python3.11/dist-packages (from typer<1.0,>=0.12->gradio) (8.1.8)\n",
            "Requirement already satisfied: shellingham>=1.3.0 in /usr/local/lib/python3.11/dist-packages (from typer<1.0,>=0.12->gradio) (1.5.4)\n",
            "Requirement already satisfied: rich>=10.11.0 in /usr/local/lib/python3.11/dist-packages (from typer<1.0,>=0.12->gradio) (13.9.4)\n",
            "Requirement already satisfied: six>=1.5 in /usr/local/lib/python3.11/dist-packages (from python-dateutil>=2.8.2->pandas<3.0,>=1.0->gradio) (1.17.0)\n",
            "Requirement already satisfied: markdown-it-py>=2.2.0 in /usr/local/lib/python3.11/dist-packages (from rich>=10.11.0->typer<1.0,>=0.12->gradio) (3.0.0)\n",
            "Requirement already satisfied: pygments<3.0.0,>=2.13.0 in /usr/local/lib/python3.11/dist-packages (from rich>=10.11.0->typer<1.0,>=0.12->gradio) (2.18.0)\n",
            "Requirement already satisfied: charset-normalizer<4,>=2 in /usr/local/lib/python3.11/dist-packages (from requests->huggingface-hub>=0.28.1->gradio) (3.4.1)\n",
            "Requirement already satisfied: urllib3<3,>=1.21.1 in /usr/local/lib/python3.11/dist-packages (from requests->huggingface-hub>=0.28.1->gradio) (2.3.0)\n",
            "Requirement already satisfied: mdurl~=0.1 in /usr/local/lib/python3.11/dist-packages (from markdown-it-py>=2.2.0->rich>=10.11.0->typer<1.0,>=0.12->gradio) (0.1.2)\n",
            "Requirement already satisfied: schedule==1.1.0 in /usr/local/lib/python3.11/dist-packages (1.1.0)\n"
          ]
        }
      ]
    },
    {
      "cell_type": "markdown",
      "source": [
        "**Creamos el vector de tiempos, para todos el mismo, cada posicion es un día.**"
      ],
      "metadata": {
        "id": "A1uTs9tfTSmS"
      }
    },
    {
      "cell_type": "code",
      "source": [
        "vector_fechas_test = pd.date_range(start='2025-01-01', end='2025-04-11')"
      ],
      "metadata": {
        "id": "E-b8duNUxkgF"
      },
      "execution_count": 12,
      "outputs": []
    },
    {
      "cell_type": "code",
      "source": [
        "vector_fechas = pd.date_range(start='2024-01-01', end='2025-04-11')"
      ],
      "metadata": {
        "id": "tYdtAQhxTRuw"
      },
      "execution_count": 53,
      "outputs": []
    },
    {
      "cell_type": "markdown",
      "source": [
        "#Preparar la serie HISTORICA de IBEX35 desde 1/1/2015 A 11/04/2025"
      ],
      "metadata": {
        "id": "NTwn98qowCaY"
      }
    },
    {
      "cell_type": "code",
      "source": [
        "# Abrir la serie de IBEX35\n",
        "df_ibex = pd.read_csv('datos/datos_historicos_IBEX35.csv', parse_dates=['Fecha'], index_col='Fecha')\n",
        "# Convert 'Último' column to float\n",
        "df_ibex['Último'] = df_ibex['Último'].apply(lambda x: float(x.replace('.', '').replace(',', '.')))\n"
      ],
      "metadata": {
        "id": "9vwjZ6TVidBI"
      },
      "execution_count": 54,
      "outputs": []
    },
    {
      "cell_type": "code",
      "source": [
        "# Crear un dataframe con índice vector_fechas y valores en cero\n",
        "df_ibex_reindexado = pd.DataFrame(index=vector_fechas, data=0, columns=df_ibex.columns)\n",
        "df_ibex_reindexado = df_ibex_reindexado.astype(object)\n",
        "\n",
        "# Copiar los valores de df_ibex a df_ibex_reindexado cuando los índices coinciden\n",
        "for fecha in df_ibex.index:\n",
        "  if fecha in df_ibex_reindexado.index:\n",
        "    df_ibex_reindexado.loc[fecha] = df_ibex.loc[fecha]\n",
        "\n",
        "\n",
        "\n",
        "# Method 1: Min-Max Scaling (Normalization to [0, 1])\n",
        "df_ibex_reindexado['Normalizado'] = (df_ibex_reindexado['Último'] - df_ibex_reindexado['Último'].min()) / (df_ibex_reindexado['Último'].max() - df_ibex_reindexado['Último'].min())"
      ],
      "metadata": {
        "id": "GSE2Q7UFWeXg"
      },
      "execution_count": 55,
      "outputs": []
    },
    {
      "cell_type": "markdown",
      "source": [
        "#Preparar la serie HISTORICA de Petroleo_WTI desde 1/1/2015 A 11/04/2025"
      ],
      "metadata": {
        "id": "o2hP3mEKvroC"
      }
    },
    {
      "cell_type": "code",
      "source": [
        "#datos históricos de petroleo_WTI y la normalizo\n",
        "df_petroleo = pd.read_csv('datos/datos_historico_petroleo_wti.csv', parse_dates=['Fecha'], index_col='Fecha')\n",
        "\n",
        "\n"
      ],
      "metadata": {
        "id": "Na6dDxiPitqy"
      },
      "execution_count": 56,
      "outputs": []
    },
    {
      "cell_type": "code",
      "source": [
        "# Convert 'Último' column to float\n",
        "df_petroleo['Último'] = df_petroleo['Último'].apply(lambda x: float(x.replace('.', '').replace(',', '.')))"
      ],
      "metadata": {
        "id": "t_ZbuyhZVAD5"
      },
      "execution_count": 57,
      "outputs": []
    },
    {
      "cell_type": "code",
      "source": [
        "df_petroleo_reindexado = pd.DataFrame(index=vector_fechas, data=0, columns=df_petroleo.columns)\n",
        "df_petroleo_reindexado = df_petroleo_reindexado.astype(object)\n",
        "\n",
        "# Copiar los valores de df_petroleo a df_petroleo_reindexado cuando los índices coinciden\n",
        "for fecha in df_petroleo.index:\n",
        "  if fecha in df_petroleo_reindexado.index:\n",
        "    df_petroleo_reindexado.loc[fecha] = df_petroleo.loc[fecha]\n",
        "\n",
        "\n",
        "# Min-Max Scaling\n",
        "df_petroleo_reindexado['Normalizado'] = (df_petroleo_reindexado['Último'] - df_petroleo_reindexado['Último'].min()) / (df_petroleo_reindexado['Último'].max() - df_petroleo_reindexado['Último'].min())\n"
      ],
      "metadata": {
        "id": "DQuE8vXmYeFW"
      },
      "execution_count": 58,
      "outputs": []
    },
    {
      "cell_type": "markdown",
      "source": [
        "**PREPARAR LA SERIE HISTÓRICA DE VOLATILIDAD DEL VIX MISMA ESCALA TEMPORAL QUE LAS ANTERIORES**"
      ],
      "metadata": {
        "id": "BXx1umOQd7Bl"
      }
    },
    {
      "cell_type": "code",
      "source": [
        "# Abrir la serie de IBEX35\n",
        "df_vix = pd.read_csv('datos/datos_historicos_VIX.csv', parse_dates=['Fecha'], index_col='Fecha')\n",
        "\n",
        "# Convert 'Último' column to float\n",
        "df_vix['Último'] = df_vix['Último'].apply(lambda x: float(x.replace('.', '').replace(',', '.')))\n",
        "\n",
        "df_vix_reindexado = pd.DataFrame(index=vector_fechas, data=0, columns=df_vix.columns)\n",
        "df_vix_reindexado = df_vix_reindexado.astype(object)\n",
        "\n",
        "# Copiar los valores de df_petroleo a df_petroleo_reindexado cuando los índices coinciden\n",
        "for fecha in df_vix.index:\n",
        "  if fecha in df_petroleo_reindexado.index:\n",
        "    df_vix_reindexado.loc[fecha] = df_vix.loc[fecha]\n",
        "\n",
        "\n",
        "# Min-Max Scaling\n",
        "df_vix_reindexado['Normalizado'] = (df_vix_reindexado['Último'] - df_vix_reindexado['Último'].min()) / (df_vix_reindexado['Último'].max() - df_vix_reindexado['Último'].min())\n"
      ],
      "metadata": {
        "id": "RZQsgRnMd6Jd"
      },
      "execution_count": 59,
      "outputs": []
    },
    {
      "cell_type": "markdown",
      "source": [
        "**Metro la cotización EUR/DOL**"
      ],
      "metadata": {
        "id": "XKDKLY2YjjYR"
      }
    },
    {
      "cell_type": "code",
      "source": [
        "# Abrir la serie de IBEX35\n",
        "df_eur_usd = pd.read_csv('datos/datos_historicos_EUR_USD.csv', parse_dates=['Fecha'], index_col='Fecha')\n",
        "\n",
        "# Convert 'Último' column to float\n",
        "df_eur_usd['Último'] = df_eur_usd['Último'].apply(lambda x: float(x.replace('.', '').replace(',', '.')))\n",
        "\n",
        "df_eur_usd_reindexado = pd.DataFrame(index=vector_fechas, data=0, columns=df_eur_usd.columns)\n",
        "df_eur_usd_reindexado = df_eur_usd_reindexado.astype(object)\n",
        "\n",
        "# Copiar los valores de df_petroleo a df_petroleo_reindexado cuando los índices coinciden\n",
        "for fecha in df_eur_usd.index:\n",
        "  if fecha in df_eur_usd_reindexado.index:\n",
        "    df_eur_usd_reindexado.loc[fecha] = df_eur_usd.loc[fecha]\n",
        "\n",
        "\n",
        "# Min-Max Scaling\n",
        "df_eur_usd_reindexado['Normalizado'] = (df_eur_usd_reindexado['Último'] - df_eur_usd_reindexado['Último'].min()) / (df_eur_usd_reindexado['Último'].max() - df_eur_usd_reindexado['Último'].min())\n"
      ],
      "metadata": {
        "id": "9xOi_YKAjjvs"
      },
      "execution_count": 61,
      "outputs": []
    },
    {
      "cell_type": "markdown",
      "source": [
        "#REPRESENTAR LAS SERIES TEMPORALES NORMALIZADAS SOBRE EL MISMO EJE\n",
        "\n",
        "El grafico es interactivo y permite hacer zoom.\n",
        "\n",
        "El OJO humano y el cerebro ya ha visto que hay relación entre ambas series."
      ],
      "metadata": {
        "id": "1oqrJl18tL7J"
      }
    },
    {
      "cell_type": "markdown",
      "source": [],
      "metadata": {
        "id": "eDdJV7_G4IoB"
      }
    },
    {
      "cell_type": "code",
      "source": [
        "# 1. Select 'Último' column from both DataFrames\n",
        "df_ibex_reindexado['Derivada'] = df_ibex_reindexado['Normalizado'].diff()\n",
        "\n",
        "ibex_ultimo = df_ibex_reindexado['Normalizado']\n",
        "df_petroleo_reindexado['Derivada'] = df_petroleo_reindexado['Normalizado'].diff()\n",
        "\n",
        "petroleo_ultimo = df_petroleo_reindexado['Normalizado']\n",
        "df_vix_reindexado['Derivada'] = df_vix_reindexado['Normalizado'].diff()\n",
        "\n",
        "vix_ultimo = df_vix_reindexado['Normalizado']\n",
        "\n",
        "df_eur_usd_reindexado['Derivada'] = df_eur_usd_reindexado['Normalizado'].diff()\n",
        "eur_usd_ultimo = df_eur_usd_reindexado['Normalizado']\n",
        "\n",
        "\n",
        "\n",
        "\n",
        "# Crear DataFrame para Plotly\n",
        "df_to_plot = pd.DataFrame({'IBEX35': ibex_ultimo, 'Petroleo_WTI': petroleo_ultimo, 'VIX' : vix_ultimo, 'EUR_USD' : eur_usd_ultimo},index=vector_fechas)\n",
        "\n",
        "\n",
        "# Crear gráfico interactivo\n",
        "fig = go.Figure()\n",
        "\n",
        "fig.add_trace(go.Scatter(x=df_to_plot.index, y=df_to_plot['IBEX35'],\n",
        "                         mode='lines', name='IBEX35'))\n",
        "\n",
        "fig.add_trace(go.Scatter(x=df_to_plot.index, y=df_to_plot['Petroleo_WTI'],\n",
        "                         mode='lines', name='Petroleo_WTI'))\n",
        "\n",
        "fig.add_trace(go.Scatter(x=df_to_plot.index, y=df_to_plot['VIX'],\n",
        "                         mode='lines', name='VIX'))\n",
        "\n",
        "fig.add_trace(go.Scatter(x=df_to_plot.index, y=df_to_plot['EUR_USD'],\n",
        "                         mode='lines', name='EUR_USD'))\n",
        "\n",
        "\n",
        "\n",
        "umbral=0.4\n",
        "\n",
        "df_subida = df_to_plot[(df_ibex_reindexado['Derivada'] > umbral) &\n",
        "                       (df_petroleo_reindexado['Derivada'] > umbral) &\n",
        "                       (df_vix_reindexado['Derivada'] > umbral) &\n",
        "                       (df_eur_usd_reindexado['Derivada'] > umbral)]\n",
        "\n",
        "\n",
        "# Add scatter trace for df_subida\n",
        "fig.add_trace(go.Scatter(\n",
        "    x=df_subida.index,\n",
        "    y=df_subida['IBEX35'],  # You can choose the column to represent on y-axis\n",
        "    mode='markers',\n",
        "    marker=dict(color='yellow', size=8),  # Customize marker appearance\n",
        "    name='Subida Points'\n",
        "))\n",
        "\n",
        "# Actualizar diseño del gráfico\n",
        "fig.update_layout(title='IBEX35 vs Petroleo_WTI vs VIX vs EUR_USD',\n",
        "                  xaxis_title='Fecha',\n",
        "                  yaxis_title='Valor',\n",
        "                  hovermode='x unified',\n",
        "                  template='plotly_white')\n",
        "\n",
        "fig.show()\n"
      ],
      "metadata": {
        "colab": {
          "base_uri": "https://localhost:8080/",
          "height": 542
        },
        "id": "U4tnSVZytHQi",
        "outputId": "daac9335-50da-4ca3-b64b-41592f029d76"
      },
      "execution_count": 62,
      "outputs": [
        {
          "output_type": "display_data",
          "data": {
            "text/html": [
              "<html>\n",
              "<head><meta charset=\"utf-8\" /></head>\n",
              "<body>\n",
              "    <div>            <script src=\"https://cdnjs.cloudflare.com/ajax/libs/mathjax/2.7.5/MathJax.js?config=TeX-AMS-MML_SVG\"></script><script type=\"text/javascript\">if (window.MathJax && window.MathJax.Hub && window.MathJax.Hub.Config) {window.MathJax.Hub.Config({SVG: {font: \"STIX-Web\"}});}</script>                <script type=\"text/javascript\">window.PlotlyConfig = {MathJaxConfig: 'local'};</script>\n",
              "        <script charset=\"utf-8\" src=\"https://cdn.plot.ly/plotly-2.35.2.min.js\"></script>                <div id=\"fae623ab-3f2f-42de-adbc-35aaa93d3be7\" class=\"plotly-graph-div\" style=\"height:525px; width:100%;\"></div>            <script type=\"text/javascript\">                                    window.PLOTLYENV=window.PLOTLYENV || {};                                    if (document.getElementById(\"fae623ab-3f2f-42de-adbc-35aaa93d3be7\")) {                    Plotly.newPlot(                        \"fae623ab-3f2f-42de-adbc-35aaa93d3be7\",                        [{\"mode\":\"lines\",\"name\":\"IBEX35\",\"x\":[\"2024-01-01T00:00:00\",\"2024-01-02T00:00:00\",\"2024-01-03T00:00:00\",\"2024-01-04T00:00:00\",\"2024-01-05T00:00:00\",\"2024-01-06T00:00:00\",\"2024-01-07T00:00:00\",\"2024-01-08T00:00:00\",\"2024-01-09T00:00:00\",\"2024-01-10T00:00:00\",\"2024-01-11T00:00:00\",\"2024-01-12T00:00:00\",\"2024-01-13T00:00:00\",\"2024-01-14T00:00:00\",\"2024-01-15T00:00:00\",\"2024-01-16T00:00:00\",\"2024-01-17T00:00:00\",\"2024-01-18T00:00:00\",\"2024-01-19T00:00:00\",\"2024-01-20T00:00:00\",\"2024-01-21T00:00:00\",\"2024-01-22T00:00:00\",\"2024-01-23T00:00:00\",\"2024-01-24T00:00:00\",\"2024-01-25T00:00:00\",\"2024-01-26T00:00:00\",\"2024-01-27T00:00:00\",\"2024-01-28T00:00:00\",\"2024-01-29T00:00:00\",\"2024-01-30T00:00:00\",\"2024-01-31T00:00:00\",\"2024-02-01T00:00:00\",\"2024-02-02T00:00:00\",\"2024-02-03T00:00:00\",\"2024-02-04T00:00:00\",\"2024-02-05T00:00:00\",\"2024-02-06T00:00:00\",\"2024-02-07T00:00:00\",\"2024-02-08T00:00:00\",\"2024-02-09T00:00:00\",\"2024-02-10T00:00:00\",\"2024-02-11T00:00:00\",\"2024-02-12T00:00:00\",\"2024-02-13T00:00:00\",\"2024-02-14T00:00:00\",\"2024-02-15T00:00:00\",\"2024-02-16T00:00:00\",\"2024-02-17T00:00:00\",\"2024-02-18T00:00:00\",\"2024-02-19T00:00:00\",\"2024-02-20T00:00:00\",\"2024-02-21T00:00:00\",\"2024-02-22T00:00:00\",\"2024-02-23T00:00:00\",\"2024-02-24T00:00:00\",\"2024-02-25T00:00:00\",\"2024-02-26T00:00:00\",\"2024-02-27T00:00:00\",\"2024-02-28T00:00:00\",\"2024-02-29T00:00:00\",\"2024-03-01T00:00:00\",\"2024-03-02T00:00:00\",\"2024-03-03T00:00:00\",\"2024-03-04T00:00:00\",\"2024-03-05T00:00:00\",\"2024-03-06T00:00:00\",\"2024-03-07T00:00:00\",\"2024-03-08T00:00:00\",\"2024-03-09T00:00:00\",\"2024-03-10T00:00:00\",\"2024-03-11T00:00:00\",\"2024-03-12T00:00:00\",\"2024-03-13T00:00:00\",\"2024-03-14T00:00:00\",\"2024-03-15T00:00:00\",\"2024-03-16T00:00:00\",\"2024-03-17T00:00:00\",\"2024-03-18T00:00:00\",\"2024-03-19T00:00:00\",\"2024-03-20T00:00:00\",\"2024-03-21T00:00:00\",\"2024-03-22T00:00:00\",\"2024-03-23T00:00:00\",\"2024-03-24T00:00:00\",\"2024-03-25T00:00:00\",\"2024-03-26T00:00:00\",\"2024-03-27T00:00:00\",\"2024-03-28T00:00:00\",\"2024-03-29T00:00:00\",\"2024-03-30T00:00:00\",\"2024-03-31T00:00:00\",\"2024-04-01T00:00:00\",\"2024-04-02T00:00:00\",\"2024-04-03T00:00:00\",\"2024-04-04T00:00:00\",\"2024-04-05T00:00:00\",\"2024-04-06T00:00:00\",\"2024-04-07T00:00:00\",\"2024-04-08T00:00:00\",\"2024-04-09T00:00:00\",\"2024-04-10T00:00:00\",\"2024-04-11T00:00:00\",\"2024-04-12T00:00:00\",\"2024-04-13T00:00:00\",\"2024-04-14T00:00:00\",\"2024-04-15T00:00:00\",\"2024-04-16T00:00:00\",\"2024-04-17T00:00:00\",\"2024-04-18T00:00:00\",\"2024-04-19T00:00:00\",\"2024-04-20T00:00:00\",\"2024-04-21T00:00:00\",\"2024-04-22T00:00:00\",\"2024-04-23T00:00:00\",\"2024-04-24T00:00:00\",\"2024-04-25T00:00:00\",\"2024-04-26T00:00:00\",\"2024-04-27T00:00:00\",\"2024-04-28T00:00:00\",\"2024-04-29T00:00:00\",\"2024-04-30T00:00:00\",\"2024-05-01T00:00:00\",\"2024-05-02T00:00:00\",\"2024-05-03T00:00:00\",\"2024-05-04T00:00:00\",\"2024-05-05T00:00:00\",\"2024-05-06T00:00:00\",\"2024-05-07T00:00:00\",\"2024-05-08T00:00:00\",\"2024-05-09T00:00:00\",\"2024-05-10T00:00:00\",\"2024-05-11T00:00:00\",\"2024-05-12T00:00:00\",\"2024-05-13T00:00:00\",\"2024-05-14T00:00:00\",\"2024-05-15T00:00:00\",\"2024-05-16T00:00:00\",\"2024-05-17T00:00:00\",\"2024-05-18T00:00:00\",\"2024-05-19T00:00:00\",\"2024-05-20T00:00:00\",\"2024-05-21T00:00:00\",\"2024-05-22T00:00:00\",\"2024-05-23T00:00:00\",\"2024-05-24T00:00:00\",\"2024-05-25T00:00:00\",\"2024-05-26T00:00:00\",\"2024-05-27T00:00:00\",\"2024-05-28T00:00:00\",\"2024-05-29T00:00:00\",\"2024-05-30T00:00:00\",\"2024-05-31T00:00:00\",\"2024-06-01T00:00:00\",\"2024-06-02T00:00:00\",\"2024-06-03T00:00:00\",\"2024-06-04T00:00:00\",\"2024-06-05T00:00:00\",\"2024-06-06T00:00:00\",\"2024-06-07T00:00:00\",\"2024-06-08T00:00:00\",\"2024-06-09T00:00:00\",\"2024-06-10T00:00:00\",\"2024-06-11T00:00:00\",\"2024-06-12T00:00:00\",\"2024-06-13T00:00:00\",\"2024-06-14T00:00:00\",\"2024-06-15T00:00:00\",\"2024-06-16T00:00:00\",\"2024-06-17T00:00:00\",\"2024-06-18T00:00:00\",\"2024-06-19T00:00:00\",\"2024-06-20T00:00:00\",\"2024-06-21T00:00:00\",\"2024-06-22T00:00:00\",\"2024-06-23T00:00:00\",\"2024-06-24T00:00:00\",\"2024-06-25T00:00:00\",\"2024-06-26T00:00:00\",\"2024-06-27T00:00:00\",\"2024-06-28T00:00:00\",\"2024-06-29T00:00:00\",\"2024-06-30T00:00:00\",\"2024-07-01T00:00:00\",\"2024-07-02T00:00:00\",\"2024-07-03T00:00:00\",\"2024-07-04T00:00:00\",\"2024-07-05T00:00:00\",\"2024-07-06T00:00:00\",\"2024-07-07T00:00:00\",\"2024-07-08T00:00:00\",\"2024-07-09T00:00:00\",\"2024-07-10T00:00:00\",\"2024-07-11T00:00:00\",\"2024-07-12T00:00:00\",\"2024-07-13T00:00:00\",\"2024-07-14T00:00:00\",\"2024-07-15T00:00:00\",\"2024-07-16T00:00:00\",\"2024-07-17T00:00:00\",\"2024-07-18T00:00:00\",\"2024-07-19T00:00:00\",\"2024-07-20T00:00:00\",\"2024-07-21T00:00:00\",\"2024-07-22T00:00:00\",\"2024-07-23T00:00:00\",\"2024-07-24T00:00:00\",\"2024-07-25T00:00:00\",\"2024-07-26T00:00:00\",\"2024-07-27T00:00:00\",\"2024-07-28T00:00:00\",\"2024-07-29T00:00:00\",\"2024-07-30T00:00:00\",\"2024-07-31T00:00:00\",\"2024-08-01T00:00:00\",\"2024-08-02T00:00:00\",\"2024-08-03T00:00:00\",\"2024-08-04T00:00:00\",\"2024-08-05T00:00:00\",\"2024-08-06T00:00:00\",\"2024-08-07T00:00:00\",\"2024-08-08T00:00:00\",\"2024-08-09T00:00:00\",\"2024-08-10T00:00:00\",\"2024-08-11T00:00:00\",\"2024-08-12T00:00:00\",\"2024-08-13T00:00:00\",\"2024-08-14T00:00:00\",\"2024-08-15T00:00:00\",\"2024-08-16T00:00:00\",\"2024-08-17T00:00:00\",\"2024-08-18T00:00:00\",\"2024-08-19T00:00:00\",\"2024-08-20T00:00:00\",\"2024-08-21T00:00:00\",\"2024-08-22T00:00:00\",\"2024-08-23T00:00:00\",\"2024-08-24T00:00:00\",\"2024-08-25T00:00:00\",\"2024-08-26T00:00:00\",\"2024-08-27T00:00:00\",\"2024-08-28T00:00:00\",\"2024-08-29T00:00:00\",\"2024-08-30T00:00:00\",\"2024-08-31T00:00:00\",\"2024-09-01T00:00:00\",\"2024-09-02T00:00:00\",\"2024-09-03T00:00:00\",\"2024-09-04T00:00:00\",\"2024-09-05T00:00:00\",\"2024-09-06T00:00:00\",\"2024-09-07T00:00:00\",\"2024-09-08T00:00:00\",\"2024-09-09T00:00:00\",\"2024-09-10T00:00:00\",\"2024-09-11T00:00:00\",\"2024-09-12T00:00:00\",\"2024-09-13T00:00:00\",\"2024-09-14T00:00:00\",\"2024-09-15T00:00:00\",\"2024-09-16T00:00:00\",\"2024-09-17T00:00:00\",\"2024-09-18T00:00:00\",\"2024-09-19T00:00:00\",\"2024-09-20T00:00:00\",\"2024-09-21T00:00:00\",\"2024-09-22T00:00:00\",\"2024-09-23T00:00:00\",\"2024-09-24T00:00:00\",\"2024-09-25T00:00:00\",\"2024-09-26T00:00:00\",\"2024-09-27T00:00:00\",\"2024-09-28T00:00:00\",\"2024-09-29T00:00:00\",\"2024-09-30T00:00:00\",\"2024-10-01T00:00:00\",\"2024-10-02T00:00:00\",\"2024-10-03T00:00:00\",\"2024-10-04T00:00:00\",\"2024-10-05T00:00:00\",\"2024-10-06T00:00:00\",\"2024-10-07T00:00:00\",\"2024-10-08T00:00:00\",\"2024-10-09T00:00:00\",\"2024-10-10T00:00:00\",\"2024-10-11T00:00:00\",\"2024-10-12T00:00:00\",\"2024-10-13T00:00:00\",\"2024-10-14T00:00:00\",\"2024-10-15T00:00:00\",\"2024-10-16T00:00:00\",\"2024-10-17T00:00:00\",\"2024-10-18T00:00:00\",\"2024-10-19T00:00:00\",\"2024-10-20T00:00:00\",\"2024-10-21T00:00:00\",\"2024-10-22T00:00:00\",\"2024-10-23T00:00:00\",\"2024-10-24T00:00:00\",\"2024-10-25T00:00:00\",\"2024-10-26T00:00:00\",\"2024-10-27T00:00:00\",\"2024-10-28T00:00:00\",\"2024-10-29T00:00:00\",\"2024-10-30T00:00:00\",\"2024-10-31T00:00:00\",\"2024-11-01T00:00:00\",\"2024-11-02T00:00:00\",\"2024-11-03T00:00:00\",\"2024-11-04T00:00:00\",\"2024-11-05T00:00:00\",\"2024-11-06T00:00:00\",\"2024-11-07T00:00:00\",\"2024-11-08T00:00:00\",\"2024-11-09T00:00:00\",\"2024-11-10T00:00:00\",\"2024-11-11T00:00:00\",\"2024-11-12T00:00:00\",\"2024-11-13T00:00:00\",\"2024-11-14T00:00:00\",\"2024-11-15T00:00:00\",\"2024-11-16T00:00:00\",\"2024-11-17T00:00:00\",\"2024-11-18T00:00:00\",\"2024-11-19T00:00:00\",\"2024-11-20T00:00:00\",\"2024-11-21T00:00:00\",\"2024-11-22T00:00:00\",\"2024-11-23T00:00:00\",\"2024-11-24T00:00:00\",\"2024-11-25T00:00:00\",\"2024-11-26T00:00:00\",\"2024-11-27T00:00:00\",\"2024-11-28T00:00:00\",\"2024-11-29T00:00:00\",\"2024-11-30T00:00:00\",\"2024-12-01T00:00:00\",\"2024-12-02T00:00:00\",\"2024-12-03T00:00:00\",\"2024-12-04T00:00:00\",\"2024-12-05T00:00:00\",\"2024-12-06T00:00:00\",\"2024-12-07T00:00:00\",\"2024-12-08T00:00:00\",\"2024-12-09T00:00:00\",\"2024-12-10T00:00:00\",\"2024-12-11T00:00:00\",\"2024-12-12T00:00:00\",\"2024-12-13T00:00:00\",\"2024-12-14T00:00:00\",\"2024-12-15T00:00:00\",\"2024-12-16T00:00:00\",\"2024-12-17T00:00:00\",\"2024-12-18T00:00:00\",\"2024-12-19T00:00:00\",\"2024-12-20T00:00:00\",\"2024-12-21T00:00:00\",\"2024-12-22T00:00:00\",\"2024-12-23T00:00:00\",\"2024-12-24T00:00:00\",\"2024-12-25T00:00:00\",\"2024-12-26T00:00:00\",\"2024-12-27T00:00:00\",\"2024-12-28T00:00:00\",\"2024-12-29T00:00:00\",\"2024-12-30T00:00:00\",\"2024-12-31T00:00:00\",\"2025-01-01T00:00:00\",\"2025-01-02T00:00:00\",\"2025-01-03T00:00:00\",\"2025-01-04T00:00:00\",\"2025-01-05T00:00:00\",\"2025-01-06T00:00:00\",\"2025-01-07T00:00:00\",\"2025-01-08T00:00:00\",\"2025-01-09T00:00:00\",\"2025-01-10T00:00:00\",\"2025-01-11T00:00:00\",\"2025-01-12T00:00:00\",\"2025-01-13T00:00:00\",\"2025-01-14T00:00:00\",\"2025-01-15T00:00:00\",\"2025-01-16T00:00:00\",\"2025-01-17T00:00:00\",\"2025-01-18T00:00:00\",\"2025-01-19T00:00:00\",\"2025-01-20T00:00:00\",\"2025-01-21T00:00:00\",\"2025-01-22T00:00:00\",\"2025-01-23T00:00:00\",\"2025-01-24T00:00:00\",\"2025-01-25T00:00:00\",\"2025-01-26T00:00:00\",\"2025-01-27T00:00:00\",\"2025-01-28T00:00:00\",\"2025-01-29T00:00:00\",\"2025-01-30T00:00:00\",\"2025-01-31T00:00:00\",\"2025-02-01T00:00:00\",\"2025-02-02T00:00:00\",\"2025-02-03T00:00:00\",\"2025-02-04T00:00:00\",\"2025-02-05T00:00:00\",\"2025-02-06T00:00:00\",\"2025-02-07T00:00:00\",\"2025-02-08T00:00:00\",\"2025-02-09T00:00:00\",\"2025-02-10T00:00:00\",\"2025-02-11T00:00:00\",\"2025-02-12T00:00:00\",\"2025-02-13T00:00:00\",\"2025-02-14T00:00:00\",\"2025-02-15T00:00:00\",\"2025-02-16T00:00:00\",\"2025-02-17T00:00:00\",\"2025-02-18T00:00:00\",\"2025-02-19T00:00:00\",\"2025-02-20T00:00:00\",\"2025-02-21T00:00:00\",\"2025-02-22T00:00:00\",\"2025-02-23T00:00:00\",\"2025-02-24T00:00:00\",\"2025-02-25T00:00:00\",\"2025-02-26T00:00:00\",\"2025-02-27T00:00:00\",\"2025-02-28T00:00:00\",\"2025-03-01T00:00:00\",\"2025-03-02T00:00:00\",\"2025-03-03T00:00:00\",\"2025-03-04T00:00:00\",\"2025-03-05T00:00:00\",\"2025-03-06T00:00:00\",\"2025-03-07T00:00:00\",\"2025-03-08T00:00:00\",\"2025-03-09T00:00:00\",\"2025-03-10T00:00:00\",\"2025-03-11T00:00:00\",\"2025-03-12T00:00:00\",\"2025-03-13T00:00:00\",\"2025-03-14T00:00:00\",\"2025-03-15T00:00:00\",\"2025-03-16T00:00:00\",\"2025-03-17T00:00:00\",\"2025-03-18T00:00:00\",\"2025-03-19T00:00:00\",\"2025-03-20T00:00:00\",\"2025-03-21T00:00:00\",\"2025-03-22T00:00:00\",\"2025-03-23T00:00:00\",\"2025-03-24T00:00:00\",\"2025-03-25T00:00:00\",\"2025-03-26T00:00:00\",\"2025-03-27T00:00:00\",\"2025-03-28T00:00:00\",\"2025-03-29T00:00:00\",\"2025-03-30T00:00:00\",\"2025-03-31T00:00:00\",\"2025-04-01T00:00:00\",\"2025-04-02T00:00:00\",\"2025-04-03T00:00:00\",\"2025-04-04T00:00:00\",\"2025-04-05T00:00:00\",\"2025-04-06T00:00:00\",\"2025-04-07T00:00:00\",\"2025-04-08T00:00:00\",\"2025-04-09T00:00:00\",\"2025-04-10T00:00:00\",\"2025-04-11T00:00:00\"],\"y\":[0.0,0.7426414422698991,0.7464013704827096,0.0,0.0,0.0,0.8199906557997079,0.8049583589804439,0.0,0.8657104929436457,0.8782806671462368,0.0,0.0,0.0,0.7473061263840169,0.7411656519062911,0.7317992035181655,0.7327262075154068,0.7310946804802623,0.0,0.0,0.7392374835920293,0.7311614247680637,0.7396750294787271,0.7354182271233954,0.7369014335189814,0.0,0.0,0.7334678107131998,0.7445176983603153,0.7473654546398405,0.7551077920247993,0.7462382177791951,0.0,0.8139540057696729,0.8062709966405376,0.0,0.8092967376875329,0.7915056769724791,0.8450790919810446,0.8609864805737042,0.0,0.8702936007060063,0.7360708379374532,0.7354182271233954,0.7362117425450339,0.7331785854660605,0.0,0.0,0.7375095481411715,0.7444361220085582,0.7495531840733298,0.7519040662103336,0.7512885355561654,0.0,0.0,0.7518669860504439,0.7500426421838731,0.7466905957298489,0.741699606208702,0.7455633588692034,0.0,0.0,0.8181588959011591,0.8049880231083557,0.8452199965886253,0.819975823735752,0.0,0.8364690788546681,0.8615945951958945,0.0,0.8805499729314834,0.783170057029286,0.777978834644735,0.7859436529890317,0.0,0.0,0.7858546606052966,0.7936192460861892,0.7974088384269113,0.8059372752015307,0.8115512114088237,0.0,0.0,0.8122186542868374,0.8151331548541638,0.8240175611637237,0.8212958774278235,0.8212958774278235,0.0,0.0,0.755130040120733,0.0,0.7467795881135839,0.822504690640226,0.0,0.837003033157079,0.8206803467736553,0.0,0.8316264099730798,0.8646500003708018,0.8754699910266014,0.8848512714786827,0.0,0.0,0.7925661695453232,0.7806782702847015,0.7886134245010865,0.7983358424241526,0.7957031510719874,0.0,0.0,0.8076207144605209,0.821355205683647,0.8178251744621523,0.8145547043598853,0.8272287030101675,0.0,0.0,0.8232388778060411,0.8049657750124218,0.7538025703966836,0.737249987021944,0.7502873712391448,0.8095340507108267,0.0,0.8419495264863582,0.8175062850871013,0.773002677187544,0.8360463650319261,0.0,0.8779988579310755,0.8987266673093895,0.8270358861787412,0.833510082095474,0.8426688815882174,0.837959701282232,0.8400658543639641,0.0,0.0,0.8409409461373598,0.840599808666375,0.8401622627796772,0.8388347930556277,0.8340069562379954,0.0,0.0,0.8399027016604496,0.8362317658313743,0.8265241799722641,0.8408445377216468,0.839643140541222,0.0,0.7418256787523269,0.7562276128534667,0.0,0.8096452911904957,0.8486906995542965,0.0,0.7705628026668051,0.8285932528941066,0.0,0.8524951239589745,0.8952633803756962,0.8206655147096995,0.8151924831099872,0.0,0.0,0.8127600246212262,0.8207841712213464,0.8199461596078402,0.8276662488968652,0.8181588959011591,0.0,0.0,0.8285265086063052,0.8245811795940464,0.8180254073255564,0.8121667420629918,0.8115882915687134,0.0,0.0,0.0,0.7333120740416633,0.7653048359944529,0.0,0.8217630874424331,0.8457910310509259,0.0,0.786025229340789,0.0,0.8689735470139348,0.8580423158784661,0.0,0.0,0.0,0.8263684433007276,0.8224750265123144,0.8235651832130702,0.8267021647397345,0.8222525455529764,0.0,0.0,0.8264277715565509,0.8315374175893447,0.8313446007579185,0.8265612601321538,0.8280667146236734,0.0,0.0,0.8244996032422892,0.8307883983595737,0.8205839383579422,0.7571027046268624,0.7345876315418672,0.7642740075495207,0.8092225773677536,0.8271100464985206,0.0,0.8174024606394104,0.7829846562298377,0.0,0.8702491045141387,0.8566703499625491,0.0,0.7952804372492454,0.797445918586801,0.807279576989536,0.8120332534873891,0.0,0.0,0.823364950349666,0.8222747936489102,0.8242845383149292,0.8273547755537922,0.8363875025029108,0.0,0.0,0.8354530824736917,0.8400065261081406,0.8403847437390151,0.8423574082451444,0.845568550091588,0.0,0.7460750650756806,0.7339350207278095,0.0,0.8021180187328968,0.8194789495932308,0.0,0.8082584932106227,0.7889545619720713,0.8359944528080805,0.870753394688638,0.0,0.8907766810290486,0.8558249223170651,0.0,0.0,0.8588506633640605,0.8679278865050466,0.8665410885251739,0.8734676623925604,0.8716284864620336,0.0,0.0,0.8749360367241904,0.8778357052275609,0.8745429870293602,0.8864531343859156,0.8875432910866712,0.0,0.0,0.8808243661146666,0.7465793552501799,0.0,0.0,0.7990774456219456,0.8235874313090038,0.8422535837974534,0.8210733964684857,0.0,0.8308551426473751,0.8644645995713535,0.0,0.8873653063192009,0.0,0.8788665336724932,0.8847474470309917,0.889679108296315,0.8828415268126637,0.8843766454320952,0.0,0.0,0.8781397625386561,0.8775168158525101,0.8799270262453373,0.878043354122943,0.8760187773929682,0.0,0.0,0.882804446652774,0.8747432198927642,0.8687881462144865,0.8656437486558443,0.7419665833599075,0.0,0.7657572139451067,0.7897925735855773,0.0,0.8287786536935547,0.8283707719347686,0.0,0.8364468307587343,0.869158947813383,0.860059476576463,0.8742982579740883,0.8437293741610614,0.8546457732325742,0.8629220649199439,0.0,0.0,0.8658069013593587,0.8593994497304273,0.8594810260821845,0.861127385181285,0.8644571835393755,0.0,0.0,0.8685508331911928,0.8615871791639166,0.8587394228843915,0.8610606408934836,0.8633225306467521,0.0,0.7486335961080665,0.7404685449003657,0.7704441461551582,0.7924771771615879,0.0,0.8339624600461277,0.8343480937089801,0.7895255964343719,0.8454424775479633,0.0,0.8441372559198476,0.8724813301394956,0.8715394940782986,0.0,0.0,0.8735047425524499,0.8593772016344935,0.8615871791639166,0.8483866422432014,0.8504186350051541,0.0,0.0,0.8480751689001284,0.8509080931156975,0.8509080931156975,0.0,0.8551871435669631,0.0,0.0,0.8555727772298154,0.8598889078409706,0.0,0.0,0.0,0.9861097721053373,0.0,0.0,0.0,0.0,0.0,0.0,0.0,0.0,0.8668006496444014,0.8715394940782986,0.8823965648939879,0.8781026823787665,0.8837166185860593,0.0,0.0,0.8857411953160342,0.8845397981356096,0.881224831841475,0.8892934746334626,0.8886334477874269,0.0,0.0,0.8897087724242267,0.9013593586615547,0.9111707689683558,0.9210415075309806,0.91728157931817,0.8659626380308952,0.0,0.0,0.9900551011175961,0.0,0.0,0.0,0.0,0.0,0.0,0.0,0.0,0.9593601447609442,0.9608211030605964,0.0,0.0,0.9653374665351557,0.9747558271471267,0.9588484385544671,0.9616442826101467,0.9605244617814792,0.0,0.0,0.9650408252560385,0.9727460824811076,0.9887053832976128,0.9841519396631639,0.9898400361902361,0.864086381940479,0.9051860311621663,0.9917533724405421,0.9782636102726876,0.0,0.0,0.0,0.0,0.0,0.0,0.0,0.0,0.9508317079863249,0.964469790793738,0.0,0.0,0.9750005562023984,0.990388822556603,0.9943489836328175,0.9867994630792848,0.9900551011175961,0.0,0.0,0.9880601885155329,1.0,0.9961362473394987,0.9954243082696174,0.9870219440386226,0.0,0.0,0.9741254644290026,0.0,0.9175708045653093,0.9664350392678894,0.9212194922984508,0.0,0.0,0.0,0.0,0.0,0.0,0.0],\"type\":\"scatter\"},{\"mode\":\"lines\",\"name\":\"Petroleo_WTI\",\"x\":[\"2024-01-01T00:00:00\",\"2024-01-02T00:00:00\",\"2024-01-03T00:00:00\",\"2024-01-04T00:00:00\",\"2024-01-05T00:00:00\",\"2024-01-06T00:00:00\",\"2024-01-07T00:00:00\",\"2024-01-08T00:00:00\",\"2024-01-09T00:00:00\",\"2024-01-10T00:00:00\",\"2024-01-11T00:00:00\",\"2024-01-12T00:00:00\",\"2024-01-13T00:00:00\",\"2024-01-14T00:00:00\",\"2024-01-15T00:00:00\",\"2024-01-16T00:00:00\",\"2024-01-17T00:00:00\",\"2024-01-18T00:00:00\",\"2024-01-19T00:00:00\",\"2024-01-20T00:00:00\",\"2024-01-21T00:00:00\",\"2024-01-22T00:00:00\",\"2024-01-23T00:00:00\",\"2024-01-24T00:00:00\",\"2024-01-25T00:00:00\",\"2024-01-26T00:00:00\",\"2024-01-27T00:00:00\",\"2024-01-28T00:00:00\",\"2024-01-29T00:00:00\",\"2024-01-30T00:00:00\",\"2024-01-31T00:00:00\",\"2024-02-01T00:00:00\",\"2024-02-02T00:00:00\",\"2024-02-03T00:00:00\",\"2024-02-04T00:00:00\",\"2024-02-05T00:00:00\",\"2024-02-06T00:00:00\",\"2024-02-07T00:00:00\",\"2024-02-08T00:00:00\",\"2024-02-09T00:00:00\",\"2024-02-10T00:00:00\",\"2024-02-11T00:00:00\",\"2024-02-12T00:00:00\",\"2024-02-13T00:00:00\",\"2024-02-14T00:00:00\",\"2024-02-15T00:00:00\",\"2024-02-16T00:00:00\",\"2024-02-17T00:00:00\",\"2024-02-18T00:00:00\",\"2024-02-19T00:00:00\",\"2024-02-20T00:00:00\",\"2024-02-21T00:00:00\",\"2024-02-22T00:00:00\",\"2024-02-23T00:00:00\",\"2024-02-24T00:00:00\",\"2024-02-25T00:00:00\",\"2024-02-26T00:00:00\",\"2024-02-27T00:00:00\",\"2024-02-28T00:00:00\",\"2024-02-29T00:00:00\",\"2024-03-01T00:00:00\",\"2024-03-02T00:00:00\",\"2024-03-03T00:00:00\",\"2024-03-04T00:00:00\",\"2024-03-05T00:00:00\",\"2024-03-06T00:00:00\",\"2024-03-07T00:00:00\",\"2024-03-08T00:00:00\",\"2024-03-09T00:00:00\",\"2024-03-10T00:00:00\",\"2024-03-11T00:00:00\",\"2024-03-12T00:00:00\",\"2024-03-13T00:00:00\",\"2024-03-14T00:00:00\",\"2024-03-15T00:00:00\",\"2024-03-16T00:00:00\",\"2024-03-17T00:00:00\",\"2024-03-18T00:00:00\",\"2024-03-19T00:00:00\",\"2024-03-20T00:00:00\",\"2024-03-21T00:00:00\",\"2024-03-22T00:00:00\",\"2024-03-23T00:00:00\",\"2024-03-24T00:00:00\",\"2024-03-25T00:00:00\",\"2024-03-26T00:00:00\",\"2024-03-27T00:00:00\",\"2024-03-28T00:00:00\",\"2024-03-29T00:00:00\",\"2024-03-30T00:00:00\",\"2024-03-31T00:00:00\",\"2024-04-01T00:00:00\",\"2024-04-02T00:00:00\",\"2024-04-03T00:00:00\",\"2024-04-04T00:00:00\",\"2024-04-05T00:00:00\",\"2024-04-06T00:00:00\",\"2024-04-07T00:00:00\",\"2024-04-08T00:00:00\",\"2024-04-09T00:00:00\",\"2024-04-10T00:00:00\",\"2024-04-11T00:00:00\",\"2024-04-12T00:00:00\",\"2024-04-13T00:00:00\",\"2024-04-14T00:00:00\",\"2024-04-15T00:00:00\",\"2024-04-16T00:00:00\",\"2024-04-17T00:00:00\",\"2024-04-18T00:00:00\",\"2024-04-19T00:00:00\",\"2024-04-20T00:00:00\",\"2024-04-21T00:00:00\",\"2024-04-22T00:00:00\",\"2024-04-23T00:00:00\",\"2024-04-24T00:00:00\",\"2024-04-25T00:00:00\",\"2024-04-26T00:00:00\",\"2024-04-27T00:00:00\",\"2024-04-28T00:00:00\",\"2024-04-29T00:00:00\",\"2024-04-30T00:00:00\",\"2024-05-01T00:00:00\",\"2024-05-02T00:00:00\",\"2024-05-03T00:00:00\",\"2024-05-04T00:00:00\",\"2024-05-05T00:00:00\",\"2024-05-06T00:00:00\",\"2024-05-07T00:00:00\",\"2024-05-08T00:00:00\",\"2024-05-09T00:00:00\",\"2024-05-10T00:00:00\",\"2024-05-11T00:00:00\",\"2024-05-12T00:00:00\",\"2024-05-13T00:00:00\",\"2024-05-14T00:00:00\",\"2024-05-15T00:00:00\",\"2024-05-16T00:00:00\",\"2024-05-17T00:00:00\",\"2024-05-18T00:00:00\",\"2024-05-19T00:00:00\",\"2024-05-20T00:00:00\",\"2024-05-21T00:00:00\",\"2024-05-22T00:00:00\",\"2024-05-23T00:00:00\",\"2024-05-24T00:00:00\",\"2024-05-25T00:00:00\",\"2024-05-26T00:00:00\",\"2024-05-27T00:00:00\",\"2024-05-28T00:00:00\",\"2024-05-29T00:00:00\",\"2024-05-30T00:00:00\",\"2024-05-31T00:00:00\",\"2024-06-01T00:00:00\",\"2024-06-02T00:00:00\",\"2024-06-03T00:00:00\",\"2024-06-04T00:00:00\",\"2024-06-05T00:00:00\",\"2024-06-06T00:00:00\",\"2024-06-07T00:00:00\",\"2024-06-08T00:00:00\",\"2024-06-09T00:00:00\",\"2024-06-10T00:00:00\",\"2024-06-11T00:00:00\",\"2024-06-12T00:00:00\",\"2024-06-13T00:00:00\",\"2024-06-14T00:00:00\",\"2024-06-15T00:00:00\",\"2024-06-16T00:00:00\",\"2024-06-17T00:00:00\",\"2024-06-18T00:00:00\",\"2024-06-19T00:00:00\",\"2024-06-20T00:00:00\",\"2024-06-21T00:00:00\",\"2024-06-22T00:00:00\",\"2024-06-23T00:00:00\",\"2024-06-24T00:00:00\",\"2024-06-25T00:00:00\",\"2024-06-26T00:00:00\",\"2024-06-27T00:00:00\",\"2024-06-28T00:00:00\",\"2024-06-29T00:00:00\",\"2024-06-30T00:00:00\",\"2024-07-01T00:00:00\",\"2024-07-02T00:00:00\",\"2024-07-03T00:00:00\",\"2024-07-04T00:00:00\",\"2024-07-05T00:00:00\",\"2024-07-06T00:00:00\",\"2024-07-07T00:00:00\",\"2024-07-08T00:00:00\",\"2024-07-09T00:00:00\",\"2024-07-10T00:00:00\",\"2024-07-11T00:00:00\",\"2024-07-12T00:00:00\",\"2024-07-13T00:00:00\",\"2024-07-14T00:00:00\",\"2024-07-15T00:00:00\",\"2024-07-16T00:00:00\",\"2024-07-17T00:00:00\",\"2024-07-18T00:00:00\",\"2024-07-19T00:00:00\",\"2024-07-20T00:00:00\",\"2024-07-21T00:00:00\",\"2024-07-22T00:00:00\",\"2024-07-23T00:00:00\",\"2024-07-24T00:00:00\",\"2024-07-25T00:00:00\",\"2024-07-26T00:00:00\",\"2024-07-27T00:00:00\",\"2024-07-28T00:00:00\",\"2024-07-29T00:00:00\",\"2024-07-30T00:00:00\",\"2024-07-31T00:00:00\",\"2024-08-01T00:00:00\",\"2024-08-02T00:00:00\",\"2024-08-03T00:00:00\",\"2024-08-04T00:00:00\",\"2024-08-05T00:00:00\",\"2024-08-06T00:00:00\",\"2024-08-07T00:00:00\",\"2024-08-08T00:00:00\",\"2024-08-09T00:00:00\",\"2024-08-10T00:00:00\",\"2024-08-11T00:00:00\",\"2024-08-12T00:00:00\",\"2024-08-13T00:00:00\",\"2024-08-14T00:00:00\",\"2024-08-15T00:00:00\",\"2024-08-16T00:00:00\",\"2024-08-17T00:00:00\",\"2024-08-18T00:00:00\",\"2024-08-19T00:00:00\",\"2024-08-20T00:00:00\",\"2024-08-21T00:00:00\",\"2024-08-22T00:00:00\",\"2024-08-23T00:00:00\",\"2024-08-24T00:00:00\",\"2024-08-25T00:00:00\",\"2024-08-26T00:00:00\",\"2024-08-27T00:00:00\",\"2024-08-28T00:00:00\",\"2024-08-29T00:00:00\",\"2024-08-30T00:00:00\",\"2024-08-31T00:00:00\",\"2024-09-01T00:00:00\",\"2024-09-02T00:00:00\",\"2024-09-03T00:00:00\",\"2024-09-04T00:00:00\",\"2024-09-05T00:00:00\",\"2024-09-06T00:00:00\",\"2024-09-07T00:00:00\",\"2024-09-08T00:00:00\",\"2024-09-09T00:00:00\",\"2024-09-10T00:00:00\",\"2024-09-11T00:00:00\",\"2024-09-12T00:00:00\",\"2024-09-13T00:00:00\",\"2024-09-14T00:00:00\",\"2024-09-15T00:00:00\",\"2024-09-16T00:00:00\",\"2024-09-17T00:00:00\",\"2024-09-18T00:00:00\",\"2024-09-19T00:00:00\",\"2024-09-20T00:00:00\",\"2024-09-21T00:00:00\",\"2024-09-22T00:00:00\",\"2024-09-23T00:00:00\",\"2024-09-24T00:00:00\",\"2024-09-25T00:00:00\",\"2024-09-26T00:00:00\",\"2024-09-27T00:00:00\",\"2024-09-28T00:00:00\",\"2024-09-29T00:00:00\",\"2024-09-30T00:00:00\",\"2024-10-01T00:00:00\",\"2024-10-02T00:00:00\",\"2024-10-03T00:00:00\",\"2024-10-04T00:00:00\",\"2024-10-05T00:00:00\",\"2024-10-06T00:00:00\",\"2024-10-07T00:00:00\",\"2024-10-08T00:00:00\",\"2024-10-09T00:00:00\",\"2024-10-10T00:00:00\",\"2024-10-11T00:00:00\",\"2024-10-12T00:00:00\",\"2024-10-13T00:00:00\",\"2024-10-14T00:00:00\",\"2024-10-15T00:00:00\",\"2024-10-16T00:00:00\",\"2024-10-17T00:00:00\",\"2024-10-18T00:00:00\",\"2024-10-19T00:00:00\",\"2024-10-20T00:00:00\",\"2024-10-21T00:00:00\",\"2024-10-22T00:00:00\",\"2024-10-23T00:00:00\",\"2024-10-24T00:00:00\",\"2024-10-25T00:00:00\",\"2024-10-26T00:00:00\",\"2024-10-27T00:00:00\",\"2024-10-28T00:00:00\",\"2024-10-29T00:00:00\",\"2024-10-30T00:00:00\",\"2024-10-31T00:00:00\",\"2024-11-01T00:00:00\",\"2024-11-02T00:00:00\",\"2024-11-03T00:00:00\",\"2024-11-04T00:00:00\",\"2024-11-05T00:00:00\",\"2024-11-06T00:00:00\",\"2024-11-07T00:00:00\",\"2024-11-08T00:00:00\",\"2024-11-09T00:00:00\",\"2024-11-10T00:00:00\",\"2024-11-11T00:00:00\",\"2024-11-12T00:00:00\",\"2024-11-13T00:00:00\",\"2024-11-14T00:00:00\",\"2024-11-15T00:00:00\",\"2024-11-16T00:00:00\",\"2024-11-17T00:00:00\",\"2024-11-18T00:00:00\",\"2024-11-19T00:00:00\",\"2024-11-20T00:00:00\",\"2024-11-21T00:00:00\",\"2024-11-22T00:00:00\",\"2024-11-23T00:00:00\",\"2024-11-24T00:00:00\",\"2024-11-25T00:00:00\",\"2024-11-26T00:00:00\",\"2024-11-27T00:00:00\",\"2024-11-28T00:00:00\",\"2024-11-29T00:00:00\",\"2024-11-30T00:00:00\",\"2024-12-01T00:00:00\",\"2024-12-02T00:00:00\",\"2024-12-03T00:00:00\",\"2024-12-04T00:00:00\",\"2024-12-05T00:00:00\",\"2024-12-06T00:00:00\",\"2024-12-07T00:00:00\",\"2024-12-08T00:00:00\",\"2024-12-09T00:00:00\",\"2024-12-10T00:00:00\",\"2024-12-11T00:00:00\",\"2024-12-12T00:00:00\",\"2024-12-13T00:00:00\",\"2024-12-14T00:00:00\",\"2024-12-15T00:00:00\",\"2024-12-16T00:00:00\",\"2024-12-17T00:00:00\",\"2024-12-18T00:00:00\",\"2024-12-19T00:00:00\",\"2024-12-20T00:00:00\",\"2024-12-21T00:00:00\",\"2024-12-22T00:00:00\",\"2024-12-23T00:00:00\",\"2024-12-24T00:00:00\",\"2024-12-25T00:00:00\",\"2024-12-26T00:00:00\",\"2024-12-27T00:00:00\",\"2024-12-28T00:00:00\",\"2024-12-29T00:00:00\",\"2024-12-30T00:00:00\",\"2024-12-31T00:00:00\",\"2025-01-01T00:00:00\",\"2025-01-02T00:00:00\",\"2025-01-03T00:00:00\",\"2025-01-04T00:00:00\",\"2025-01-05T00:00:00\",\"2025-01-06T00:00:00\",\"2025-01-07T00:00:00\",\"2025-01-08T00:00:00\",\"2025-01-09T00:00:00\",\"2025-01-10T00:00:00\",\"2025-01-11T00:00:00\",\"2025-01-12T00:00:00\",\"2025-01-13T00:00:00\",\"2025-01-14T00:00:00\",\"2025-01-15T00:00:00\",\"2025-01-16T00:00:00\",\"2025-01-17T00:00:00\",\"2025-01-18T00:00:00\",\"2025-01-19T00:00:00\",\"2025-01-20T00:00:00\",\"2025-01-21T00:00:00\",\"2025-01-22T00:00:00\",\"2025-01-23T00:00:00\",\"2025-01-24T00:00:00\",\"2025-01-25T00:00:00\",\"2025-01-26T00:00:00\",\"2025-01-27T00:00:00\",\"2025-01-28T00:00:00\",\"2025-01-29T00:00:00\",\"2025-01-30T00:00:00\",\"2025-01-31T00:00:00\",\"2025-02-01T00:00:00\",\"2025-02-02T00:00:00\",\"2025-02-03T00:00:00\",\"2025-02-04T00:00:00\",\"2025-02-05T00:00:00\",\"2025-02-06T00:00:00\",\"2025-02-07T00:00:00\",\"2025-02-08T00:00:00\",\"2025-02-09T00:00:00\",\"2025-02-10T00:00:00\",\"2025-02-11T00:00:00\",\"2025-02-12T00:00:00\",\"2025-02-13T00:00:00\",\"2025-02-14T00:00:00\",\"2025-02-15T00:00:00\",\"2025-02-16T00:00:00\",\"2025-02-17T00:00:00\",\"2025-02-18T00:00:00\",\"2025-02-19T00:00:00\",\"2025-02-20T00:00:00\",\"2025-02-21T00:00:00\",\"2025-02-22T00:00:00\",\"2025-02-23T00:00:00\",\"2025-02-24T00:00:00\",\"2025-02-25T00:00:00\",\"2025-02-26T00:00:00\",\"2025-02-27T00:00:00\",\"2025-02-28T00:00:00\",\"2025-03-01T00:00:00\",\"2025-03-02T00:00:00\",\"2025-03-03T00:00:00\",\"2025-03-04T00:00:00\",\"2025-03-05T00:00:00\",\"2025-03-06T00:00:00\",\"2025-03-07T00:00:00\",\"2025-03-08T00:00:00\",\"2025-03-09T00:00:00\",\"2025-03-10T00:00:00\",\"2025-03-11T00:00:00\",\"2025-03-12T00:00:00\",\"2025-03-13T00:00:00\",\"2025-03-14T00:00:00\",\"2025-03-15T00:00:00\",\"2025-03-16T00:00:00\",\"2025-03-17T00:00:00\",\"2025-03-18T00:00:00\",\"2025-03-19T00:00:00\",\"2025-03-20T00:00:00\",\"2025-03-21T00:00:00\",\"2025-03-22T00:00:00\",\"2025-03-23T00:00:00\",\"2025-03-24T00:00:00\",\"2025-03-25T00:00:00\",\"2025-03-26T00:00:00\",\"2025-03-27T00:00:00\",\"2025-03-28T00:00:00\",\"2025-03-29T00:00:00\",\"2025-03-30T00:00:00\",\"2025-03-31T00:00:00\",\"2025-04-01T00:00:00\",\"2025-04-02T00:00:00\",\"2025-04-03T00:00:00\",\"2025-04-04T00:00:00\",\"2025-04-05T00:00:00\",\"2025-04-06T00:00:00\",\"2025-04-07T00:00:00\",\"2025-04-08T00:00:00\",\"2025-04-09T00:00:00\",\"2025-04-10T00:00:00\",\"2025-04-11T00:00:00\"],\"y\":[0.8358885017421603,0.8570267131242743,0.918583042973287,0.9619047619047619,0.9110336817653891,0.0,0.9560975609756097,0.8757259001161442,0.8476190476190477,0.8059233449477352,0.8023228803716609,0.0,0.0,0.0,0.8454123112659699,0.8422764227642277,0.8418118466898956,0.8588850174216028,0.8507549361207898,0.0,0.0,0.8682926829268294,0.8626016260162602,0.8708478513356563,0.8965156794425088,0.9042973286875726,0.0,0.0,0.8904761904761905,0.9018583042973288,0.8793263646922184,0.8202090592334496,0.8397212543554007,0.0,0.9781649245063879,0.9114982578397214,0.0,0.951335656213705,0.843089430894309,0.8569105691056911,0.8094076655052265,0.0,0.7879210220673636,0.9008130081300814,0.8868757259001162,0.9011614401858306,0.9112659698025551,0.0,0.0,0.9072009291521487,0.8947735191637632,0.8979094076655053,0.9051103368176541,0.883623693379791,0.0,0.0,0.8953542392566783,0.9085946573751453,0.9039488966318235,0.8995354239256679,0.8465737514518002,0.0,0.0,0.9826945412311267,0.9031358885017423,0.8605110336817655,0.9642276422764228,0.0,0.8082462253193962,0.8498257839721255,0.0,0.807665505226481,0.9210220673635308,0.937746806039489,0.9358885017421603,0.0,0.0,0.9542392566782811,0.9608594657375146,0.9439024390243903,0.9365853658536586,0.9311265969802556,0.0,0.0,0.9451800232288037,0.9412311265969804,0.9382113821138213,0.9572590011614402,0.0,0.0,0.0,0.840418118466899,0.0,0.9078977932636471,0.9966318234610918,0.0,0.848548199767712,0.9749128919860628,0.0,0.7958188153310105,0.8557491289198608,0.8249709639953543,0.7919860627177701,0.0,0.0,0.9855981416957027,0.9852497096399536,0.9541231126596982,0.9535423925667829,0.9549361207897794,0.0,0.0,0.9512195121951221,0.9588850174216029,0.9534262485481999,0.9610917537746807,0.9655052264808363,0.0,0.0,0.9527293844367016,0.9440185830429734,0.8578397212543555,0.8461091753774681,0.8990708478513357,1.0,0.0,0.8573751451800232,0.9554006968641117,0.8385598141695704,0.7955865272938444,0.0,0.8311265969802556,0.78931475029036,0.9128919860627178,0.9018583042973288,0.9077816492450639,0.9145180023228804,0.924274099883856,0.0,0.0,0.9210220673635308,0.9135888501742161,0.8960511033681766,0.8880371660859465,0.896980255516841,0.0,0.0,0.9134727061556331,0.921602787456446,0.9152148664343787,0.9005807200929153,0.8911730545876888,0.0,0.8521486643437864,0.9106852497096399,0.0,0.9075493612078979,0.8738675958188153,0.0,0.8401858304297329,0.777932636469222,0.0,0.8274099883855981,0.777932636469222,0.9089430894308944,0.9065040650406504,0.0,0.0,0.9259001161440187,0.9373983739837398,0.9360046457607434,0.9441347270615564,0.9286875725900116,0.0,0.0,0.9391405342624856,0.929965156794425,0.9313588850174216,0.9387921022067364,0.9365853658536586,0.0,0.0,0.0,0.8584204413472706,0.9096399535423926,0.0,0.9066202090592336,0.8736353077816493,0.0,0.8614401858304298,0.0,0.8881533101045297,0.8357723577235772,0.0,0.0,0.0,0.9389082462253195,0.9257839721254355,0.9458768873403021,0.9442508710801394,0.91335656213705,0.0,0.0,0.9105691056910571,0.8817653890824624,0.8894308943089432,0.8955865272938445,0.8826945412311267,0.0,0.0,0.8687572590011615,0.8580720092915215,0.8924506387921023,0.8236933797909408,0.8849012775842044,0.9001161440185831,0.9933797909407667,0.9124274099883857,0.0,0.9468060394889664,0.8715447154471546,0.0,0.8476190476190477,0.8142857142857143,0.0,0.89198606271777,0.880836236933798,0.8941927990708478,0.8773519163763067,0.0,0.0,0.8555168408826945,0.8498257839721255,0.8281068524970964,0.8394889663182347,0.8586527293844368,0.0,0.0,0.8846689895470384,0.864808362369338,0.8529616724738677,0.8672473867595819,0.8437862950058074,0.0,0.8396051103368177,0.891637630662021,0.0,0.9809523809523809,0.9152148664343787,0.0,0.9356562137049943,0.878164924506388,0.7887340301974448,0.843089430894309,0.0,0.7908246225319397,0.7868757259001162,0.0,0.0,0.8016260162601626,0.8125435540069686,0.8116144018583042,0.8264808362369338,0.8246225319396052,0.0,0.0,0.8084785133565622,0.8227642276422765,0.8029036004645761,0.7803716608594657,0.7859465737514518,0.0,0.0,0.7871080139372822,0.829732868757259,0.0,0.0,0.9923344947735192,0.9040650406504066,0.8981416957026713,0.9415795586527294,0.0,0.756562137049942,0.8723577235772358,0.0,0.7929152148664343,0.0,0.8506387921022067,0.813124274099884,0.810917537746806,0.8140534262485483,0.7977932636469222,0.0,0.0,0.8134727061556332,0.8332171893147503,0.8173054587688735,0.8111498257839722,0.8286875725900116,0.0,0.0,0.777932636469222,0.7759581881533102,0.7918699186991871,0.7991869918699188,0.8372822299651569,0.0,0.9004645760743323,0.980836236933798,0.0,0.9006968641114983,0.9451800232288037,0.0,0.7735191637630662,0.8693379790940766,0.788850174216028,0.8114982578397214,0.7927990708478514,0.7959349593495936,0.7772357723577237,0.0,0.0,0.8033681765389084,0.8041811846689896,0.7984901277584205,0.8103368176538909,0.8219512195121951,0.0,0.0,0.7965156794425088,0.7948896631823461,0.7938443670150988,0.0,0.786527293844367,0.0,0.8454123112659699,0.892218350754936,0.897212543554007,0.9881533101045297,0.0,0.9076655052264809,0.9409988385598141,0.9112659698025551,0.791521486643438,0.0,0.7894308943089431,0.8090592334494774,0.8225319396051103,0.0,0.0,0.8163763066202092,0.8089430894308944,0.8132404181184669,0.8058072009291521,0.8016260162601626,0.0,0.0,0.7991869918699188,0.8088269454123114,0.0,0.8040650406504066,0.8150987224157957,0.0,0.0,0.8191637630662022,0.8275261324041813,0.0,0.0,0.0,0.8269454123112661,0.0,0.0,0.0,0.0,0.0,0.0,0.0,0.0,0.8977932636469222,0.8869918699186993,0.9141695702671312,0.9138211382113822,0.9045296167247386,0.0,0.0,0.0,0.8814169570267132,0.8761904761904762,0.8666666666666668,0.8671312427409988,0.0,0.0,0.8498257839721255,0.856794425087108,0.8434378629500582,0.8447154471544717,0.8423925667828107,0.8420441347270616,0.0,0.0,0.8328687572590011,0.0,0.0,0.0,0.0,0.0,0.0,0.0,0.0,0.8262485481997678,0.8212543554006968,0.0,0.0,0.0,0.8344947735191638,0.8391405342624856,0.8428571428571429,0.8176538908246227,0.0,0.0,0.821138211382114,0.8005807200929154,0.796980255516841,0.8170731707317073,0.8102206736353079,0.8502903600464576,0.8497096399535424,0.7940766550522649,0.7775842044134728,0.0,0.0,0.0,0.0,0.0,0.0,0.0,0.0,0.7696864111498258,0.7771196283391405,0.0,0.0,0.7824622531939606,0.7770034843205577,0.7800232288037167,0.7927990708478514,0.7930313588850175,0.0,0.0,0.8026713124274101,0.8013937282229966,0.8089430894308944,0.8120789779326365,0.8055749128919861,0.0,0.0,0.8301974448315913,0.0,0.8443670150987225,0.7927990708478514,0.7199767711962834,0.0,0.0,0.0,0.0,0.0,0.0,0.0],\"type\":\"scatter\"},{\"mode\":\"lines\",\"name\":\"VIX\",\"x\":[\"2024-01-01T00:00:00\",\"2024-01-02T00:00:00\",\"2024-01-03T00:00:00\",\"2024-01-04T00:00:00\",\"2024-01-05T00:00:00\",\"2024-01-06T00:00:00\",\"2024-01-07T00:00:00\",\"2024-01-08T00:00:00\",\"2024-01-09T00:00:00\",\"2024-01-10T00:00:00\",\"2024-01-11T00:00:00\",\"2024-01-12T00:00:00\",\"2024-01-13T00:00:00\",\"2024-01-14T00:00:00\",\"2024-01-15T00:00:00\",\"2024-01-16T00:00:00\",\"2024-01-17T00:00:00\",\"2024-01-18T00:00:00\",\"2024-01-19T00:00:00\",\"2024-01-20T00:00:00\",\"2024-01-21T00:00:00\",\"2024-01-22T00:00:00\",\"2024-01-23T00:00:00\",\"2024-01-24T00:00:00\",\"2024-01-25T00:00:00\",\"2024-01-26T00:00:00\",\"2024-01-27T00:00:00\",\"2024-01-28T00:00:00\",\"2024-01-29T00:00:00\",\"2024-01-30T00:00:00\",\"2024-01-31T00:00:00\",\"2024-02-01T00:00:00\",\"2024-02-02T00:00:00\",\"2024-02-03T00:00:00\",\"2024-02-04T00:00:00\",\"2024-02-05T00:00:00\",\"2024-02-06T00:00:00\",\"2024-02-07T00:00:00\",\"2024-02-08T00:00:00\",\"2024-02-09T00:00:00\",\"2024-02-10T00:00:00\",\"2024-02-11T00:00:00\",\"2024-02-12T00:00:00\",\"2024-02-13T00:00:00\",\"2024-02-14T00:00:00\",\"2024-02-15T00:00:00\",\"2024-02-16T00:00:00\",\"2024-02-17T00:00:00\",\"2024-02-18T00:00:00\",\"2024-02-19T00:00:00\",\"2024-02-20T00:00:00\",\"2024-02-21T00:00:00\",\"2024-02-22T00:00:00\",\"2024-02-23T00:00:00\",\"2024-02-24T00:00:00\",\"2024-02-25T00:00:00\",\"2024-02-26T00:00:00\",\"2024-02-27T00:00:00\",\"2024-02-28T00:00:00\",\"2024-02-29T00:00:00\",\"2024-03-01T00:00:00\",\"2024-03-02T00:00:00\",\"2024-03-03T00:00:00\",\"2024-03-04T00:00:00\",\"2024-03-05T00:00:00\",\"2024-03-06T00:00:00\",\"2024-03-07T00:00:00\",\"2024-03-08T00:00:00\",\"2024-03-09T00:00:00\",\"2024-03-10T00:00:00\",\"2024-03-11T00:00:00\",\"2024-03-12T00:00:00\",\"2024-03-13T00:00:00\",\"2024-03-14T00:00:00\",\"2024-03-15T00:00:00\",\"2024-03-16T00:00:00\",\"2024-03-17T00:00:00\",\"2024-03-18T00:00:00\",\"2024-03-19T00:00:00\",\"2024-03-20T00:00:00\",\"2024-03-21T00:00:00\",\"2024-03-22T00:00:00\",\"2024-03-23T00:00:00\",\"2024-03-24T00:00:00\",\"2024-03-25T00:00:00\",\"2024-03-26T00:00:00\",\"2024-03-27T00:00:00\",\"2024-03-28T00:00:00\",\"2024-03-29T00:00:00\",\"2024-03-30T00:00:00\",\"2024-03-31T00:00:00\",\"2024-04-01T00:00:00\",\"2024-04-02T00:00:00\",\"2024-04-03T00:00:00\",\"2024-04-04T00:00:00\",\"2024-04-05T00:00:00\",\"2024-04-06T00:00:00\",\"2024-04-07T00:00:00\",\"2024-04-08T00:00:00\",\"2024-04-09T00:00:00\",\"2024-04-10T00:00:00\",\"2024-04-11T00:00:00\",\"2024-04-12T00:00:00\",\"2024-04-13T00:00:00\",\"2024-04-14T00:00:00\",\"2024-04-15T00:00:00\",\"2024-04-16T00:00:00\",\"2024-04-17T00:00:00\",\"2024-04-18T00:00:00\",\"2024-04-19T00:00:00\",\"2024-04-20T00:00:00\",\"2024-04-21T00:00:00\",\"2024-04-22T00:00:00\",\"2024-04-23T00:00:00\",\"2024-04-24T00:00:00\",\"2024-04-25T00:00:00\",\"2024-04-26T00:00:00\",\"2024-04-27T00:00:00\",\"2024-04-28T00:00:00\",\"2024-04-29T00:00:00\",\"2024-04-30T00:00:00\",\"2024-05-01T00:00:00\",\"2024-05-02T00:00:00\",\"2024-05-03T00:00:00\",\"2024-05-04T00:00:00\",\"2024-05-05T00:00:00\",\"2024-05-06T00:00:00\",\"2024-05-07T00:00:00\",\"2024-05-08T00:00:00\",\"2024-05-09T00:00:00\",\"2024-05-10T00:00:00\",\"2024-05-11T00:00:00\",\"2024-05-12T00:00:00\",\"2024-05-13T00:00:00\",\"2024-05-14T00:00:00\",\"2024-05-15T00:00:00\",\"2024-05-16T00:00:00\",\"2024-05-17T00:00:00\",\"2024-05-18T00:00:00\",\"2024-05-19T00:00:00\",\"2024-05-20T00:00:00\",\"2024-05-21T00:00:00\",\"2024-05-22T00:00:00\",\"2024-05-23T00:00:00\",\"2024-05-24T00:00:00\",\"2024-05-25T00:00:00\",\"2024-05-26T00:00:00\",\"2024-05-27T00:00:00\",\"2024-05-28T00:00:00\",\"2024-05-29T00:00:00\",\"2024-05-30T00:00:00\",\"2024-05-31T00:00:00\",\"2024-06-01T00:00:00\",\"2024-06-02T00:00:00\",\"2024-06-03T00:00:00\",\"2024-06-04T00:00:00\",\"2024-06-05T00:00:00\",\"2024-06-06T00:00:00\",\"2024-06-07T00:00:00\",\"2024-06-08T00:00:00\",\"2024-06-09T00:00:00\",\"2024-06-10T00:00:00\",\"2024-06-11T00:00:00\",\"2024-06-12T00:00:00\",\"2024-06-13T00:00:00\",\"2024-06-14T00:00:00\",\"2024-06-15T00:00:00\",\"2024-06-16T00:00:00\",\"2024-06-17T00:00:00\",\"2024-06-18T00:00:00\",\"2024-06-19T00:00:00\",\"2024-06-20T00:00:00\",\"2024-06-21T00:00:00\",\"2024-06-22T00:00:00\",\"2024-06-23T00:00:00\",\"2024-06-24T00:00:00\",\"2024-06-25T00:00:00\",\"2024-06-26T00:00:00\",\"2024-06-27T00:00:00\",\"2024-06-28T00:00:00\",\"2024-06-29T00:00:00\",\"2024-06-30T00:00:00\",\"2024-07-01T00:00:00\",\"2024-07-02T00:00:00\",\"2024-07-03T00:00:00\",\"2024-07-04T00:00:00\",\"2024-07-05T00:00:00\",\"2024-07-06T00:00:00\",\"2024-07-07T00:00:00\",\"2024-07-08T00:00:00\",\"2024-07-09T00:00:00\",\"2024-07-10T00:00:00\",\"2024-07-11T00:00:00\",\"2024-07-12T00:00:00\",\"2024-07-13T00:00:00\",\"2024-07-14T00:00:00\",\"2024-07-15T00:00:00\",\"2024-07-16T00:00:00\",\"2024-07-17T00:00:00\",\"2024-07-18T00:00:00\",\"2024-07-19T00:00:00\",\"2024-07-20T00:00:00\",\"2024-07-21T00:00:00\",\"2024-07-22T00:00:00\",\"2024-07-23T00:00:00\",\"2024-07-24T00:00:00\",\"2024-07-25T00:00:00\",\"2024-07-26T00:00:00\",\"2024-07-27T00:00:00\",\"2024-07-28T00:00:00\",\"2024-07-29T00:00:00\",\"2024-07-30T00:00:00\",\"2024-07-31T00:00:00\",\"2024-08-01T00:00:00\",\"2024-08-02T00:00:00\",\"2024-08-03T00:00:00\",\"2024-08-04T00:00:00\",\"2024-08-05T00:00:00\",\"2024-08-06T00:00:00\",\"2024-08-07T00:00:00\",\"2024-08-08T00:00:00\",\"2024-08-09T00:00:00\",\"2024-08-10T00:00:00\",\"2024-08-11T00:00:00\",\"2024-08-12T00:00:00\",\"2024-08-13T00:00:00\",\"2024-08-14T00:00:00\",\"2024-08-15T00:00:00\",\"2024-08-16T00:00:00\",\"2024-08-17T00:00:00\",\"2024-08-18T00:00:00\",\"2024-08-19T00:00:00\",\"2024-08-20T00:00:00\",\"2024-08-21T00:00:00\",\"2024-08-22T00:00:00\",\"2024-08-23T00:00:00\",\"2024-08-24T00:00:00\",\"2024-08-25T00:00:00\",\"2024-08-26T00:00:00\",\"2024-08-27T00:00:00\",\"2024-08-28T00:00:00\",\"2024-08-29T00:00:00\",\"2024-08-30T00:00:00\",\"2024-08-31T00:00:00\",\"2024-09-01T00:00:00\",\"2024-09-02T00:00:00\",\"2024-09-03T00:00:00\",\"2024-09-04T00:00:00\",\"2024-09-05T00:00:00\",\"2024-09-06T00:00:00\",\"2024-09-07T00:00:00\",\"2024-09-08T00:00:00\",\"2024-09-09T00:00:00\",\"2024-09-10T00:00:00\",\"2024-09-11T00:00:00\",\"2024-09-12T00:00:00\",\"2024-09-13T00:00:00\",\"2024-09-14T00:00:00\",\"2024-09-15T00:00:00\",\"2024-09-16T00:00:00\",\"2024-09-17T00:00:00\",\"2024-09-18T00:00:00\",\"2024-09-19T00:00:00\",\"2024-09-20T00:00:00\",\"2024-09-21T00:00:00\",\"2024-09-22T00:00:00\",\"2024-09-23T00:00:00\",\"2024-09-24T00:00:00\",\"2024-09-25T00:00:00\",\"2024-09-26T00:00:00\",\"2024-09-27T00:00:00\",\"2024-09-28T00:00:00\",\"2024-09-29T00:00:00\",\"2024-09-30T00:00:00\",\"2024-10-01T00:00:00\",\"2024-10-02T00:00:00\",\"2024-10-03T00:00:00\",\"2024-10-04T00:00:00\",\"2024-10-05T00:00:00\",\"2024-10-06T00:00:00\",\"2024-10-07T00:00:00\",\"2024-10-08T00:00:00\",\"2024-10-09T00:00:00\",\"2024-10-10T00:00:00\",\"2024-10-11T00:00:00\",\"2024-10-12T00:00:00\",\"2024-10-13T00:00:00\",\"2024-10-14T00:00:00\",\"2024-10-15T00:00:00\",\"2024-10-16T00:00:00\",\"2024-10-17T00:00:00\",\"2024-10-18T00:00:00\",\"2024-10-19T00:00:00\",\"2024-10-20T00:00:00\",\"2024-10-21T00:00:00\",\"2024-10-22T00:00:00\",\"2024-10-23T00:00:00\",\"2024-10-24T00:00:00\",\"2024-10-25T00:00:00\",\"2024-10-26T00:00:00\",\"2024-10-27T00:00:00\",\"2024-10-28T00:00:00\",\"2024-10-29T00:00:00\",\"2024-10-30T00:00:00\",\"2024-10-31T00:00:00\",\"2024-11-01T00:00:00\",\"2024-11-02T00:00:00\",\"2024-11-03T00:00:00\",\"2024-11-04T00:00:00\",\"2024-11-05T00:00:00\",\"2024-11-06T00:00:00\",\"2024-11-07T00:00:00\",\"2024-11-08T00:00:00\",\"2024-11-09T00:00:00\",\"2024-11-10T00:00:00\",\"2024-11-11T00:00:00\",\"2024-11-12T00:00:00\",\"2024-11-13T00:00:00\",\"2024-11-14T00:00:00\",\"2024-11-15T00:00:00\",\"2024-11-16T00:00:00\",\"2024-11-17T00:00:00\",\"2024-11-18T00:00:00\",\"2024-11-19T00:00:00\",\"2024-11-20T00:00:00\",\"2024-11-21T00:00:00\",\"2024-11-22T00:00:00\",\"2024-11-23T00:00:00\",\"2024-11-24T00:00:00\",\"2024-11-25T00:00:00\",\"2024-11-26T00:00:00\",\"2024-11-27T00:00:00\",\"2024-11-28T00:00:00\",\"2024-11-29T00:00:00\",\"2024-11-30T00:00:00\",\"2024-12-01T00:00:00\",\"2024-12-02T00:00:00\",\"2024-12-03T00:00:00\",\"2024-12-04T00:00:00\",\"2024-12-05T00:00:00\",\"2024-12-06T00:00:00\",\"2024-12-07T00:00:00\",\"2024-12-08T00:00:00\",\"2024-12-09T00:00:00\",\"2024-12-10T00:00:00\",\"2024-12-11T00:00:00\",\"2024-12-12T00:00:00\",\"2024-12-13T00:00:00\",\"2024-12-14T00:00:00\",\"2024-12-15T00:00:00\",\"2024-12-16T00:00:00\",\"2024-12-17T00:00:00\",\"2024-12-18T00:00:00\",\"2024-12-19T00:00:00\",\"2024-12-20T00:00:00\",\"2024-12-21T00:00:00\",\"2024-12-22T00:00:00\",\"2024-12-23T00:00:00\",\"2024-12-24T00:00:00\",\"2024-12-25T00:00:00\",\"2024-12-26T00:00:00\",\"2024-12-27T00:00:00\",\"2024-12-28T00:00:00\",\"2024-12-29T00:00:00\",\"2024-12-30T00:00:00\",\"2024-12-31T00:00:00\",\"2025-01-01T00:00:00\",\"2025-01-02T00:00:00\",\"2025-01-03T00:00:00\",\"2025-01-04T00:00:00\",\"2025-01-05T00:00:00\",\"2025-01-06T00:00:00\",\"2025-01-07T00:00:00\",\"2025-01-08T00:00:00\",\"2025-01-09T00:00:00\",\"2025-01-10T00:00:00\",\"2025-01-11T00:00:00\",\"2025-01-12T00:00:00\",\"2025-01-13T00:00:00\",\"2025-01-14T00:00:00\",\"2025-01-15T00:00:00\",\"2025-01-16T00:00:00\",\"2025-01-17T00:00:00\",\"2025-01-18T00:00:00\",\"2025-01-19T00:00:00\",\"2025-01-20T00:00:00\",\"2025-01-21T00:00:00\",\"2025-01-22T00:00:00\",\"2025-01-23T00:00:00\",\"2025-01-24T00:00:00\",\"2025-01-25T00:00:00\",\"2025-01-26T00:00:00\",\"2025-01-27T00:00:00\",\"2025-01-28T00:00:00\",\"2025-01-29T00:00:00\",\"2025-01-30T00:00:00\",\"2025-01-31T00:00:00\",\"2025-02-01T00:00:00\",\"2025-02-02T00:00:00\",\"2025-02-03T00:00:00\",\"2025-02-04T00:00:00\",\"2025-02-05T00:00:00\",\"2025-02-06T00:00:00\",\"2025-02-07T00:00:00\",\"2025-02-08T00:00:00\",\"2025-02-09T00:00:00\",\"2025-02-10T00:00:00\",\"2025-02-11T00:00:00\",\"2025-02-12T00:00:00\",\"2025-02-13T00:00:00\",\"2025-02-14T00:00:00\",\"2025-02-15T00:00:00\",\"2025-02-16T00:00:00\",\"2025-02-17T00:00:00\",\"2025-02-18T00:00:00\",\"2025-02-19T00:00:00\",\"2025-02-20T00:00:00\",\"2025-02-21T00:00:00\",\"2025-02-22T00:00:00\",\"2025-02-23T00:00:00\",\"2025-02-24T00:00:00\",\"2025-02-25T00:00:00\",\"2025-02-26T00:00:00\",\"2025-02-27T00:00:00\",\"2025-02-28T00:00:00\",\"2025-03-01T00:00:00\",\"2025-03-02T00:00:00\",\"2025-03-03T00:00:00\",\"2025-03-04T00:00:00\",\"2025-03-05T00:00:00\",\"2025-03-06T00:00:00\",\"2025-03-07T00:00:00\",\"2025-03-08T00:00:00\",\"2025-03-09T00:00:00\",\"2025-03-10T00:00:00\",\"2025-03-11T00:00:00\",\"2025-03-12T00:00:00\",\"2025-03-13T00:00:00\",\"2025-03-14T00:00:00\",\"2025-03-15T00:00:00\",\"2025-03-16T00:00:00\",\"2025-03-17T00:00:00\",\"2025-03-18T00:00:00\",\"2025-03-19T00:00:00\",\"2025-03-20T00:00:00\",\"2025-03-21T00:00:00\",\"2025-03-22T00:00:00\",\"2025-03-23T00:00:00\",\"2025-03-24T00:00:00\",\"2025-03-25T00:00:00\",\"2025-03-26T00:00:00\",\"2025-03-27T00:00:00\",\"2025-03-28T00:00:00\",\"2025-03-29T00:00:00\",\"2025-03-30T00:00:00\",\"2025-03-31T00:00:00\",\"2025-04-01T00:00:00\",\"2025-04-02T00:00:00\",\"2025-04-03T00:00:00\",\"2025-04-04T00:00:00\",\"2025-04-05T00:00:00\",\"2025-04-06T00:00:00\",\"2025-04-07T00:00:00\",\"2025-04-08T00:00:00\",\"2025-04-09T00:00:00\",\"2025-04-10T00:00:00\",\"2025-04-11T00:00:00\"],\"y\":[0.0,0.3063341425733834,0.2893401015228426,0.30125800044140366,0.3396601191789892,0.0,0.26969763849039946,0.4102847053630545,0.0,0.4250717280953432,0.48289560803354664,0.0,0.0,0.0,0.2924299271683955,0.30545133524608253,0.3264180092694769,0.31185168836901345,0.29353343632752155,0.0,0.0,0.29110571617744424,0.2769807989406312,0.29000220701831825,0.2968439638048995,0.2926506290002207,0.0,0.0,0.3001544912822776,0.2937541381593467,0.31670712866916795,0.29132641800926945,0.30567203707790774,0.0,0.32244537629662323,0.32399028911939964,0.0,0.2655043036857206,0.5162215846391525,0.34319134848819244,0.4171264621496358,0.0,0.29441624365482233,0.34981240344294856,0.3173692341646436,0.309203266387111,0.3142794085190907,0.0,0.0,0.32465239461487533,0.34032222467446477,0.33855661001986315,0.3209004634738468,0.3034650187596557,0.0,0.0,0.3032443169278305,0.29640256014124916,0.30545133524608253,0.29574045464577353,0.3098653718825866,0.0,0.0,0.31626572500551753,0.29772677113220036,0.2893401015228426,0.2668285146766718,0.0,0.45729419554182293,0.4522180534098432,0.0,0.29353343632752155,0.3034650187596557,0.31781063782829394,0.31803133966011915,0.0,0.0,0.31626572500551753,0.3050099315824321,0.28779518870006615,0.28514676671816375,0.2882365923637166,0.0,0.0,0.29110571617744424,0.2922092253365703,0.28205694107261087,0.2871330832045906,0.2871330832045906,0.0,0.0,0.31185168836901345,0.0,0.29772677113220036,0.3608474950342088,0.0,0.29044361068196867,0.27058044581770024,0.0,0.47053630545133523,0.42396821893621717,0.4851026263517987,0.2968439638048995,0.0,0.0,0.4244096225998676,0.4060913705583756,0.40189803575369676,0.39726329728536747,0.41293312734495696,0.0,0.0,0.37386890311189586,0.34628117413374526,0.352460825424851,0.3392187155153387,0.3317148532332818,0.0,0.0,0.3237695872875745,0.3453983668064445,0.29463694548664754,0.3016994041050541,0.3191348488192452,0.3537850364158023,0.0,0.27874641359523283,0.2754358861178548,0.8512469653498124,0.4391966453321562,0.0,0.4522180534098432,0.2988302802913264,0.3001544912822776,0.29618185830942395,0.2747737806223791,0.27411167512690354,0.26462149635841975,0.0,0.0,0.26815272566762305,0.2617523725446921,0.2712425513131759,0.28183623924078566,0.26329728536746855,0.0,0.0,0.2727874641359523,0.28514676671816375,0.3151622158463915,0.3193555506510704,0.28514676671816375,0.0,0.2882365923637166,0.320017656146546,0.0,0.29772677113220036,0.2776429044361068,0.0,0.6115647759876407,0.49393069962480685,0.0,0.35908188037960714,0.28183623924078566,0.26351798719929376,0.27940851909070846,0.0,0.0,0.2813948355771353,0.2714632531450011,0.2754358861178548,0.29309203266387107,0.29132641800926945,0.0,0.0,0.2941955418229971,0.2833811520635621,0.2769807989406312,0.2701390421540499,0.27455307879055396,0.0,0.0,0.0,0.2831604502317369,0.3186934451555948,0.0,0.2919885235047451,0.26969763849039946,0.0,0.6146546016331935,0.0,0.4996689472522622,0.33546678437431027,0.0,0.0,0.0,0.28956080335466783,0.29110571617744424,0.3195762524828956,0.3515780180975502,0.3645994261752372,0.0,0.0,0.32906643125137935,0.3248730964467005,0.39814610461266825,0.40741558154932683,0.3617303023615096,0.0,0.0,0.3663650408298389,0.39042154049878613,0.361068196866034,0.288677996027367,0.2822776429044361,0.3253145001103509,0.33524608254248506,0.28691238137276537,0.0,0.2730081659677775,0.5250496579121606,0.0,0.4727433237695873,0.329728536746855,0.0,0.3999117192672699,0.3573162657250055,0.3361288898697859,0.32663871110130216,0.0,0.0,0.32332818362392407,0.3504745089384242,0.35908188037960714,0.38733171485323326,0.35003310527477377,0.0,0.0,0.35643345839770463,0.34054292650629,0.37762083425292425,0.3453983668064445,0.3310527477378062,0.0,0.28161553740896045,0.28536746854998896,0.0,0.3306113440741558,0.28007062458618404,0.0,0.2760979916133304,0.4495696314279409,0.42926506290002203,0.4603840211873758,0.0,0.31317589935996465,0.365482233502538,0.0,0.0,0.3782829397483999,0.38865592584418446,0.4023394394173472,0.36040609137055835,0.35643345839770463,0.0,0.0,0.3506952107702494,0.3396601191789892,0.34010152284263956,0.3392187155153387,0.3743103067755462,0.0,0.0,0.3692341646435665,0.28007062458618404,0.0,0.0,0.34870889428382257,0.2769807989406312,0.2811741337453101,0.28360185389538733,0.0,0.42109909512248944,0.4619289340101523,0.0,0.31295519752813944,0.0,0.43478260869565216,0.45552858088722137,0.43213418671374965,0.42176120061796507,0.3979254027808431,0.0,0.0,0.4054292650629,0.4016773339218715,0.42463032443169274,0.42109909512248944,0.44868682410064,0.0,0.0,0.4369896270139042,0.4268373427499448,0.44912822776429046,0.5111454425071728,0.27455307879055396,0.0,0.3359081880379607,0.32906643125137935,0.0,0.28360185389538733,0.28514676671816375,0.0,0.39042154049878613,0.4515559479143677,0.3303906422423306,0.2997130876186272,0.3094239682189362,0.3158243213418671,0.3562127565658795,0.0,0.0,0.34385345398366807,0.3608474950342088,0.3787243434120503,0.3723239902891194,0.3363495917016111,0.0,0.0,0.322224674464798,0.3111895828735378,0.3111895828735378,0.30677554623703374,0.2981681747958508,0.0,0.28029132641800925,0.30743765173250936,0.30545133524608253,0.38203487088942834,0.0,0.26572500551754574,0.2749944824542044,0.4570734937099978,0.37673802692562347,0.0,0.32465239461487533,0.30721694990068416,0.3047892297506069,0.0,0.0,0.32421099095122485,0.3502538071065989,0.6095784595012138,0.5316707128669168,0.4052085632310748,0.0,0.0,0.37033767380269256,0.31494151401456627,0.0,0.3250937982785257,0.3520194217612006,0.0,0.0,0.38402118737585517,0.38291767821672923,0.0,0.0,0.0,0.4804678878834694,0.0,0.0,0.0,0.0,0.0,0.0,0.0,0.0,0.42352681527256675,0.41293312734495696,0.3557713529022291,0.3663650408298389,0.352460825424851,0.0,0.0,0.3489295961156478,0.33237695872875744,0.3332597660560582,0.3314941514014566,0.32774222026042815,0.0,0.0,0.39505627896711537,0.36217170602515997,0.365482233502538,0.34959170161112335,0.3626131096888104,0.395718384462591,0.0,0.0,0.47472964025601416,0.0,0.0,0.0,0.0,0.0,0.0,0.0,0.0,0.3332597660560582,0.3259766056058265,0.0,0.0,0.3392187155153387,0.33877731185168836,0.33701169719708673,0.3456190686382697,0.40189803575369676,0.0,0.0,0.41889207680423746,0.4288236592363716,0.4215404987861399,0.4663429706466563,0.4332376958728757,0.35599205473405426,0.41094681085853013,0.502758772897815,0.6625468991392628,0.0,0.0,0.0,0.0,0.0,0.0,0.0,0.0,0.5442507172809534,0.4804678878834694,0.0,0.0,0.4526594570734937,0.478922975060693,0.4391966453321562,0.4369896270139042,0.4255131317589936,0.0,0.0,0.38578680203045684,0.3785036415802251,0.40454645773559916,0.41249172368130654,0.47781946590156693,0.0,0.0,0.49172368130655486,0.0,0.37982785257117635,0.518870006621055,1.0,0.0,0.0,0.0,0.0,0.0,0.0,0.0],\"type\":\"scatter\"},{\"mode\":\"lines\",\"name\":\"EUR_USD\",\"x\":[\"2024-01-01T00:00:00\",\"2024-01-02T00:00:00\",\"2024-01-03T00:00:00\",\"2024-01-04T00:00:00\",\"2024-01-05T00:00:00\",\"2024-01-06T00:00:00\",\"2024-01-07T00:00:00\",\"2024-01-08T00:00:00\",\"2024-01-09T00:00:00\",\"2024-01-10T00:00:00\",\"2024-01-11T00:00:00\",\"2024-01-12T00:00:00\",\"2024-01-13T00:00:00\",\"2024-01-14T00:00:00\",\"2024-01-15T00:00:00\",\"2024-01-16T00:00:00\",\"2024-01-17T00:00:00\",\"2024-01-18T00:00:00\",\"2024-01-19T00:00:00\",\"2024-01-20T00:00:00\",\"2024-01-21T00:00:00\",\"2024-01-22T00:00:00\",\"2024-01-23T00:00:00\",\"2024-01-24T00:00:00\",\"2024-01-25T00:00:00\",\"2024-01-26T00:00:00\",\"2024-01-27T00:00:00\",\"2024-01-28T00:00:00\",\"2024-01-29T00:00:00\",\"2024-01-30T00:00:00\",\"2024-01-31T00:00:00\",\"2024-02-01T00:00:00\",\"2024-02-02T00:00:00\",\"2024-02-03T00:00:00\",\"2024-02-04T00:00:00\",\"2024-02-05T00:00:00\",\"2024-02-06T00:00:00\",\"2024-02-07T00:00:00\",\"2024-02-08T00:00:00\",\"2024-02-09T00:00:00\",\"2024-02-10T00:00:00\",\"2024-02-11T00:00:00\",\"2024-02-12T00:00:00\",\"2024-02-13T00:00:00\",\"2024-02-14T00:00:00\",\"2024-02-15T00:00:00\",\"2024-02-16T00:00:00\",\"2024-02-17T00:00:00\",\"2024-02-18T00:00:00\",\"2024-02-19T00:00:00\",\"2024-02-20T00:00:00\",\"2024-02-21T00:00:00\",\"2024-02-22T00:00:00\",\"2024-02-23T00:00:00\",\"2024-02-24T00:00:00\",\"2024-02-25T00:00:00\",\"2024-02-26T00:00:00\",\"2024-02-27T00:00:00\",\"2024-02-28T00:00:00\",\"2024-02-29T00:00:00\",\"2024-03-01T00:00:00\",\"2024-03-02T00:00:00\",\"2024-03-03T00:00:00\",\"2024-03-04T00:00:00\",\"2024-03-05T00:00:00\",\"2024-03-06T00:00:00\",\"2024-03-07T00:00:00\",\"2024-03-08T00:00:00\",\"2024-03-09T00:00:00\",\"2024-03-10T00:00:00\",\"2024-03-11T00:00:00\",\"2024-03-12T00:00:00\",\"2024-03-13T00:00:00\",\"2024-03-14T00:00:00\",\"2024-03-15T00:00:00\",\"2024-03-16T00:00:00\",\"2024-03-17T00:00:00\",\"2024-03-18T00:00:00\",\"2024-03-19T00:00:00\",\"2024-03-20T00:00:00\",\"2024-03-21T00:00:00\",\"2024-03-22T00:00:00\",\"2024-03-23T00:00:00\",\"2024-03-24T00:00:00\",\"2024-03-25T00:00:00\",\"2024-03-26T00:00:00\",\"2024-03-27T00:00:00\",\"2024-03-28T00:00:00\",\"2024-03-29T00:00:00\",\"2024-03-30T00:00:00\",\"2024-03-31T00:00:00\",\"2024-04-01T00:00:00\",\"2024-04-02T00:00:00\",\"2024-04-03T00:00:00\",\"2024-04-04T00:00:00\",\"2024-04-05T00:00:00\",\"2024-04-06T00:00:00\",\"2024-04-07T00:00:00\",\"2024-04-08T00:00:00\",\"2024-04-09T00:00:00\",\"2024-04-10T00:00:00\",\"2024-04-11T00:00:00\",\"2024-04-12T00:00:00\",\"2024-04-13T00:00:00\",\"2024-04-14T00:00:00\",\"2024-04-15T00:00:00\",\"2024-04-16T00:00:00\",\"2024-04-17T00:00:00\",\"2024-04-18T00:00:00\",\"2024-04-19T00:00:00\",\"2024-04-20T00:00:00\",\"2024-04-21T00:00:00\",\"2024-04-22T00:00:00\",\"2024-04-23T00:00:00\",\"2024-04-24T00:00:00\",\"2024-04-25T00:00:00\",\"2024-04-26T00:00:00\",\"2024-04-27T00:00:00\",\"2024-04-28T00:00:00\",\"2024-04-29T00:00:00\",\"2024-04-30T00:00:00\",\"2024-05-01T00:00:00\",\"2024-05-02T00:00:00\",\"2024-05-03T00:00:00\",\"2024-05-04T00:00:00\",\"2024-05-05T00:00:00\",\"2024-05-06T00:00:00\",\"2024-05-07T00:00:00\",\"2024-05-08T00:00:00\",\"2024-05-09T00:00:00\",\"2024-05-10T00:00:00\",\"2024-05-11T00:00:00\",\"2024-05-12T00:00:00\",\"2024-05-13T00:00:00\",\"2024-05-14T00:00:00\",\"2024-05-15T00:00:00\",\"2024-05-16T00:00:00\",\"2024-05-17T00:00:00\",\"2024-05-18T00:00:00\",\"2024-05-19T00:00:00\",\"2024-05-20T00:00:00\",\"2024-05-21T00:00:00\",\"2024-05-22T00:00:00\",\"2024-05-23T00:00:00\",\"2024-05-24T00:00:00\",\"2024-05-25T00:00:00\",\"2024-05-26T00:00:00\",\"2024-05-27T00:00:00\",\"2024-05-28T00:00:00\",\"2024-05-29T00:00:00\",\"2024-05-30T00:00:00\",\"2024-05-31T00:00:00\",\"2024-06-01T00:00:00\",\"2024-06-02T00:00:00\",\"2024-06-03T00:00:00\",\"2024-06-04T00:00:00\",\"2024-06-05T00:00:00\",\"2024-06-06T00:00:00\",\"2024-06-07T00:00:00\",\"2024-06-08T00:00:00\",\"2024-06-09T00:00:00\",\"2024-06-10T00:00:00\",\"2024-06-11T00:00:00\",\"2024-06-12T00:00:00\",\"2024-06-13T00:00:00\",\"2024-06-14T00:00:00\",\"2024-06-15T00:00:00\",\"2024-06-16T00:00:00\",\"2024-06-17T00:00:00\",\"2024-06-18T00:00:00\",\"2024-06-19T00:00:00\",\"2024-06-20T00:00:00\",\"2024-06-21T00:00:00\",\"2024-06-22T00:00:00\",\"2024-06-23T00:00:00\",\"2024-06-24T00:00:00\",\"2024-06-25T00:00:00\",\"2024-06-26T00:00:00\",\"2024-06-27T00:00:00\",\"2024-06-28T00:00:00\",\"2024-06-29T00:00:00\",\"2024-06-30T00:00:00\",\"2024-07-01T00:00:00\",\"2024-07-02T00:00:00\",\"2024-07-03T00:00:00\",\"2024-07-04T00:00:00\",\"2024-07-05T00:00:00\",\"2024-07-06T00:00:00\",\"2024-07-07T00:00:00\",\"2024-07-08T00:00:00\",\"2024-07-09T00:00:00\",\"2024-07-10T00:00:00\",\"2024-07-11T00:00:00\",\"2024-07-12T00:00:00\",\"2024-07-13T00:00:00\",\"2024-07-14T00:00:00\",\"2024-07-15T00:00:00\",\"2024-07-16T00:00:00\",\"2024-07-17T00:00:00\",\"2024-07-18T00:00:00\",\"2024-07-19T00:00:00\",\"2024-07-20T00:00:00\",\"2024-07-21T00:00:00\",\"2024-07-22T00:00:00\",\"2024-07-23T00:00:00\",\"2024-07-24T00:00:00\",\"2024-07-25T00:00:00\",\"2024-07-26T00:00:00\",\"2024-07-27T00:00:00\",\"2024-07-28T00:00:00\",\"2024-07-29T00:00:00\",\"2024-07-30T00:00:00\",\"2024-07-31T00:00:00\",\"2024-08-01T00:00:00\",\"2024-08-02T00:00:00\",\"2024-08-03T00:00:00\",\"2024-08-04T00:00:00\",\"2024-08-05T00:00:00\",\"2024-08-06T00:00:00\",\"2024-08-07T00:00:00\",\"2024-08-08T00:00:00\",\"2024-08-09T00:00:00\",\"2024-08-10T00:00:00\",\"2024-08-11T00:00:00\",\"2024-08-12T00:00:00\",\"2024-08-13T00:00:00\",\"2024-08-14T00:00:00\",\"2024-08-15T00:00:00\",\"2024-08-16T00:00:00\",\"2024-08-17T00:00:00\",\"2024-08-18T00:00:00\",\"2024-08-19T00:00:00\",\"2024-08-20T00:00:00\",\"2024-08-21T00:00:00\",\"2024-08-22T00:00:00\",\"2024-08-23T00:00:00\",\"2024-08-24T00:00:00\",\"2024-08-25T00:00:00\",\"2024-08-26T00:00:00\",\"2024-08-27T00:00:00\",\"2024-08-28T00:00:00\",\"2024-08-29T00:00:00\",\"2024-08-30T00:00:00\",\"2024-08-31T00:00:00\",\"2024-09-01T00:00:00\",\"2024-09-02T00:00:00\",\"2024-09-03T00:00:00\",\"2024-09-04T00:00:00\",\"2024-09-05T00:00:00\",\"2024-09-06T00:00:00\",\"2024-09-07T00:00:00\",\"2024-09-08T00:00:00\",\"2024-09-09T00:00:00\",\"2024-09-10T00:00:00\",\"2024-09-11T00:00:00\",\"2024-09-12T00:00:00\",\"2024-09-13T00:00:00\",\"2024-09-14T00:00:00\",\"2024-09-15T00:00:00\",\"2024-09-16T00:00:00\",\"2024-09-17T00:00:00\",\"2024-09-18T00:00:00\",\"2024-09-19T00:00:00\",\"2024-09-20T00:00:00\",\"2024-09-21T00:00:00\",\"2024-09-22T00:00:00\",\"2024-09-23T00:00:00\",\"2024-09-24T00:00:00\",\"2024-09-25T00:00:00\",\"2024-09-26T00:00:00\",\"2024-09-27T00:00:00\",\"2024-09-28T00:00:00\",\"2024-09-29T00:00:00\",\"2024-09-30T00:00:00\",\"2024-10-01T00:00:00\",\"2024-10-02T00:00:00\",\"2024-10-03T00:00:00\",\"2024-10-04T00:00:00\",\"2024-10-05T00:00:00\",\"2024-10-06T00:00:00\",\"2024-10-07T00:00:00\",\"2024-10-08T00:00:00\",\"2024-10-09T00:00:00\",\"2024-10-10T00:00:00\",\"2024-10-11T00:00:00\",\"2024-10-12T00:00:00\",\"2024-10-13T00:00:00\",\"2024-10-14T00:00:00\",\"2024-10-15T00:00:00\",\"2024-10-16T00:00:00\",\"2024-10-17T00:00:00\",\"2024-10-18T00:00:00\",\"2024-10-19T00:00:00\",\"2024-10-20T00:00:00\",\"2024-10-21T00:00:00\",\"2024-10-22T00:00:00\",\"2024-10-23T00:00:00\",\"2024-10-24T00:00:00\",\"2024-10-25T00:00:00\",\"2024-10-26T00:00:00\",\"2024-10-27T00:00:00\",\"2024-10-28T00:00:00\",\"2024-10-29T00:00:00\",\"2024-10-30T00:00:00\",\"2024-10-31T00:00:00\",\"2024-11-01T00:00:00\",\"2024-11-02T00:00:00\",\"2024-11-03T00:00:00\",\"2024-11-04T00:00:00\",\"2024-11-05T00:00:00\",\"2024-11-06T00:00:00\",\"2024-11-07T00:00:00\",\"2024-11-08T00:00:00\",\"2024-11-09T00:00:00\",\"2024-11-10T00:00:00\",\"2024-11-11T00:00:00\",\"2024-11-12T00:00:00\",\"2024-11-13T00:00:00\",\"2024-11-14T00:00:00\",\"2024-11-15T00:00:00\",\"2024-11-16T00:00:00\",\"2024-11-17T00:00:00\",\"2024-11-18T00:00:00\",\"2024-11-19T00:00:00\",\"2024-11-20T00:00:00\",\"2024-11-21T00:00:00\",\"2024-11-22T00:00:00\",\"2024-11-23T00:00:00\",\"2024-11-24T00:00:00\",\"2024-11-25T00:00:00\",\"2024-11-26T00:00:00\",\"2024-11-27T00:00:00\",\"2024-11-28T00:00:00\",\"2024-11-29T00:00:00\",\"2024-11-30T00:00:00\",\"2024-12-01T00:00:00\",\"2024-12-02T00:00:00\",\"2024-12-03T00:00:00\",\"2024-12-04T00:00:00\",\"2024-12-05T00:00:00\",\"2024-12-06T00:00:00\",\"2024-12-07T00:00:00\",\"2024-12-08T00:00:00\",\"2024-12-09T00:00:00\",\"2024-12-10T00:00:00\",\"2024-12-11T00:00:00\",\"2024-12-12T00:00:00\",\"2024-12-13T00:00:00\",\"2024-12-14T00:00:00\",\"2024-12-15T00:00:00\",\"2024-12-16T00:00:00\",\"2024-12-17T00:00:00\",\"2024-12-18T00:00:00\",\"2024-12-19T00:00:00\",\"2024-12-20T00:00:00\",\"2024-12-21T00:00:00\",\"2024-12-22T00:00:00\",\"2024-12-23T00:00:00\",\"2024-12-24T00:00:00\",\"2024-12-25T00:00:00\",\"2024-12-26T00:00:00\",\"2024-12-27T00:00:00\",\"2024-12-28T00:00:00\",\"2024-12-29T00:00:00\",\"2024-12-30T00:00:00\",\"2024-12-31T00:00:00\",\"2025-01-01T00:00:00\",\"2025-01-02T00:00:00\",\"2025-01-03T00:00:00\",\"2025-01-04T00:00:00\",\"2025-01-05T00:00:00\",\"2025-01-06T00:00:00\",\"2025-01-07T00:00:00\",\"2025-01-08T00:00:00\",\"2025-01-09T00:00:00\",\"2025-01-10T00:00:00\",\"2025-01-11T00:00:00\",\"2025-01-12T00:00:00\",\"2025-01-13T00:00:00\",\"2025-01-14T00:00:00\",\"2025-01-15T00:00:00\",\"2025-01-16T00:00:00\",\"2025-01-17T00:00:00\",\"2025-01-18T00:00:00\",\"2025-01-19T00:00:00\",\"2025-01-20T00:00:00\",\"2025-01-21T00:00:00\",\"2025-01-22T00:00:00\",\"2025-01-23T00:00:00\",\"2025-01-24T00:00:00\",\"2025-01-25T00:00:00\",\"2025-01-26T00:00:00\",\"2025-01-27T00:00:00\",\"2025-01-28T00:00:00\",\"2025-01-29T00:00:00\",\"2025-01-30T00:00:00\",\"2025-01-31T00:00:00\",\"2025-02-01T00:00:00\",\"2025-02-02T00:00:00\",\"2025-02-03T00:00:00\",\"2025-02-04T00:00:00\",\"2025-02-05T00:00:00\",\"2025-02-06T00:00:00\",\"2025-02-07T00:00:00\",\"2025-02-08T00:00:00\",\"2025-02-09T00:00:00\",\"2025-02-10T00:00:00\",\"2025-02-11T00:00:00\",\"2025-02-12T00:00:00\",\"2025-02-13T00:00:00\",\"2025-02-14T00:00:00\",\"2025-02-15T00:00:00\",\"2025-02-16T00:00:00\",\"2025-02-17T00:00:00\",\"2025-02-18T00:00:00\",\"2025-02-19T00:00:00\",\"2025-02-20T00:00:00\",\"2025-02-21T00:00:00\",\"2025-02-22T00:00:00\",\"2025-02-23T00:00:00\",\"2025-02-24T00:00:00\",\"2025-02-25T00:00:00\",\"2025-02-26T00:00:00\",\"2025-02-27T00:00:00\",\"2025-02-28T00:00:00\",\"2025-03-01T00:00:00\",\"2025-03-02T00:00:00\",\"2025-03-03T00:00:00\",\"2025-03-04T00:00:00\",\"2025-03-05T00:00:00\",\"2025-03-06T00:00:00\",\"2025-03-07T00:00:00\",\"2025-03-08T00:00:00\",\"2025-03-09T00:00:00\",\"2025-03-10T00:00:00\",\"2025-03-11T00:00:00\",\"2025-03-12T00:00:00\",\"2025-03-13T00:00:00\",\"2025-03-14T00:00:00\",\"2025-03-15T00:00:00\",\"2025-03-16T00:00:00\",\"2025-03-17T00:00:00\",\"2025-03-18T00:00:00\",\"2025-03-19T00:00:00\",\"2025-03-20T00:00:00\",\"2025-03-21T00:00:00\",\"2025-03-22T00:00:00\",\"2025-03-23T00:00:00\",\"2025-03-24T00:00:00\",\"2025-03-25T00:00:00\",\"2025-03-26T00:00:00\",\"2025-03-27T00:00:00\",\"2025-03-28T00:00:00\",\"2025-03-29T00:00:00\",\"2025-03-30T00:00:00\",\"2025-03-31T00:00:00\",\"2025-04-01T00:00:00\",\"2025-04-02T00:00:00\",\"2025-04-03T00:00:00\",\"2025-04-04T00:00:00\",\"2025-04-05T00:00:00\",\"2025-04-06T00:00:00\",\"2025-04-07T00:00:00\",\"2025-04-08T00:00:00\",\"2025-04-09T00:00:00\",\"2025-04-10T00:00:00\",\"2025-04-11T00:00:00\"],\"y\":[0.986952636282395,0.9715817694369973,0.9684539767649688,0.9600536193029491,0.9570151921358355,0.0,0.9596067917783736,0.964343163538874,0.0,0.9890080428954424,0.9681858802502233,0.0,0.0,0.0,0.9783735478105451,0.9717605004468275,0.9723860589812333,0.9717605004468275,0.9738159070598748,0.0,0.0,0.9723860589812333,0.9697050938337801,0.9725647899910635,0.9692582663092046,0.9697944593386952,0.0,0.0,0.9680965147453082,0.968722073279714,0.9665773011617514,0.9782841823056301,0.9637176050044683,0.0,0.9622877569258266,0.9584450402144772,0.0,0.9601429848078642,0.974798927613941,0.9893655049151028,0.9870420017873102,0.0,0.9380697050938338,0.9570151921358355,0.9584450402144772,0.9625558534405719,0.9628239499553172,0.0,0.0,0.9630920464700626,0.9654155495978552,0.9666666666666668,0.9672028596961573,0.9667560321715819,0.0,0.0,0.9693476318141198,0.9690795352993745,0.9683646112600536,0.9654155495978552,0.9759606791778375,0.0,0.0,0.9682752457551385,0.9613941018766757,0.9742627345844505,0.9638963360142985,0.0,0.9868632707774799,0.9857908847184986,0.0,0.939142091152815,0.978194816800715,0.9723860589812333,0.9729222520107239,0.0,0.0,0.9714924039320821,0.9709562109025917,0.9756925826630921,0.9705093833780162,0.9655942806076855,0.0,0.0,0.9683646112600536,0.967828418230563,0.9674709562109026,0.9639857015192136,0.9645218945487042,0.0,0.0,0.9779267202859697,0.0,0.9699731903485254,0.9682752457551385,0.0,0.9721179624664881,0.966041108132261,0.0,0.990348525469169,0.9808757819481679,0.9720285969615727,0.9392314566577301,0.0,0.0,0.9492403932082216,0.9487935656836461,0.9536193029490616,0.9511170688114388,0.9521000893655048,0.0,0.0,0.9521000893655048,0.9561215370866846,0.9559428060768544,0.9588025022341375,0.9554959785522787,0.0,0.0,0.9579088471849867,0.953083109919571,0.9777479892761395,0.959874888293119,0.9700625558534405,0.9682752457551385,0.0,0.9712243074173369,0.9683646112600536,0.9787310098302056,0.9928507596067918,0.0,0.9767649687220733,0.9460232350312779,0.9640750670241287,0.9667560321715819,0.9724754244861484,0.9709562109025917,0.9714030384271671,0.0,0.0,0.9700625558534405,0.9699731903485254,0.9670241286863271,0.9663092046470062,0.9691689008042895,0.0,0.0,0.9703306523681859,0.9700625558534405,0.96514745308311,0.9680071492403931,0.9688114387846292,0.0,0.9610366398570152,0.9738159070598748,0.0,0.9622877569258266,0.9730116175156389,0.0,0.9767649687220733,0.9904378909740841,0.0,0.9587131367292225,0.944414655942806,0.9593386952636281,0.9562109025915997,0.0,0.0,0.959249329758713,0.9596067917783736,0.959964253798034,0.9562109025915997,0.9554066130473636,0.0,0.0,0.9590705987488829,0.9573726541554959,0.9543342269883826,0.9563896336014299,0.9573726541554959,0.0,0.0,0.0,0.9625558534405719,0.978194816800715,0.0,0.9608579088471849,0.96514745308311,0.0,0.9759606791778375,0.0,0.9806970509383377,0.9655049151027704,0.0,0.0,0.0,0.9735478105451295,0.9738159070598748,0.9773905272564789,0.9737265415549597,0.9720285969615727,0.0,0.0,0.973100983020554,0.9697050938337801,0.968632707774799,0.9690795352993745,0.9702412868632709,0.0,0.0,0.9668453976764969,0.9664879356568363,0.9673815907059875,0.9784629133154602,0.9630026809651474,0.9773905272564789,0.9703306523681859,0.9602323503127793,0.0,0.9671134941912423,0.9756925826630921,0.0,0.9812332439678285,0.9578194816800716,0.0,0.9823056300268096,0.9840929401251117,0.9804289544235925,0.9855227882037534,0.0,0.0,0.9906166219839142,0.9946380697050938,0.9964253798033958,0.9930294906166219,1.0,0.0,0.0,0.9974084003574621,0.9994638069705094,0.9937444146559429,0.9899016979445933,0.9872207327971403,0.0,0.9768543342269883,0.9635388739946381,0.0,0.9700625558534405,0.963449508489723,0.0,0.9662198391420911,0.9755138516532618,0.9860589812332439,0.9775692582663092,0.0,0.9429848078641644,0.9898123324396783,0.0,0.0,0.9948168007149241,0.993118856121537,0.9935656836461125,0.9974084003574621,0.9974977658623772,0.0,0.0,0.9930294906166219,0.999106344950849,0.9948168007149241,0.9987488829311885,0.9975871313672923,0.0,0.0,0.9949955317247542,0.9804289544235925,0.0,0.0,0.959964253798034,0.9623771224307417,0.9618409294012511,0.967828418230563,0.0,0.9847184986595175,0.9772117962466488,0.0,0.9406613047363718,0.0,0.9748882931188562,0.9731903485254692,0.9705987488829313,0.9679177837354781,0.9710455764075067,0.0,0.0,0.9664879356568363,0.9648793565683647,0.963449508489723,0.9675603217158177,0.9645218945487042,0.0,0.0,0.9662198391420911,0.9667560321715819,0.9700625558534405,0.9725647899910635,0.9803395889186773,0.0,0.9764075067024129,0.9583556747095622,0.0,0.9596961572832887,0.9709562109025917,0.0,0.9840035746201966,0.9773905272564789,0.9521000893655048,0.9378016085790886,0.9439678284182306,0.9410187667560321,0.9420017873100983,0.0,0.0,0.9471849865951744,0.946827524575514,0.9421805183199286,0.9359249329758712,0.9309204647006256,0.0,0.0,0.9378016085790886,0.9370866845397676,0.9440571939231457,0.9430741733690795,0.9450402144772119,0.0,0.9784629133154602,0.9625558534405719,0.9762287756925827,0.9510277033065238,0.0,0.9657730116175156,0.9746201966041108,0.9768543342269883,0.989633601429848,0.0,0.9493297587131367,0.9353887399463807,0.9385165326184093,0.0,0.0,0.9392314566577301,0.9373547810545129,0.9251117068811437,0.9260053619302949,0.9319928507596067,0.0,0.0,0.9298480786416443,0.9291331546023236,0.9297587131367292,0.9313672922252011,0.9318141197497766,0.0,0.0,0.9300268096514746,0.9252010723860591,0.9253798033958893,0.0,0.0,0.9645218945487042,0.0,0.0,0.0,0.0,0.0,0.0,0.0,0.0,0.9154602323503127,0.9210902591599642,0.9194816800714923,0.9202859696157284,0.9178731009830204,0.0,0.0,0.9306523681858804,0.9319928507596067,0.9300268096514746,0.9307417336907955,0.9377122430741733,0.0,0.0,0.9375335120643431,0.9319034852546917,0.9311885612153709,0.9285075960679178,0.9260053619302949,0.91733690795353,0.0,0.0,0.9700625558534405,0.0,0.0,0.0,0.0,0.0,0.0,0.0,0.0,0.9351206434316354,0.9375335120643431,0.0,0.0,0.9367292225201073,0.9334226988382485,0.931277926720286,0.9383378016085792,0.9345844504021449,0.0,0.0,0.9352993744414656,0.9394995531724754,0.9368185880250224,0.9291331546023236,0.9271671134941913,0.9211796246648793,0.924396782841823,0.9370866845397676,0.9874888293118856,0.0,0.0,0.0,0.0,0.0,0.0,0.0,0.0,0.9697944593386952,0.9722073279714031,0.0,0.0,0.9759606791778375,0.9779267202859697,0.9741733690795353,0.9697050938337801,0.9663985701519213,0.0,0.0,0.96514745308311,0.964343163538874,0.9608579088471849,0.9652368185880251,0.9675603217158177,0.0,0.0,0.9666666666666668,0.0,0.9273458445040215,0.9494191242180519,0.9789991063449508,0.0,0.0,0.0,0.0,0.0,0.0,0.0],\"type\":\"scatter\"},{\"marker\":{\"color\":\"yellow\",\"size\":8},\"mode\":\"markers\",\"name\":\"Subida Points\",\"x\":[\"2024-03-09T00:00:00\",\"2024-04-09T00:00:00\",\"2024-04-15T00:00:00\",\"2024-05-11T00:00:00\",\"2024-06-08T00:00:00\",\"2024-07-08T00:00:00\",\"2024-07-10T00:00:00\",\"2024-08-10T00:00:00\",\"2024-10-09T00:00:00\",\"2024-10-14T00:00:00\",\"2024-10-21T00:00:00\",\"2024-10-28T00:00:00\",\"2025-01-04T00:00:00\",\"2025-01-13T00:00:00\",\"2025-02-04T00:00:00\",\"2025-02-24T00:00:00\",\"2025-03-13T00:00:00\",\"2025-03-17T00:00:00\",\"2025-03-31T00:00:00\"],\"y\":[0.8364690788546681,0.8316264099730798,0.7925661695453232,0.8779988579310755,0.7705628026668051,0.786025229340789,0.8689735470139348,0.8702491045141387,0.8308551426473751,0.8788665336724932,0.8781397625386561,0.882804446652774,0.9861097721053373,0.8668006496444014,0.9900551011175961,0.9650408252560385,0.9508317079863249,0.9750005562023984,0.9741254644290026],\"type\":\"scatter\"}],                        {\"template\":{\"data\":{\"barpolar\":[{\"marker\":{\"line\":{\"color\":\"white\",\"width\":0.5},\"pattern\":{\"fillmode\":\"overlay\",\"size\":10,\"solidity\":0.2}},\"type\":\"barpolar\"}],\"bar\":[{\"error_x\":{\"color\":\"#2a3f5f\"},\"error_y\":{\"color\":\"#2a3f5f\"},\"marker\":{\"line\":{\"color\":\"white\",\"width\":0.5},\"pattern\":{\"fillmode\":\"overlay\",\"size\":10,\"solidity\":0.2}},\"type\":\"bar\"}],\"carpet\":[{\"aaxis\":{\"endlinecolor\":\"#2a3f5f\",\"gridcolor\":\"#C8D4E3\",\"linecolor\":\"#C8D4E3\",\"minorgridcolor\":\"#C8D4E3\",\"startlinecolor\":\"#2a3f5f\"},\"baxis\":{\"endlinecolor\":\"#2a3f5f\",\"gridcolor\":\"#C8D4E3\",\"linecolor\":\"#C8D4E3\",\"minorgridcolor\":\"#C8D4E3\",\"startlinecolor\":\"#2a3f5f\"},\"type\":\"carpet\"}],\"choropleth\":[{\"colorbar\":{\"outlinewidth\":0,\"ticks\":\"\"},\"type\":\"choropleth\"}],\"contourcarpet\":[{\"colorbar\":{\"outlinewidth\":0,\"ticks\":\"\"},\"type\":\"contourcarpet\"}],\"contour\":[{\"colorbar\":{\"outlinewidth\":0,\"ticks\":\"\"},\"colorscale\":[[0.0,\"#0d0887\"],[0.1111111111111111,\"#46039f\"],[0.2222222222222222,\"#7201a8\"],[0.3333333333333333,\"#9c179e\"],[0.4444444444444444,\"#bd3786\"],[0.5555555555555556,\"#d8576b\"],[0.6666666666666666,\"#ed7953\"],[0.7777777777777778,\"#fb9f3a\"],[0.8888888888888888,\"#fdca26\"],[1.0,\"#f0f921\"]],\"type\":\"contour\"}],\"heatmapgl\":[{\"colorbar\":{\"outlinewidth\":0,\"ticks\":\"\"},\"colorscale\":[[0.0,\"#0d0887\"],[0.1111111111111111,\"#46039f\"],[0.2222222222222222,\"#7201a8\"],[0.3333333333333333,\"#9c179e\"],[0.4444444444444444,\"#bd3786\"],[0.5555555555555556,\"#d8576b\"],[0.6666666666666666,\"#ed7953\"],[0.7777777777777778,\"#fb9f3a\"],[0.8888888888888888,\"#fdca26\"],[1.0,\"#f0f921\"]],\"type\":\"heatmapgl\"}],\"heatmap\":[{\"colorbar\":{\"outlinewidth\":0,\"ticks\":\"\"},\"colorscale\":[[0.0,\"#0d0887\"],[0.1111111111111111,\"#46039f\"],[0.2222222222222222,\"#7201a8\"],[0.3333333333333333,\"#9c179e\"],[0.4444444444444444,\"#bd3786\"],[0.5555555555555556,\"#d8576b\"],[0.6666666666666666,\"#ed7953\"],[0.7777777777777778,\"#fb9f3a\"],[0.8888888888888888,\"#fdca26\"],[1.0,\"#f0f921\"]],\"type\":\"heatmap\"}],\"histogram2dcontour\":[{\"colorbar\":{\"outlinewidth\":0,\"ticks\":\"\"},\"colorscale\":[[0.0,\"#0d0887\"],[0.1111111111111111,\"#46039f\"],[0.2222222222222222,\"#7201a8\"],[0.3333333333333333,\"#9c179e\"],[0.4444444444444444,\"#bd3786\"],[0.5555555555555556,\"#d8576b\"],[0.6666666666666666,\"#ed7953\"],[0.7777777777777778,\"#fb9f3a\"],[0.8888888888888888,\"#fdca26\"],[1.0,\"#f0f921\"]],\"type\":\"histogram2dcontour\"}],\"histogram2d\":[{\"colorbar\":{\"outlinewidth\":0,\"ticks\":\"\"},\"colorscale\":[[0.0,\"#0d0887\"],[0.1111111111111111,\"#46039f\"],[0.2222222222222222,\"#7201a8\"],[0.3333333333333333,\"#9c179e\"],[0.4444444444444444,\"#bd3786\"],[0.5555555555555556,\"#d8576b\"],[0.6666666666666666,\"#ed7953\"],[0.7777777777777778,\"#fb9f3a\"],[0.8888888888888888,\"#fdca26\"],[1.0,\"#f0f921\"]],\"type\":\"histogram2d\"}],\"histogram\":[{\"marker\":{\"pattern\":{\"fillmode\":\"overlay\",\"size\":10,\"solidity\":0.2}},\"type\":\"histogram\"}],\"mesh3d\":[{\"colorbar\":{\"outlinewidth\":0,\"ticks\":\"\"},\"type\":\"mesh3d\"}],\"parcoords\":[{\"line\":{\"colorbar\":{\"outlinewidth\":0,\"ticks\":\"\"}},\"type\":\"parcoords\"}],\"pie\":[{\"automargin\":true,\"type\":\"pie\"}],\"scatter3d\":[{\"line\":{\"colorbar\":{\"outlinewidth\":0,\"ticks\":\"\"}},\"marker\":{\"colorbar\":{\"outlinewidth\":0,\"ticks\":\"\"}},\"type\":\"scatter3d\"}],\"scattercarpet\":[{\"marker\":{\"colorbar\":{\"outlinewidth\":0,\"ticks\":\"\"}},\"type\":\"scattercarpet\"}],\"scattergeo\":[{\"marker\":{\"colorbar\":{\"outlinewidth\":0,\"ticks\":\"\"}},\"type\":\"scattergeo\"}],\"scattergl\":[{\"marker\":{\"colorbar\":{\"outlinewidth\":0,\"ticks\":\"\"}},\"type\":\"scattergl\"}],\"scattermapbox\":[{\"marker\":{\"colorbar\":{\"outlinewidth\":0,\"ticks\":\"\"}},\"type\":\"scattermapbox\"}],\"scatterpolargl\":[{\"marker\":{\"colorbar\":{\"outlinewidth\":0,\"ticks\":\"\"}},\"type\":\"scatterpolargl\"}],\"scatterpolar\":[{\"marker\":{\"colorbar\":{\"outlinewidth\":0,\"ticks\":\"\"}},\"type\":\"scatterpolar\"}],\"scatter\":[{\"fillpattern\":{\"fillmode\":\"overlay\",\"size\":10,\"solidity\":0.2},\"type\":\"scatter\"}],\"scatterternary\":[{\"marker\":{\"colorbar\":{\"outlinewidth\":0,\"ticks\":\"\"}},\"type\":\"scatterternary\"}],\"surface\":[{\"colorbar\":{\"outlinewidth\":0,\"ticks\":\"\"},\"colorscale\":[[0.0,\"#0d0887\"],[0.1111111111111111,\"#46039f\"],[0.2222222222222222,\"#7201a8\"],[0.3333333333333333,\"#9c179e\"],[0.4444444444444444,\"#bd3786\"],[0.5555555555555556,\"#d8576b\"],[0.6666666666666666,\"#ed7953\"],[0.7777777777777778,\"#fb9f3a\"],[0.8888888888888888,\"#fdca26\"],[1.0,\"#f0f921\"]],\"type\":\"surface\"}],\"table\":[{\"cells\":{\"fill\":{\"color\":\"#EBF0F8\"},\"line\":{\"color\":\"white\"}},\"header\":{\"fill\":{\"color\":\"#C8D4E3\"},\"line\":{\"color\":\"white\"}},\"type\":\"table\"}]},\"layout\":{\"annotationdefaults\":{\"arrowcolor\":\"#2a3f5f\",\"arrowhead\":0,\"arrowwidth\":1},\"autotypenumbers\":\"strict\",\"coloraxis\":{\"colorbar\":{\"outlinewidth\":0,\"ticks\":\"\"}},\"colorscale\":{\"diverging\":[[0,\"#8e0152\"],[0.1,\"#c51b7d\"],[0.2,\"#de77ae\"],[0.3,\"#f1b6da\"],[0.4,\"#fde0ef\"],[0.5,\"#f7f7f7\"],[0.6,\"#e6f5d0\"],[0.7,\"#b8e186\"],[0.8,\"#7fbc41\"],[0.9,\"#4d9221\"],[1,\"#276419\"]],\"sequential\":[[0.0,\"#0d0887\"],[0.1111111111111111,\"#46039f\"],[0.2222222222222222,\"#7201a8\"],[0.3333333333333333,\"#9c179e\"],[0.4444444444444444,\"#bd3786\"],[0.5555555555555556,\"#d8576b\"],[0.6666666666666666,\"#ed7953\"],[0.7777777777777778,\"#fb9f3a\"],[0.8888888888888888,\"#fdca26\"],[1.0,\"#f0f921\"]],\"sequentialminus\":[[0.0,\"#0d0887\"],[0.1111111111111111,\"#46039f\"],[0.2222222222222222,\"#7201a8\"],[0.3333333333333333,\"#9c179e\"],[0.4444444444444444,\"#bd3786\"],[0.5555555555555556,\"#d8576b\"],[0.6666666666666666,\"#ed7953\"],[0.7777777777777778,\"#fb9f3a\"],[0.8888888888888888,\"#fdca26\"],[1.0,\"#f0f921\"]]},\"colorway\":[\"#636efa\",\"#EF553B\",\"#00cc96\",\"#ab63fa\",\"#FFA15A\",\"#19d3f3\",\"#FF6692\",\"#B6E880\",\"#FF97FF\",\"#FECB52\"],\"font\":{\"color\":\"#2a3f5f\"},\"geo\":{\"bgcolor\":\"white\",\"lakecolor\":\"white\",\"landcolor\":\"white\",\"showlakes\":true,\"showland\":true,\"subunitcolor\":\"#C8D4E3\"},\"hoverlabel\":{\"align\":\"left\"},\"hovermode\":\"closest\",\"mapbox\":{\"style\":\"light\"},\"paper_bgcolor\":\"white\",\"plot_bgcolor\":\"white\",\"polar\":{\"angularaxis\":{\"gridcolor\":\"#EBF0F8\",\"linecolor\":\"#EBF0F8\",\"ticks\":\"\"},\"bgcolor\":\"white\",\"radialaxis\":{\"gridcolor\":\"#EBF0F8\",\"linecolor\":\"#EBF0F8\",\"ticks\":\"\"}},\"scene\":{\"xaxis\":{\"backgroundcolor\":\"white\",\"gridcolor\":\"#DFE8F3\",\"gridwidth\":2,\"linecolor\":\"#EBF0F8\",\"showbackground\":true,\"ticks\":\"\",\"zerolinecolor\":\"#EBF0F8\"},\"yaxis\":{\"backgroundcolor\":\"white\",\"gridcolor\":\"#DFE8F3\",\"gridwidth\":2,\"linecolor\":\"#EBF0F8\",\"showbackground\":true,\"ticks\":\"\",\"zerolinecolor\":\"#EBF0F8\"},\"zaxis\":{\"backgroundcolor\":\"white\",\"gridcolor\":\"#DFE8F3\",\"gridwidth\":2,\"linecolor\":\"#EBF0F8\",\"showbackground\":true,\"ticks\":\"\",\"zerolinecolor\":\"#EBF0F8\"}},\"shapedefaults\":{\"line\":{\"color\":\"#2a3f5f\"}},\"ternary\":{\"aaxis\":{\"gridcolor\":\"#DFE8F3\",\"linecolor\":\"#A2B1C6\",\"ticks\":\"\"},\"baxis\":{\"gridcolor\":\"#DFE8F3\",\"linecolor\":\"#A2B1C6\",\"ticks\":\"\"},\"bgcolor\":\"white\",\"caxis\":{\"gridcolor\":\"#DFE8F3\",\"linecolor\":\"#A2B1C6\",\"ticks\":\"\"}},\"title\":{\"x\":0.05},\"xaxis\":{\"automargin\":true,\"gridcolor\":\"#EBF0F8\",\"linecolor\":\"#EBF0F8\",\"ticks\":\"\",\"title\":{\"standoff\":15},\"zerolinecolor\":\"#EBF0F8\",\"zerolinewidth\":2},\"yaxis\":{\"automargin\":true,\"gridcolor\":\"#EBF0F8\",\"linecolor\":\"#EBF0F8\",\"ticks\":\"\",\"title\":{\"standoff\":15},\"zerolinecolor\":\"#EBF0F8\",\"zerolinewidth\":2}}},\"title\":{\"text\":\"IBEX35 vs Petroleo_WTI vs VIX vs EUR_USD\"},\"xaxis\":{\"title\":{\"text\":\"Fecha\"}},\"yaxis\":{\"title\":{\"text\":\"Valor\"}},\"hovermode\":\"x unified\"},                        {\"responsive\": true}                    ).then(function(){\n",
              "                            \n",
              "var gd = document.getElementById('fae623ab-3f2f-42de-adbc-35aaa93d3be7');\n",
              "var x = new MutationObserver(function (mutations, observer) {{\n",
              "        var display = window.getComputedStyle(gd).display;\n",
              "        if (!display || display === 'none') {{\n",
              "            console.log([gd, 'removed!']);\n",
              "            Plotly.purge(gd);\n",
              "            observer.disconnect();\n",
              "        }}\n",
              "}});\n",
              "\n",
              "// Listen for the removal of the full notebook cells\n",
              "var notebookContainer = gd.closest('#notebook-container');\n",
              "if (notebookContainer) {{\n",
              "    x.observe(notebookContainer, {childList: true});\n",
              "}}\n",
              "\n",
              "// Listen for the clearing of the current output cell\n",
              "var outputEl = gd.closest('.output');\n",
              "if (outputEl) {{\n",
              "    x.observe(outputEl, {childList: true});\n",
              "}}\n",
              "\n",
              "                        })                };                            </script>        </div>\n",
              "</body>\n",
              "</html>"
            ]
          },
          "metadata": {}
        }
      ]
    },
    {
      "cell_type": "markdown",
      "source": [
        "Yo concluiría que el índice de petroleo_WTI puede ser un indice adelantado del IBEX 35.\n",
        "\n",
        "¿Cómo puedo calcular el tiempo de adelanto?\n",
        "¿Habrá un factor de correlación?\n",
        "¿Esto se podría hacer con un modelo?.\n",
        "Problemas con los ejes, tienen diferente longitud, hay que ajustar siempre al eje con la misma longitud."
      ],
      "metadata": {
        "id": "MjWnyQB6y3-x"
      }
    },
    {
      "cell_type": "code",
      "source": [
        "# Assuming df_to_plot is already defined and contains your data\n",
        "\n",
        "# Set the window size for the rolling correlation\n",
        "window_size = 30  # You can adjust this to your needs\n",
        "\n",
        "# Calculate the rolling correlation\n",
        "rolling_correlation = df_to_plot['IBEX35'].rolling(window=window_size).corr(df_to_plot['Petroleo_WTI'])\n",
        "\n",
        "# Create a new DataFrame for the rolling correlation\n",
        "df_correlation = pd.DataFrame({'Correlation': rolling_correlation})\n",
        "df_correlation = df_correlation.reindex(df_to_plot.index, method='pad')\n",
        "\n",
        "# You can now plot or analyze df_correlation"
      ],
      "metadata": {
        "id": "UKWgPUystIuA"
      },
      "execution_count": 63,
      "outputs": []
    },
    {
      "cell_type": "code",
      "source": [
        "# Add trace for the correlation\n",
        "fig.add_trace(go.Scatter(x=df_correlation.index, y=df_correlation['Correlation'],\n",
        "                         mode='lines', name='Correlation', yaxis='y2'))\n",
        "\n",
        "# Update layout for the second y-axis\n",
        "fig.update_layout(\n",
        "    yaxis2=dict(\n",
        "        title='Correlation',\n",
        "        overlaying='y',\n",
        "        side='right',\n",
        "        range=[-1, 1]  # Set range for correlation\n",
        "    ),\n",
        "    title='IBEX35, Petroleo_WTI, and Correlation',\n",
        "    xaxis_title='Fecha',\n",
        "    yaxis_title='Valor',\n",
        "    hovermode='x unified',\n",
        "    template='plotly_white'\n",
        ")\n",
        "\n",
        "# Show the plot"
      ],
      "metadata": {
        "colab": {
          "base_uri": "https://localhost:8080/",
          "height": 542
        },
        "id": "yw1lAIfi2ZoZ",
        "outputId": "61e79434-6775-484f-8223-0a361db5c12a"
      },
      "execution_count": 64,
      "outputs": [
        {
          "output_type": "display_data",
          "data": {
            "text/html": [
              "<html>\n",
              "<head><meta charset=\"utf-8\" /></head>\n",
              "<body>\n",
              "    <div>            <script src=\"https://cdnjs.cloudflare.com/ajax/libs/mathjax/2.7.5/MathJax.js?config=TeX-AMS-MML_SVG\"></script><script type=\"text/javascript\">if (window.MathJax && window.MathJax.Hub && window.MathJax.Hub.Config) {window.MathJax.Hub.Config({SVG: {font: \"STIX-Web\"}});}</script>                <script type=\"text/javascript\">window.PlotlyConfig = {MathJaxConfig: 'local'};</script>\n",
              "        <script charset=\"utf-8\" src=\"https://cdn.plot.ly/plotly-2.35.2.min.js\"></script>                <div id=\"2e557843-6c12-4b0d-aeb4-acc77f0b5cb8\" class=\"plotly-graph-div\" style=\"height:525px; width:100%;\"></div>            <script type=\"text/javascript\">                                    window.PLOTLYENV=window.PLOTLYENV || {};                                    if (document.getElementById(\"2e557843-6c12-4b0d-aeb4-acc77f0b5cb8\")) {                    Plotly.newPlot(                        \"2e557843-6c12-4b0d-aeb4-acc77f0b5cb8\",                        [{\"mode\":\"lines\",\"name\":\"IBEX35\",\"x\":[\"2024-01-01T00:00:00\",\"2024-01-02T00:00:00\",\"2024-01-03T00:00:00\",\"2024-01-04T00:00:00\",\"2024-01-05T00:00:00\",\"2024-01-06T00:00:00\",\"2024-01-07T00:00:00\",\"2024-01-08T00:00:00\",\"2024-01-09T00:00:00\",\"2024-01-10T00:00:00\",\"2024-01-11T00:00:00\",\"2024-01-12T00:00:00\",\"2024-01-13T00:00:00\",\"2024-01-14T00:00:00\",\"2024-01-15T00:00:00\",\"2024-01-16T00:00:00\",\"2024-01-17T00:00:00\",\"2024-01-18T00:00:00\",\"2024-01-19T00:00:00\",\"2024-01-20T00:00:00\",\"2024-01-21T00:00:00\",\"2024-01-22T00:00:00\",\"2024-01-23T00:00:00\",\"2024-01-24T00:00:00\",\"2024-01-25T00:00:00\",\"2024-01-26T00:00:00\",\"2024-01-27T00:00:00\",\"2024-01-28T00:00:00\",\"2024-01-29T00:00:00\",\"2024-01-30T00:00:00\",\"2024-01-31T00:00:00\",\"2024-02-01T00:00:00\",\"2024-02-02T00:00:00\",\"2024-02-03T00:00:00\",\"2024-02-04T00:00:00\",\"2024-02-05T00:00:00\",\"2024-02-06T00:00:00\",\"2024-02-07T00:00:00\",\"2024-02-08T00:00:00\",\"2024-02-09T00:00:00\",\"2024-02-10T00:00:00\",\"2024-02-11T00:00:00\",\"2024-02-12T00:00:00\",\"2024-02-13T00:00:00\",\"2024-02-14T00:00:00\",\"2024-02-15T00:00:00\",\"2024-02-16T00:00:00\",\"2024-02-17T00:00:00\",\"2024-02-18T00:00:00\",\"2024-02-19T00:00:00\",\"2024-02-20T00:00:00\",\"2024-02-21T00:00:00\",\"2024-02-22T00:00:00\",\"2024-02-23T00:00:00\",\"2024-02-24T00:00:00\",\"2024-02-25T00:00:00\",\"2024-02-26T00:00:00\",\"2024-02-27T00:00:00\",\"2024-02-28T00:00:00\",\"2024-02-29T00:00:00\",\"2024-03-01T00:00:00\",\"2024-03-02T00:00:00\",\"2024-03-03T00:00:00\",\"2024-03-04T00:00:00\",\"2024-03-05T00:00:00\",\"2024-03-06T00:00:00\",\"2024-03-07T00:00:00\",\"2024-03-08T00:00:00\",\"2024-03-09T00:00:00\",\"2024-03-10T00:00:00\",\"2024-03-11T00:00:00\",\"2024-03-12T00:00:00\",\"2024-03-13T00:00:00\",\"2024-03-14T00:00:00\",\"2024-03-15T00:00:00\",\"2024-03-16T00:00:00\",\"2024-03-17T00:00:00\",\"2024-03-18T00:00:00\",\"2024-03-19T00:00:00\",\"2024-03-20T00:00:00\",\"2024-03-21T00:00:00\",\"2024-03-22T00:00:00\",\"2024-03-23T00:00:00\",\"2024-03-24T00:00:00\",\"2024-03-25T00:00:00\",\"2024-03-26T00:00:00\",\"2024-03-27T00:00:00\",\"2024-03-28T00:00:00\",\"2024-03-29T00:00:00\",\"2024-03-30T00:00:00\",\"2024-03-31T00:00:00\",\"2024-04-01T00:00:00\",\"2024-04-02T00:00:00\",\"2024-04-03T00:00:00\",\"2024-04-04T00:00:00\",\"2024-04-05T00:00:00\",\"2024-04-06T00:00:00\",\"2024-04-07T00:00:00\",\"2024-04-08T00:00:00\",\"2024-04-09T00:00:00\",\"2024-04-10T00:00:00\",\"2024-04-11T00:00:00\",\"2024-04-12T00:00:00\",\"2024-04-13T00:00:00\",\"2024-04-14T00:00:00\",\"2024-04-15T00:00:00\",\"2024-04-16T00:00:00\",\"2024-04-17T00:00:00\",\"2024-04-18T00:00:00\",\"2024-04-19T00:00:00\",\"2024-04-20T00:00:00\",\"2024-04-21T00:00:00\",\"2024-04-22T00:00:00\",\"2024-04-23T00:00:00\",\"2024-04-24T00:00:00\",\"2024-04-25T00:00:00\",\"2024-04-26T00:00:00\",\"2024-04-27T00:00:00\",\"2024-04-28T00:00:00\",\"2024-04-29T00:00:00\",\"2024-04-30T00:00:00\",\"2024-05-01T00:00:00\",\"2024-05-02T00:00:00\",\"2024-05-03T00:00:00\",\"2024-05-04T00:00:00\",\"2024-05-05T00:00:00\",\"2024-05-06T00:00:00\",\"2024-05-07T00:00:00\",\"2024-05-08T00:00:00\",\"2024-05-09T00:00:00\",\"2024-05-10T00:00:00\",\"2024-05-11T00:00:00\",\"2024-05-12T00:00:00\",\"2024-05-13T00:00:00\",\"2024-05-14T00:00:00\",\"2024-05-15T00:00:00\",\"2024-05-16T00:00:00\",\"2024-05-17T00:00:00\",\"2024-05-18T00:00:00\",\"2024-05-19T00:00:00\",\"2024-05-20T00:00:00\",\"2024-05-21T00:00:00\",\"2024-05-22T00:00:00\",\"2024-05-23T00:00:00\",\"2024-05-24T00:00:00\",\"2024-05-25T00:00:00\",\"2024-05-26T00:00:00\",\"2024-05-27T00:00:00\",\"2024-05-28T00:00:00\",\"2024-05-29T00:00:00\",\"2024-05-30T00:00:00\",\"2024-05-31T00:00:00\",\"2024-06-01T00:00:00\",\"2024-06-02T00:00:00\",\"2024-06-03T00:00:00\",\"2024-06-04T00:00:00\",\"2024-06-05T00:00:00\",\"2024-06-06T00:00:00\",\"2024-06-07T00:00:00\",\"2024-06-08T00:00:00\",\"2024-06-09T00:00:00\",\"2024-06-10T00:00:00\",\"2024-06-11T00:00:00\",\"2024-06-12T00:00:00\",\"2024-06-13T00:00:00\",\"2024-06-14T00:00:00\",\"2024-06-15T00:00:00\",\"2024-06-16T00:00:00\",\"2024-06-17T00:00:00\",\"2024-06-18T00:00:00\",\"2024-06-19T00:00:00\",\"2024-06-20T00:00:00\",\"2024-06-21T00:00:00\",\"2024-06-22T00:00:00\",\"2024-06-23T00:00:00\",\"2024-06-24T00:00:00\",\"2024-06-25T00:00:00\",\"2024-06-26T00:00:00\",\"2024-06-27T00:00:00\",\"2024-06-28T00:00:00\",\"2024-06-29T00:00:00\",\"2024-06-30T00:00:00\",\"2024-07-01T00:00:00\",\"2024-07-02T00:00:00\",\"2024-07-03T00:00:00\",\"2024-07-04T00:00:00\",\"2024-07-05T00:00:00\",\"2024-07-06T00:00:00\",\"2024-07-07T00:00:00\",\"2024-07-08T00:00:00\",\"2024-07-09T00:00:00\",\"2024-07-10T00:00:00\",\"2024-07-11T00:00:00\",\"2024-07-12T00:00:00\",\"2024-07-13T00:00:00\",\"2024-07-14T00:00:00\",\"2024-07-15T00:00:00\",\"2024-07-16T00:00:00\",\"2024-07-17T00:00:00\",\"2024-07-18T00:00:00\",\"2024-07-19T00:00:00\",\"2024-07-20T00:00:00\",\"2024-07-21T00:00:00\",\"2024-07-22T00:00:00\",\"2024-07-23T00:00:00\",\"2024-07-24T00:00:00\",\"2024-07-25T00:00:00\",\"2024-07-26T00:00:00\",\"2024-07-27T00:00:00\",\"2024-07-28T00:00:00\",\"2024-07-29T00:00:00\",\"2024-07-30T00:00:00\",\"2024-07-31T00:00:00\",\"2024-08-01T00:00:00\",\"2024-08-02T00:00:00\",\"2024-08-03T00:00:00\",\"2024-08-04T00:00:00\",\"2024-08-05T00:00:00\",\"2024-08-06T00:00:00\",\"2024-08-07T00:00:00\",\"2024-08-08T00:00:00\",\"2024-08-09T00:00:00\",\"2024-08-10T00:00:00\",\"2024-08-11T00:00:00\",\"2024-08-12T00:00:00\",\"2024-08-13T00:00:00\",\"2024-08-14T00:00:00\",\"2024-08-15T00:00:00\",\"2024-08-16T00:00:00\",\"2024-08-17T00:00:00\",\"2024-08-18T00:00:00\",\"2024-08-19T00:00:00\",\"2024-08-20T00:00:00\",\"2024-08-21T00:00:00\",\"2024-08-22T00:00:00\",\"2024-08-23T00:00:00\",\"2024-08-24T00:00:00\",\"2024-08-25T00:00:00\",\"2024-08-26T00:00:00\",\"2024-08-27T00:00:00\",\"2024-08-28T00:00:00\",\"2024-08-29T00:00:00\",\"2024-08-30T00:00:00\",\"2024-08-31T00:00:00\",\"2024-09-01T00:00:00\",\"2024-09-02T00:00:00\",\"2024-09-03T00:00:00\",\"2024-09-04T00:00:00\",\"2024-09-05T00:00:00\",\"2024-09-06T00:00:00\",\"2024-09-07T00:00:00\",\"2024-09-08T00:00:00\",\"2024-09-09T00:00:00\",\"2024-09-10T00:00:00\",\"2024-09-11T00:00:00\",\"2024-09-12T00:00:00\",\"2024-09-13T00:00:00\",\"2024-09-14T00:00:00\",\"2024-09-15T00:00:00\",\"2024-09-16T00:00:00\",\"2024-09-17T00:00:00\",\"2024-09-18T00:00:00\",\"2024-09-19T00:00:00\",\"2024-09-20T00:00:00\",\"2024-09-21T00:00:00\",\"2024-09-22T00:00:00\",\"2024-09-23T00:00:00\",\"2024-09-24T00:00:00\",\"2024-09-25T00:00:00\",\"2024-09-26T00:00:00\",\"2024-09-27T00:00:00\",\"2024-09-28T00:00:00\",\"2024-09-29T00:00:00\",\"2024-09-30T00:00:00\",\"2024-10-01T00:00:00\",\"2024-10-02T00:00:00\",\"2024-10-03T00:00:00\",\"2024-10-04T00:00:00\",\"2024-10-05T00:00:00\",\"2024-10-06T00:00:00\",\"2024-10-07T00:00:00\",\"2024-10-08T00:00:00\",\"2024-10-09T00:00:00\",\"2024-10-10T00:00:00\",\"2024-10-11T00:00:00\",\"2024-10-12T00:00:00\",\"2024-10-13T00:00:00\",\"2024-10-14T00:00:00\",\"2024-10-15T00:00:00\",\"2024-10-16T00:00:00\",\"2024-10-17T00:00:00\",\"2024-10-18T00:00:00\",\"2024-10-19T00:00:00\",\"2024-10-20T00:00:00\",\"2024-10-21T00:00:00\",\"2024-10-22T00:00:00\",\"2024-10-23T00:00:00\",\"2024-10-24T00:00:00\",\"2024-10-25T00:00:00\",\"2024-10-26T00:00:00\",\"2024-10-27T00:00:00\",\"2024-10-28T00:00:00\",\"2024-10-29T00:00:00\",\"2024-10-30T00:00:00\",\"2024-10-31T00:00:00\",\"2024-11-01T00:00:00\",\"2024-11-02T00:00:00\",\"2024-11-03T00:00:00\",\"2024-11-04T00:00:00\",\"2024-11-05T00:00:00\",\"2024-11-06T00:00:00\",\"2024-11-07T00:00:00\",\"2024-11-08T00:00:00\",\"2024-11-09T00:00:00\",\"2024-11-10T00:00:00\",\"2024-11-11T00:00:00\",\"2024-11-12T00:00:00\",\"2024-11-13T00:00:00\",\"2024-11-14T00:00:00\",\"2024-11-15T00:00:00\",\"2024-11-16T00:00:00\",\"2024-11-17T00:00:00\",\"2024-11-18T00:00:00\",\"2024-11-19T00:00:00\",\"2024-11-20T00:00:00\",\"2024-11-21T00:00:00\",\"2024-11-22T00:00:00\",\"2024-11-23T00:00:00\",\"2024-11-24T00:00:00\",\"2024-11-25T00:00:00\",\"2024-11-26T00:00:00\",\"2024-11-27T00:00:00\",\"2024-11-28T00:00:00\",\"2024-11-29T00:00:00\",\"2024-11-30T00:00:00\",\"2024-12-01T00:00:00\",\"2024-12-02T00:00:00\",\"2024-12-03T00:00:00\",\"2024-12-04T00:00:00\",\"2024-12-05T00:00:00\",\"2024-12-06T00:00:00\",\"2024-12-07T00:00:00\",\"2024-12-08T00:00:00\",\"2024-12-09T00:00:00\",\"2024-12-10T00:00:00\",\"2024-12-11T00:00:00\",\"2024-12-12T00:00:00\",\"2024-12-13T00:00:00\",\"2024-12-14T00:00:00\",\"2024-12-15T00:00:00\",\"2024-12-16T00:00:00\",\"2024-12-17T00:00:00\",\"2024-12-18T00:00:00\",\"2024-12-19T00:00:00\",\"2024-12-20T00:00:00\",\"2024-12-21T00:00:00\",\"2024-12-22T00:00:00\",\"2024-12-23T00:00:00\",\"2024-12-24T00:00:00\",\"2024-12-25T00:00:00\",\"2024-12-26T00:00:00\",\"2024-12-27T00:00:00\",\"2024-12-28T00:00:00\",\"2024-12-29T00:00:00\",\"2024-12-30T00:00:00\",\"2024-12-31T00:00:00\",\"2025-01-01T00:00:00\",\"2025-01-02T00:00:00\",\"2025-01-03T00:00:00\",\"2025-01-04T00:00:00\",\"2025-01-05T00:00:00\",\"2025-01-06T00:00:00\",\"2025-01-07T00:00:00\",\"2025-01-08T00:00:00\",\"2025-01-09T00:00:00\",\"2025-01-10T00:00:00\",\"2025-01-11T00:00:00\",\"2025-01-12T00:00:00\",\"2025-01-13T00:00:00\",\"2025-01-14T00:00:00\",\"2025-01-15T00:00:00\",\"2025-01-16T00:00:00\",\"2025-01-17T00:00:00\",\"2025-01-18T00:00:00\",\"2025-01-19T00:00:00\",\"2025-01-20T00:00:00\",\"2025-01-21T00:00:00\",\"2025-01-22T00:00:00\",\"2025-01-23T00:00:00\",\"2025-01-24T00:00:00\",\"2025-01-25T00:00:00\",\"2025-01-26T00:00:00\",\"2025-01-27T00:00:00\",\"2025-01-28T00:00:00\",\"2025-01-29T00:00:00\",\"2025-01-30T00:00:00\",\"2025-01-31T00:00:00\",\"2025-02-01T00:00:00\",\"2025-02-02T00:00:00\",\"2025-02-03T00:00:00\",\"2025-02-04T00:00:00\",\"2025-02-05T00:00:00\",\"2025-02-06T00:00:00\",\"2025-02-07T00:00:00\",\"2025-02-08T00:00:00\",\"2025-02-09T00:00:00\",\"2025-02-10T00:00:00\",\"2025-02-11T00:00:00\",\"2025-02-12T00:00:00\",\"2025-02-13T00:00:00\",\"2025-02-14T00:00:00\",\"2025-02-15T00:00:00\",\"2025-02-16T00:00:00\",\"2025-02-17T00:00:00\",\"2025-02-18T00:00:00\",\"2025-02-19T00:00:00\",\"2025-02-20T00:00:00\",\"2025-02-21T00:00:00\",\"2025-02-22T00:00:00\",\"2025-02-23T00:00:00\",\"2025-02-24T00:00:00\",\"2025-02-25T00:00:00\",\"2025-02-26T00:00:00\",\"2025-02-27T00:00:00\",\"2025-02-28T00:00:00\",\"2025-03-01T00:00:00\",\"2025-03-02T00:00:00\",\"2025-03-03T00:00:00\",\"2025-03-04T00:00:00\",\"2025-03-05T00:00:00\",\"2025-03-06T00:00:00\",\"2025-03-07T00:00:00\",\"2025-03-08T00:00:00\",\"2025-03-09T00:00:00\",\"2025-03-10T00:00:00\",\"2025-03-11T00:00:00\",\"2025-03-12T00:00:00\",\"2025-03-13T00:00:00\",\"2025-03-14T00:00:00\",\"2025-03-15T00:00:00\",\"2025-03-16T00:00:00\",\"2025-03-17T00:00:00\",\"2025-03-18T00:00:00\",\"2025-03-19T00:00:00\",\"2025-03-20T00:00:00\",\"2025-03-21T00:00:00\",\"2025-03-22T00:00:00\",\"2025-03-23T00:00:00\",\"2025-03-24T00:00:00\",\"2025-03-25T00:00:00\",\"2025-03-26T00:00:00\",\"2025-03-27T00:00:00\",\"2025-03-28T00:00:00\",\"2025-03-29T00:00:00\",\"2025-03-30T00:00:00\",\"2025-03-31T00:00:00\",\"2025-04-01T00:00:00\",\"2025-04-02T00:00:00\",\"2025-04-03T00:00:00\",\"2025-04-04T00:00:00\",\"2025-04-05T00:00:00\",\"2025-04-06T00:00:00\",\"2025-04-07T00:00:00\",\"2025-04-08T00:00:00\",\"2025-04-09T00:00:00\",\"2025-04-10T00:00:00\",\"2025-04-11T00:00:00\"],\"y\":[0.0,0.7426414422698991,0.7464013704827096,0.0,0.0,0.0,0.8199906557997079,0.8049583589804439,0.0,0.8657104929436457,0.8782806671462368,0.0,0.0,0.0,0.7473061263840169,0.7411656519062911,0.7317992035181655,0.7327262075154068,0.7310946804802623,0.0,0.0,0.7392374835920293,0.7311614247680637,0.7396750294787271,0.7354182271233954,0.7369014335189814,0.0,0.0,0.7334678107131998,0.7445176983603153,0.7473654546398405,0.7551077920247993,0.7462382177791951,0.0,0.8139540057696729,0.8062709966405376,0.0,0.8092967376875329,0.7915056769724791,0.8450790919810446,0.8609864805737042,0.0,0.8702936007060063,0.7360708379374532,0.7354182271233954,0.7362117425450339,0.7331785854660605,0.0,0.0,0.7375095481411715,0.7444361220085582,0.7495531840733298,0.7519040662103336,0.7512885355561654,0.0,0.0,0.7518669860504439,0.7500426421838731,0.7466905957298489,0.741699606208702,0.7455633588692034,0.0,0.0,0.8181588959011591,0.8049880231083557,0.8452199965886253,0.819975823735752,0.0,0.8364690788546681,0.8615945951958945,0.0,0.8805499729314834,0.783170057029286,0.777978834644735,0.7859436529890317,0.0,0.0,0.7858546606052966,0.7936192460861892,0.7974088384269113,0.8059372752015307,0.8115512114088237,0.0,0.0,0.8122186542868374,0.8151331548541638,0.8240175611637237,0.8212958774278235,0.8212958774278235,0.0,0.0,0.755130040120733,0.0,0.7467795881135839,0.822504690640226,0.0,0.837003033157079,0.8206803467736553,0.0,0.8316264099730798,0.8646500003708018,0.8754699910266014,0.8848512714786827,0.0,0.0,0.7925661695453232,0.7806782702847015,0.7886134245010865,0.7983358424241526,0.7957031510719874,0.0,0.0,0.8076207144605209,0.821355205683647,0.8178251744621523,0.8145547043598853,0.8272287030101675,0.0,0.0,0.8232388778060411,0.8049657750124218,0.7538025703966836,0.737249987021944,0.7502873712391448,0.8095340507108267,0.0,0.8419495264863582,0.8175062850871013,0.773002677187544,0.8360463650319261,0.0,0.8779988579310755,0.8987266673093895,0.8270358861787412,0.833510082095474,0.8426688815882174,0.837959701282232,0.8400658543639641,0.0,0.0,0.8409409461373598,0.840599808666375,0.8401622627796772,0.8388347930556277,0.8340069562379954,0.0,0.0,0.8399027016604496,0.8362317658313743,0.8265241799722641,0.8408445377216468,0.839643140541222,0.0,0.7418256787523269,0.7562276128534667,0.0,0.8096452911904957,0.8486906995542965,0.0,0.7705628026668051,0.8285932528941066,0.0,0.8524951239589745,0.8952633803756962,0.8206655147096995,0.8151924831099872,0.0,0.0,0.8127600246212262,0.8207841712213464,0.8199461596078402,0.8276662488968652,0.8181588959011591,0.0,0.0,0.8285265086063052,0.8245811795940464,0.8180254073255564,0.8121667420629918,0.8115882915687134,0.0,0.0,0.0,0.7333120740416633,0.7653048359944529,0.0,0.8217630874424331,0.8457910310509259,0.0,0.786025229340789,0.0,0.8689735470139348,0.8580423158784661,0.0,0.0,0.0,0.8263684433007276,0.8224750265123144,0.8235651832130702,0.8267021647397345,0.8222525455529764,0.0,0.0,0.8264277715565509,0.8315374175893447,0.8313446007579185,0.8265612601321538,0.8280667146236734,0.0,0.0,0.8244996032422892,0.8307883983595737,0.8205839383579422,0.7571027046268624,0.7345876315418672,0.7642740075495207,0.8092225773677536,0.8271100464985206,0.0,0.8174024606394104,0.7829846562298377,0.0,0.8702491045141387,0.8566703499625491,0.0,0.7952804372492454,0.797445918586801,0.807279576989536,0.8120332534873891,0.0,0.0,0.823364950349666,0.8222747936489102,0.8242845383149292,0.8273547755537922,0.8363875025029108,0.0,0.0,0.8354530824736917,0.8400065261081406,0.8403847437390151,0.8423574082451444,0.845568550091588,0.0,0.7460750650756806,0.7339350207278095,0.0,0.8021180187328968,0.8194789495932308,0.0,0.8082584932106227,0.7889545619720713,0.8359944528080805,0.870753394688638,0.0,0.8907766810290486,0.8558249223170651,0.0,0.0,0.8588506633640605,0.8679278865050466,0.8665410885251739,0.8734676623925604,0.8716284864620336,0.0,0.0,0.8749360367241904,0.8778357052275609,0.8745429870293602,0.8864531343859156,0.8875432910866712,0.0,0.0,0.8808243661146666,0.7465793552501799,0.0,0.0,0.7990774456219456,0.8235874313090038,0.8422535837974534,0.8210733964684857,0.0,0.8308551426473751,0.8644645995713535,0.0,0.8873653063192009,0.0,0.8788665336724932,0.8847474470309917,0.889679108296315,0.8828415268126637,0.8843766454320952,0.0,0.0,0.8781397625386561,0.8775168158525101,0.8799270262453373,0.878043354122943,0.8760187773929682,0.0,0.0,0.882804446652774,0.8747432198927642,0.8687881462144865,0.8656437486558443,0.7419665833599075,0.0,0.7657572139451067,0.7897925735855773,0.0,0.8287786536935547,0.8283707719347686,0.0,0.8364468307587343,0.869158947813383,0.860059476576463,0.8742982579740883,0.8437293741610614,0.8546457732325742,0.8629220649199439,0.0,0.0,0.8658069013593587,0.8593994497304273,0.8594810260821845,0.861127385181285,0.8644571835393755,0.0,0.0,0.8685508331911928,0.8615871791639166,0.8587394228843915,0.8610606408934836,0.8633225306467521,0.0,0.7486335961080665,0.7404685449003657,0.7704441461551582,0.7924771771615879,0.0,0.8339624600461277,0.8343480937089801,0.7895255964343719,0.8454424775479633,0.0,0.8441372559198476,0.8724813301394956,0.8715394940782986,0.0,0.0,0.8735047425524499,0.8593772016344935,0.8615871791639166,0.8483866422432014,0.8504186350051541,0.0,0.0,0.8480751689001284,0.8509080931156975,0.8509080931156975,0.0,0.8551871435669631,0.0,0.0,0.8555727772298154,0.8598889078409706,0.0,0.0,0.0,0.9861097721053373,0.0,0.0,0.0,0.0,0.0,0.0,0.0,0.0,0.8668006496444014,0.8715394940782986,0.8823965648939879,0.8781026823787665,0.8837166185860593,0.0,0.0,0.8857411953160342,0.8845397981356096,0.881224831841475,0.8892934746334626,0.8886334477874269,0.0,0.0,0.8897087724242267,0.9013593586615547,0.9111707689683558,0.9210415075309806,0.91728157931817,0.8659626380308952,0.0,0.0,0.9900551011175961,0.0,0.0,0.0,0.0,0.0,0.0,0.0,0.0,0.9593601447609442,0.9608211030605964,0.0,0.0,0.9653374665351557,0.9747558271471267,0.9588484385544671,0.9616442826101467,0.9605244617814792,0.0,0.0,0.9650408252560385,0.9727460824811076,0.9887053832976128,0.9841519396631639,0.9898400361902361,0.864086381940479,0.9051860311621663,0.9917533724405421,0.9782636102726876,0.0,0.0,0.0,0.0,0.0,0.0,0.0,0.0,0.9508317079863249,0.964469790793738,0.0,0.0,0.9750005562023984,0.990388822556603,0.9943489836328175,0.9867994630792848,0.9900551011175961,0.0,0.0,0.9880601885155329,1.0,0.9961362473394987,0.9954243082696174,0.9870219440386226,0.0,0.0,0.9741254644290026,0.0,0.9175708045653093,0.9664350392678894,0.9212194922984508,0.0,0.0,0.0,0.0,0.0,0.0,0.0],\"type\":\"scatter\"},{\"mode\":\"lines\",\"name\":\"Petroleo_WTI\",\"x\":[\"2024-01-01T00:00:00\",\"2024-01-02T00:00:00\",\"2024-01-03T00:00:00\",\"2024-01-04T00:00:00\",\"2024-01-05T00:00:00\",\"2024-01-06T00:00:00\",\"2024-01-07T00:00:00\",\"2024-01-08T00:00:00\",\"2024-01-09T00:00:00\",\"2024-01-10T00:00:00\",\"2024-01-11T00:00:00\",\"2024-01-12T00:00:00\",\"2024-01-13T00:00:00\",\"2024-01-14T00:00:00\",\"2024-01-15T00:00:00\",\"2024-01-16T00:00:00\",\"2024-01-17T00:00:00\",\"2024-01-18T00:00:00\",\"2024-01-19T00:00:00\",\"2024-01-20T00:00:00\",\"2024-01-21T00:00:00\",\"2024-01-22T00:00:00\",\"2024-01-23T00:00:00\",\"2024-01-24T00:00:00\",\"2024-01-25T00:00:00\",\"2024-01-26T00:00:00\",\"2024-01-27T00:00:00\",\"2024-01-28T00:00:00\",\"2024-01-29T00:00:00\",\"2024-01-30T00:00:00\",\"2024-01-31T00:00:00\",\"2024-02-01T00:00:00\",\"2024-02-02T00:00:00\",\"2024-02-03T00:00:00\",\"2024-02-04T00:00:00\",\"2024-02-05T00:00:00\",\"2024-02-06T00:00:00\",\"2024-02-07T00:00:00\",\"2024-02-08T00:00:00\",\"2024-02-09T00:00:00\",\"2024-02-10T00:00:00\",\"2024-02-11T00:00:00\",\"2024-02-12T00:00:00\",\"2024-02-13T00:00:00\",\"2024-02-14T00:00:00\",\"2024-02-15T00:00:00\",\"2024-02-16T00:00:00\",\"2024-02-17T00:00:00\",\"2024-02-18T00:00:00\",\"2024-02-19T00:00:00\",\"2024-02-20T00:00:00\",\"2024-02-21T00:00:00\",\"2024-02-22T00:00:00\",\"2024-02-23T00:00:00\",\"2024-02-24T00:00:00\",\"2024-02-25T00:00:00\",\"2024-02-26T00:00:00\",\"2024-02-27T00:00:00\",\"2024-02-28T00:00:00\",\"2024-02-29T00:00:00\",\"2024-03-01T00:00:00\",\"2024-03-02T00:00:00\",\"2024-03-03T00:00:00\",\"2024-03-04T00:00:00\",\"2024-03-05T00:00:00\",\"2024-03-06T00:00:00\",\"2024-03-07T00:00:00\",\"2024-03-08T00:00:00\",\"2024-03-09T00:00:00\",\"2024-03-10T00:00:00\",\"2024-03-11T00:00:00\",\"2024-03-12T00:00:00\",\"2024-03-13T00:00:00\",\"2024-03-14T00:00:00\",\"2024-03-15T00:00:00\",\"2024-03-16T00:00:00\",\"2024-03-17T00:00:00\",\"2024-03-18T00:00:00\",\"2024-03-19T00:00:00\",\"2024-03-20T00:00:00\",\"2024-03-21T00:00:00\",\"2024-03-22T00:00:00\",\"2024-03-23T00:00:00\",\"2024-03-24T00:00:00\",\"2024-03-25T00:00:00\",\"2024-03-26T00:00:00\",\"2024-03-27T00:00:00\",\"2024-03-28T00:00:00\",\"2024-03-29T00:00:00\",\"2024-03-30T00:00:00\",\"2024-03-31T00:00:00\",\"2024-04-01T00:00:00\",\"2024-04-02T00:00:00\",\"2024-04-03T00:00:00\",\"2024-04-04T00:00:00\",\"2024-04-05T00:00:00\",\"2024-04-06T00:00:00\",\"2024-04-07T00:00:00\",\"2024-04-08T00:00:00\",\"2024-04-09T00:00:00\",\"2024-04-10T00:00:00\",\"2024-04-11T00:00:00\",\"2024-04-12T00:00:00\",\"2024-04-13T00:00:00\",\"2024-04-14T00:00:00\",\"2024-04-15T00:00:00\",\"2024-04-16T00:00:00\",\"2024-04-17T00:00:00\",\"2024-04-18T00:00:00\",\"2024-04-19T00:00:00\",\"2024-04-20T00:00:00\",\"2024-04-21T00:00:00\",\"2024-04-22T00:00:00\",\"2024-04-23T00:00:00\",\"2024-04-24T00:00:00\",\"2024-04-25T00:00:00\",\"2024-04-26T00:00:00\",\"2024-04-27T00:00:00\",\"2024-04-28T00:00:00\",\"2024-04-29T00:00:00\",\"2024-04-30T00:00:00\",\"2024-05-01T00:00:00\",\"2024-05-02T00:00:00\",\"2024-05-03T00:00:00\",\"2024-05-04T00:00:00\",\"2024-05-05T00:00:00\",\"2024-05-06T00:00:00\",\"2024-05-07T00:00:00\",\"2024-05-08T00:00:00\",\"2024-05-09T00:00:00\",\"2024-05-10T00:00:00\",\"2024-05-11T00:00:00\",\"2024-05-12T00:00:00\",\"2024-05-13T00:00:00\",\"2024-05-14T00:00:00\",\"2024-05-15T00:00:00\",\"2024-05-16T00:00:00\",\"2024-05-17T00:00:00\",\"2024-05-18T00:00:00\",\"2024-05-19T00:00:00\",\"2024-05-20T00:00:00\",\"2024-05-21T00:00:00\",\"2024-05-22T00:00:00\",\"2024-05-23T00:00:00\",\"2024-05-24T00:00:00\",\"2024-05-25T00:00:00\",\"2024-05-26T00:00:00\",\"2024-05-27T00:00:00\",\"2024-05-28T00:00:00\",\"2024-05-29T00:00:00\",\"2024-05-30T00:00:00\",\"2024-05-31T00:00:00\",\"2024-06-01T00:00:00\",\"2024-06-02T00:00:00\",\"2024-06-03T00:00:00\",\"2024-06-04T00:00:00\",\"2024-06-05T00:00:00\",\"2024-06-06T00:00:00\",\"2024-06-07T00:00:00\",\"2024-06-08T00:00:00\",\"2024-06-09T00:00:00\",\"2024-06-10T00:00:00\",\"2024-06-11T00:00:00\",\"2024-06-12T00:00:00\",\"2024-06-13T00:00:00\",\"2024-06-14T00:00:00\",\"2024-06-15T00:00:00\",\"2024-06-16T00:00:00\",\"2024-06-17T00:00:00\",\"2024-06-18T00:00:00\",\"2024-06-19T00:00:00\",\"2024-06-20T00:00:00\",\"2024-06-21T00:00:00\",\"2024-06-22T00:00:00\",\"2024-06-23T00:00:00\",\"2024-06-24T00:00:00\",\"2024-06-25T00:00:00\",\"2024-06-26T00:00:00\",\"2024-06-27T00:00:00\",\"2024-06-28T00:00:00\",\"2024-06-29T00:00:00\",\"2024-06-30T00:00:00\",\"2024-07-01T00:00:00\",\"2024-07-02T00:00:00\",\"2024-07-03T00:00:00\",\"2024-07-04T00:00:00\",\"2024-07-05T00:00:00\",\"2024-07-06T00:00:00\",\"2024-07-07T00:00:00\",\"2024-07-08T00:00:00\",\"2024-07-09T00:00:00\",\"2024-07-10T00:00:00\",\"2024-07-11T00:00:00\",\"2024-07-12T00:00:00\",\"2024-07-13T00:00:00\",\"2024-07-14T00:00:00\",\"2024-07-15T00:00:00\",\"2024-07-16T00:00:00\",\"2024-07-17T00:00:00\",\"2024-07-18T00:00:00\",\"2024-07-19T00:00:00\",\"2024-07-20T00:00:00\",\"2024-07-21T00:00:00\",\"2024-07-22T00:00:00\",\"2024-07-23T00:00:00\",\"2024-07-24T00:00:00\",\"2024-07-25T00:00:00\",\"2024-07-26T00:00:00\",\"2024-07-27T00:00:00\",\"2024-07-28T00:00:00\",\"2024-07-29T00:00:00\",\"2024-07-30T00:00:00\",\"2024-07-31T00:00:00\",\"2024-08-01T00:00:00\",\"2024-08-02T00:00:00\",\"2024-08-03T00:00:00\",\"2024-08-04T00:00:00\",\"2024-08-05T00:00:00\",\"2024-08-06T00:00:00\",\"2024-08-07T00:00:00\",\"2024-08-08T00:00:00\",\"2024-08-09T00:00:00\",\"2024-08-10T00:00:00\",\"2024-08-11T00:00:00\",\"2024-08-12T00:00:00\",\"2024-08-13T00:00:00\",\"2024-08-14T00:00:00\",\"2024-08-15T00:00:00\",\"2024-08-16T00:00:00\",\"2024-08-17T00:00:00\",\"2024-08-18T00:00:00\",\"2024-08-19T00:00:00\",\"2024-08-20T00:00:00\",\"2024-08-21T00:00:00\",\"2024-08-22T00:00:00\",\"2024-08-23T00:00:00\",\"2024-08-24T00:00:00\",\"2024-08-25T00:00:00\",\"2024-08-26T00:00:00\",\"2024-08-27T00:00:00\",\"2024-08-28T00:00:00\",\"2024-08-29T00:00:00\",\"2024-08-30T00:00:00\",\"2024-08-31T00:00:00\",\"2024-09-01T00:00:00\",\"2024-09-02T00:00:00\",\"2024-09-03T00:00:00\",\"2024-09-04T00:00:00\",\"2024-09-05T00:00:00\",\"2024-09-06T00:00:00\",\"2024-09-07T00:00:00\",\"2024-09-08T00:00:00\",\"2024-09-09T00:00:00\",\"2024-09-10T00:00:00\",\"2024-09-11T00:00:00\",\"2024-09-12T00:00:00\",\"2024-09-13T00:00:00\",\"2024-09-14T00:00:00\",\"2024-09-15T00:00:00\",\"2024-09-16T00:00:00\",\"2024-09-17T00:00:00\",\"2024-09-18T00:00:00\",\"2024-09-19T00:00:00\",\"2024-09-20T00:00:00\",\"2024-09-21T00:00:00\",\"2024-09-22T00:00:00\",\"2024-09-23T00:00:00\",\"2024-09-24T00:00:00\",\"2024-09-25T00:00:00\",\"2024-09-26T00:00:00\",\"2024-09-27T00:00:00\",\"2024-09-28T00:00:00\",\"2024-09-29T00:00:00\",\"2024-09-30T00:00:00\",\"2024-10-01T00:00:00\",\"2024-10-02T00:00:00\",\"2024-10-03T00:00:00\",\"2024-10-04T00:00:00\",\"2024-10-05T00:00:00\",\"2024-10-06T00:00:00\",\"2024-10-07T00:00:00\",\"2024-10-08T00:00:00\",\"2024-10-09T00:00:00\",\"2024-10-10T00:00:00\",\"2024-10-11T00:00:00\",\"2024-10-12T00:00:00\",\"2024-10-13T00:00:00\",\"2024-10-14T00:00:00\",\"2024-10-15T00:00:00\",\"2024-10-16T00:00:00\",\"2024-10-17T00:00:00\",\"2024-10-18T00:00:00\",\"2024-10-19T00:00:00\",\"2024-10-20T00:00:00\",\"2024-10-21T00:00:00\",\"2024-10-22T00:00:00\",\"2024-10-23T00:00:00\",\"2024-10-24T00:00:00\",\"2024-10-25T00:00:00\",\"2024-10-26T00:00:00\",\"2024-10-27T00:00:00\",\"2024-10-28T00:00:00\",\"2024-10-29T00:00:00\",\"2024-10-30T00:00:00\",\"2024-10-31T00:00:00\",\"2024-11-01T00:00:00\",\"2024-11-02T00:00:00\",\"2024-11-03T00:00:00\",\"2024-11-04T00:00:00\",\"2024-11-05T00:00:00\",\"2024-11-06T00:00:00\",\"2024-11-07T00:00:00\",\"2024-11-08T00:00:00\",\"2024-11-09T00:00:00\",\"2024-11-10T00:00:00\",\"2024-11-11T00:00:00\",\"2024-11-12T00:00:00\",\"2024-11-13T00:00:00\",\"2024-11-14T00:00:00\",\"2024-11-15T00:00:00\",\"2024-11-16T00:00:00\",\"2024-11-17T00:00:00\",\"2024-11-18T00:00:00\",\"2024-11-19T00:00:00\",\"2024-11-20T00:00:00\",\"2024-11-21T00:00:00\",\"2024-11-22T00:00:00\",\"2024-11-23T00:00:00\",\"2024-11-24T00:00:00\",\"2024-11-25T00:00:00\",\"2024-11-26T00:00:00\",\"2024-11-27T00:00:00\",\"2024-11-28T00:00:00\",\"2024-11-29T00:00:00\",\"2024-11-30T00:00:00\",\"2024-12-01T00:00:00\",\"2024-12-02T00:00:00\",\"2024-12-03T00:00:00\",\"2024-12-04T00:00:00\",\"2024-12-05T00:00:00\",\"2024-12-06T00:00:00\",\"2024-12-07T00:00:00\",\"2024-12-08T00:00:00\",\"2024-12-09T00:00:00\",\"2024-12-10T00:00:00\",\"2024-12-11T00:00:00\",\"2024-12-12T00:00:00\",\"2024-12-13T00:00:00\",\"2024-12-14T00:00:00\",\"2024-12-15T00:00:00\",\"2024-12-16T00:00:00\",\"2024-12-17T00:00:00\",\"2024-12-18T00:00:00\",\"2024-12-19T00:00:00\",\"2024-12-20T00:00:00\",\"2024-12-21T00:00:00\",\"2024-12-22T00:00:00\",\"2024-12-23T00:00:00\",\"2024-12-24T00:00:00\",\"2024-12-25T00:00:00\",\"2024-12-26T00:00:00\",\"2024-12-27T00:00:00\",\"2024-12-28T00:00:00\",\"2024-12-29T00:00:00\",\"2024-12-30T00:00:00\",\"2024-12-31T00:00:00\",\"2025-01-01T00:00:00\",\"2025-01-02T00:00:00\",\"2025-01-03T00:00:00\",\"2025-01-04T00:00:00\",\"2025-01-05T00:00:00\",\"2025-01-06T00:00:00\",\"2025-01-07T00:00:00\",\"2025-01-08T00:00:00\",\"2025-01-09T00:00:00\",\"2025-01-10T00:00:00\",\"2025-01-11T00:00:00\",\"2025-01-12T00:00:00\",\"2025-01-13T00:00:00\",\"2025-01-14T00:00:00\",\"2025-01-15T00:00:00\",\"2025-01-16T00:00:00\",\"2025-01-17T00:00:00\",\"2025-01-18T00:00:00\",\"2025-01-19T00:00:00\",\"2025-01-20T00:00:00\",\"2025-01-21T00:00:00\",\"2025-01-22T00:00:00\",\"2025-01-23T00:00:00\",\"2025-01-24T00:00:00\",\"2025-01-25T00:00:00\",\"2025-01-26T00:00:00\",\"2025-01-27T00:00:00\",\"2025-01-28T00:00:00\",\"2025-01-29T00:00:00\",\"2025-01-30T00:00:00\",\"2025-01-31T00:00:00\",\"2025-02-01T00:00:00\",\"2025-02-02T00:00:00\",\"2025-02-03T00:00:00\",\"2025-02-04T00:00:00\",\"2025-02-05T00:00:00\",\"2025-02-06T00:00:00\",\"2025-02-07T00:00:00\",\"2025-02-08T00:00:00\",\"2025-02-09T00:00:00\",\"2025-02-10T00:00:00\",\"2025-02-11T00:00:00\",\"2025-02-12T00:00:00\",\"2025-02-13T00:00:00\",\"2025-02-14T00:00:00\",\"2025-02-15T00:00:00\",\"2025-02-16T00:00:00\",\"2025-02-17T00:00:00\",\"2025-02-18T00:00:00\",\"2025-02-19T00:00:00\",\"2025-02-20T00:00:00\",\"2025-02-21T00:00:00\",\"2025-02-22T00:00:00\",\"2025-02-23T00:00:00\",\"2025-02-24T00:00:00\",\"2025-02-25T00:00:00\",\"2025-02-26T00:00:00\",\"2025-02-27T00:00:00\",\"2025-02-28T00:00:00\",\"2025-03-01T00:00:00\",\"2025-03-02T00:00:00\",\"2025-03-03T00:00:00\",\"2025-03-04T00:00:00\",\"2025-03-05T00:00:00\",\"2025-03-06T00:00:00\",\"2025-03-07T00:00:00\",\"2025-03-08T00:00:00\",\"2025-03-09T00:00:00\",\"2025-03-10T00:00:00\",\"2025-03-11T00:00:00\",\"2025-03-12T00:00:00\",\"2025-03-13T00:00:00\",\"2025-03-14T00:00:00\",\"2025-03-15T00:00:00\",\"2025-03-16T00:00:00\",\"2025-03-17T00:00:00\",\"2025-03-18T00:00:00\",\"2025-03-19T00:00:00\",\"2025-03-20T00:00:00\",\"2025-03-21T00:00:00\",\"2025-03-22T00:00:00\",\"2025-03-23T00:00:00\",\"2025-03-24T00:00:00\",\"2025-03-25T00:00:00\",\"2025-03-26T00:00:00\",\"2025-03-27T00:00:00\",\"2025-03-28T00:00:00\",\"2025-03-29T00:00:00\",\"2025-03-30T00:00:00\",\"2025-03-31T00:00:00\",\"2025-04-01T00:00:00\",\"2025-04-02T00:00:00\",\"2025-04-03T00:00:00\",\"2025-04-04T00:00:00\",\"2025-04-05T00:00:00\",\"2025-04-06T00:00:00\",\"2025-04-07T00:00:00\",\"2025-04-08T00:00:00\",\"2025-04-09T00:00:00\",\"2025-04-10T00:00:00\",\"2025-04-11T00:00:00\"],\"y\":[0.8358885017421603,0.8570267131242743,0.918583042973287,0.9619047619047619,0.9110336817653891,0.0,0.9560975609756097,0.8757259001161442,0.8476190476190477,0.8059233449477352,0.8023228803716609,0.0,0.0,0.0,0.8454123112659699,0.8422764227642277,0.8418118466898956,0.8588850174216028,0.8507549361207898,0.0,0.0,0.8682926829268294,0.8626016260162602,0.8708478513356563,0.8965156794425088,0.9042973286875726,0.0,0.0,0.8904761904761905,0.9018583042973288,0.8793263646922184,0.8202090592334496,0.8397212543554007,0.0,0.9781649245063879,0.9114982578397214,0.0,0.951335656213705,0.843089430894309,0.8569105691056911,0.8094076655052265,0.0,0.7879210220673636,0.9008130081300814,0.8868757259001162,0.9011614401858306,0.9112659698025551,0.0,0.0,0.9072009291521487,0.8947735191637632,0.8979094076655053,0.9051103368176541,0.883623693379791,0.0,0.0,0.8953542392566783,0.9085946573751453,0.9039488966318235,0.8995354239256679,0.8465737514518002,0.0,0.0,0.9826945412311267,0.9031358885017423,0.8605110336817655,0.9642276422764228,0.0,0.8082462253193962,0.8498257839721255,0.0,0.807665505226481,0.9210220673635308,0.937746806039489,0.9358885017421603,0.0,0.0,0.9542392566782811,0.9608594657375146,0.9439024390243903,0.9365853658536586,0.9311265969802556,0.0,0.0,0.9451800232288037,0.9412311265969804,0.9382113821138213,0.9572590011614402,0.0,0.0,0.0,0.840418118466899,0.0,0.9078977932636471,0.9966318234610918,0.0,0.848548199767712,0.9749128919860628,0.0,0.7958188153310105,0.8557491289198608,0.8249709639953543,0.7919860627177701,0.0,0.0,0.9855981416957027,0.9852497096399536,0.9541231126596982,0.9535423925667829,0.9549361207897794,0.0,0.0,0.9512195121951221,0.9588850174216029,0.9534262485481999,0.9610917537746807,0.9655052264808363,0.0,0.0,0.9527293844367016,0.9440185830429734,0.8578397212543555,0.8461091753774681,0.8990708478513357,1.0,0.0,0.8573751451800232,0.9554006968641117,0.8385598141695704,0.7955865272938444,0.0,0.8311265969802556,0.78931475029036,0.9128919860627178,0.9018583042973288,0.9077816492450639,0.9145180023228804,0.924274099883856,0.0,0.0,0.9210220673635308,0.9135888501742161,0.8960511033681766,0.8880371660859465,0.896980255516841,0.0,0.0,0.9134727061556331,0.921602787456446,0.9152148664343787,0.9005807200929153,0.8911730545876888,0.0,0.8521486643437864,0.9106852497096399,0.0,0.9075493612078979,0.8738675958188153,0.0,0.8401858304297329,0.777932636469222,0.0,0.8274099883855981,0.777932636469222,0.9089430894308944,0.9065040650406504,0.0,0.0,0.9259001161440187,0.9373983739837398,0.9360046457607434,0.9441347270615564,0.9286875725900116,0.0,0.0,0.9391405342624856,0.929965156794425,0.9313588850174216,0.9387921022067364,0.9365853658536586,0.0,0.0,0.0,0.8584204413472706,0.9096399535423926,0.0,0.9066202090592336,0.8736353077816493,0.0,0.8614401858304298,0.0,0.8881533101045297,0.8357723577235772,0.0,0.0,0.0,0.9389082462253195,0.9257839721254355,0.9458768873403021,0.9442508710801394,0.91335656213705,0.0,0.0,0.9105691056910571,0.8817653890824624,0.8894308943089432,0.8955865272938445,0.8826945412311267,0.0,0.0,0.8687572590011615,0.8580720092915215,0.8924506387921023,0.8236933797909408,0.8849012775842044,0.9001161440185831,0.9933797909407667,0.9124274099883857,0.0,0.9468060394889664,0.8715447154471546,0.0,0.8476190476190477,0.8142857142857143,0.0,0.89198606271777,0.880836236933798,0.8941927990708478,0.8773519163763067,0.0,0.0,0.8555168408826945,0.8498257839721255,0.8281068524970964,0.8394889663182347,0.8586527293844368,0.0,0.0,0.8846689895470384,0.864808362369338,0.8529616724738677,0.8672473867595819,0.8437862950058074,0.0,0.8396051103368177,0.891637630662021,0.0,0.9809523809523809,0.9152148664343787,0.0,0.9356562137049943,0.878164924506388,0.7887340301974448,0.843089430894309,0.0,0.7908246225319397,0.7868757259001162,0.0,0.0,0.8016260162601626,0.8125435540069686,0.8116144018583042,0.8264808362369338,0.8246225319396052,0.0,0.0,0.8084785133565622,0.8227642276422765,0.8029036004645761,0.7803716608594657,0.7859465737514518,0.0,0.0,0.7871080139372822,0.829732868757259,0.0,0.0,0.9923344947735192,0.9040650406504066,0.8981416957026713,0.9415795586527294,0.0,0.756562137049942,0.8723577235772358,0.0,0.7929152148664343,0.0,0.8506387921022067,0.813124274099884,0.810917537746806,0.8140534262485483,0.7977932636469222,0.0,0.0,0.8134727061556332,0.8332171893147503,0.8173054587688735,0.8111498257839722,0.8286875725900116,0.0,0.0,0.777932636469222,0.7759581881533102,0.7918699186991871,0.7991869918699188,0.8372822299651569,0.0,0.9004645760743323,0.980836236933798,0.0,0.9006968641114983,0.9451800232288037,0.0,0.7735191637630662,0.8693379790940766,0.788850174216028,0.8114982578397214,0.7927990708478514,0.7959349593495936,0.7772357723577237,0.0,0.0,0.8033681765389084,0.8041811846689896,0.7984901277584205,0.8103368176538909,0.8219512195121951,0.0,0.0,0.7965156794425088,0.7948896631823461,0.7938443670150988,0.0,0.786527293844367,0.0,0.8454123112659699,0.892218350754936,0.897212543554007,0.9881533101045297,0.0,0.9076655052264809,0.9409988385598141,0.9112659698025551,0.791521486643438,0.0,0.7894308943089431,0.8090592334494774,0.8225319396051103,0.0,0.0,0.8163763066202092,0.8089430894308944,0.8132404181184669,0.8058072009291521,0.8016260162601626,0.0,0.0,0.7991869918699188,0.8088269454123114,0.0,0.8040650406504066,0.8150987224157957,0.0,0.0,0.8191637630662022,0.8275261324041813,0.0,0.0,0.0,0.8269454123112661,0.0,0.0,0.0,0.0,0.0,0.0,0.0,0.0,0.8977932636469222,0.8869918699186993,0.9141695702671312,0.9138211382113822,0.9045296167247386,0.0,0.0,0.0,0.8814169570267132,0.8761904761904762,0.8666666666666668,0.8671312427409988,0.0,0.0,0.8498257839721255,0.856794425087108,0.8434378629500582,0.8447154471544717,0.8423925667828107,0.8420441347270616,0.0,0.0,0.8328687572590011,0.0,0.0,0.0,0.0,0.0,0.0,0.0,0.0,0.8262485481997678,0.8212543554006968,0.0,0.0,0.0,0.8344947735191638,0.8391405342624856,0.8428571428571429,0.8176538908246227,0.0,0.0,0.821138211382114,0.8005807200929154,0.796980255516841,0.8170731707317073,0.8102206736353079,0.8502903600464576,0.8497096399535424,0.7940766550522649,0.7775842044134728,0.0,0.0,0.0,0.0,0.0,0.0,0.0,0.0,0.7696864111498258,0.7771196283391405,0.0,0.0,0.7824622531939606,0.7770034843205577,0.7800232288037167,0.7927990708478514,0.7930313588850175,0.0,0.0,0.8026713124274101,0.8013937282229966,0.8089430894308944,0.8120789779326365,0.8055749128919861,0.0,0.0,0.8301974448315913,0.0,0.8443670150987225,0.7927990708478514,0.7199767711962834,0.0,0.0,0.0,0.0,0.0,0.0,0.0],\"type\":\"scatter\"},{\"mode\":\"lines\",\"name\":\"VIX\",\"x\":[\"2024-01-01T00:00:00\",\"2024-01-02T00:00:00\",\"2024-01-03T00:00:00\",\"2024-01-04T00:00:00\",\"2024-01-05T00:00:00\",\"2024-01-06T00:00:00\",\"2024-01-07T00:00:00\",\"2024-01-08T00:00:00\",\"2024-01-09T00:00:00\",\"2024-01-10T00:00:00\",\"2024-01-11T00:00:00\",\"2024-01-12T00:00:00\",\"2024-01-13T00:00:00\",\"2024-01-14T00:00:00\",\"2024-01-15T00:00:00\",\"2024-01-16T00:00:00\",\"2024-01-17T00:00:00\",\"2024-01-18T00:00:00\",\"2024-01-19T00:00:00\",\"2024-01-20T00:00:00\",\"2024-01-21T00:00:00\",\"2024-01-22T00:00:00\",\"2024-01-23T00:00:00\",\"2024-01-24T00:00:00\",\"2024-01-25T00:00:00\",\"2024-01-26T00:00:00\",\"2024-01-27T00:00:00\",\"2024-01-28T00:00:00\",\"2024-01-29T00:00:00\",\"2024-01-30T00:00:00\",\"2024-01-31T00:00:00\",\"2024-02-01T00:00:00\",\"2024-02-02T00:00:00\",\"2024-02-03T00:00:00\",\"2024-02-04T00:00:00\",\"2024-02-05T00:00:00\",\"2024-02-06T00:00:00\",\"2024-02-07T00:00:00\",\"2024-02-08T00:00:00\",\"2024-02-09T00:00:00\",\"2024-02-10T00:00:00\",\"2024-02-11T00:00:00\",\"2024-02-12T00:00:00\",\"2024-02-13T00:00:00\",\"2024-02-14T00:00:00\",\"2024-02-15T00:00:00\",\"2024-02-16T00:00:00\",\"2024-02-17T00:00:00\",\"2024-02-18T00:00:00\",\"2024-02-19T00:00:00\",\"2024-02-20T00:00:00\",\"2024-02-21T00:00:00\",\"2024-02-22T00:00:00\",\"2024-02-23T00:00:00\",\"2024-02-24T00:00:00\",\"2024-02-25T00:00:00\",\"2024-02-26T00:00:00\",\"2024-02-27T00:00:00\",\"2024-02-28T00:00:00\",\"2024-02-29T00:00:00\",\"2024-03-01T00:00:00\",\"2024-03-02T00:00:00\",\"2024-03-03T00:00:00\",\"2024-03-04T00:00:00\",\"2024-03-05T00:00:00\",\"2024-03-06T00:00:00\",\"2024-03-07T00:00:00\",\"2024-03-08T00:00:00\",\"2024-03-09T00:00:00\",\"2024-03-10T00:00:00\",\"2024-03-11T00:00:00\",\"2024-03-12T00:00:00\",\"2024-03-13T00:00:00\",\"2024-03-14T00:00:00\",\"2024-03-15T00:00:00\",\"2024-03-16T00:00:00\",\"2024-03-17T00:00:00\",\"2024-03-18T00:00:00\",\"2024-03-19T00:00:00\",\"2024-03-20T00:00:00\",\"2024-03-21T00:00:00\",\"2024-03-22T00:00:00\",\"2024-03-23T00:00:00\",\"2024-03-24T00:00:00\",\"2024-03-25T00:00:00\",\"2024-03-26T00:00:00\",\"2024-03-27T00:00:00\",\"2024-03-28T00:00:00\",\"2024-03-29T00:00:00\",\"2024-03-30T00:00:00\",\"2024-03-31T00:00:00\",\"2024-04-01T00:00:00\",\"2024-04-02T00:00:00\",\"2024-04-03T00:00:00\",\"2024-04-04T00:00:00\",\"2024-04-05T00:00:00\",\"2024-04-06T00:00:00\",\"2024-04-07T00:00:00\",\"2024-04-08T00:00:00\",\"2024-04-09T00:00:00\",\"2024-04-10T00:00:00\",\"2024-04-11T00:00:00\",\"2024-04-12T00:00:00\",\"2024-04-13T00:00:00\",\"2024-04-14T00:00:00\",\"2024-04-15T00:00:00\",\"2024-04-16T00:00:00\",\"2024-04-17T00:00:00\",\"2024-04-18T00:00:00\",\"2024-04-19T00:00:00\",\"2024-04-20T00:00:00\",\"2024-04-21T00:00:00\",\"2024-04-22T00:00:00\",\"2024-04-23T00:00:00\",\"2024-04-24T00:00:00\",\"2024-04-25T00:00:00\",\"2024-04-26T00:00:00\",\"2024-04-27T00:00:00\",\"2024-04-28T00:00:00\",\"2024-04-29T00:00:00\",\"2024-04-30T00:00:00\",\"2024-05-01T00:00:00\",\"2024-05-02T00:00:00\",\"2024-05-03T00:00:00\",\"2024-05-04T00:00:00\",\"2024-05-05T00:00:00\",\"2024-05-06T00:00:00\",\"2024-05-07T00:00:00\",\"2024-05-08T00:00:00\",\"2024-05-09T00:00:00\",\"2024-05-10T00:00:00\",\"2024-05-11T00:00:00\",\"2024-05-12T00:00:00\",\"2024-05-13T00:00:00\",\"2024-05-14T00:00:00\",\"2024-05-15T00:00:00\",\"2024-05-16T00:00:00\",\"2024-05-17T00:00:00\",\"2024-05-18T00:00:00\",\"2024-05-19T00:00:00\",\"2024-05-20T00:00:00\",\"2024-05-21T00:00:00\",\"2024-05-22T00:00:00\",\"2024-05-23T00:00:00\",\"2024-05-24T00:00:00\",\"2024-05-25T00:00:00\",\"2024-05-26T00:00:00\",\"2024-05-27T00:00:00\",\"2024-05-28T00:00:00\",\"2024-05-29T00:00:00\",\"2024-05-30T00:00:00\",\"2024-05-31T00:00:00\",\"2024-06-01T00:00:00\",\"2024-06-02T00:00:00\",\"2024-06-03T00:00:00\",\"2024-06-04T00:00:00\",\"2024-06-05T00:00:00\",\"2024-06-06T00:00:00\",\"2024-06-07T00:00:00\",\"2024-06-08T00:00:00\",\"2024-06-09T00:00:00\",\"2024-06-10T00:00:00\",\"2024-06-11T00:00:00\",\"2024-06-12T00:00:00\",\"2024-06-13T00:00:00\",\"2024-06-14T00:00:00\",\"2024-06-15T00:00:00\",\"2024-06-16T00:00:00\",\"2024-06-17T00:00:00\",\"2024-06-18T00:00:00\",\"2024-06-19T00:00:00\",\"2024-06-20T00:00:00\",\"2024-06-21T00:00:00\",\"2024-06-22T00:00:00\",\"2024-06-23T00:00:00\",\"2024-06-24T00:00:00\",\"2024-06-25T00:00:00\",\"2024-06-26T00:00:00\",\"2024-06-27T00:00:00\",\"2024-06-28T00:00:00\",\"2024-06-29T00:00:00\",\"2024-06-30T00:00:00\",\"2024-07-01T00:00:00\",\"2024-07-02T00:00:00\",\"2024-07-03T00:00:00\",\"2024-07-04T00:00:00\",\"2024-07-05T00:00:00\",\"2024-07-06T00:00:00\",\"2024-07-07T00:00:00\",\"2024-07-08T00:00:00\",\"2024-07-09T00:00:00\",\"2024-07-10T00:00:00\",\"2024-07-11T00:00:00\",\"2024-07-12T00:00:00\",\"2024-07-13T00:00:00\",\"2024-07-14T00:00:00\",\"2024-07-15T00:00:00\",\"2024-07-16T00:00:00\",\"2024-07-17T00:00:00\",\"2024-07-18T00:00:00\",\"2024-07-19T00:00:00\",\"2024-07-20T00:00:00\",\"2024-07-21T00:00:00\",\"2024-07-22T00:00:00\",\"2024-07-23T00:00:00\",\"2024-07-24T00:00:00\",\"2024-07-25T00:00:00\",\"2024-07-26T00:00:00\",\"2024-07-27T00:00:00\",\"2024-07-28T00:00:00\",\"2024-07-29T00:00:00\",\"2024-07-30T00:00:00\",\"2024-07-31T00:00:00\",\"2024-08-01T00:00:00\",\"2024-08-02T00:00:00\",\"2024-08-03T00:00:00\",\"2024-08-04T00:00:00\",\"2024-08-05T00:00:00\",\"2024-08-06T00:00:00\",\"2024-08-07T00:00:00\",\"2024-08-08T00:00:00\",\"2024-08-09T00:00:00\",\"2024-08-10T00:00:00\",\"2024-08-11T00:00:00\",\"2024-08-12T00:00:00\",\"2024-08-13T00:00:00\",\"2024-08-14T00:00:00\",\"2024-08-15T00:00:00\",\"2024-08-16T00:00:00\",\"2024-08-17T00:00:00\",\"2024-08-18T00:00:00\",\"2024-08-19T00:00:00\",\"2024-08-20T00:00:00\",\"2024-08-21T00:00:00\",\"2024-08-22T00:00:00\",\"2024-08-23T00:00:00\",\"2024-08-24T00:00:00\",\"2024-08-25T00:00:00\",\"2024-08-26T00:00:00\",\"2024-08-27T00:00:00\",\"2024-08-28T00:00:00\",\"2024-08-29T00:00:00\",\"2024-08-30T00:00:00\",\"2024-08-31T00:00:00\",\"2024-09-01T00:00:00\",\"2024-09-02T00:00:00\",\"2024-09-03T00:00:00\",\"2024-09-04T00:00:00\",\"2024-09-05T00:00:00\",\"2024-09-06T00:00:00\",\"2024-09-07T00:00:00\",\"2024-09-08T00:00:00\",\"2024-09-09T00:00:00\",\"2024-09-10T00:00:00\",\"2024-09-11T00:00:00\",\"2024-09-12T00:00:00\",\"2024-09-13T00:00:00\",\"2024-09-14T00:00:00\",\"2024-09-15T00:00:00\",\"2024-09-16T00:00:00\",\"2024-09-17T00:00:00\",\"2024-09-18T00:00:00\",\"2024-09-19T00:00:00\",\"2024-09-20T00:00:00\",\"2024-09-21T00:00:00\",\"2024-09-22T00:00:00\",\"2024-09-23T00:00:00\",\"2024-09-24T00:00:00\",\"2024-09-25T00:00:00\",\"2024-09-26T00:00:00\",\"2024-09-27T00:00:00\",\"2024-09-28T00:00:00\",\"2024-09-29T00:00:00\",\"2024-09-30T00:00:00\",\"2024-10-01T00:00:00\",\"2024-10-02T00:00:00\",\"2024-10-03T00:00:00\",\"2024-10-04T00:00:00\",\"2024-10-05T00:00:00\",\"2024-10-06T00:00:00\",\"2024-10-07T00:00:00\",\"2024-10-08T00:00:00\",\"2024-10-09T00:00:00\",\"2024-10-10T00:00:00\",\"2024-10-11T00:00:00\",\"2024-10-12T00:00:00\",\"2024-10-13T00:00:00\",\"2024-10-14T00:00:00\",\"2024-10-15T00:00:00\",\"2024-10-16T00:00:00\",\"2024-10-17T00:00:00\",\"2024-10-18T00:00:00\",\"2024-10-19T00:00:00\",\"2024-10-20T00:00:00\",\"2024-10-21T00:00:00\",\"2024-10-22T00:00:00\",\"2024-10-23T00:00:00\",\"2024-10-24T00:00:00\",\"2024-10-25T00:00:00\",\"2024-10-26T00:00:00\",\"2024-10-27T00:00:00\",\"2024-10-28T00:00:00\",\"2024-10-29T00:00:00\",\"2024-10-30T00:00:00\",\"2024-10-31T00:00:00\",\"2024-11-01T00:00:00\",\"2024-11-02T00:00:00\",\"2024-11-03T00:00:00\",\"2024-11-04T00:00:00\",\"2024-11-05T00:00:00\",\"2024-11-06T00:00:00\",\"2024-11-07T00:00:00\",\"2024-11-08T00:00:00\",\"2024-11-09T00:00:00\",\"2024-11-10T00:00:00\",\"2024-11-11T00:00:00\",\"2024-11-12T00:00:00\",\"2024-11-13T00:00:00\",\"2024-11-14T00:00:00\",\"2024-11-15T00:00:00\",\"2024-11-16T00:00:00\",\"2024-11-17T00:00:00\",\"2024-11-18T00:00:00\",\"2024-11-19T00:00:00\",\"2024-11-20T00:00:00\",\"2024-11-21T00:00:00\",\"2024-11-22T00:00:00\",\"2024-11-23T00:00:00\",\"2024-11-24T00:00:00\",\"2024-11-25T00:00:00\",\"2024-11-26T00:00:00\",\"2024-11-27T00:00:00\",\"2024-11-28T00:00:00\",\"2024-11-29T00:00:00\",\"2024-11-30T00:00:00\",\"2024-12-01T00:00:00\",\"2024-12-02T00:00:00\",\"2024-12-03T00:00:00\",\"2024-12-04T00:00:00\",\"2024-12-05T00:00:00\",\"2024-12-06T00:00:00\",\"2024-12-07T00:00:00\",\"2024-12-08T00:00:00\",\"2024-12-09T00:00:00\",\"2024-12-10T00:00:00\",\"2024-12-11T00:00:00\",\"2024-12-12T00:00:00\",\"2024-12-13T00:00:00\",\"2024-12-14T00:00:00\",\"2024-12-15T00:00:00\",\"2024-12-16T00:00:00\",\"2024-12-17T00:00:00\",\"2024-12-18T00:00:00\",\"2024-12-19T00:00:00\",\"2024-12-20T00:00:00\",\"2024-12-21T00:00:00\",\"2024-12-22T00:00:00\",\"2024-12-23T00:00:00\",\"2024-12-24T00:00:00\",\"2024-12-25T00:00:00\",\"2024-12-26T00:00:00\",\"2024-12-27T00:00:00\",\"2024-12-28T00:00:00\",\"2024-12-29T00:00:00\",\"2024-12-30T00:00:00\",\"2024-12-31T00:00:00\",\"2025-01-01T00:00:00\",\"2025-01-02T00:00:00\",\"2025-01-03T00:00:00\",\"2025-01-04T00:00:00\",\"2025-01-05T00:00:00\",\"2025-01-06T00:00:00\",\"2025-01-07T00:00:00\",\"2025-01-08T00:00:00\",\"2025-01-09T00:00:00\",\"2025-01-10T00:00:00\",\"2025-01-11T00:00:00\",\"2025-01-12T00:00:00\",\"2025-01-13T00:00:00\",\"2025-01-14T00:00:00\",\"2025-01-15T00:00:00\",\"2025-01-16T00:00:00\",\"2025-01-17T00:00:00\",\"2025-01-18T00:00:00\",\"2025-01-19T00:00:00\",\"2025-01-20T00:00:00\",\"2025-01-21T00:00:00\",\"2025-01-22T00:00:00\",\"2025-01-23T00:00:00\",\"2025-01-24T00:00:00\",\"2025-01-25T00:00:00\",\"2025-01-26T00:00:00\",\"2025-01-27T00:00:00\",\"2025-01-28T00:00:00\",\"2025-01-29T00:00:00\",\"2025-01-30T00:00:00\",\"2025-01-31T00:00:00\",\"2025-02-01T00:00:00\",\"2025-02-02T00:00:00\",\"2025-02-03T00:00:00\",\"2025-02-04T00:00:00\",\"2025-02-05T00:00:00\",\"2025-02-06T00:00:00\",\"2025-02-07T00:00:00\",\"2025-02-08T00:00:00\",\"2025-02-09T00:00:00\",\"2025-02-10T00:00:00\",\"2025-02-11T00:00:00\",\"2025-02-12T00:00:00\",\"2025-02-13T00:00:00\",\"2025-02-14T00:00:00\",\"2025-02-15T00:00:00\",\"2025-02-16T00:00:00\",\"2025-02-17T00:00:00\",\"2025-02-18T00:00:00\",\"2025-02-19T00:00:00\",\"2025-02-20T00:00:00\",\"2025-02-21T00:00:00\",\"2025-02-22T00:00:00\",\"2025-02-23T00:00:00\",\"2025-02-24T00:00:00\",\"2025-02-25T00:00:00\",\"2025-02-26T00:00:00\",\"2025-02-27T00:00:00\",\"2025-02-28T00:00:00\",\"2025-03-01T00:00:00\",\"2025-03-02T00:00:00\",\"2025-03-03T00:00:00\",\"2025-03-04T00:00:00\",\"2025-03-05T00:00:00\",\"2025-03-06T00:00:00\",\"2025-03-07T00:00:00\",\"2025-03-08T00:00:00\",\"2025-03-09T00:00:00\",\"2025-03-10T00:00:00\",\"2025-03-11T00:00:00\",\"2025-03-12T00:00:00\",\"2025-03-13T00:00:00\",\"2025-03-14T00:00:00\",\"2025-03-15T00:00:00\",\"2025-03-16T00:00:00\",\"2025-03-17T00:00:00\",\"2025-03-18T00:00:00\",\"2025-03-19T00:00:00\",\"2025-03-20T00:00:00\",\"2025-03-21T00:00:00\",\"2025-03-22T00:00:00\",\"2025-03-23T00:00:00\",\"2025-03-24T00:00:00\",\"2025-03-25T00:00:00\",\"2025-03-26T00:00:00\",\"2025-03-27T00:00:00\",\"2025-03-28T00:00:00\",\"2025-03-29T00:00:00\",\"2025-03-30T00:00:00\",\"2025-03-31T00:00:00\",\"2025-04-01T00:00:00\",\"2025-04-02T00:00:00\",\"2025-04-03T00:00:00\",\"2025-04-04T00:00:00\",\"2025-04-05T00:00:00\",\"2025-04-06T00:00:00\",\"2025-04-07T00:00:00\",\"2025-04-08T00:00:00\",\"2025-04-09T00:00:00\",\"2025-04-10T00:00:00\",\"2025-04-11T00:00:00\"],\"y\":[0.0,0.3063341425733834,0.2893401015228426,0.30125800044140366,0.3396601191789892,0.0,0.26969763849039946,0.4102847053630545,0.0,0.4250717280953432,0.48289560803354664,0.0,0.0,0.0,0.2924299271683955,0.30545133524608253,0.3264180092694769,0.31185168836901345,0.29353343632752155,0.0,0.0,0.29110571617744424,0.2769807989406312,0.29000220701831825,0.2968439638048995,0.2926506290002207,0.0,0.0,0.3001544912822776,0.2937541381593467,0.31670712866916795,0.29132641800926945,0.30567203707790774,0.0,0.32244537629662323,0.32399028911939964,0.0,0.2655043036857206,0.5162215846391525,0.34319134848819244,0.4171264621496358,0.0,0.29441624365482233,0.34981240344294856,0.3173692341646436,0.309203266387111,0.3142794085190907,0.0,0.0,0.32465239461487533,0.34032222467446477,0.33855661001986315,0.3209004634738468,0.3034650187596557,0.0,0.0,0.3032443169278305,0.29640256014124916,0.30545133524608253,0.29574045464577353,0.3098653718825866,0.0,0.0,0.31626572500551753,0.29772677113220036,0.2893401015228426,0.2668285146766718,0.0,0.45729419554182293,0.4522180534098432,0.0,0.29353343632752155,0.3034650187596557,0.31781063782829394,0.31803133966011915,0.0,0.0,0.31626572500551753,0.3050099315824321,0.28779518870006615,0.28514676671816375,0.2882365923637166,0.0,0.0,0.29110571617744424,0.2922092253365703,0.28205694107261087,0.2871330832045906,0.2871330832045906,0.0,0.0,0.31185168836901345,0.0,0.29772677113220036,0.3608474950342088,0.0,0.29044361068196867,0.27058044581770024,0.0,0.47053630545133523,0.42396821893621717,0.4851026263517987,0.2968439638048995,0.0,0.0,0.4244096225998676,0.4060913705583756,0.40189803575369676,0.39726329728536747,0.41293312734495696,0.0,0.0,0.37386890311189586,0.34628117413374526,0.352460825424851,0.3392187155153387,0.3317148532332818,0.0,0.0,0.3237695872875745,0.3453983668064445,0.29463694548664754,0.3016994041050541,0.3191348488192452,0.3537850364158023,0.0,0.27874641359523283,0.2754358861178548,0.8512469653498124,0.4391966453321562,0.0,0.4522180534098432,0.2988302802913264,0.3001544912822776,0.29618185830942395,0.2747737806223791,0.27411167512690354,0.26462149635841975,0.0,0.0,0.26815272566762305,0.2617523725446921,0.2712425513131759,0.28183623924078566,0.26329728536746855,0.0,0.0,0.2727874641359523,0.28514676671816375,0.3151622158463915,0.3193555506510704,0.28514676671816375,0.0,0.2882365923637166,0.320017656146546,0.0,0.29772677113220036,0.2776429044361068,0.0,0.6115647759876407,0.49393069962480685,0.0,0.35908188037960714,0.28183623924078566,0.26351798719929376,0.27940851909070846,0.0,0.0,0.2813948355771353,0.2714632531450011,0.2754358861178548,0.29309203266387107,0.29132641800926945,0.0,0.0,0.2941955418229971,0.2833811520635621,0.2769807989406312,0.2701390421540499,0.27455307879055396,0.0,0.0,0.0,0.2831604502317369,0.3186934451555948,0.0,0.2919885235047451,0.26969763849039946,0.0,0.6146546016331935,0.0,0.4996689472522622,0.33546678437431027,0.0,0.0,0.0,0.28956080335466783,0.29110571617744424,0.3195762524828956,0.3515780180975502,0.3645994261752372,0.0,0.0,0.32906643125137935,0.3248730964467005,0.39814610461266825,0.40741558154932683,0.3617303023615096,0.0,0.0,0.3663650408298389,0.39042154049878613,0.361068196866034,0.288677996027367,0.2822776429044361,0.3253145001103509,0.33524608254248506,0.28691238137276537,0.0,0.2730081659677775,0.5250496579121606,0.0,0.4727433237695873,0.329728536746855,0.0,0.3999117192672699,0.3573162657250055,0.3361288898697859,0.32663871110130216,0.0,0.0,0.32332818362392407,0.3504745089384242,0.35908188037960714,0.38733171485323326,0.35003310527477377,0.0,0.0,0.35643345839770463,0.34054292650629,0.37762083425292425,0.3453983668064445,0.3310527477378062,0.0,0.28161553740896045,0.28536746854998896,0.0,0.3306113440741558,0.28007062458618404,0.0,0.2760979916133304,0.4495696314279409,0.42926506290002203,0.4603840211873758,0.0,0.31317589935996465,0.365482233502538,0.0,0.0,0.3782829397483999,0.38865592584418446,0.4023394394173472,0.36040609137055835,0.35643345839770463,0.0,0.0,0.3506952107702494,0.3396601191789892,0.34010152284263956,0.3392187155153387,0.3743103067755462,0.0,0.0,0.3692341646435665,0.28007062458618404,0.0,0.0,0.34870889428382257,0.2769807989406312,0.2811741337453101,0.28360185389538733,0.0,0.42109909512248944,0.4619289340101523,0.0,0.31295519752813944,0.0,0.43478260869565216,0.45552858088722137,0.43213418671374965,0.42176120061796507,0.3979254027808431,0.0,0.0,0.4054292650629,0.4016773339218715,0.42463032443169274,0.42109909512248944,0.44868682410064,0.0,0.0,0.4369896270139042,0.4268373427499448,0.44912822776429046,0.5111454425071728,0.27455307879055396,0.0,0.3359081880379607,0.32906643125137935,0.0,0.28360185389538733,0.28514676671816375,0.0,0.39042154049878613,0.4515559479143677,0.3303906422423306,0.2997130876186272,0.3094239682189362,0.3158243213418671,0.3562127565658795,0.0,0.0,0.34385345398366807,0.3608474950342088,0.3787243434120503,0.3723239902891194,0.3363495917016111,0.0,0.0,0.322224674464798,0.3111895828735378,0.3111895828735378,0.30677554623703374,0.2981681747958508,0.0,0.28029132641800925,0.30743765173250936,0.30545133524608253,0.38203487088942834,0.0,0.26572500551754574,0.2749944824542044,0.4570734937099978,0.37673802692562347,0.0,0.32465239461487533,0.30721694990068416,0.3047892297506069,0.0,0.0,0.32421099095122485,0.3502538071065989,0.6095784595012138,0.5316707128669168,0.4052085632310748,0.0,0.0,0.37033767380269256,0.31494151401456627,0.0,0.3250937982785257,0.3520194217612006,0.0,0.0,0.38402118737585517,0.38291767821672923,0.0,0.0,0.0,0.4804678878834694,0.0,0.0,0.0,0.0,0.0,0.0,0.0,0.0,0.42352681527256675,0.41293312734495696,0.3557713529022291,0.3663650408298389,0.352460825424851,0.0,0.0,0.3489295961156478,0.33237695872875744,0.3332597660560582,0.3314941514014566,0.32774222026042815,0.0,0.0,0.39505627896711537,0.36217170602515997,0.365482233502538,0.34959170161112335,0.3626131096888104,0.395718384462591,0.0,0.0,0.47472964025601416,0.0,0.0,0.0,0.0,0.0,0.0,0.0,0.0,0.3332597660560582,0.3259766056058265,0.0,0.0,0.3392187155153387,0.33877731185168836,0.33701169719708673,0.3456190686382697,0.40189803575369676,0.0,0.0,0.41889207680423746,0.4288236592363716,0.4215404987861399,0.4663429706466563,0.4332376958728757,0.35599205473405426,0.41094681085853013,0.502758772897815,0.6625468991392628,0.0,0.0,0.0,0.0,0.0,0.0,0.0,0.0,0.5442507172809534,0.4804678878834694,0.0,0.0,0.4526594570734937,0.478922975060693,0.4391966453321562,0.4369896270139042,0.4255131317589936,0.0,0.0,0.38578680203045684,0.3785036415802251,0.40454645773559916,0.41249172368130654,0.47781946590156693,0.0,0.0,0.49172368130655486,0.0,0.37982785257117635,0.518870006621055,1.0,0.0,0.0,0.0,0.0,0.0,0.0,0.0],\"type\":\"scatter\"},{\"mode\":\"lines\",\"name\":\"EUR_USD\",\"x\":[\"2024-01-01T00:00:00\",\"2024-01-02T00:00:00\",\"2024-01-03T00:00:00\",\"2024-01-04T00:00:00\",\"2024-01-05T00:00:00\",\"2024-01-06T00:00:00\",\"2024-01-07T00:00:00\",\"2024-01-08T00:00:00\",\"2024-01-09T00:00:00\",\"2024-01-10T00:00:00\",\"2024-01-11T00:00:00\",\"2024-01-12T00:00:00\",\"2024-01-13T00:00:00\",\"2024-01-14T00:00:00\",\"2024-01-15T00:00:00\",\"2024-01-16T00:00:00\",\"2024-01-17T00:00:00\",\"2024-01-18T00:00:00\",\"2024-01-19T00:00:00\",\"2024-01-20T00:00:00\",\"2024-01-21T00:00:00\",\"2024-01-22T00:00:00\",\"2024-01-23T00:00:00\",\"2024-01-24T00:00:00\",\"2024-01-25T00:00:00\",\"2024-01-26T00:00:00\",\"2024-01-27T00:00:00\",\"2024-01-28T00:00:00\",\"2024-01-29T00:00:00\",\"2024-01-30T00:00:00\",\"2024-01-31T00:00:00\",\"2024-02-01T00:00:00\",\"2024-02-02T00:00:00\",\"2024-02-03T00:00:00\",\"2024-02-04T00:00:00\",\"2024-02-05T00:00:00\",\"2024-02-06T00:00:00\",\"2024-02-07T00:00:00\",\"2024-02-08T00:00:00\",\"2024-02-09T00:00:00\",\"2024-02-10T00:00:00\",\"2024-02-11T00:00:00\",\"2024-02-12T00:00:00\",\"2024-02-13T00:00:00\",\"2024-02-14T00:00:00\",\"2024-02-15T00:00:00\",\"2024-02-16T00:00:00\",\"2024-02-17T00:00:00\",\"2024-02-18T00:00:00\",\"2024-02-19T00:00:00\",\"2024-02-20T00:00:00\",\"2024-02-21T00:00:00\",\"2024-02-22T00:00:00\",\"2024-02-23T00:00:00\",\"2024-02-24T00:00:00\",\"2024-02-25T00:00:00\",\"2024-02-26T00:00:00\",\"2024-02-27T00:00:00\",\"2024-02-28T00:00:00\",\"2024-02-29T00:00:00\",\"2024-03-01T00:00:00\",\"2024-03-02T00:00:00\",\"2024-03-03T00:00:00\",\"2024-03-04T00:00:00\",\"2024-03-05T00:00:00\",\"2024-03-06T00:00:00\",\"2024-03-07T00:00:00\",\"2024-03-08T00:00:00\",\"2024-03-09T00:00:00\",\"2024-03-10T00:00:00\",\"2024-03-11T00:00:00\",\"2024-03-12T00:00:00\",\"2024-03-13T00:00:00\",\"2024-03-14T00:00:00\",\"2024-03-15T00:00:00\",\"2024-03-16T00:00:00\",\"2024-03-17T00:00:00\",\"2024-03-18T00:00:00\",\"2024-03-19T00:00:00\",\"2024-03-20T00:00:00\",\"2024-03-21T00:00:00\",\"2024-03-22T00:00:00\",\"2024-03-23T00:00:00\",\"2024-03-24T00:00:00\",\"2024-03-25T00:00:00\",\"2024-03-26T00:00:00\",\"2024-03-27T00:00:00\",\"2024-03-28T00:00:00\",\"2024-03-29T00:00:00\",\"2024-03-30T00:00:00\",\"2024-03-31T00:00:00\",\"2024-04-01T00:00:00\",\"2024-04-02T00:00:00\",\"2024-04-03T00:00:00\",\"2024-04-04T00:00:00\",\"2024-04-05T00:00:00\",\"2024-04-06T00:00:00\",\"2024-04-07T00:00:00\",\"2024-04-08T00:00:00\",\"2024-04-09T00:00:00\",\"2024-04-10T00:00:00\",\"2024-04-11T00:00:00\",\"2024-04-12T00:00:00\",\"2024-04-13T00:00:00\",\"2024-04-14T00:00:00\",\"2024-04-15T00:00:00\",\"2024-04-16T00:00:00\",\"2024-04-17T00:00:00\",\"2024-04-18T00:00:00\",\"2024-04-19T00:00:00\",\"2024-04-20T00:00:00\",\"2024-04-21T00:00:00\",\"2024-04-22T00:00:00\",\"2024-04-23T00:00:00\",\"2024-04-24T00:00:00\",\"2024-04-25T00:00:00\",\"2024-04-26T00:00:00\",\"2024-04-27T00:00:00\",\"2024-04-28T00:00:00\",\"2024-04-29T00:00:00\",\"2024-04-30T00:00:00\",\"2024-05-01T00:00:00\",\"2024-05-02T00:00:00\",\"2024-05-03T00:00:00\",\"2024-05-04T00:00:00\",\"2024-05-05T00:00:00\",\"2024-05-06T00:00:00\",\"2024-05-07T00:00:00\",\"2024-05-08T00:00:00\",\"2024-05-09T00:00:00\",\"2024-05-10T00:00:00\",\"2024-05-11T00:00:00\",\"2024-05-12T00:00:00\",\"2024-05-13T00:00:00\",\"2024-05-14T00:00:00\",\"2024-05-15T00:00:00\",\"2024-05-16T00:00:00\",\"2024-05-17T00:00:00\",\"2024-05-18T00:00:00\",\"2024-05-19T00:00:00\",\"2024-05-20T00:00:00\",\"2024-05-21T00:00:00\",\"2024-05-22T00:00:00\",\"2024-05-23T00:00:00\",\"2024-05-24T00:00:00\",\"2024-05-25T00:00:00\",\"2024-05-26T00:00:00\",\"2024-05-27T00:00:00\",\"2024-05-28T00:00:00\",\"2024-05-29T00:00:00\",\"2024-05-30T00:00:00\",\"2024-05-31T00:00:00\",\"2024-06-01T00:00:00\",\"2024-06-02T00:00:00\",\"2024-06-03T00:00:00\",\"2024-06-04T00:00:00\",\"2024-06-05T00:00:00\",\"2024-06-06T00:00:00\",\"2024-06-07T00:00:00\",\"2024-06-08T00:00:00\",\"2024-06-09T00:00:00\",\"2024-06-10T00:00:00\",\"2024-06-11T00:00:00\",\"2024-06-12T00:00:00\",\"2024-06-13T00:00:00\",\"2024-06-14T00:00:00\",\"2024-06-15T00:00:00\",\"2024-06-16T00:00:00\",\"2024-06-17T00:00:00\",\"2024-06-18T00:00:00\",\"2024-06-19T00:00:00\",\"2024-06-20T00:00:00\",\"2024-06-21T00:00:00\",\"2024-06-22T00:00:00\",\"2024-06-23T00:00:00\",\"2024-06-24T00:00:00\",\"2024-06-25T00:00:00\",\"2024-06-26T00:00:00\",\"2024-06-27T00:00:00\",\"2024-06-28T00:00:00\",\"2024-06-29T00:00:00\",\"2024-06-30T00:00:00\",\"2024-07-01T00:00:00\",\"2024-07-02T00:00:00\",\"2024-07-03T00:00:00\",\"2024-07-04T00:00:00\",\"2024-07-05T00:00:00\",\"2024-07-06T00:00:00\",\"2024-07-07T00:00:00\",\"2024-07-08T00:00:00\",\"2024-07-09T00:00:00\",\"2024-07-10T00:00:00\",\"2024-07-11T00:00:00\",\"2024-07-12T00:00:00\",\"2024-07-13T00:00:00\",\"2024-07-14T00:00:00\",\"2024-07-15T00:00:00\",\"2024-07-16T00:00:00\",\"2024-07-17T00:00:00\",\"2024-07-18T00:00:00\",\"2024-07-19T00:00:00\",\"2024-07-20T00:00:00\",\"2024-07-21T00:00:00\",\"2024-07-22T00:00:00\",\"2024-07-23T00:00:00\",\"2024-07-24T00:00:00\",\"2024-07-25T00:00:00\",\"2024-07-26T00:00:00\",\"2024-07-27T00:00:00\",\"2024-07-28T00:00:00\",\"2024-07-29T00:00:00\",\"2024-07-30T00:00:00\",\"2024-07-31T00:00:00\",\"2024-08-01T00:00:00\",\"2024-08-02T00:00:00\",\"2024-08-03T00:00:00\",\"2024-08-04T00:00:00\",\"2024-08-05T00:00:00\",\"2024-08-06T00:00:00\",\"2024-08-07T00:00:00\",\"2024-08-08T00:00:00\",\"2024-08-09T00:00:00\",\"2024-08-10T00:00:00\",\"2024-08-11T00:00:00\",\"2024-08-12T00:00:00\",\"2024-08-13T00:00:00\",\"2024-08-14T00:00:00\",\"2024-08-15T00:00:00\",\"2024-08-16T00:00:00\",\"2024-08-17T00:00:00\",\"2024-08-18T00:00:00\",\"2024-08-19T00:00:00\",\"2024-08-20T00:00:00\",\"2024-08-21T00:00:00\",\"2024-08-22T00:00:00\",\"2024-08-23T00:00:00\",\"2024-08-24T00:00:00\",\"2024-08-25T00:00:00\",\"2024-08-26T00:00:00\",\"2024-08-27T00:00:00\",\"2024-08-28T00:00:00\",\"2024-08-29T00:00:00\",\"2024-08-30T00:00:00\",\"2024-08-31T00:00:00\",\"2024-09-01T00:00:00\",\"2024-09-02T00:00:00\",\"2024-09-03T00:00:00\",\"2024-09-04T00:00:00\",\"2024-09-05T00:00:00\",\"2024-09-06T00:00:00\",\"2024-09-07T00:00:00\",\"2024-09-08T00:00:00\",\"2024-09-09T00:00:00\",\"2024-09-10T00:00:00\",\"2024-09-11T00:00:00\",\"2024-09-12T00:00:00\",\"2024-09-13T00:00:00\",\"2024-09-14T00:00:00\",\"2024-09-15T00:00:00\",\"2024-09-16T00:00:00\",\"2024-09-17T00:00:00\",\"2024-09-18T00:00:00\",\"2024-09-19T00:00:00\",\"2024-09-20T00:00:00\",\"2024-09-21T00:00:00\",\"2024-09-22T00:00:00\",\"2024-09-23T00:00:00\",\"2024-09-24T00:00:00\",\"2024-09-25T00:00:00\",\"2024-09-26T00:00:00\",\"2024-09-27T00:00:00\",\"2024-09-28T00:00:00\",\"2024-09-29T00:00:00\",\"2024-09-30T00:00:00\",\"2024-10-01T00:00:00\",\"2024-10-02T00:00:00\",\"2024-10-03T00:00:00\",\"2024-10-04T00:00:00\",\"2024-10-05T00:00:00\",\"2024-10-06T00:00:00\",\"2024-10-07T00:00:00\",\"2024-10-08T00:00:00\",\"2024-10-09T00:00:00\",\"2024-10-10T00:00:00\",\"2024-10-11T00:00:00\",\"2024-10-12T00:00:00\",\"2024-10-13T00:00:00\",\"2024-10-14T00:00:00\",\"2024-10-15T00:00:00\",\"2024-10-16T00:00:00\",\"2024-10-17T00:00:00\",\"2024-10-18T00:00:00\",\"2024-10-19T00:00:00\",\"2024-10-20T00:00:00\",\"2024-10-21T00:00:00\",\"2024-10-22T00:00:00\",\"2024-10-23T00:00:00\",\"2024-10-24T00:00:00\",\"2024-10-25T00:00:00\",\"2024-10-26T00:00:00\",\"2024-10-27T00:00:00\",\"2024-10-28T00:00:00\",\"2024-10-29T00:00:00\",\"2024-10-30T00:00:00\",\"2024-10-31T00:00:00\",\"2024-11-01T00:00:00\",\"2024-11-02T00:00:00\",\"2024-11-03T00:00:00\",\"2024-11-04T00:00:00\",\"2024-11-05T00:00:00\",\"2024-11-06T00:00:00\",\"2024-11-07T00:00:00\",\"2024-11-08T00:00:00\",\"2024-11-09T00:00:00\",\"2024-11-10T00:00:00\",\"2024-11-11T00:00:00\",\"2024-11-12T00:00:00\",\"2024-11-13T00:00:00\",\"2024-11-14T00:00:00\",\"2024-11-15T00:00:00\",\"2024-11-16T00:00:00\",\"2024-11-17T00:00:00\",\"2024-11-18T00:00:00\",\"2024-11-19T00:00:00\",\"2024-11-20T00:00:00\",\"2024-11-21T00:00:00\",\"2024-11-22T00:00:00\",\"2024-11-23T00:00:00\",\"2024-11-24T00:00:00\",\"2024-11-25T00:00:00\",\"2024-11-26T00:00:00\",\"2024-11-27T00:00:00\",\"2024-11-28T00:00:00\",\"2024-11-29T00:00:00\",\"2024-11-30T00:00:00\",\"2024-12-01T00:00:00\",\"2024-12-02T00:00:00\",\"2024-12-03T00:00:00\",\"2024-12-04T00:00:00\",\"2024-12-05T00:00:00\",\"2024-12-06T00:00:00\",\"2024-12-07T00:00:00\",\"2024-12-08T00:00:00\",\"2024-12-09T00:00:00\",\"2024-12-10T00:00:00\",\"2024-12-11T00:00:00\",\"2024-12-12T00:00:00\",\"2024-12-13T00:00:00\",\"2024-12-14T00:00:00\",\"2024-12-15T00:00:00\",\"2024-12-16T00:00:00\",\"2024-12-17T00:00:00\",\"2024-12-18T00:00:00\",\"2024-12-19T00:00:00\",\"2024-12-20T00:00:00\",\"2024-12-21T00:00:00\",\"2024-12-22T00:00:00\",\"2024-12-23T00:00:00\",\"2024-12-24T00:00:00\",\"2024-12-25T00:00:00\",\"2024-12-26T00:00:00\",\"2024-12-27T00:00:00\",\"2024-12-28T00:00:00\",\"2024-12-29T00:00:00\",\"2024-12-30T00:00:00\",\"2024-12-31T00:00:00\",\"2025-01-01T00:00:00\",\"2025-01-02T00:00:00\",\"2025-01-03T00:00:00\",\"2025-01-04T00:00:00\",\"2025-01-05T00:00:00\",\"2025-01-06T00:00:00\",\"2025-01-07T00:00:00\",\"2025-01-08T00:00:00\",\"2025-01-09T00:00:00\",\"2025-01-10T00:00:00\",\"2025-01-11T00:00:00\",\"2025-01-12T00:00:00\",\"2025-01-13T00:00:00\",\"2025-01-14T00:00:00\",\"2025-01-15T00:00:00\",\"2025-01-16T00:00:00\",\"2025-01-17T00:00:00\",\"2025-01-18T00:00:00\",\"2025-01-19T00:00:00\",\"2025-01-20T00:00:00\",\"2025-01-21T00:00:00\",\"2025-01-22T00:00:00\",\"2025-01-23T00:00:00\",\"2025-01-24T00:00:00\",\"2025-01-25T00:00:00\",\"2025-01-26T00:00:00\",\"2025-01-27T00:00:00\",\"2025-01-28T00:00:00\",\"2025-01-29T00:00:00\",\"2025-01-30T00:00:00\",\"2025-01-31T00:00:00\",\"2025-02-01T00:00:00\",\"2025-02-02T00:00:00\",\"2025-02-03T00:00:00\",\"2025-02-04T00:00:00\",\"2025-02-05T00:00:00\",\"2025-02-06T00:00:00\",\"2025-02-07T00:00:00\",\"2025-02-08T00:00:00\",\"2025-02-09T00:00:00\",\"2025-02-10T00:00:00\",\"2025-02-11T00:00:00\",\"2025-02-12T00:00:00\",\"2025-02-13T00:00:00\",\"2025-02-14T00:00:00\",\"2025-02-15T00:00:00\",\"2025-02-16T00:00:00\",\"2025-02-17T00:00:00\",\"2025-02-18T00:00:00\",\"2025-02-19T00:00:00\",\"2025-02-20T00:00:00\",\"2025-02-21T00:00:00\",\"2025-02-22T00:00:00\",\"2025-02-23T00:00:00\",\"2025-02-24T00:00:00\",\"2025-02-25T00:00:00\",\"2025-02-26T00:00:00\",\"2025-02-27T00:00:00\",\"2025-02-28T00:00:00\",\"2025-03-01T00:00:00\",\"2025-03-02T00:00:00\",\"2025-03-03T00:00:00\",\"2025-03-04T00:00:00\",\"2025-03-05T00:00:00\",\"2025-03-06T00:00:00\",\"2025-03-07T00:00:00\",\"2025-03-08T00:00:00\",\"2025-03-09T00:00:00\",\"2025-03-10T00:00:00\",\"2025-03-11T00:00:00\",\"2025-03-12T00:00:00\",\"2025-03-13T00:00:00\",\"2025-03-14T00:00:00\",\"2025-03-15T00:00:00\",\"2025-03-16T00:00:00\",\"2025-03-17T00:00:00\",\"2025-03-18T00:00:00\",\"2025-03-19T00:00:00\",\"2025-03-20T00:00:00\",\"2025-03-21T00:00:00\",\"2025-03-22T00:00:00\",\"2025-03-23T00:00:00\",\"2025-03-24T00:00:00\",\"2025-03-25T00:00:00\",\"2025-03-26T00:00:00\",\"2025-03-27T00:00:00\",\"2025-03-28T00:00:00\",\"2025-03-29T00:00:00\",\"2025-03-30T00:00:00\",\"2025-03-31T00:00:00\",\"2025-04-01T00:00:00\",\"2025-04-02T00:00:00\",\"2025-04-03T00:00:00\",\"2025-04-04T00:00:00\",\"2025-04-05T00:00:00\",\"2025-04-06T00:00:00\",\"2025-04-07T00:00:00\",\"2025-04-08T00:00:00\",\"2025-04-09T00:00:00\",\"2025-04-10T00:00:00\",\"2025-04-11T00:00:00\"],\"y\":[0.986952636282395,0.9715817694369973,0.9684539767649688,0.9600536193029491,0.9570151921358355,0.0,0.9596067917783736,0.964343163538874,0.0,0.9890080428954424,0.9681858802502233,0.0,0.0,0.0,0.9783735478105451,0.9717605004468275,0.9723860589812333,0.9717605004468275,0.9738159070598748,0.0,0.0,0.9723860589812333,0.9697050938337801,0.9725647899910635,0.9692582663092046,0.9697944593386952,0.0,0.0,0.9680965147453082,0.968722073279714,0.9665773011617514,0.9782841823056301,0.9637176050044683,0.0,0.9622877569258266,0.9584450402144772,0.0,0.9601429848078642,0.974798927613941,0.9893655049151028,0.9870420017873102,0.0,0.9380697050938338,0.9570151921358355,0.9584450402144772,0.9625558534405719,0.9628239499553172,0.0,0.0,0.9630920464700626,0.9654155495978552,0.9666666666666668,0.9672028596961573,0.9667560321715819,0.0,0.0,0.9693476318141198,0.9690795352993745,0.9683646112600536,0.9654155495978552,0.9759606791778375,0.0,0.0,0.9682752457551385,0.9613941018766757,0.9742627345844505,0.9638963360142985,0.0,0.9868632707774799,0.9857908847184986,0.0,0.939142091152815,0.978194816800715,0.9723860589812333,0.9729222520107239,0.0,0.0,0.9714924039320821,0.9709562109025917,0.9756925826630921,0.9705093833780162,0.9655942806076855,0.0,0.0,0.9683646112600536,0.967828418230563,0.9674709562109026,0.9639857015192136,0.9645218945487042,0.0,0.0,0.9779267202859697,0.0,0.9699731903485254,0.9682752457551385,0.0,0.9721179624664881,0.966041108132261,0.0,0.990348525469169,0.9808757819481679,0.9720285969615727,0.9392314566577301,0.0,0.0,0.9492403932082216,0.9487935656836461,0.9536193029490616,0.9511170688114388,0.9521000893655048,0.0,0.0,0.9521000893655048,0.9561215370866846,0.9559428060768544,0.9588025022341375,0.9554959785522787,0.0,0.0,0.9579088471849867,0.953083109919571,0.9777479892761395,0.959874888293119,0.9700625558534405,0.9682752457551385,0.0,0.9712243074173369,0.9683646112600536,0.9787310098302056,0.9928507596067918,0.0,0.9767649687220733,0.9460232350312779,0.9640750670241287,0.9667560321715819,0.9724754244861484,0.9709562109025917,0.9714030384271671,0.0,0.0,0.9700625558534405,0.9699731903485254,0.9670241286863271,0.9663092046470062,0.9691689008042895,0.0,0.0,0.9703306523681859,0.9700625558534405,0.96514745308311,0.9680071492403931,0.9688114387846292,0.0,0.9610366398570152,0.9738159070598748,0.0,0.9622877569258266,0.9730116175156389,0.0,0.9767649687220733,0.9904378909740841,0.0,0.9587131367292225,0.944414655942806,0.9593386952636281,0.9562109025915997,0.0,0.0,0.959249329758713,0.9596067917783736,0.959964253798034,0.9562109025915997,0.9554066130473636,0.0,0.0,0.9590705987488829,0.9573726541554959,0.9543342269883826,0.9563896336014299,0.9573726541554959,0.0,0.0,0.0,0.9625558534405719,0.978194816800715,0.0,0.9608579088471849,0.96514745308311,0.0,0.9759606791778375,0.0,0.9806970509383377,0.9655049151027704,0.0,0.0,0.0,0.9735478105451295,0.9738159070598748,0.9773905272564789,0.9737265415549597,0.9720285969615727,0.0,0.0,0.973100983020554,0.9697050938337801,0.968632707774799,0.9690795352993745,0.9702412868632709,0.0,0.0,0.9668453976764969,0.9664879356568363,0.9673815907059875,0.9784629133154602,0.9630026809651474,0.9773905272564789,0.9703306523681859,0.9602323503127793,0.0,0.9671134941912423,0.9756925826630921,0.0,0.9812332439678285,0.9578194816800716,0.0,0.9823056300268096,0.9840929401251117,0.9804289544235925,0.9855227882037534,0.0,0.0,0.9906166219839142,0.9946380697050938,0.9964253798033958,0.9930294906166219,1.0,0.0,0.0,0.9974084003574621,0.9994638069705094,0.9937444146559429,0.9899016979445933,0.9872207327971403,0.0,0.9768543342269883,0.9635388739946381,0.0,0.9700625558534405,0.963449508489723,0.0,0.9662198391420911,0.9755138516532618,0.9860589812332439,0.9775692582663092,0.0,0.9429848078641644,0.9898123324396783,0.0,0.0,0.9948168007149241,0.993118856121537,0.9935656836461125,0.9974084003574621,0.9974977658623772,0.0,0.0,0.9930294906166219,0.999106344950849,0.9948168007149241,0.9987488829311885,0.9975871313672923,0.0,0.0,0.9949955317247542,0.9804289544235925,0.0,0.0,0.959964253798034,0.9623771224307417,0.9618409294012511,0.967828418230563,0.0,0.9847184986595175,0.9772117962466488,0.0,0.9406613047363718,0.0,0.9748882931188562,0.9731903485254692,0.9705987488829313,0.9679177837354781,0.9710455764075067,0.0,0.0,0.9664879356568363,0.9648793565683647,0.963449508489723,0.9675603217158177,0.9645218945487042,0.0,0.0,0.9662198391420911,0.9667560321715819,0.9700625558534405,0.9725647899910635,0.9803395889186773,0.0,0.9764075067024129,0.9583556747095622,0.0,0.9596961572832887,0.9709562109025917,0.0,0.9840035746201966,0.9773905272564789,0.9521000893655048,0.9378016085790886,0.9439678284182306,0.9410187667560321,0.9420017873100983,0.0,0.0,0.9471849865951744,0.946827524575514,0.9421805183199286,0.9359249329758712,0.9309204647006256,0.0,0.0,0.9378016085790886,0.9370866845397676,0.9440571939231457,0.9430741733690795,0.9450402144772119,0.0,0.9784629133154602,0.9625558534405719,0.9762287756925827,0.9510277033065238,0.0,0.9657730116175156,0.9746201966041108,0.9768543342269883,0.989633601429848,0.0,0.9493297587131367,0.9353887399463807,0.9385165326184093,0.0,0.0,0.9392314566577301,0.9373547810545129,0.9251117068811437,0.9260053619302949,0.9319928507596067,0.0,0.0,0.9298480786416443,0.9291331546023236,0.9297587131367292,0.9313672922252011,0.9318141197497766,0.0,0.0,0.9300268096514746,0.9252010723860591,0.9253798033958893,0.0,0.0,0.9645218945487042,0.0,0.0,0.0,0.0,0.0,0.0,0.0,0.0,0.9154602323503127,0.9210902591599642,0.9194816800714923,0.9202859696157284,0.9178731009830204,0.0,0.0,0.9306523681858804,0.9319928507596067,0.9300268096514746,0.9307417336907955,0.9377122430741733,0.0,0.0,0.9375335120643431,0.9319034852546917,0.9311885612153709,0.9285075960679178,0.9260053619302949,0.91733690795353,0.0,0.0,0.9700625558534405,0.0,0.0,0.0,0.0,0.0,0.0,0.0,0.0,0.9351206434316354,0.9375335120643431,0.0,0.0,0.9367292225201073,0.9334226988382485,0.931277926720286,0.9383378016085792,0.9345844504021449,0.0,0.0,0.9352993744414656,0.9394995531724754,0.9368185880250224,0.9291331546023236,0.9271671134941913,0.9211796246648793,0.924396782841823,0.9370866845397676,0.9874888293118856,0.0,0.0,0.0,0.0,0.0,0.0,0.0,0.0,0.9697944593386952,0.9722073279714031,0.0,0.0,0.9759606791778375,0.9779267202859697,0.9741733690795353,0.9697050938337801,0.9663985701519213,0.0,0.0,0.96514745308311,0.964343163538874,0.9608579088471849,0.9652368185880251,0.9675603217158177,0.0,0.0,0.9666666666666668,0.0,0.9273458445040215,0.9494191242180519,0.9789991063449508,0.0,0.0,0.0,0.0,0.0,0.0,0.0],\"type\":\"scatter\"},{\"marker\":{\"color\":\"yellow\",\"size\":8},\"mode\":\"markers\",\"name\":\"Subida Points\",\"x\":[\"2024-03-09T00:00:00\",\"2024-04-09T00:00:00\",\"2024-04-15T00:00:00\",\"2024-05-11T00:00:00\",\"2024-06-08T00:00:00\",\"2024-07-08T00:00:00\",\"2024-07-10T00:00:00\",\"2024-08-10T00:00:00\",\"2024-10-09T00:00:00\",\"2024-10-14T00:00:00\",\"2024-10-21T00:00:00\",\"2024-10-28T00:00:00\",\"2025-01-04T00:00:00\",\"2025-01-13T00:00:00\",\"2025-02-04T00:00:00\",\"2025-02-24T00:00:00\",\"2025-03-13T00:00:00\",\"2025-03-17T00:00:00\",\"2025-03-31T00:00:00\"],\"y\":[0.8364690788546681,0.8316264099730798,0.7925661695453232,0.8779988579310755,0.7705628026668051,0.786025229340789,0.8689735470139348,0.8702491045141387,0.8308551426473751,0.8788665336724932,0.8781397625386561,0.882804446652774,0.9861097721053373,0.8668006496444014,0.9900551011175961,0.9650408252560385,0.9508317079863249,0.9750005562023984,0.9741254644290026],\"type\":\"scatter\"},{\"mode\":\"lines\",\"name\":\"Correlation\",\"x\":[\"2024-01-01T00:00:00\",\"2024-01-02T00:00:00\",\"2024-01-03T00:00:00\",\"2024-01-04T00:00:00\",\"2024-01-05T00:00:00\",\"2024-01-06T00:00:00\",\"2024-01-07T00:00:00\",\"2024-01-08T00:00:00\",\"2024-01-09T00:00:00\",\"2024-01-10T00:00:00\",\"2024-01-11T00:00:00\",\"2024-01-12T00:00:00\",\"2024-01-13T00:00:00\",\"2024-01-14T00:00:00\",\"2024-01-15T00:00:00\",\"2024-01-16T00:00:00\",\"2024-01-17T00:00:00\",\"2024-01-18T00:00:00\",\"2024-01-19T00:00:00\",\"2024-01-20T00:00:00\",\"2024-01-21T00:00:00\",\"2024-01-22T00:00:00\",\"2024-01-23T00:00:00\",\"2024-01-24T00:00:00\",\"2024-01-25T00:00:00\",\"2024-01-26T00:00:00\",\"2024-01-27T00:00:00\",\"2024-01-28T00:00:00\",\"2024-01-29T00:00:00\",\"2024-01-30T00:00:00\",\"2024-01-31T00:00:00\",\"2024-02-01T00:00:00\",\"2024-02-02T00:00:00\",\"2024-02-03T00:00:00\",\"2024-02-04T00:00:00\",\"2024-02-05T00:00:00\",\"2024-02-06T00:00:00\",\"2024-02-07T00:00:00\",\"2024-02-08T00:00:00\",\"2024-02-09T00:00:00\",\"2024-02-10T00:00:00\",\"2024-02-11T00:00:00\",\"2024-02-12T00:00:00\",\"2024-02-13T00:00:00\",\"2024-02-14T00:00:00\",\"2024-02-15T00:00:00\",\"2024-02-16T00:00:00\",\"2024-02-17T00:00:00\",\"2024-02-18T00:00:00\",\"2024-02-19T00:00:00\",\"2024-02-20T00:00:00\",\"2024-02-21T00:00:00\",\"2024-02-22T00:00:00\",\"2024-02-23T00:00:00\",\"2024-02-24T00:00:00\",\"2024-02-25T00:00:00\",\"2024-02-26T00:00:00\",\"2024-02-27T00:00:00\",\"2024-02-28T00:00:00\",\"2024-02-29T00:00:00\",\"2024-03-01T00:00:00\",\"2024-03-02T00:00:00\",\"2024-03-03T00:00:00\",\"2024-03-04T00:00:00\",\"2024-03-05T00:00:00\",\"2024-03-06T00:00:00\",\"2024-03-07T00:00:00\",\"2024-03-08T00:00:00\",\"2024-03-09T00:00:00\",\"2024-03-10T00:00:00\",\"2024-03-11T00:00:00\",\"2024-03-12T00:00:00\",\"2024-03-13T00:00:00\",\"2024-03-14T00:00:00\",\"2024-03-15T00:00:00\",\"2024-03-16T00:00:00\",\"2024-03-17T00:00:00\",\"2024-03-18T00:00:00\",\"2024-03-19T00:00:00\",\"2024-03-20T00:00:00\",\"2024-03-21T00:00:00\",\"2024-03-22T00:00:00\",\"2024-03-23T00:00:00\",\"2024-03-24T00:00:00\",\"2024-03-25T00:00:00\",\"2024-03-26T00:00:00\",\"2024-03-27T00:00:00\",\"2024-03-28T00:00:00\",\"2024-03-29T00:00:00\",\"2024-03-30T00:00:00\",\"2024-03-31T00:00:00\",\"2024-04-01T00:00:00\",\"2024-04-02T00:00:00\",\"2024-04-03T00:00:00\",\"2024-04-04T00:00:00\",\"2024-04-05T00:00:00\",\"2024-04-06T00:00:00\",\"2024-04-07T00:00:00\",\"2024-04-08T00:00:00\",\"2024-04-09T00:00:00\",\"2024-04-10T00:00:00\",\"2024-04-11T00:00:00\",\"2024-04-12T00:00:00\",\"2024-04-13T00:00:00\",\"2024-04-14T00:00:00\",\"2024-04-15T00:00:00\",\"2024-04-16T00:00:00\",\"2024-04-17T00:00:00\",\"2024-04-18T00:00:00\",\"2024-04-19T00:00:00\",\"2024-04-20T00:00:00\",\"2024-04-21T00:00:00\",\"2024-04-22T00:00:00\",\"2024-04-23T00:00:00\",\"2024-04-24T00:00:00\",\"2024-04-25T00:00:00\",\"2024-04-26T00:00:00\",\"2024-04-27T00:00:00\",\"2024-04-28T00:00:00\",\"2024-04-29T00:00:00\",\"2024-04-30T00:00:00\",\"2024-05-01T00:00:00\",\"2024-05-02T00:00:00\",\"2024-05-03T00:00:00\",\"2024-05-04T00:00:00\",\"2024-05-05T00:00:00\",\"2024-05-06T00:00:00\",\"2024-05-07T00:00:00\",\"2024-05-08T00:00:00\",\"2024-05-09T00:00:00\",\"2024-05-10T00:00:00\",\"2024-05-11T00:00:00\",\"2024-05-12T00:00:00\",\"2024-05-13T00:00:00\",\"2024-05-14T00:00:00\",\"2024-05-15T00:00:00\",\"2024-05-16T00:00:00\",\"2024-05-17T00:00:00\",\"2024-05-18T00:00:00\",\"2024-05-19T00:00:00\",\"2024-05-20T00:00:00\",\"2024-05-21T00:00:00\",\"2024-05-22T00:00:00\",\"2024-05-23T00:00:00\",\"2024-05-24T00:00:00\",\"2024-05-25T00:00:00\",\"2024-05-26T00:00:00\",\"2024-05-27T00:00:00\",\"2024-05-28T00:00:00\",\"2024-05-29T00:00:00\",\"2024-05-30T00:00:00\",\"2024-05-31T00:00:00\",\"2024-06-01T00:00:00\",\"2024-06-02T00:00:00\",\"2024-06-03T00:00:00\",\"2024-06-04T00:00:00\",\"2024-06-05T00:00:00\",\"2024-06-06T00:00:00\",\"2024-06-07T00:00:00\",\"2024-06-08T00:00:00\",\"2024-06-09T00:00:00\",\"2024-06-10T00:00:00\",\"2024-06-11T00:00:00\",\"2024-06-12T00:00:00\",\"2024-06-13T00:00:00\",\"2024-06-14T00:00:00\",\"2024-06-15T00:00:00\",\"2024-06-16T00:00:00\",\"2024-06-17T00:00:00\",\"2024-06-18T00:00:00\",\"2024-06-19T00:00:00\",\"2024-06-20T00:00:00\",\"2024-06-21T00:00:00\",\"2024-06-22T00:00:00\",\"2024-06-23T00:00:00\",\"2024-06-24T00:00:00\",\"2024-06-25T00:00:00\",\"2024-06-26T00:00:00\",\"2024-06-27T00:00:00\",\"2024-06-28T00:00:00\",\"2024-06-29T00:00:00\",\"2024-06-30T00:00:00\",\"2024-07-01T00:00:00\",\"2024-07-02T00:00:00\",\"2024-07-03T00:00:00\",\"2024-07-04T00:00:00\",\"2024-07-05T00:00:00\",\"2024-07-06T00:00:00\",\"2024-07-07T00:00:00\",\"2024-07-08T00:00:00\",\"2024-07-09T00:00:00\",\"2024-07-10T00:00:00\",\"2024-07-11T00:00:00\",\"2024-07-12T00:00:00\",\"2024-07-13T00:00:00\",\"2024-07-14T00:00:00\",\"2024-07-15T00:00:00\",\"2024-07-16T00:00:00\",\"2024-07-17T00:00:00\",\"2024-07-18T00:00:00\",\"2024-07-19T00:00:00\",\"2024-07-20T00:00:00\",\"2024-07-21T00:00:00\",\"2024-07-22T00:00:00\",\"2024-07-23T00:00:00\",\"2024-07-24T00:00:00\",\"2024-07-25T00:00:00\",\"2024-07-26T00:00:00\",\"2024-07-27T00:00:00\",\"2024-07-28T00:00:00\",\"2024-07-29T00:00:00\",\"2024-07-30T00:00:00\",\"2024-07-31T00:00:00\",\"2024-08-01T00:00:00\",\"2024-08-02T00:00:00\",\"2024-08-03T00:00:00\",\"2024-08-04T00:00:00\",\"2024-08-05T00:00:00\",\"2024-08-06T00:00:00\",\"2024-08-07T00:00:00\",\"2024-08-08T00:00:00\",\"2024-08-09T00:00:00\",\"2024-08-10T00:00:00\",\"2024-08-11T00:00:00\",\"2024-08-12T00:00:00\",\"2024-08-13T00:00:00\",\"2024-08-14T00:00:00\",\"2024-08-15T00:00:00\",\"2024-08-16T00:00:00\",\"2024-08-17T00:00:00\",\"2024-08-18T00:00:00\",\"2024-08-19T00:00:00\",\"2024-08-20T00:00:00\",\"2024-08-21T00:00:00\",\"2024-08-22T00:00:00\",\"2024-08-23T00:00:00\",\"2024-08-24T00:00:00\",\"2024-08-25T00:00:00\",\"2024-08-26T00:00:00\",\"2024-08-27T00:00:00\",\"2024-08-28T00:00:00\",\"2024-08-29T00:00:00\",\"2024-08-30T00:00:00\",\"2024-08-31T00:00:00\",\"2024-09-01T00:00:00\",\"2024-09-02T00:00:00\",\"2024-09-03T00:00:00\",\"2024-09-04T00:00:00\",\"2024-09-05T00:00:00\",\"2024-09-06T00:00:00\",\"2024-09-07T00:00:00\",\"2024-09-08T00:00:00\",\"2024-09-09T00:00:00\",\"2024-09-10T00:00:00\",\"2024-09-11T00:00:00\",\"2024-09-12T00:00:00\",\"2024-09-13T00:00:00\",\"2024-09-14T00:00:00\",\"2024-09-15T00:00:00\",\"2024-09-16T00:00:00\",\"2024-09-17T00:00:00\",\"2024-09-18T00:00:00\",\"2024-09-19T00:00:00\",\"2024-09-20T00:00:00\",\"2024-09-21T00:00:00\",\"2024-09-22T00:00:00\",\"2024-09-23T00:00:00\",\"2024-09-24T00:00:00\",\"2024-09-25T00:00:00\",\"2024-09-26T00:00:00\",\"2024-09-27T00:00:00\",\"2024-09-28T00:00:00\",\"2024-09-29T00:00:00\",\"2024-09-30T00:00:00\",\"2024-10-01T00:00:00\",\"2024-10-02T00:00:00\",\"2024-10-03T00:00:00\",\"2024-10-04T00:00:00\",\"2024-10-05T00:00:00\",\"2024-10-06T00:00:00\",\"2024-10-07T00:00:00\",\"2024-10-08T00:00:00\",\"2024-10-09T00:00:00\",\"2024-10-10T00:00:00\",\"2024-10-11T00:00:00\",\"2024-10-12T00:00:00\",\"2024-10-13T00:00:00\",\"2024-10-14T00:00:00\",\"2024-10-15T00:00:00\",\"2024-10-16T00:00:00\",\"2024-10-17T00:00:00\",\"2024-10-18T00:00:00\",\"2024-10-19T00:00:00\",\"2024-10-20T00:00:00\",\"2024-10-21T00:00:00\",\"2024-10-22T00:00:00\",\"2024-10-23T00:00:00\",\"2024-10-24T00:00:00\",\"2024-10-25T00:00:00\",\"2024-10-26T00:00:00\",\"2024-10-27T00:00:00\",\"2024-10-28T00:00:00\",\"2024-10-29T00:00:00\",\"2024-10-30T00:00:00\",\"2024-10-31T00:00:00\",\"2024-11-01T00:00:00\",\"2024-11-02T00:00:00\",\"2024-11-03T00:00:00\",\"2024-11-04T00:00:00\",\"2024-11-05T00:00:00\",\"2024-11-06T00:00:00\",\"2024-11-07T00:00:00\",\"2024-11-08T00:00:00\",\"2024-11-09T00:00:00\",\"2024-11-10T00:00:00\",\"2024-11-11T00:00:00\",\"2024-11-12T00:00:00\",\"2024-11-13T00:00:00\",\"2024-11-14T00:00:00\",\"2024-11-15T00:00:00\",\"2024-11-16T00:00:00\",\"2024-11-17T00:00:00\",\"2024-11-18T00:00:00\",\"2024-11-19T00:00:00\",\"2024-11-20T00:00:00\",\"2024-11-21T00:00:00\",\"2024-11-22T00:00:00\",\"2024-11-23T00:00:00\",\"2024-11-24T00:00:00\",\"2024-11-25T00:00:00\",\"2024-11-26T00:00:00\",\"2024-11-27T00:00:00\",\"2024-11-28T00:00:00\",\"2024-11-29T00:00:00\",\"2024-11-30T00:00:00\",\"2024-12-01T00:00:00\",\"2024-12-02T00:00:00\",\"2024-12-03T00:00:00\",\"2024-12-04T00:00:00\",\"2024-12-05T00:00:00\",\"2024-12-06T00:00:00\",\"2024-12-07T00:00:00\",\"2024-12-08T00:00:00\",\"2024-12-09T00:00:00\",\"2024-12-10T00:00:00\",\"2024-12-11T00:00:00\",\"2024-12-12T00:00:00\",\"2024-12-13T00:00:00\",\"2024-12-14T00:00:00\",\"2024-12-15T00:00:00\",\"2024-12-16T00:00:00\",\"2024-12-17T00:00:00\",\"2024-12-18T00:00:00\",\"2024-12-19T00:00:00\",\"2024-12-20T00:00:00\",\"2024-12-21T00:00:00\",\"2024-12-22T00:00:00\",\"2024-12-23T00:00:00\",\"2024-12-24T00:00:00\",\"2024-12-25T00:00:00\",\"2024-12-26T00:00:00\",\"2024-12-27T00:00:00\",\"2024-12-28T00:00:00\",\"2024-12-29T00:00:00\",\"2024-12-30T00:00:00\",\"2024-12-31T00:00:00\",\"2025-01-01T00:00:00\",\"2025-01-02T00:00:00\",\"2025-01-03T00:00:00\",\"2025-01-04T00:00:00\",\"2025-01-05T00:00:00\",\"2025-01-06T00:00:00\",\"2025-01-07T00:00:00\",\"2025-01-08T00:00:00\",\"2025-01-09T00:00:00\",\"2025-01-10T00:00:00\",\"2025-01-11T00:00:00\",\"2025-01-12T00:00:00\",\"2025-01-13T00:00:00\",\"2025-01-14T00:00:00\",\"2025-01-15T00:00:00\",\"2025-01-16T00:00:00\",\"2025-01-17T00:00:00\",\"2025-01-18T00:00:00\",\"2025-01-19T00:00:00\",\"2025-01-20T00:00:00\",\"2025-01-21T00:00:00\",\"2025-01-22T00:00:00\",\"2025-01-23T00:00:00\",\"2025-01-24T00:00:00\",\"2025-01-25T00:00:00\",\"2025-01-26T00:00:00\",\"2025-01-27T00:00:00\",\"2025-01-28T00:00:00\",\"2025-01-29T00:00:00\",\"2025-01-30T00:00:00\",\"2025-01-31T00:00:00\",\"2025-02-01T00:00:00\",\"2025-02-02T00:00:00\",\"2025-02-03T00:00:00\",\"2025-02-04T00:00:00\",\"2025-02-05T00:00:00\",\"2025-02-06T00:00:00\",\"2025-02-07T00:00:00\",\"2025-02-08T00:00:00\",\"2025-02-09T00:00:00\",\"2025-02-10T00:00:00\",\"2025-02-11T00:00:00\",\"2025-02-12T00:00:00\",\"2025-02-13T00:00:00\",\"2025-02-14T00:00:00\",\"2025-02-15T00:00:00\",\"2025-02-16T00:00:00\",\"2025-02-17T00:00:00\",\"2025-02-18T00:00:00\",\"2025-02-19T00:00:00\",\"2025-02-20T00:00:00\",\"2025-02-21T00:00:00\",\"2025-02-22T00:00:00\",\"2025-02-23T00:00:00\",\"2025-02-24T00:00:00\",\"2025-02-25T00:00:00\",\"2025-02-26T00:00:00\",\"2025-02-27T00:00:00\",\"2025-02-28T00:00:00\",\"2025-03-01T00:00:00\",\"2025-03-02T00:00:00\",\"2025-03-03T00:00:00\",\"2025-03-04T00:00:00\",\"2025-03-05T00:00:00\",\"2025-03-06T00:00:00\",\"2025-03-07T00:00:00\",\"2025-03-08T00:00:00\",\"2025-03-09T00:00:00\",\"2025-03-10T00:00:00\",\"2025-03-11T00:00:00\",\"2025-03-12T00:00:00\",\"2025-03-13T00:00:00\",\"2025-03-14T00:00:00\",\"2025-03-15T00:00:00\",\"2025-03-16T00:00:00\",\"2025-03-17T00:00:00\",\"2025-03-18T00:00:00\",\"2025-03-19T00:00:00\",\"2025-03-20T00:00:00\",\"2025-03-21T00:00:00\",\"2025-03-22T00:00:00\",\"2025-03-23T00:00:00\",\"2025-03-24T00:00:00\",\"2025-03-25T00:00:00\",\"2025-03-26T00:00:00\",\"2025-03-27T00:00:00\",\"2025-03-28T00:00:00\",\"2025-03-29T00:00:00\",\"2025-03-30T00:00:00\",\"2025-03-31T00:00:00\",\"2025-04-01T00:00:00\",\"2025-04-02T00:00:00\",\"2025-04-03T00:00:00\",\"2025-04-04T00:00:00\",\"2025-04-05T00:00:00\",\"2025-04-06T00:00:00\",\"2025-04-07T00:00:00\",\"2025-04-08T00:00:00\",\"2025-04-09T00:00:00\",\"2025-04-10T00:00:00\",\"2025-04-11T00:00:00\"],\"y\":[null,null,null,null,null,null,null,null,null,null,null,null,null,null,null,null,null,null,null,null,null,null,null,null,null,null,null,null,null,0.7188062468819817,0.7665649166969499,0.7654539038138134,0.763803728307811,0.8471467630631839,0.9204617138474079,0.9159048569769116,0.920078847256861,0.920839653905456,0.9898242570318273,0.9920414259487097,0.993074436595033,0.993074436595033,0.9880767494485857,0.98643517710967,0.9861389889112139,0.9857116510591808,0.9851277646374719,0.9864611913092293,0.9874473092667468,0.9861018332924371,0.9846258012170118,0.9845421624879523,0.9844561775646701,0.9844768330417208,0.986078684203465,0.987388018408184,0.9863377633674689,0.984820307548789,0.9848587444443919,0.9848449643981068,0.9848595884013549,0.9864325908532989,0.9874419113742532,0.9864754939319447,0.9865124788971719,0.9852578043944505,0.9839410419302262,0.9852773695555507,0.9833841476670718,0.9827434332046896,0.9869306364868087,0.9818367281960547,0.986333172571825,0.986506155389021,0.9866470971380861,0.98789173000828,0.9890614071752646,0.9881685055612144,0.9870866083192259,0.9874500134224828,0.987680234826447,0.9879089449750236,0.9889672561262072,0.9896757209069105,0.9890754567689569,0.9882933854935725,0.9885135724570859,0.9888408612838517,0.9088241377712774,0.9151771501233792,0.9197600223754604,0.9152554129190827,0.9152554129190827,0.9144352605586363,0.9143318542311233,0.9188679393261824,0.9181923769935644,0.9141625377081707,0.9196562683482955,0.9189245720678016,0.914038279525512,0.9147128876577121,0.9120565254584355,0.9168893965478048,0.9204508690846558,0.9164518189350064,0.9110437233202193,0.911109249196211,0.9112828249041814,0.9111585887753988,0.9154547503808672,0.9185500804369502,0.9153128583490935,0.9111735192577606,0.911229795925906,0.9111366660786651,0.9111279309666683,0.9152557077572916,0.986526492407302,0.9859181829807204,0.9850189615694429,0.98504815165884,0.9838387629095457,0.9839737388640947,0.9837040901641267,0.9837040901641267,0.9837774571179712,0.9838692026458912,0.9821516358202307,0.9819861996461188,0.9850701382629331,0.9851865456736644,0.9843738003816945,0.9828718449361962,0.9806580447683855,0.9813656119145149,0.982700286638451,0.983346096898302,0.9855217421808148,0.9872473032361838,0.9860906211140686,0.9844598149530188,0.9847590142380804,0.9849608904121685,0.9853154094324896,0.9873992853525263,0.9888672045266401,0.9878652629017283,0.9864558840466077,0.9868361410530785,0.9874999741003944,0.9877905165899531,0.9894492876684654,0.9900756912821743,0.9908682089239285,0.9908682089239285,0.9909463488234649,0.9914971513479791,0.9922716160218749,0.9933087383547179,0.9912414783686221,0.993274823812618,0.995796418437323,0.9922402151414043,0.9921420514166213,0.992008241156212,0.9925678593740701,0.9930159356461231,0.9923072741737671,0.9914242874229908,0.9911403037452208,0.9908707489843392,0.9906856228060437,0.9913569892563044,0.9918246313874391,0.9912258045254464,0.9904895794821024,0.9903213489146532,0.9900444878218173,0.9898161301303845,0.9905405462699765,0.9911339621423699,0.9911339621423699,0.9910042866038536,0.9911583290410676,0.9911583290410676,0.9911931314414355,0.9912223464049275,0.9912223464049275,0.9912412838009924,0.9932676189017186,0.992518876176231,0.9925698119972394,0.9968865903492491,0.9969899968567343,0.9970595608153344,0.9969770566260714,0.9968757636213347,0.9968528271988912,0.9968545794147077,0.9968824882839888,0.9970108746223904,0.9970981437680784,0.9970253012007807,0.9967664154376572,0.9967041472831901,0.9966972540102856,0.9966847840605236,0.9969669258054201,0.9972155989456869,0.9970559646459566,0.996748348343189,0.9966020127167179,0.9969508925660101,0.9968076572503961,0.9961440870854631,0.9949976291432351,0.9952942406928887,0.9952942406928887,0.9951112630940402,0.9947283669248503,0.9955810327672188,0.9955495740046599,0.9934258922270554,0.9934258922270554,0.9927746884662142,0.9928446682111046,0.9928777917597089,0.9930388988995037,0.9937736523313601,0.994210596904394,0.993583949426888,0.9927414368362387,0.9922115366957797,0.9918618803337058,0.9916207733050147,0.9923179992157674,0.9928460903673826,0.9923043104944,0.9914059245539962,0.9911347741848476,0.9911160699815087,0.9906474998671119,0.991502901887058,0.9924003789773721,0.9918750976671723,0.9942114829127894,0.9926219640469176,0.9919142037706965,0.9930289758877063,0.992628710764236,0.9919298069025181,0.9914319754418699,0.991736457645641,0.991736457645641,0.9893031456304273,0.9880319237188351,0.989096035323484,0.9897751839383934,0.9882697903951394,0.9865589561053579,0.9858003252436887,0.985263464996956,0.98480865427331,0.9858621448644134,0.9866285484430973,0.9851136038402565,0.9835039345253676,0.9829203937178883,0.9815638515086401,0.9804347852226585,0.9818466058612185,0.9828296899647664,0.9810492917974383,0.9812703153979281,0.985472192358806,0.985472192358806,0.9848546914106882,0.9851946243980526,0.9837802625779657,0.9840079796880611,0.9861137487288452,0.9858647120088644,0.9857887551064024,0.9857887551064024,0.9858740911220423,0.9867531211854106,0.986189346266286,0.9851161443322519,0.9849382980745105,0.9848399238511971,0.9845222852720433,0.985411427094313,0.9860864379315819,0.9852925012025882,0.9844226542495256,0.9844685698360084,0.984367133150422,0.9845728288824653,0.9861500735850465,0.9874336559780145,0.9860824924783573,0.9846110039813204,0.9848281233863272,0.986000908776895,0.9831704225535455,0.9831704225535455,0.9857684849680627,0.9815671584100951,0.9835000791528292,0.9848199799256349,0.9813617589591814,0.9830329449818318,0.9828261755134274,0.9815584277463971,0.9818567330263641,0.9799764642434389,0.9797849503769049,0.9798686211794484,0.9796921584947882,0.9816320767588009,0.9833637300238962,0.9819229712200449,0.9800974648921132,0.9800983813606967,0.9800111806864499,0.9801588902612844,0.982071226003734,0.9833501671655351,0.9817932189405283,0.979834412795339,0.9804886426893351,0.894987729704931,0.8949328725073115,0.9027289984662422,0.9027552714247554,0.8908741819031026,0.8911827147973661,0.89102175751542,0.89102175751542,0.891064938641768,0.8914109493670346,0.8780670282859321,0.8782858172562628,0.8889016826560945,0.8889811707265296,0.8889502944055637,0.8892842915235792,0.8976461045569676,0.9043075869280716,0.8982356306443877,0.8900562829914177,0.8902067203889156,0.8902450078660881,0.8903179027753069,0.8984750270453075,0.9044587886660104,0.8982249716176983,0.8900552144550451,0.8172256327734261,0.7399861611275633,0.7404158040383296,0.8293273790845962,0.8395703967080761,0.8300972722160719,0.8315997010278158,0.8434179059695661,0.8518925420504879,0.8597638176275355,0.8547993773933993,0.8599603888192588,0.8641107060003796,0.8682678322955865,0.869234104382368,0.869234104382368,0.8691237637185051,0.8673430885812042,0.8640885186343148,0.8676258466909834,0.8699000541787986,0.8706963584062057,0.8716787614846203,0.8727486362799989,0.871738155641789,0.8696720018620443,0.8035258108132973,0.8075430883859707,0.8091151845975227,0.810563208546799,0.8723148311657551,0.9319001941314534,0.9310977325077741,0.9322749959531343,0.9329415527820881,0.9333119251145027,0.9336654671558255,0.93365015512592,0.9328083067494026,0.9328083067494026,0.9341046186952207,0.9328938534330321,0.9328938534330321,0.9328938534330321,0.9328938534330321,0.9328938534330321,0.9328938534330321,0.9328938534330321,0.9328938534330321,0.9340040433185887,0.934190705354327,0.9346272038618436,0.9355585601592296,0.935799296290052,0.8683420332664467,0.8696052924427918,0.9258427709874634,0.9268984716001727,0.9278918108172212,0.9287107515577308,0.9290513587384075,0.9297767919784791,0.9296965324148249,0.9304902439382599,0.9315397660088093,0.9323263357664512,0.9310297427893426,0.9307307908771257,0.9323745500383405,0.9315921099740148,0.9315921099740148,0.9319480641912444,0.9319480641912444,0.9319480641912444,0.9319480641912444,0.9319480641912444,0.9319480641912444,0.9319480641912444,0.9311101387843845,0.9297438348940553,0.9309933746905682,0.9315941163435749,0.9309423771939744,0.9296205822298563,0.9956732513334978,0.9956004391061298,0.9956789478138642,0.9959906085960957,0.99610105858741,0.9960374938755946,0.9958987324934531,0.9959745574552012,0.9959808367346916,0.9960038966963486,0.9960953984729418,0.9961405410914174,0.9982080144774765,0.9996369642715706,0.9985736640802512,0.9986112000225732,0.9984935172063775,0.9984935172063775,0.9984935172063775,0.9984935172063775,0.9984935172063775,0.9984935172063775,0.9984935172063775,0.9984935172063775],\"yaxis\":\"y2\",\"type\":\"scatter\"}],                        {\"template\":{\"data\":{\"barpolar\":[{\"marker\":{\"line\":{\"color\":\"white\",\"width\":0.5},\"pattern\":{\"fillmode\":\"overlay\",\"size\":10,\"solidity\":0.2}},\"type\":\"barpolar\"}],\"bar\":[{\"error_x\":{\"color\":\"#2a3f5f\"},\"error_y\":{\"color\":\"#2a3f5f\"},\"marker\":{\"line\":{\"color\":\"white\",\"width\":0.5},\"pattern\":{\"fillmode\":\"overlay\",\"size\":10,\"solidity\":0.2}},\"type\":\"bar\"}],\"carpet\":[{\"aaxis\":{\"endlinecolor\":\"#2a3f5f\",\"gridcolor\":\"#C8D4E3\",\"linecolor\":\"#C8D4E3\",\"minorgridcolor\":\"#C8D4E3\",\"startlinecolor\":\"#2a3f5f\"},\"baxis\":{\"endlinecolor\":\"#2a3f5f\",\"gridcolor\":\"#C8D4E3\",\"linecolor\":\"#C8D4E3\",\"minorgridcolor\":\"#C8D4E3\",\"startlinecolor\":\"#2a3f5f\"},\"type\":\"carpet\"}],\"choropleth\":[{\"colorbar\":{\"outlinewidth\":0,\"ticks\":\"\"},\"type\":\"choropleth\"}],\"contourcarpet\":[{\"colorbar\":{\"outlinewidth\":0,\"ticks\":\"\"},\"type\":\"contourcarpet\"}],\"contour\":[{\"colorbar\":{\"outlinewidth\":0,\"ticks\":\"\"},\"colorscale\":[[0.0,\"#0d0887\"],[0.1111111111111111,\"#46039f\"],[0.2222222222222222,\"#7201a8\"],[0.3333333333333333,\"#9c179e\"],[0.4444444444444444,\"#bd3786\"],[0.5555555555555556,\"#d8576b\"],[0.6666666666666666,\"#ed7953\"],[0.7777777777777778,\"#fb9f3a\"],[0.8888888888888888,\"#fdca26\"],[1.0,\"#f0f921\"]],\"type\":\"contour\"}],\"heatmapgl\":[{\"colorbar\":{\"outlinewidth\":0,\"ticks\":\"\"},\"colorscale\":[[0.0,\"#0d0887\"],[0.1111111111111111,\"#46039f\"],[0.2222222222222222,\"#7201a8\"],[0.3333333333333333,\"#9c179e\"],[0.4444444444444444,\"#bd3786\"],[0.5555555555555556,\"#d8576b\"],[0.6666666666666666,\"#ed7953\"],[0.7777777777777778,\"#fb9f3a\"],[0.8888888888888888,\"#fdca26\"],[1.0,\"#f0f921\"]],\"type\":\"heatmapgl\"}],\"heatmap\":[{\"colorbar\":{\"outlinewidth\":0,\"ticks\":\"\"},\"colorscale\":[[0.0,\"#0d0887\"],[0.1111111111111111,\"#46039f\"],[0.2222222222222222,\"#7201a8\"],[0.3333333333333333,\"#9c179e\"],[0.4444444444444444,\"#bd3786\"],[0.5555555555555556,\"#d8576b\"],[0.6666666666666666,\"#ed7953\"],[0.7777777777777778,\"#fb9f3a\"],[0.8888888888888888,\"#fdca26\"],[1.0,\"#f0f921\"]],\"type\":\"heatmap\"}],\"histogram2dcontour\":[{\"colorbar\":{\"outlinewidth\":0,\"ticks\":\"\"},\"colorscale\":[[0.0,\"#0d0887\"],[0.1111111111111111,\"#46039f\"],[0.2222222222222222,\"#7201a8\"],[0.3333333333333333,\"#9c179e\"],[0.4444444444444444,\"#bd3786\"],[0.5555555555555556,\"#d8576b\"],[0.6666666666666666,\"#ed7953\"],[0.7777777777777778,\"#fb9f3a\"],[0.8888888888888888,\"#fdca26\"],[1.0,\"#f0f921\"]],\"type\":\"histogram2dcontour\"}],\"histogram2d\":[{\"colorbar\":{\"outlinewidth\":0,\"ticks\":\"\"},\"colorscale\":[[0.0,\"#0d0887\"],[0.1111111111111111,\"#46039f\"],[0.2222222222222222,\"#7201a8\"],[0.3333333333333333,\"#9c179e\"],[0.4444444444444444,\"#bd3786\"],[0.5555555555555556,\"#d8576b\"],[0.6666666666666666,\"#ed7953\"],[0.7777777777777778,\"#fb9f3a\"],[0.8888888888888888,\"#fdca26\"],[1.0,\"#f0f921\"]],\"type\":\"histogram2d\"}],\"histogram\":[{\"marker\":{\"pattern\":{\"fillmode\":\"overlay\",\"size\":10,\"solidity\":0.2}},\"type\":\"histogram\"}],\"mesh3d\":[{\"colorbar\":{\"outlinewidth\":0,\"ticks\":\"\"},\"type\":\"mesh3d\"}],\"parcoords\":[{\"line\":{\"colorbar\":{\"outlinewidth\":0,\"ticks\":\"\"}},\"type\":\"parcoords\"}],\"pie\":[{\"automargin\":true,\"type\":\"pie\"}],\"scatter3d\":[{\"line\":{\"colorbar\":{\"outlinewidth\":0,\"ticks\":\"\"}},\"marker\":{\"colorbar\":{\"outlinewidth\":0,\"ticks\":\"\"}},\"type\":\"scatter3d\"}],\"scattercarpet\":[{\"marker\":{\"colorbar\":{\"outlinewidth\":0,\"ticks\":\"\"}},\"type\":\"scattercarpet\"}],\"scattergeo\":[{\"marker\":{\"colorbar\":{\"outlinewidth\":0,\"ticks\":\"\"}},\"type\":\"scattergeo\"}],\"scattergl\":[{\"marker\":{\"colorbar\":{\"outlinewidth\":0,\"ticks\":\"\"}},\"type\":\"scattergl\"}],\"scattermapbox\":[{\"marker\":{\"colorbar\":{\"outlinewidth\":0,\"ticks\":\"\"}},\"type\":\"scattermapbox\"}],\"scatterpolargl\":[{\"marker\":{\"colorbar\":{\"outlinewidth\":0,\"ticks\":\"\"}},\"type\":\"scatterpolargl\"}],\"scatterpolar\":[{\"marker\":{\"colorbar\":{\"outlinewidth\":0,\"ticks\":\"\"}},\"type\":\"scatterpolar\"}],\"scatter\":[{\"fillpattern\":{\"fillmode\":\"overlay\",\"size\":10,\"solidity\":0.2},\"type\":\"scatter\"}],\"scatterternary\":[{\"marker\":{\"colorbar\":{\"outlinewidth\":0,\"ticks\":\"\"}},\"type\":\"scatterternary\"}],\"surface\":[{\"colorbar\":{\"outlinewidth\":0,\"ticks\":\"\"},\"colorscale\":[[0.0,\"#0d0887\"],[0.1111111111111111,\"#46039f\"],[0.2222222222222222,\"#7201a8\"],[0.3333333333333333,\"#9c179e\"],[0.4444444444444444,\"#bd3786\"],[0.5555555555555556,\"#d8576b\"],[0.6666666666666666,\"#ed7953\"],[0.7777777777777778,\"#fb9f3a\"],[0.8888888888888888,\"#fdca26\"],[1.0,\"#f0f921\"]],\"type\":\"surface\"}],\"table\":[{\"cells\":{\"fill\":{\"color\":\"#EBF0F8\"},\"line\":{\"color\":\"white\"}},\"header\":{\"fill\":{\"color\":\"#C8D4E3\"},\"line\":{\"color\":\"white\"}},\"type\":\"table\"}]},\"layout\":{\"annotationdefaults\":{\"arrowcolor\":\"#2a3f5f\",\"arrowhead\":0,\"arrowwidth\":1},\"autotypenumbers\":\"strict\",\"coloraxis\":{\"colorbar\":{\"outlinewidth\":0,\"ticks\":\"\"}},\"colorscale\":{\"diverging\":[[0,\"#8e0152\"],[0.1,\"#c51b7d\"],[0.2,\"#de77ae\"],[0.3,\"#f1b6da\"],[0.4,\"#fde0ef\"],[0.5,\"#f7f7f7\"],[0.6,\"#e6f5d0\"],[0.7,\"#b8e186\"],[0.8,\"#7fbc41\"],[0.9,\"#4d9221\"],[1,\"#276419\"]],\"sequential\":[[0.0,\"#0d0887\"],[0.1111111111111111,\"#46039f\"],[0.2222222222222222,\"#7201a8\"],[0.3333333333333333,\"#9c179e\"],[0.4444444444444444,\"#bd3786\"],[0.5555555555555556,\"#d8576b\"],[0.6666666666666666,\"#ed7953\"],[0.7777777777777778,\"#fb9f3a\"],[0.8888888888888888,\"#fdca26\"],[1.0,\"#f0f921\"]],\"sequentialminus\":[[0.0,\"#0d0887\"],[0.1111111111111111,\"#46039f\"],[0.2222222222222222,\"#7201a8\"],[0.3333333333333333,\"#9c179e\"],[0.4444444444444444,\"#bd3786\"],[0.5555555555555556,\"#d8576b\"],[0.6666666666666666,\"#ed7953\"],[0.7777777777777778,\"#fb9f3a\"],[0.8888888888888888,\"#fdca26\"],[1.0,\"#f0f921\"]]},\"colorway\":[\"#636efa\",\"#EF553B\",\"#00cc96\",\"#ab63fa\",\"#FFA15A\",\"#19d3f3\",\"#FF6692\",\"#B6E880\",\"#FF97FF\",\"#FECB52\"],\"font\":{\"color\":\"#2a3f5f\"},\"geo\":{\"bgcolor\":\"white\",\"lakecolor\":\"white\",\"landcolor\":\"white\",\"showlakes\":true,\"showland\":true,\"subunitcolor\":\"#C8D4E3\"},\"hoverlabel\":{\"align\":\"left\"},\"hovermode\":\"closest\",\"mapbox\":{\"style\":\"light\"},\"paper_bgcolor\":\"white\",\"plot_bgcolor\":\"white\",\"polar\":{\"angularaxis\":{\"gridcolor\":\"#EBF0F8\",\"linecolor\":\"#EBF0F8\",\"ticks\":\"\"},\"bgcolor\":\"white\",\"radialaxis\":{\"gridcolor\":\"#EBF0F8\",\"linecolor\":\"#EBF0F8\",\"ticks\":\"\"}},\"scene\":{\"xaxis\":{\"backgroundcolor\":\"white\",\"gridcolor\":\"#DFE8F3\",\"gridwidth\":2,\"linecolor\":\"#EBF0F8\",\"showbackground\":true,\"ticks\":\"\",\"zerolinecolor\":\"#EBF0F8\"},\"yaxis\":{\"backgroundcolor\":\"white\",\"gridcolor\":\"#DFE8F3\",\"gridwidth\":2,\"linecolor\":\"#EBF0F8\",\"showbackground\":true,\"ticks\":\"\",\"zerolinecolor\":\"#EBF0F8\"},\"zaxis\":{\"backgroundcolor\":\"white\",\"gridcolor\":\"#DFE8F3\",\"gridwidth\":2,\"linecolor\":\"#EBF0F8\",\"showbackground\":true,\"ticks\":\"\",\"zerolinecolor\":\"#EBF0F8\"}},\"shapedefaults\":{\"line\":{\"color\":\"#2a3f5f\"}},\"ternary\":{\"aaxis\":{\"gridcolor\":\"#DFE8F3\",\"linecolor\":\"#A2B1C6\",\"ticks\":\"\"},\"baxis\":{\"gridcolor\":\"#DFE8F3\",\"linecolor\":\"#A2B1C6\",\"ticks\":\"\"},\"bgcolor\":\"white\",\"caxis\":{\"gridcolor\":\"#DFE8F3\",\"linecolor\":\"#A2B1C6\",\"ticks\":\"\"}},\"title\":{\"x\":0.05},\"xaxis\":{\"automargin\":true,\"gridcolor\":\"#EBF0F8\",\"linecolor\":\"#EBF0F8\",\"ticks\":\"\",\"title\":{\"standoff\":15},\"zerolinecolor\":\"#EBF0F8\",\"zerolinewidth\":2},\"yaxis\":{\"automargin\":true,\"gridcolor\":\"#EBF0F8\",\"linecolor\":\"#EBF0F8\",\"ticks\":\"\",\"title\":{\"standoff\":15},\"zerolinecolor\":\"#EBF0F8\",\"zerolinewidth\":2}}},\"title\":{\"text\":\"IBEX35, Petroleo_WTI, and Correlation\"},\"xaxis\":{\"title\":{\"text\":\"Fecha\"}},\"yaxis\":{\"title\":{\"text\":\"Valor\"}},\"hovermode\":\"x unified\",\"yaxis2\":{\"title\":{\"text\":\"Correlation\"},\"overlaying\":\"y\",\"side\":\"right\",\"range\":[-1,1]}},                        {\"responsive\": true}                    ).then(function(){\n",
              "                            \n",
              "var gd = document.getElementById('2e557843-6c12-4b0d-aeb4-acc77f0b5cb8');\n",
              "var x = new MutationObserver(function (mutations, observer) {{\n",
              "        var display = window.getComputedStyle(gd).display;\n",
              "        if (!display || display === 'none') {{\n",
              "            console.log([gd, 'removed!']);\n",
              "            Plotly.purge(gd);\n",
              "            observer.disconnect();\n",
              "        }}\n",
              "}});\n",
              "\n",
              "// Listen for the removal of the full notebook cells\n",
              "var notebookContainer = gd.closest('#notebook-container');\n",
              "if (notebookContainer) {{\n",
              "    x.observe(notebookContainer, {childList: true});\n",
              "}}\n",
              "\n",
              "// Listen for the clearing of the current output cell\n",
              "var outputEl = gd.closest('.output');\n",
              "if (outputEl) {{\n",
              "    x.observe(outputEl, {childList: true});\n",
              "}}\n",
              "\n",
              "                        })                };                            </script>        </div>\n",
              "</body>\n",
              "</html>"
            ]
          },
          "metadata": {}
        }
      ]
    },
    {
      "cell_type": "code",
      "source": [
        "df_ibex_reindexado['media_movil_3'] = df_ibex_reindexado['Último'].rolling(window=3).mean()\n",
        "df_ibex_reindexado['media_movil_7'] = df_ibex_reindexado['Último'].rolling(window=7).mean()\n",
        "df_ibex_reindexado['media_movil_30'] = df_ibex_reindexado['Último'].rolling(window=30).mean()\n",
        "\n",
        "df_ibex_reindexado['Señal'] = 0  # Inicializa la señal en 0\n",
        "\n",
        "# Define la condición para la señal de compra\n",
        "condicion_compra = (df_ibex_reindexado['media_movil_3'] > df_ibex_reindexado['media_movil_7']) & \\\n",
        "                  (df_ibex_reindexado['media_movil_7'] > df_ibex_reindexado['media_movil_30']) & \\\n",
        "                  (df_ibex_reindexado['media_movil_3'].shift(1) < df_ibex_reindexado['media_movil_7'].shift(1))  # Verifica el cruce\n",
        "\n",
        "# Asigna 1 a la señal cuando se cumple la condición\n",
        "df_ibex_reindexado.loc[condicion_compra, 'Señal'] = 1\n",
        "\n",
        "caracteristicas = ['Último', 'media_movil_3', 'media_movil_7', 'media_movil_30']\n",
        "X = df_ibex_reindexado[caracteristicas]\n",
        "y = df_ibex_reindexado['Señal']\n",
        "\n",
        "\n"
      ],
      "metadata": {
        "id": "b-p4rJEcvNlL"
      },
      "execution_count": 65,
      "outputs": []
    },
    {
      "cell_type": "markdown",
      "source": [
        "ENTRENAR EL MODELO"
      ],
      "metadata": {
        "id": "gMC-HLq1wKv_"
      }
    },
    {
      "cell_type": "code",
      "source": [
        "# ESTE ES EL EXPERIMIENTO DE ENTRENAR UN MODELO PARA CREAR UNA SEÑAL 1/0 EN FUNCIÓN DE LAS MEDIAS MOVILES\n",
        "# SEGÚN INVESTIGACIÓN, EXISTE YA UNA TÉCNICA LLAMADA MODELO ARIMA: https://en.wikipedia.org/wiki/Autoregressive_integrated_moving_average\n",
        "# REHAGO EL CÓDIGO PARA ENTRENAR UN ARIMA CADA 7 DÍAS CON LOS DATOS DE 1 MES, Y QUE PREDIGA LOS VALORES DEL IBEX35 EN 7 DÍAS.\n",
        "\n",
        "from sklearn.model_selection import train_test_split\n",
        "from sklearn.linear_model import LogisticRegression\n",
        "from sklearn.impute import SimpleImputer\n",
        "\n",
        "# Divide los datos en conjuntos de entrenamiento y prueba\n",
        "X_train, X_test, y_train, y_test = train_test_split(X, y, test_size=0.2, random_state=42)\n",
        "\n",
        "imputer = SimpleImputer(strategy='mean') # O 'median', 'most_frequent', 'constant'\n",
        "X_train = imputer.fit_transform(X_train)\n",
        "print(X_train)\n",
        "# Crea y entrena el modelo\n",
        "modelo = LogisticRegression()\n",
        "modelo.fit(X_train, y_train)\n",
        "import joblib\n",
        "\n",
        "# Guardar el modelo en un fichero\n",
        "joblib.dump(modelo, 'modelo_entrenado.pkl')\n",
        "\n",
        "# Guardar el imputer en un fichero, si lo has usado\n",
        "joblib.dump(imputer, 'imputer.pkl')"
      ],
      "metadata": {
        "colab": {
          "base_uri": "https://localhost:8080/"
        },
        "id": "5UpXFLGLwHlg",
        "outputId": "6e96aa52-a735-4198-ec61-b531df8ae9af"
      },
      "execution_count": null,
      "outputs": [
        {
          "output_type": "stream",
          "name": "stdout",
          "text": [
            "[[13135.4         4378.46666667  9540.54285714  7042.34      ]\n",
            " [11997.1         3999.03333333  8540.18571429  6921.14304094]\n",
            " [    0.             0.             0.          6446.29      ]\n",
            " [    0.             0.             0.          6913.43      ]\n",
            " [11840.6        11830.4         6739.91428571  6921.14304094]\n",
            " [    0.             0.          1907.17142857  6835.89666667]\n",
            " [13005.2         8608.83333333  3689.5         7774.31333333]\n",
            " [    0.             0.          1899.57142857  6921.14304094]\n",
            " [    0.             0.          5403.78571429  7010.88666667]\n",
            " [    0.             0.             0.          6921.14304094]\n",
            " [12372.8         8502.73333333  7462.87142857  6602.13666667]\n",
            " [    0.          4397.06666667  9109.85714286  6913.43      ]\n",
            " [12286.5        12145.93333333  8630.27142857  6921.14304094]\n",
            " [13484.3         8935.86666667  9553.17142857  7856.73      ]\n",
            " [    0.          4432.33333333  6676.56635338  6921.14304094]\n",
            " [13016.9         4338.96666667  5558.45714286  6163.01333333]\n",
            " [    0.          4317.33333333  9287.04285714  5905.16666667]\n",
            " [    0.          4450.06666667  7116.51428571  6835.89666667]\n",
            " [11916.3        11885.13333333  8442.24285714  6921.14304094]\n",
            " [    0.          4450.06666667  9509.5         6963.14333333]\n",
            " [13350.2         4450.06666667  8871.72857143  6835.89666667]\n",
            " [    0.             0.          1899.57142857  6921.14304094]\n",
            " [12936.3         4312.1         1848.04285714  6485.76333333]\n",
            " [    0.          8608.83333333  3689.5         7343.10333333]\n",
            " [12154.2         8050.43333333  8572.58571429  6921.14304094]\n",
            " [11943.6         3981.2         8478.72857143  6921.14304094]\n",
            " [    0.          8484.56666667  7280.27142857  7010.88666667]\n",
            " [    0.          3994.2         8532.54285714  6921.14304094]\n",
            " [13191.2        12923.36666667 12910.22857143  7358.43666667]\n",
            " [12929.4        13030.06666667  9283.21428571  6634.00333333]\n",
            " [11752.1         7813.43333333  3348.61428571  6921.14304094]\n",
            " [    0.          7991.36666667  8532.54285714  6921.14304094]\n",
            " [13297.          4432.33333333  6676.56635338  6921.14304094]\n",
            " [    0.          7918.96666667  8442.24285714  6921.14304094]\n",
            " [    0.             0.          1907.17142857  6835.89666667]\n",
            " [    0.             0.          1899.57142857  6921.14304094]\n",
            " [13350.2        13354.86666667  9509.5         7827.11333333]\n",
            " [    0.             0.          1899.57142857  6921.14304094]\n",
            " [    0.             0.          7203.1         6913.43      ]\n",
            " [    0.          4450.06666667  5342.28571429  6835.89666667]\n",
            " [    0.          4436.43333333  9567.38571429  6992.88      ]\n",
            " [13332.         13153.9         9340.11428571  6820.65333333]\n",
            " [    0.             0.             0.          7010.88666667]\n",
            " [13012.9         4337.63333333  9286.47142857  6338.93      ]\n",
            " [12967.1        13013.46666667  9287.61428571  6668.66      ]\n",
            " [    0.             0.          1884.45714286  6913.43      ]\n",
            " [    0.          4318.66666667  3698.9         5729.11666667]\n",
            " [    0.             0.             0.          6913.43      ]\n",
            " [13373.1        12410.16666667 12899.6         6918.73      ]\n",
            " [    0.             0.          3636.24285714  7010.88666667]\n",
            " [    0.          8885.5         9509.5         7394.87666667]\n",
            " [    0.             0.             0.          6835.89666667]\n",
            " [13347.3        13316.63333333  9439.94285714  6893.22666667]\n",
            " [13143.9         8720.26666667  7436.15714286  6601.14333333]\n",
            " [    0.          4378.46666667  7614.21428571  6635.48      ]\n",
            " [13270.6        13239.8         9383.47142857  6857.86666667]\n",
            " [13147.2         4382.4         5567.67142857  7349.47666667]\n",
            " [    0.          8015.26666667 10414.74285714  6834.12333333]\n",
            " [    0.          4140.66666667  7280.27142857  7010.88666667]\n",
            " [11651.6        12756.5        11104.45714286  6867.62666667]\n",
            " [    0.          8854.76666667 11005.65714286  7358.43666667]\n",
            " [13422.6        13446.36666667  9573.22857143  7880.9       ]\n",
            " [    0.             0.          3575.3         6835.89666667]\n",
            " [12419.6        12286.76666667  8691.42857143  6032.59666667]\n",
            " [    0.          6278.17805907  6676.56635338  6921.14304094]\n",
            " [    0.          8639.7         9287.04285714  6304.58666667]\n",
            " [11882.7        11917.9         8501.51428571  6921.14304094]\n",
            " [    0.             0.          6676.56635338  6921.14304094]\n",
            " [11982.6        11952.26666667  8532.54285714  6921.14304094]\n",
            " [    0.          8910.63333333  9567.38571429  7437.79      ]\n",
            " [    0.             0.          1774.57142857  7010.88666667]\n",
            " [    0.          4335.06666667  3689.5         6911.23666667]\n",
            " [13309.3        13388.03333333  9567.38571429  7880.14333333]\n",
            " [13323.3         4441.1         9534.65714286  7407.25333333]\n",
            " [11927.4         7957.          8503.77142857  6921.14304094]\n",
            " [12205.8        12401.56666667 12848.14285714  6862.19      ]\n",
            " [12821.3         4273.76666667  1831.61428571  7340.80666667]\n",
            " [11898.5        11779.6         5048.4         6921.14304094]\n",
            " [13031.7         8468.16666667  7407.02857143  6596.82      ]\n",
            " [12952.         12949.5         9287.04285714  6704.30333333]]\n"
          ]
        },
        {
          "output_type": "execute_result",
          "data": {
            "text/plain": [
              "['imputer.pkl']"
            ]
          },
          "metadata": {},
          "execution_count": 163
        }
      ]
    },
    {
      "cell_type": "markdown",
      "source": [
        "**EVALUAR EL MODELO**"
      ],
      "metadata": {
        "id": "4B8ROTyqwOOS"
      }
    },
    {
      "cell_type": "code",
      "source": [
        "from sklearn.metrics import accuracy_score, precision_score, recall_score\n",
        "\n",
        "# Abrir la serie de IBEX35\n",
        "df_ibex_test = pd.read_csv('datos/datos_historicos_IBEX35.csv', parse_dates=['Fecha'], index_col='Fecha')\n",
        "# Convert 'Último' column to float\n",
        "df_ibex_test['Último'] = df_ibex_test['Último'].apply(lambda x: float(x.replace('.', '').replace(',', '.')))\n",
        "# Suponiendo que 'nuevos_datos' es un DataFrame con las nuevas observaciones\n",
        "nuevos_datos_reindexado = pd.DataFrame(index=vector_fechas_test, data=0, columns=df_ibex_test.columns)\n",
        "\n",
        "# Copiar los valores de df_ibex a df_ibex_reindexado cuando los índices coinciden\n",
        "for fecha in df_ibex_test.index:\n",
        "  if fecha in nuevos_datos_reindexado.index:\n",
        "    nuevos_datos_reindexado.loc[fecha] = df_ibex_test.loc[fecha]\n",
        "\n",
        "nuevos_datos_reindexado['Último'] = nuevos_datos_reindexado['Último']\n",
        "nuevos_datos_reindexado['media_movil_3'] = nuevos_datos_reindexado['Último'].rolling(window=3).mean()\n",
        "nuevos_datos_reindexado['media_movil_7'] = nuevos_datos_reindexado['Último'].rolling(window=7).mean()\n",
        "nuevos_datos_reindexado['media_movil_30'] = nuevos_datos_reindexado['Último'].rolling(window=30).mean()\n",
        "\n",
        "nuevos_datos_reindexado = nuevos_datos_reindexado.astype(object)\n",
        "\n",
        "datos_entrada = nuevos_datos_reindexado[caracteristicas]\n",
        "datos_entrada.fillna(0, inplace=True)\n",
        "datos_entrada_imputados = imputer.fit_transform(datos_entrada)\n",
        "\n",
        "# Realiza predicciones en el conjunto de prueba\n",
        "y_pred = modelo.predict(datos_entrada_imputados)\n",
        "\n",
        "# Filter nuevos_datos_reindexado to the dates in vector_fechas_test\n",
        "filtered_data = nuevos_datos_reindexado[nuevos_datos_reindexado.index.isin(vector_fechas_test)]\n",
        "\n",
        "# Calculate the condition for intersection of moving averages\n",
        "condition = (filtered_data['media_movil_3'] > filtered_data['media_movil_7']) & \\\n",
        "            (filtered_data['media_movil_7'] > filtered_data['media_movil_30']) & \\\n",
        "            (filtered_data['media_movil_3'].shift(1) < filtered_data['media_movil_7'].shift(1))\n",
        "\n",
        "# Create y_test based on the condition\n",
        "y_test = np.where(condition, 1, 0)\n",
        "\n",
        "print(y_pred)\n",
        "print(y_test)\n",
        "\n",
        "\n",
        "# Calcula las métricas\n",
        "accuracy = accuracy_score(y_test, y_pred)\n",
        "precision = precision_score(y_test, y_pred)\n",
        "recall = recall_score(y_test, y_pred)\n",
        "\n",
        "print(f\"Accuracy: {accuracy}\")\n",
        "print(f\"Precision: {precision}\")\n",
        "print(f\"Recall: {recall}\")\n"
      ],
      "metadata": {
        "colab": {
          "base_uri": "https://localhost:8080/"
        },
        "id": "6XrfQRKiwNnK",
        "outputId": "6df8806e-5800-482b-a879-1821b682be26"
      },
      "execution_count": null,
      "outputs": [
        {
          "output_type": "stream",
          "name": "stdout",
          "text": [
            "[0 0 0 1 0 0 0 0 0 0 0 0 1 1 1 1 1 0 0 1 1 1 1 1 0 0 1 1 1 0 0 0 0 0 0 0 0\n",
            " 0 0 0 0 0 0 0 0 0 0 0 0 0 0 0 0 0 0 0 0 0 0 0 0 0 0 0 0 0 0 0 0 0 0 0 0 0\n",
            " 0 0 0 0 0 0 0 0 0 0 0 0 0 0 0 0 0 0 0 0 0 0 0 0 0 0 0]\n",
            "[0 0 0 0 0 0 0 0 0 0 0 0 0 0 0 0 0 0 0 0 0 0 0 0 0 0 0 0 0 0 0 0 0 0 0 0 0\n",
            " 0 0 0 0 0 0 0 0 0 0 0 1 0 0 0 0 0 0 0 1 0 0 0 0 0 1 0 0 0 0 0 0 0 0 0 0 0\n",
            " 0 0 0 0 0 0 0 0 0 0 1 0 0 0 0 0 0 1 0 0 0 0 0 0 0 0 0]\n",
            "Accuracy: 0.8118811881188119\n",
            "Precision: 0.0\n",
            "Recall: 0.0\n"
          ]
        },
        {
          "output_type": "stream",
          "name": "stderr",
          "text": [
            "<ipython-input-164-7c18e362f62e>:13: FutureWarning:\n",
            "\n",
            "Setting an item of incompatible dtype is deprecated and will raise an error in a future version of pandas. Value '13.084,00' has dtype incompatible with int64, please explicitly cast to a compatible dtype first.\n",
            "\n",
            "<ipython-input-164-7c18e362f62e>:13: FutureWarning:\n",
            "\n",
            "Setting an item of incompatible dtype is deprecated and will raise an error in a future version of pandas. Value '13.091,60' has dtype incompatible with int64, please explicitly cast to a compatible dtype first.\n",
            "\n",
            "<ipython-input-164-7c18e362f62e>:13: FutureWarning:\n",
            "\n",
            "Setting an item of incompatible dtype is deprecated and will raise an error in a future version of pandas. Value '12.236,40' has dtype incompatible with int64, please explicitly cast to a compatible dtype first.\n",
            "\n",
            "<ipython-input-164-7c18e362f62e>:13: FutureWarning:\n",
            "\n",
            "Setting an item of incompatible dtype is deprecated and will raise an error in a future version of pandas. Value '371,36M' has dtype incompatible with int64, please explicitly cast to a compatible dtype first.\n",
            "\n",
            "<ipython-input-164-7c18e362f62e>:13: FutureWarning:\n",
            "\n",
            "Setting an item of incompatible dtype is deprecated and will raise an error in a future version of pandas. Value '-5,83%' has dtype incompatible with int64, please explicitly cast to a compatible dtype first.\n",
            "\n",
            "<ipython-input-164-7c18e362f62e>:13: FutureWarning:\n",
            "\n",
            "Setting an item of incompatible dtype is deprecated and will raise an error in a future version of pandas. Value '13191.2' has dtype incompatible with int64, please explicitly cast to a compatible dtype first.\n",
            "\n",
            "<ipython-input-164-7c18e362f62e>:23: FutureWarning:\n",
            "\n",
            "Downcasting object dtype arrays on .fillna, .ffill, .bfill is deprecated and will change in a future version. Call result.infer_objects(copy=False) instead. To opt-in to the future behavior, set `pd.set_option('future.no_silent_downcasting', True)`\n",
            "\n",
            "<ipython-input-164-7c18e362f62e>:23: SettingWithCopyWarning:\n",
            "\n",
            "\n",
            "A value is trying to be set on a copy of a slice from a DataFrame\n",
            "\n",
            "See the caveats in the documentation: https://pandas.pydata.org/pandas-docs/stable/user_guide/indexing.html#returning-a-view-versus-a-copy\n",
            "\n"
          ]
        }
      ]
    },
    {
      "cell_type": "code",
      "source": [
        "import gradio as gr\n",
        "import pandas as pd\n",
        "import numpy as np\n",
        "from sklearn.metrics import accuracy_score, precision_score, recall_score\n",
        "import joblib\n",
        "\n",
        "# Cargar modelo e imputador previamente entrenados\n",
        "modelo = joblib.load(\"modelo_entrenado.pkl\")\n",
        "imputer = joblib.load(\"imputer.pkl\")\n",
        "caracteristicas = [\"Último\", \"media_movil_3\", \"media_movil_7\", \"media_movil_30\"]\n",
        "\n",
        "# Función principal que ejecuta las predicciones\n",
        "def predecir_archivo(archivo_csv):\n",
        "    df_ibex_test = pd.read_csv(archivo_csv.name, parse_dates=['Fecha'], index_col='Fecha')\n",
        "\n",
        "    # Convertir columna 'Último' a float\n",
        "    df_ibex_test['Último'] = df_ibex_test['Último'].apply(lambda x: float(x.replace('.', '').replace(',', '.')))\n",
        "\n",
        "    vector_fechas_test = df_ibex_test.index\n",
        "    nuevos_datos_reindexado = pd.DataFrame(index=vector_fechas_test, data=0, columns=df_ibex_test.columns)\n",
        "\n",
        "    for fecha in df_ibex_test.index:\n",
        "        if fecha in nuevos_datos_reindexado.index:\n",
        "            nuevos_datos_reindexado.loc[fecha] = df_ibex_test.loc[fecha]\n",
        "\n",
        "    nuevos_datos_reindexado['media_movil_3'] = nuevos_datos_reindexado['Último'].rolling(window=3).mean()\n",
        "    nuevos_datos_reindexado['media_movil_7'] = nuevos_datos_reindexado['Último'].rolling(window=7).mean()\n",
        "    nuevos_datos_reindexado['media_movil_30'] = nuevos_datos_reindexado['Último'].rolling(window=30).mean()\n",
        "    nuevos_datos_reindexado.fillna(0, inplace=True)\n",
        "\n",
        "    datos_entrada = nuevos_datos_reindexado[caracteristicas]\n",
        "    datos_entrada_imputados = imputer.transform(datos_entrada)\n",
        "\n",
        "    y_pred = modelo.predict(datos_entrada_imputados)\n",
        "\n",
        "    # Generar etiqueta real simulada (como en tu código)\n",
        "    condition = (\n",
        "        (nuevos_datos_reindexado['media_movil_3'] > nuevos_datos_reindexado['media_movil_7']) &\n",
        "        (nuevos_datos_reindexado['media_movil_7'] > nuevos_datos_reindexado['media_movil_30']) &\n",
        "        (nuevos_datos_reindexado['media_movil_3'].shift(1) < nuevos_datos_reindexado['media_movil_7'].shift(1))\n",
        "    )\n",
        "    y_test = np.where(condition, 1, 0)\n",
        "\n",
        "    # Calcular métricas\n",
        "    accuracy = accuracy_score(y_test, y_pred)\n",
        "    precision = precision_score(y_test, y_pred)\n",
        "    recall = recall_score(y_test, y_pred)\n",
        "\n",
        "    # Resultado como string\n",
        "    resultado = f\"Accuracy: {accuracy:.2f}\\nPrecision: {precision:.2f}\\nRecall: {recall:.2f}\"\n",
        "\n",
        "    return resultado\n",
        "\n",
        "# Interfaz de Gradio\n",
        "iface = gr.Interface(\n",
        "    fn=predecir_archivo,\n",
        "    inputs=gr.File(label=\"Sube el CSV del IBEX35\"),\n",
        "    outputs=\"text\",\n",
        "    title=\"Predicción sobre IBEX35\",\n",
        "    description=\"Sube un archivo CSV con datos del IBEX35 y obtén las métricas del modelo entrenado.\"\n",
        ")\n",
        "\n",
        "iface.launch()"
      ],
      "metadata": {
        "id": "iS1XjQOlHxcx",
        "outputId": "535f0d9b-feaf-4c72-fa36-6826dd8fbf16",
        "colab": {
          "base_uri": "https://localhost:8080/",
          "height": 650
        }
      },
      "execution_count": 66,
      "outputs": [
        {
          "output_type": "stream",
          "name": "stdout",
          "text": [
            "It looks like you are running Gradio on a hosted a Jupyter notebook. For the Gradio app to work, sharing must be enabled. Automatically setting `share=True` (you can turn this off by setting `share=False` in `launch()` explicitly).\n",
            "\n",
            "Colab notebook detected. To show errors in colab notebook, set debug=True in launch()\n",
            "* Running on public URL: https://04a88cc6c56c0a3fdf.gradio.live\n",
            "\n",
            "This share link expires in 1 week. For free permanent hosting and GPU upgrades, run `gradio deploy` from the terminal in the working directory to deploy to Hugging Face Spaces (https://huggingface.co/spaces)\n"
          ]
        },
        {
          "output_type": "display_data",
          "data": {
            "text/plain": [
              "<IPython.core.display.HTML object>"
            ],
            "text/html": [
              "<div><iframe src=\"https://04a88cc6c56c0a3fdf.gradio.live\" width=\"100%\" height=\"500\" allow=\"autoplay; camera; microphone; clipboard-read; clipboard-write;\" frameborder=\"0\" allowfullscreen></iframe></div>"
            ]
          },
          "metadata": {}
        },
        {
          "output_type": "execute_result",
          "data": {
            "text/plain": []
          },
          "metadata": {},
          "execution_count": 66
        }
      ]
    },
    {
      "cell_type": "markdown",
      "source": [
        "**FUNCIÓN DE ENTRENAIENTO DEL MODELO ARIMA. LA ENTRADA SON LAS OBSERVACIONES OBTENIDAS QUE YO CARGO DE UN FICHERO CSV. EL VECTOR_FECHAS DETERMINA QUÉ PERIODO DE VALORES SE UTILIZA PARA LA OBSERVACIÓN. *"
      ],
      "metadata": {
        "id": "6kbwBU0yF7B4"
      }
    },
    {
      "cell_type": "code",
      "source": [
        "import pandas as pd\n",
        "from sklearn.model_selection import train_test_split\n",
        "from statsmodels.tsa.arima.model import ARIMA\n",
        "import joblib\n",
        "\n",
        "def train_arima_model():\n",
        "  #LOS VALORES DEL IBEX EN LAS FECHAS DADAS ESTÁN EN df_ibex_reindexado\n",
        "  # Filter data based on user input\n",
        "  # Use .loc to slice by labels, handling potential missing dates\n",
        "  filtered_df = df_ibex_reindexado\n",
        "  filtered_df['Último'] = filtered_df['Último'].astype(float)  # Ensure numeric type\n",
        "  #filtered_df['Último'].fillna(filtered_df['Último'].mean(), inplace=True)  # Replace NaN with mean\n",
        "  filtered_df = df_ibex_reindexado.loc[df_ibex_reindexado['Último'] != 0]\n",
        "  # Prepare the data for training\n",
        "  y = filtered_df['Último'].values  # Target: IBEX35 values\n",
        "\n",
        "  # Split the data into training and testing sets\n",
        "  y_train, y_test = train_test_split(y, test_size=0.2, shuffle=False)\n",
        "\n",
        "  # Determine the ARIMA order (p, d, q) - you might need to experiment with these values\n",
        "  # You can use tools like ACF and PACF plots to help determine the order\n",
        "  # Example order: (5, 1, 0)\n",
        "  # https://en.wikipedia.org/wiki/Autoregressive_integrated_moving_average\n",
        "\n",
        "\n",
        "  order = (5, 1, 0)\n",
        "\n",
        "\n",
        "  # Create and train the ARIMA model\n",
        "  model = ARIMA(y_train, order=order)\n",
        "  model_fit = model.fit()\n",
        "\n",
        "  # Save the trained model\n",
        "  joblib.dump(model_fit, 'ibex35_arima_model.pkl')\n",
        "\n",
        "  print(\"ARIMA model trained and saved successfully!\")"
      ],
      "metadata": {
        "id": "xrV4ZO9awE99"
      },
      "execution_count": 67,
      "outputs": []
    },
    {
      "cell_type": "markdown",
      "source": [
        "\n",
        "\n",
        "**FUNCION DE PREDICCIÓN DE VALORES DEL IBEX A PARTIR DE LAS ÚLTIMAS 30 OBSERVAICONES**\n"
      ],
      "metadata": {
        "id": "FBK35EhEFosu"
      }
    },
    {
      "cell_type": "code",
      "source": [
        "# prompt: quiero crear una aplicación de gradio que use el modelo ibex35_arima recien entrenado para predecir los 7 valores siguientes del IBEX35\n",
        "\n",
        "import joblib\n",
        "import pandas as pd\n",
        "import numpy as np\n",
        "import gradio as gr\n",
        "from statsmodels.tsa.arima.model import ARIMA\n",
        "\n",
        "\n",
        "def predict_ibex35(df_last_observations,days_to_predict=7):\n",
        "\n",
        "    # Obtener las últimas observaciones del conjunto de datos (reemplaza con tu DataFrame)\n",
        "    # Asegúrate de que las fechas en tu DataFrame sean de tipo datetime64[ns]\n",
        "    # y estén ordenadas cronológicamente.\n",
        "    # Ejemplo, asumimos que df_ibex_reindexado ya está definido y cargado con datos:\n",
        "    # Eliminar ceros\n",
        "    #df_ibex_reindexado_filtered = df_ibex_reindexado[df_ibex_reindexado['Último'] != 0]\n",
        "    last_observations = df_last_observations.astype(float)  # Obtener las ultimas 30 observaciones\n",
        "\n",
        "    # Realizar predicciones con el modelo ARIMA cargado\n",
        "    predictions = []\n",
        "    for i in range(days_to_predict):\n",
        "        # Extender la serie temporal con la predicción anterior\n",
        "        model_fit = ARIMA(last_observations.values, order=(5, 1, 0)).fit()  # Ajustar con las ultimas 30 obs.\n",
        "        prediction = model_fit.predict(start=len(last_observations), end=len(last_observations)) # Predice el prox valor\n",
        "        predictions.append(prediction[0])\n",
        "        last_observations = pd.concat([last_observations, pd.Series([prediction[0]])], ignore_index=True)\n",
        "        # Convert to list of regular Python floats using tolist()\n",
        "        predictions = np.array(predictions).tolist()\n",
        "    return predictions\n",
        "\n",
        "\n",
        "\n",
        "import schedule\n",
        "import time\n",
        "import pandas as pd\n",
        "\n",
        "def initialize_app():\n",
        "    \"\"\"\n",
        "    Inicializa la aplicación obteniendo los últimos 30 valores del IBEX35 del archivo CSV.\n",
        "    Lanza la tarea periódica si no está en ejecución para crear y actualizar el archivo.\n",
        "\n",
        "    Returns:\n",
        "        pandas.DataFrame: Un DataFrame con las últimas 30 observaciones del IBEX35 o\n",
        "                         un DataFrame vacío si hay un error.\n",
        "    \"\"\"\n",
        "    try:\n",
        "        # Iniciar la tarea programada si no está en ejecución\n",
        "        if not schedule.get_jobs():\n",
        "            schedule.every().day.at(\"00:00\").do(descargar_y_guardar_ibex35)\n",
        "            print(\"Tarea programada iniciada para descargar datos del IBEX35.\")\n",
        "        else:\n",
        "            print(\"La tarea programada ya está en ejecución.\")\n",
        "\n",
        "        # Ejecutar tareas pendientes de schedule\n",
        "        schedule.run_pending()\n",
        "\n",
        "        # Leer los datos del archivo CSV\n",
        "        df_ibex35 = pd.read_csv('./datos/ibex35_data.csv', index_col='Date')\n",
        "\n",
        "        # Asegurarse de que el índice sea de tipo datetime\n",
        "        df_ibex35.index = pd.to_datetime(df_ibex35.index)\n",
        "\n",
        "        # Obtener las últimas 30 observaciones\n",
        "        valores = df_ibex35['^IBEX'].tail(30)\n",
        "        return valores\n",
        "\n",
        "    except FileNotFoundError:\n",
        "        print(\"El archivo ibex35_data.csv no se ha encontrado. \"\n",
        "              \"Asegúrate de que la tarea periódica se ha ejecutado al menos una vez.\")\n",
        "        return pd.DataFrame()  # Devolver un DataFrame vacío en caso de error\n",
        "    except Exception as e:\n",
        "        print(f\"Error al inicializar la aplicación: {e}\")\n",
        "        return pd.DataFrame()  # Devolver un DataFrame vacío en caso de error\n",
        "\n",
        "\n",
        "def launch_gradio():\n",
        "    # Inicializar la aplicación\n",
        "    initial_values = initialize_app()\n",
        "\n",
        "    with gr.Blocks() as demo:\n",
        "        with gr.Tab(\"Predict IBEX35\"):\n",
        "            days_to_predict_input = gr.Number(label=\"Número de días a predecir\", value=7)\n",
        "            predict_button = gr.Button(\"Predict\")\n",
        "            predict_output = gr.Textbox(label=\"Predicciones del IBEX35\")\n",
        "\n",
        "            # Predecir utilizando el modelo entrenado\n",
        "            predict_button.click(\n",
        "                fn=predict_ibex35,\n",
        "                inputs=[gr.State(initial_values), days_to_predict_input],\n",
        "                outputs=predict_output,\n",
        "            )\n",
        "\n",
        "    demo.launch(share=True)\n",
        "#descargar_y_guardar_ibex35()\n",
        "launch_gradio()\n",
        "#initial_values = initialize_app()\n",
        "#train_arima_model()\n",
        "#print(\"La predicción de 7 días para el IBEX35, a partir del modelo entrenado,es:\")\n",
        "#predict_ibex35(initial_values,7)\n"
      ],
      "metadata": {
        "colab": {
          "base_uri": "https://localhost:8080/",
          "height": 632
        },
        "id": "efvUgxO82fZp",
        "outputId": "8d81f7b8-943b-4b75-d3d2-1585216ed54b"
      },
      "execution_count": 70,
      "outputs": [
        {
          "output_type": "stream",
          "name": "stdout",
          "text": [
            "La tarea programada ya está en ejecución.\n",
            "Colab notebook detected. To show errors in colab notebook, set debug=True in launch()\n",
            "* Running on public URL: https://4e6cbe6483774a9a5d.gradio.live\n",
            "\n",
            "This share link expires in 1 week. For free permanent hosting and GPU upgrades, run `gradio deploy` from the terminal in the working directory to deploy to Hugging Face Spaces (https://huggingface.co/spaces)\n"
          ]
        },
        {
          "output_type": "display_data",
          "data": {
            "text/plain": [
              "<IPython.core.display.HTML object>"
            ],
            "text/html": [
              "<div><iframe src=\"https://4e6cbe6483774a9a5d.gradio.live\" width=\"100%\" height=\"500\" allow=\"autoplay; camera; microphone; clipboard-read; clipboard-write;\" frameborder=\"0\" allowfullscreen></iframe></div>"
            ]
          },
          "metadata": {}
        }
      ]
    },
    {
      "cell_type": "code",
      "source": [
        "import yfinance as yf\n",
        "import pandas as pd\n",
        "\n",
        "def obtener_ultimos_valores_ibex35_internet(ticker=\"^IBEX\", num_valores=30):\n",
        "    \"\"\"\n",
        "    Obtiene los últimos valores del IBEX35 y sus fechas desde Yahoo Finance\n",
        "    y los devuelve como un DataFrame.\n",
        "\n",
        "    Args:\n",
        "        ticker (str, optional): El ticker del IBEX35 en Yahoo Finance.\n",
        "                                 Por defecto es \"^IBEX\".\n",
        "        num_valores (int, optional): Número de últimos valores a obtener.\n",
        "                                      Por defecto es 30.\n",
        "\n",
        "    Returns:\n",
        "        pandas.DataFrame: Un DataFrame con los valores del IBEX35 y las fechas\n",
        "                         como índice.\n",
        "    \"\"\"\n",
        "    try:\n",
        "        # Descargar datos del IBEX35 desde Yahoo Finance\n",
        "        ibex_data = yf.download(ticker, period=f\"{num_valores}d\")\n",
        "\n",
        "        return ibex_data['Close']\n",
        "\n",
        "    except Exception as e:\n",
        "        print(f\"Error al obtener datos de Yahoo Finance: {e}\")\n",
        "        return pd.DataFrame()  # Devolver un DataFrame vacío en caso de error"
      ],
      "metadata": {
        "id": "U5tc5u-K8IlV"
      },
      "execution_count": 18,
      "outputs": []
    },
    {
      "cell_type": "code",
      "source": [
        "import schedule\n",
        "import time\n",
        "import pandas as pd  # Si aún no la has importado\n",
        "from google.colab import drive # Para guardar en Google Drive\n",
        "\n",
        "def descargar_y_guardar_ibex35():\n",
        "  \"\"\"Descarga los últimos 30 valores del IBEX35 y los guarda en un archivo CSV en Google Drive.\"\"\"\n",
        "\n",
        "  # Descarga los datos\n",
        "  ibex_data = obtener_ultimos_valores_ibex35_internet(ticker=\"^IBEX\", num_valores=30)\n",
        "\n",
        "  # Guarda los datos en un archivo CSV en Google Drive\n",
        "  ruta_archivo = './datos/ibex35_data.csv' # Cambia la ruta si lo necesitas\n",
        "  ibex_data.to_csv(ruta_archivo, index=True)  # index=True para guardar las fechas\n",
        "\n",
        "  print(f\"Datos del IBEX35 guardados en: {ruta_archivo}\")"
      ],
      "metadata": {
        "id": "UUFXreBk9S98"
      },
      "execution_count": 23,
      "outputs": []
    },
    {
      "cell_type": "code",
      "source": [
        "# Programa la tarea para que se ejecute todos los días a las 00:00\n",
        "schedule.every().day.at(\"00:00\").do(descargar_y_guardar_ibex35)\n",
        "\n",
        "# Mantén el bucle while True para que la tarea se ejecute indefinidamente\n",
        "while True:\n",
        "  schedule.run_pending()\n",
        "  time.sleep(1)  # Espera 1 segundo antes de la siguiente verificación"
      ],
      "metadata": {
        "id": "wtXwDdkg-OaI",
        "outputId": "923d7253-d346-497e-c6fd-e8fdfa1d4802",
        "colab": {
          "base_uri": "https://localhost:8080/",
          "height": 183
        }
      },
      "execution_count": 20,
      "outputs": [
        {
          "output_type": "error",
          "ename": "KeyboardInterrupt",
          "evalue": "",
          "traceback": [
            "\u001b[0;31m---------------------------------------------------------------------------\u001b[0m",
            "\u001b[0;31mKeyboardInterrupt\u001b[0m                         Traceback (most recent call last)",
            "\u001b[0;32m<ipython-input-20-43263c7f1df9>\u001b[0m in \u001b[0;36m<cell line: 0>\u001b[0;34m()\u001b[0m\n\u001b[1;32m      5\u001b[0m \u001b[0;32mwhile\u001b[0m \u001b[0;32mTrue\u001b[0m\u001b[0;34m:\u001b[0m\u001b[0;34m\u001b[0m\u001b[0;34m\u001b[0m\u001b[0m\n\u001b[1;32m      6\u001b[0m   \u001b[0mschedule\u001b[0m\u001b[0;34m.\u001b[0m\u001b[0mrun_pending\u001b[0m\u001b[0;34m(\u001b[0m\u001b[0;34m)\u001b[0m\u001b[0;34m\u001b[0m\u001b[0;34m\u001b[0m\u001b[0m\n\u001b[0;32m----> 7\u001b[0;31m   \u001b[0mtime\u001b[0m\u001b[0;34m.\u001b[0m\u001b[0msleep\u001b[0m\u001b[0;34m(\u001b[0m\u001b[0;36m1\u001b[0m\u001b[0;34m)\u001b[0m  \u001b[0;31m# Espera 1 segundo antes de la siguiente verificación\u001b[0m\u001b[0;34m\u001b[0m\u001b[0;34m\u001b[0m\u001b[0m\n\u001b[0m",
            "\u001b[0;31mKeyboardInterrupt\u001b[0m: "
          ]
        }
      ]
    }
  ]
}