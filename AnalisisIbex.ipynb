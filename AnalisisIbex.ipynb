{
  "nbformat": 4,
  "nbformat_minor": 0,
  "metadata": {
    "colab": {
      "provenance": [],
      "authorship_tag": "ABX9TyOgG455CtCLhJmPX+dXVGrd",
      "include_colab_link": true
    },
    "kernelspec": {
      "name": "python3",
      "display_name": "Python 3"
    },
    "language_info": {
      "name": "python"
    }
  },
  "cells": [
    {
      "cell_type": "markdown",
      "metadata": {
        "id": "view-in-github",
        "colab_type": "text"
      },
      "source": [
        "<a href=\"https://colab.research.google.com/github/joseluisll/AnalisisIbex/blob/main/AnalisisIbex.ipynb\" target=\"_parent\"><img src=\"https://colab.research.google.com/assets/colab-badge.svg\" alt=\"Open In Colab\"/></a>"
      ]
    },
    {
      "cell_type": "code",
      "source": [
        "# prompt: Normaliza con pandas la serie de datos del ibex35\n",
        "\n",
        "import pandas as pd\n",
        "\n",
        "# Assuming the file is named 'ibex35_historical_data.csv' and is in a 'datos' subdirectory\n",
        "try:\n",
        "  df_ibex = pd.read_csv('datos/datos_historicos_IBEX35.csv', parse_dates=['Date'], index_col='Date')\n",
        "\n",
        "  # Assuming 'Close' is the column you want to normalize\n",
        "  if 'Close' in df.columns:\n",
        "    # Method 1: Min-Max Scaling (Normalization to [0, 1])\n",
        "    df_ibex['Close_Normalized_MinMax'] = (df_ibex['Close'] - df_ibex['Close'].min()) / (df_ibex['Close'].max() - df_ibex['Close'].min())\n",
        "\n",
        "    # Method 2: Z-Score Normalization (Standardization)\n",
        "    df_ibex['Close_Normalized_ZScore'] = (df_ibex['Close'] - df_ibex['Close'].mean()) / df_ibex['Close'].std()\n",
        "\n",
        "    print(df_ibex.head())\n",
        "  else:\n",
        "    print(\"Error: 'Close' column not found in the DataFrame.\")\n",
        "\n",
        "except FileNotFoundError:\n",
        "  print(\"Error: File not found. Please make sure 'ibex35_historical_data.csv' exists in the 'datos' directory.\")\n",
        "except pd.errors.ParserError:\n",
        "  print(\"Error: Could not parse the CSV file. Please check its format.\")\n",
        "except KeyError:\n",
        "    print(\"Error: 'Date' or 'Close' column not found in the CSV file. Please check the column names.\")\n",
        "except Exception as e:\n",
        "  print(f\"An unexpected error occurred: {e}\")\n"
      ],
      "metadata": {
        "colab": {
          "base_uri": "https://localhost:8080/"
        },
        "id": "9vwjZ6TVidBI",
        "outputId": "1b3b15ff-0aa5-49f6-c6c8-069859fdbaab"
      },
      "execution_count": 2,
      "outputs": [
        {
          "output_type": "stream",
          "name": "stdout",
          "text": [
            "An unexpected error occurred: Missing column provided to 'parse_dates': 'Date'\n"
          ]
        }
      ]
    },
    {
      "cell_type": "code",
      "source": [
        "# prompt: abre la serie de datos históricos de petroleo_WTI y con pandas normalizala. nombra la variable del dataset pd_petroleo\n",
        "\n",
        "import pandas as pd\n",
        "\n",
        "try:\n",
        "    pd_petroleo = pd.read_csv('datos/datos_historico_petroleo_wti.csv', parse_dates=['Fecha'], index_col='Fecha')\n",
        "\n",
        "\n",
        "    if 'Close' in pd_petroleo.columns:\n",
        "        # Min-Max Scaling\n",
        "        pd_petroleo['Normalizado'] = (pd_petroleo['Último'] - pd_petroleo['Último'].min()) / (pd_petroleo['Último'].max() - pd_petroleo['Último'].min())\n",
        "\n",
        "        print(pd_petroleo.head())\n",
        "    else:\n",
        "        print(\"Error: 'Close' column not found. Please check your column name.\")\n",
        "\n",
        "except FileNotFoundError:\n",
        "    print(\"Error: 'petroleo_WTI.csv' not found. Please upload the file or correct the path.\")\n",
        "except pd.errors.ParserError:\n",
        "    print(\"Error: Could not parse the CSV file. Check its format.\")\n",
        "except KeyError:\n",
        "    print(\"Error: 'Date' or 'Close' column not found. Check the column names in your file.\")\n",
        "except Exception as e:\n",
        "    print(f\"An unexpected error occurred: {e}\")\n"
      ],
      "metadata": {
        "colab": {
          "base_uri": "https://localhost:8080/"
        },
        "id": "Na6dDxiPitqy",
        "outputId": "e9b6936a-2659-4dba-af74-40c6b3e3d218"
      },
      "execution_count": 6,
      "outputs": [
        {
          "output_type": "stream",
          "name": "stdout",
          "text": [
            "An unexpected error occurred: Missing column provided to 'parse_dates': 'Date'\n"
          ]
        }
      ]
    }
  ]
}