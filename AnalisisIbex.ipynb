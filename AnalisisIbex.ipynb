{
  "nbformat": 4,
  "nbformat_minor": 0,
  "metadata": {
    "colab": {
      "provenance": [],
      "history_visible": true,
      "authorship_tag": "ABX9TyPsvf36VOAqiRwpegR7taWY",
      "include_colab_link": true
    },
    "kernelspec": {
      "name": "python3",
      "display_name": "Python 3"
    },
    "language_info": {
      "name": "python"
    }
  },
  "cells": [
    {
      "cell_type": "markdown",
      "metadata": {
        "id": "view-in-github",
        "colab_type": "text"
      },
      "source": [
        "<a href=\"https://colab.research.google.com/github/joseluisll/AnalisisIbex/blob/main/AnalisisIbex.ipynb\" target=\"_parent\"><img src=\"https://colab.research.google.com/assets/colab-badge.svg\" alt=\"Open In Colab\"/></a>"
      ]
    },
    {
      "cell_type": "code",
      "source": [
        "# Instala plotly en Colab\n",
        "!pip install plotly\n",
        "!pip install gradio\n",
        "\n",
        "import numpy as np\n",
        "import pandas as pd\n",
        "import plotly.graph_objects as go"
      ],
      "metadata": {
        "colab": {
          "base_uri": "https://localhost:8080/"
        },
        "id": "tGbqaum6wBLo",
        "outputId": "6379a1d8-340a-4ac6-b31f-e0080646b440"
      },
      "execution_count": null,
      "outputs": [
        {
          "output_type": "stream",
          "name": "stdout",
          "text": [
            "Requirement already satisfied: plotly in /usr/local/lib/python3.11/dist-packages (5.24.1)\n",
            "Requirement already satisfied: tenacity>=6.2.0 in /usr/local/lib/python3.11/dist-packages (from plotly) (9.1.2)\n",
            "Requirement already satisfied: packaging in /usr/local/lib/python3.11/dist-packages (from plotly) (24.2)\n",
            "Collecting gradio\n",
            "  Downloading gradio-5.25.1-py3-none-any.whl.metadata (16 kB)\n",
            "Collecting aiofiles<25.0,>=22.0 (from gradio)\n",
            "  Downloading aiofiles-24.1.0-py3-none-any.whl.metadata (10 kB)\n",
            "Requirement already satisfied: anyio<5.0,>=3.0 in /usr/local/lib/python3.11/dist-packages (from gradio) (4.9.0)\n",
            "Collecting fastapi<1.0,>=0.115.2 (from gradio)\n",
            "  Downloading fastapi-0.115.12-py3-none-any.whl.metadata (27 kB)\n",
            "Collecting ffmpy (from gradio)\n",
            "  Downloading ffmpy-0.5.0-py3-none-any.whl.metadata (3.0 kB)\n",
            "Collecting gradio-client==1.8.0 (from gradio)\n",
            "  Downloading gradio_client-1.8.0-py3-none-any.whl.metadata (7.1 kB)\n",
            "Collecting groovy~=0.1 (from gradio)\n",
            "  Downloading groovy-0.1.2-py3-none-any.whl.metadata (6.1 kB)\n",
            "Requirement already satisfied: httpx>=0.24.1 in /usr/local/lib/python3.11/dist-packages (from gradio) (0.28.1)\n",
            "Requirement already satisfied: huggingface-hub>=0.28.1 in /usr/local/lib/python3.11/dist-packages (from gradio) (0.30.2)\n",
            "Requirement already satisfied: jinja2<4.0 in /usr/local/lib/python3.11/dist-packages (from gradio) (3.1.6)\n",
            "Requirement already satisfied: markupsafe<4.0,>=2.0 in /usr/local/lib/python3.11/dist-packages (from gradio) (3.0.2)\n",
            "Requirement already satisfied: numpy<3.0,>=1.0 in /usr/local/lib/python3.11/dist-packages (from gradio) (2.0.2)\n",
            "Requirement already satisfied: orjson~=3.0 in /usr/local/lib/python3.11/dist-packages (from gradio) (3.10.16)\n",
            "Requirement already satisfied: packaging in /usr/local/lib/python3.11/dist-packages (from gradio) (24.2)\n",
            "Requirement already satisfied: pandas<3.0,>=1.0 in /usr/local/lib/python3.11/dist-packages (from gradio) (2.2.2)\n",
            "Requirement already satisfied: pillow<12.0,>=8.0 in /usr/local/lib/python3.11/dist-packages (from gradio) (11.1.0)\n",
            "Requirement already satisfied: pydantic<2.12,>=2.0 in /usr/local/lib/python3.11/dist-packages (from gradio) (2.11.3)\n",
            "Collecting pydub (from gradio)\n",
            "  Downloading pydub-0.25.1-py2.py3-none-any.whl.metadata (1.4 kB)\n",
            "Collecting python-multipart>=0.0.18 (from gradio)\n",
            "  Downloading python_multipart-0.0.20-py3-none-any.whl.metadata (1.8 kB)\n",
            "Requirement already satisfied: pyyaml<7.0,>=5.0 in /usr/local/lib/python3.11/dist-packages (from gradio) (6.0.2)\n",
            "Collecting ruff>=0.9.3 (from gradio)\n",
            "  Downloading ruff-0.11.5-py3-none-manylinux_2_17_x86_64.manylinux2014_x86_64.whl.metadata (25 kB)\n",
            "Collecting safehttpx<0.2.0,>=0.1.6 (from gradio)\n",
            "  Downloading safehttpx-0.1.6-py3-none-any.whl.metadata (4.2 kB)\n",
            "Collecting semantic-version~=2.0 (from gradio)\n",
            "  Downloading semantic_version-2.10.0-py2.py3-none-any.whl.metadata (9.7 kB)\n",
            "Collecting starlette<1.0,>=0.40.0 (from gradio)\n",
            "  Downloading starlette-0.46.2-py3-none-any.whl.metadata (6.2 kB)\n",
            "Collecting tomlkit<0.14.0,>=0.12.0 (from gradio)\n",
            "  Downloading tomlkit-0.13.2-py3-none-any.whl.metadata (2.7 kB)\n",
            "Requirement already satisfied: typer<1.0,>=0.12 in /usr/local/lib/python3.11/dist-packages (from gradio) (0.15.2)\n",
            "Requirement already satisfied: typing-extensions~=4.0 in /usr/local/lib/python3.11/dist-packages (from gradio) (4.13.1)\n",
            "Collecting uvicorn>=0.14.0 (from gradio)\n",
            "  Downloading uvicorn-0.34.1-py3-none-any.whl.metadata (6.5 kB)\n",
            "Requirement already satisfied: fsspec in /usr/local/lib/python3.11/dist-packages (from gradio-client==1.8.0->gradio) (2025.3.2)\n",
            "Requirement already satisfied: websockets<16.0,>=10.0 in /usr/local/lib/python3.11/dist-packages (from gradio-client==1.8.0->gradio) (15.0.1)\n",
            "Requirement already satisfied: idna>=2.8 in /usr/local/lib/python3.11/dist-packages (from anyio<5.0,>=3.0->gradio) (3.10)\n",
            "Requirement already satisfied: sniffio>=1.1 in /usr/local/lib/python3.11/dist-packages (from anyio<5.0,>=3.0->gradio) (1.3.1)\n",
            "Requirement already satisfied: certifi in /usr/local/lib/python3.11/dist-packages (from httpx>=0.24.1->gradio) (2025.1.31)\n",
            "Requirement already satisfied: httpcore==1.* in /usr/local/lib/python3.11/dist-packages (from httpx>=0.24.1->gradio) (1.0.7)\n",
            "Requirement already satisfied: h11<0.15,>=0.13 in /usr/local/lib/python3.11/dist-packages (from httpcore==1.*->httpx>=0.24.1->gradio) (0.14.0)\n",
            "Requirement already satisfied: filelock in /usr/local/lib/python3.11/dist-packages (from huggingface-hub>=0.28.1->gradio) (3.18.0)\n",
            "Requirement already satisfied: requests in /usr/local/lib/python3.11/dist-packages (from huggingface-hub>=0.28.1->gradio) (2.32.3)\n",
            "Requirement already satisfied: tqdm>=4.42.1 in /usr/local/lib/python3.11/dist-packages (from huggingface-hub>=0.28.1->gradio) (4.67.1)\n",
            "Requirement already satisfied: python-dateutil>=2.8.2 in /usr/local/lib/python3.11/dist-packages (from pandas<3.0,>=1.0->gradio) (2.8.2)\n",
            "Requirement already satisfied: pytz>=2020.1 in /usr/local/lib/python3.11/dist-packages (from pandas<3.0,>=1.0->gradio) (2025.2)\n",
            "Requirement already satisfied: tzdata>=2022.7 in /usr/local/lib/python3.11/dist-packages (from pandas<3.0,>=1.0->gradio) (2025.2)\n",
            "Requirement already satisfied: annotated-types>=0.6.0 in /usr/local/lib/python3.11/dist-packages (from pydantic<2.12,>=2.0->gradio) (0.7.0)\n",
            "Requirement already satisfied: pydantic-core==2.33.1 in /usr/local/lib/python3.11/dist-packages (from pydantic<2.12,>=2.0->gradio) (2.33.1)\n",
            "Requirement already satisfied: typing-inspection>=0.4.0 in /usr/local/lib/python3.11/dist-packages (from pydantic<2.12,>=2.0->gradio) (0.4.0)\n",
            "Requirement already satisfied: click>=8.0.0 in /usr/local/lib/python3.11/dist-packages (from typer<1.0,>=0.12->gradio) (8.1.8)\n",
            "Requirement already satisfied: shellingham>=1.3.0 in /usr/local/lib/python3.11/dist-packages (from typer<1.0,>=0.12->gradio) (1.5.4)\n",
            "Requirement already satisfied: rich>=10.11.0 in /usr/local/lib/python3.11/dist-packages (from typer<1.0,>=0.12->gradio) (13.9.4)\n",
            "Requirement already satisfied: six>=1.5 in /usr/local/lib/python3.11/dist-packages (from python-dateutil>=2.8.2->pandas<3.0,>=1.0->gradio) (1.17.0)\n",
            "Requirement already satisfied: markdown-it-py>=2.2.0 in /usr/local/lib/python3.11/dist-packages (from rich>=10.11.0->typer<1.0,>=0.12->gradio) (3.0.0)\n",
            "Requirement already satisfied: pygments<3.0.0,>=2.13.0 in /usr/local/lib/python3.11/dist-packages (from rich>=10.11.0->typer<1.0,>=0.12->gradio) (2.18.0)\n",
            "Requirement already satisfied: charset-normalizer<4,>=2 in /usr/local/lib/python3.11/dist-packages (from requests->huggingface-hub>=0.28.1->gradio) (3.4.1)\n",
            "Requirement already satisfied: urllib3<3,>=1.21.1 in /usr/local/lib/python3.11/dist-packages (from requests->huggingface-hub>=0.28.1->gradio) (2.3.0)\n",
            "Requirement already satisfied: mdurl~=0.1 in /usr/local/lib/python3.11/dist-packages (from markdown-it-py>=2.2.0->rich>=10.11.0->typer<1.0,>=0.12->gradio) (0.1.2)\n",
            "Downloading gradio-5.25.1-py3-none-any.whl (46.9 MB)\n",
            "\u001b[2K   \u001b[90m━━━━━━━━━━━━━━━━━━━━━━━━━━━━━━━━━━━━━━━━\u001b[0m \u001b[32m46.9/46.9 MB\u001b[0m \u001b[31m20.0 MB/s\u001b[0m eta \u001b[36m0:00:00\u001b[0m\n",
            "\u001b[?25hDownloading gradio_client-1.8.0-py3-none-any.whl (322 kB)\n",
            "\u001b[2K   \u001b[90m━━━━━━━━━━━━━━━━━━━━━━━━━━━━━━━━━━━━━━━━\u001b[0m \u001b[32m322.2/322.2 kB\u001b[0m \u001b[31m22.4 MB/s\u001b[0m eta \u001b[36m0:00:00\u001b[0m\n",
            "\u001b[?25hDownloading aiofiles-24.1.0-py3-none-any.whl (15 kB)\n",
            "Downloading fastapi-0.115.12-py3-none-any.whl (95 kB)\n",
            "\u001b[2K   \u001b[90m━━━━━━━━━━━━━━━━━━━━━━━━━━━━━━━━━━━━━━━━\u001b[0m \u001b[32m95.2/95.2 kB\u001b[0m \u001b[31m7.2 MB/s\u001b[0m eta \u001b[36m0:00:00\u001b[0m\n",
            "\u001b[?25hDownloading groovy-0.1.2-py3-none-any.whl (14 kB)\n",
            "Downloading python_multipart-0.0.20-py3-none-any.whl (24 kB)\n",
            "Downloading ruff-0.11.5-py3-none-manylinux_2_17_x86_64.manylinux2014_x86_64.whl (11.4 MB)\n",
            "\u001b[2K   \u001b[90m━━━━━━━━━━━━━━━━━━━━━━━━━━━━━━━━━━━━━━━━\u001b[0m \u001b[32m11.4/11.4 MB\u001b[0m \u001b[31m96.0 MB/s\u001b[0m eta \u001b[36m0:00:00\u001b[0m\n",
            "\u001b[?25hDownloading safehttpx-0.1.6-py3-none-any.whl (8.7 kB)\n",
            "Downloading semantic_version-2.10.0-py2.py3-none-any.whl (15 kB)\n",
            "Downloading starlette-0.46.2-py3-none-any.whl (72 kB)\n",
            "\u001b[2K   \u001b[90m━━━━━━━━━━━━━━━━━━━━━━━━━━━━━━━━━━━━━━━━\u001b[0m \u001b[32m72.0/72.0 kB\u001b[0m \u001b[31m5.4 MB/s\u001b[0m eta \u001b[36m0:00:00\u001b[0m\n",
            "\u001b[?25hDownloading tomlkit-0.13.2-py3-none-any.whl (37 kB)\n",
            "Downloading uvicorn-0.34.1-py3-none-any.whl (62 kB)\n",
            "\u001b[2K   \u001b[90m━━━━━━━━━━━━━━━━━━━━━━━━━━━━━━━━━━━━━━━━\u001b[0m \u001b[32m62.4/62.4 kB\u001b[0m \u001b[31m4.2 MB/s\u001b[0m eta \u001b[36m0:00:00\u001b[0m\n",
            "\u001b[?25hDownloading ffmpy-0.5.0-py3-none-any.whl (6.0 kB)\n",
            "Downloading pydub-0.25.1-py2.py3-none-any.whl (32 kB)\n",
            "Installing collected packages: pydub, uvicorn, tomlkit, semantic-version, ruff, python-multipart, groovy, ffmpy, aiofiles, starlette, safehttpx, gradio-client, fastapi, gradio\n",
            "Successfully installed aiofiles-24.1.0 fastapi-0.115.12 ffmpy-0.5.0 gradio-5.25.1 gradio-client-1.8.0 groovy-0.1.2 pydub-0.25.1 python-multipart-0.0.20 ruff-0.11.5 safehttpx-0.1.6 semantic-version-2.10.0 starlette-0.46.2 tomlkit-0.13.2 uvicorn-0.34.1\n"
          ]
        }
      ]
    },
    {
      "cell_type": "markdown",
      "source": [
        "**Creamos el vector de tiempos, para todos el mismo, cada posicion es un día.**"
      ],
      "metadata": {
        "id": "A1uTs9tfTSmS"
      }
    },
    {
      "cell_type": "code",
      "source": [
        "vector_fechas_test = pd.date_range(start='2025-01-01', end='2025-04-11')"
      ],
      "metadata": {
        "id": "E-b8duNUxkgF"
      },
      "execution_count": null,
      "outputs": []
    },
    {
      "cell_type": "code",
      "source": [
        "vector_fechas = pd.date_range(start='2025-01-01', end='2025-04-11')"
      ],
      "metadata": {
        "id": "tYdtAQhxTRuw"
      },
      "execution_count": null,
      "outputs": []
    },
    {
      "cell_type": "markdown",
      "source": [
        "#Preparar la serie HISTORICA de IBEX35 desde 1/1/2015 A 11/04/2025"
      ],
      "metadata": {
        "id": "NTwn98qowCaY"
      }
    },
    {
      "cell_type": "code",
      "source": [
        "# Abrir la serie de IBEX35\n",
        "df_ibex = pd.read_csv('datos/datos_historicos_IBEX35.csv', parse_dates=['Fecha'], index_col='Fecha')\n",
        "# Convert 'Último' column to float\n",
        "df_ibex['Último'] = df_ibex['Último'].apply(lambda x: float(x.replace('.', '').replace(',', '.')))\n"
      ],
      "metadata": {
        "id": "9vwjZ6TVidBI"
      },
      "execution_count": null,
      "outputs": []
    },
    {
      "cell_type": "code",
      "source": [
        "# Crear un dataframe con índice vector_fechas y valores en cero\n",
        "df_ibex_reindexado = pd.DataFrame(index=vector_fechas, data=0, columns=df_ibex.columns)\n",
        "df_ibex_reindexado = df_ibex_reindexado.astype(object)\n",
        "\n",
        "# Copiar los valores de df_ibex a df_ibex_reindexado cuando los índices coinciden\n",
        "for fecha in df_ibex.index:\n",
        "  if fecha in df_ibex_reindexado.index:\n",
        "    df_ibex_reindexado.loc[fecha] = df_ibex.loc[fecha]\n",
        "\n",
        "\n",
        "\n",
        "# Method 1: Min-Max Scaling (Normalization to [0, 1])\n",
        "df_ibex_reindexado['Normalizado'] = (df_ibex_reindexado['Último'] - df_ibex_reindexado['Último'].min()) / (df_ibex_reindexado['Último'].max() - df_ibex_reindexado['Último'].min())"
      ],
      "metadata": {
        "id": "GSE2Q7UFWeXg"
      },
      "execution_count": null,
      "outputs": []
    },
    {
      "cell_type": "markdown",
      "source": [
        "#Preparar la serie HISTORICA de Petroleo_WTI desde 1/1/2015 A 11/04/2025"
      ],
      "metadata": {
        "id": "o2hP3mEKvroC"
      }
    },
    {
      "cell_type": "code",
      "source": [
        "#datos históricos de petroleo_WTI y la normalizo\n",
        "df_petroleo = pd.read_csv('datos/datos_historico_petroleo_wti.csv', parse_dates=['Fecha'], index_col='Fecha')\n",
        "\n",
        "\n"
      ],
      "metadata": {
        "id": "Na6dDxiPitqy"
      },
      "execution_count": null,
      "outputs": []
    },
    {
      "cell_type": "code",
      "source": [
        "# Convert 'Último' column to float\n",
        "df_petroleo['Último'] = df_petroleo['Último'].apply(lambda x: float(x.replace('.', '').replace(',', '.')))"
      ],
      "metadata": {
        "id": "t_ZbuyhZVAD5"
      },
      "execution_count": null,
      "outputs": []
    },
    {
      "cell_type": "code",
      "source": [
        "df_petroleo_reindexado = pd.DataFrame(index=vector_fechas, data=0, columns=df_petroleo.columns)\n",
        "df_petroleo_reindexado = df_petroleo_reindexado.astype(object)\n",
        "\n",
        "# Copiar los valores de df_petroleo a df_petroleo_reindexado cuando los índices coinciden\n",
        "for fecha in df_petroleo.index:\n",
        "  if fecha in df_petroleo_reindexado.index:\n",
        "    df_petroleo_reindexado.loc[fecha] = df_petroleo.loc[fecha]\n",
        "\n",
        "\n",
        "# Min-Max Scaling\n",
        "df_petroleo_reindexado['Normalizado'] = (df_petroleo_reindexado['Último'] - df_petroleo_reindexado['Último'].min()) / (df_petroleo_reindexado['Último'].max() - df_petroleo_reindexado['Último'].min())\n"
      ],
      "metadata": {
        "id": "DQuE8vXmYeFW"
      },
      "execution_count": null,
      "outputs": []
    },
    {
      "cell_type": "markdown",
      "source": [
        "**PREPARAR LA SERIE HISTÓRICA DE VOLATILIDAD DEL VIX MISMA ESCALA TEMPORAL QUE LAS ANTERIORES**"
      ],
      "metadata": {
        "id": "BXx1umOQd7Bl"
      }
    },
    {
      "cell_type": "code",
      "source": [
        "# Abrir la serie de IBEX35\n",
        "df_vix = pd.read_csv('datos/datos_historicos_VIX.csv', parse_dates=['Fecha'], index_col='Fecha')\n",
        "\n",
        "# Convert 'Último' column to float\n",
        "df_vix['Último'] = df_vix['Último'].apply(lambda x: float(x.replace('.', '').replace(',', '.')))\n",
        "\n",
        "df_vix_reindexado = pd.DataFrame(index=vector_fechas, data=0, columns=df_vix.columns)\n",
        "df_vix_reindexado = df_vix_reindexado.astype(object)\n",
        "\n",
        "# Copiar los valores de df_petroleo a df_petroleo_reindexado cuando los índices coinciden\n",
        "for fecha in df_vix.index:\n",
        "  if fecha in df_petroleo_reindexado.index:\n",
        "    df_vix_reindexado.loc[fecha] = df_vix.loc[fecha]\n",
        "\n",
        "\n",
        "# Min-Max Scaling\n",
        "df_vix_reindexado['Normalizado'] = (df_vix_reindexado['Último'] - df_vix_reindexado['Último'].min()) / (df_vix_reindexado['Último'].max() - df_vix_reindexado['Último'].min())\n"
      ],
      "metadata": {
        "id": "RZQsgRnMd6Jd"
      },
      "execution_count": null,
      "outputs": []
    },
    {
      "cell_type": "markdown",
      "source": [
        "**Metro la cotización EUR/DOL**"
      ],
      "metadata": {
        "id": "XKDKLY2YjjYR"
      }
    },
    {
      "cell_type": "code",
      "source": [
        "# Abrir la serie de IBEX35\n",
        "df_eur_usd = pd.read_csv('datos/datos_historicos_EUR_USD.csv', parse_dates=['Fecha'], index_col='Fecha')\n",
        "\n",
        "# Convert 'Último' column to float\n",
        "df_eur_usd['Último'] = df_eur_usd['Último'].apply(lambda x: float(x.replace('.', '').replace(',', '.')))\n",
        "\n",
        "df_eur_usd_reindexado = pd.DataFrame(index=vector_fechas, data=0, columns=df_eur_usd.columns)\n",
        "df_eur_usd_reindexado = df_eur_usd_reindexado.astype(object)\n",
        "\n",
        "# Copiar los valores de df_petroleo a df_petroleo_reindexado cuando los índices coinciden\n",
        "for fecha in df_eur_usd.index:\n",
        "  if fecha in df_eur_usd_reindexado.index:\n",
        "    df_eur_usd_reindexado.loc[fecha] = df_eur_usd.loc[fecha]\n",
        "\n",
        "\n",
        "# Min-Max Scaling\n",
        "df_eur_usd_reindexado['Normalizado'] = (df_eur_usd_reindexado['Último'] - df_eur_usd_reindexado['Último'].min()) / (df_eur_usd_reindexado['Último'].max() - df_eur_usd_reindexado['Último'].min())\n"
      ],
      "metadata": {
        "id": "9xOi_YKAjjvs"
      },
      "execution_count": null,
      "outputs": []
    },
    {
      "cell_type": "markdown",
      "source": [
        "#REPRESENTAR LAS SERIES TEMPORALES NORMALIZADAS SOBRE EL MISMO EJE\n",
        "\n",
        "El grafico es interactivo y permite hacer zoom.\n",
        "\n",
        "El OJO humano y el cerebro ya ha visto que hay relación entre ambas series."
      ],
      "metadata": {
        "id": "1oqrJl18tL7J"
      }
    },
    {
      "cell_type": "markdown",
      "source": [],
      "metadata": {
        "id": "eDdJV7_G4IoB"
      }
    },
    {
      "cell_type": "code",
      "source": [
        "# 1. Select 'Último' column from both DataFrames\n",
        "df_ibex_reindexado['Derivada'] = df_ibex_reindexado['Normalizado'].diff()\n",
        "\n",
        "ibex_ultimo = df_ibex_reindexado['Normalizado']\n",
        "df_petroleo_reindexado['Derivada'] = df_petroleo_reindexado['Normalizado'].diff()\n",
        "\n",
        "petroleo_ultimo = df_petroleo_reindexado['Normalizado']\n",
        "df_vix_reindexado['Derivada'] = df_vix_reindexado['Normalizado'].diff()\n",
        "\n",
        "vix_ultimo = df_vix_reindexado['Normalizado']\n",
        "\n",
        "df_eur_usd_reindexado['Derivada'] = df_eur_usd_reindexado['Normalizado'].diff()\n",
        "eur_usd_ultimo = df_eur_usd_reindexado['Normalizado']\n",
        "\n",
        "\n",
        "\n",
        "\n",
        "# Crear DataFrame para Plotly\n",
        "df_to_plot = pd.DataFrame({'IBEX35': ibex_ultimo, 'Petroleo_WTI': petroleo_ultimo, 'VIX' : vix_ultimo, 'EUR_USD' : eur_usd_ultimo},index=vector_fechas)\n",
        "\n",
        "\n",
        "# Crear gráfico interactivo\n",
        "fig = go.Figure()\n",
        "\n",
        "fig.add_trace(go.Scatter(x=df_to_plot.index, y=df_to_plot['IBEX35'],\n",
        "                         mode='lines', name='IBEX35'))\n",
        "\n",
        "fig.add_trace(go.Scatter(x=df_to_plot.index, y=df_to_plot['Petroleo_WTI'],\n",
        "                         mode='lines', name='Petroleo_WTI'))\n",
        "\n",
        "fig.add_trace(go.Scatter(x=df_to_plot.index, y=df_to_plot['VIX'],\n",
        "                         mode='lines', name='VIX'))\n",
        "\n",
        "fig.add_trace(go.Scatter(x=df_to_plot.index, y=df_to_plot['EUR_USD'],\n",
        "                         mode='lines', name='EUR_USD'))\n",
        "\n",
        "\n",
        "\n",
        "umbral=0.4\n",
        "\n",
        "df_subida = df_to_plot[(df_ibex_reindexado['Derivada'] > umbral) &\n",
        "                       (df_petroleo_reindexado['Derivada'] > umbral) &\n",
        "                       (df_vix_reindexado['Derivada'] > umbral) &\n",
        "                       (df_eur_usd_reindexado['Derivada'] > umbral)]\n",
        "\n",
        "\n",
        "# Add scatter trace for df_subida\n",
        "fig.add_trace(go.Scatter(\n",
        "    x=df_subida.index,\n",
        "    y=df_subida['IBEX35'],  # You can choose the column to represent on y-axis\n",
        "    mode='markers',\n",
        "    marker=dict(color='yellow', size=8),  # Customize marker appearance\n",
        "    name='Subida Points'\n",
        "))\n",
        "\n",
        "# Actualizar diseño del gráfico\n",
        "fig.update_layout(title='IBEX35 vs Petroleo_WTI vs VIX vs EUR_USD',\n",
        "                  xaxis_title='Fecha',\n",
        "                  yaxis_title='Valor',\n",
        "                  hovermode='x unified',\n",
        "                  template='plotly_white')\n",
        "\n",
        "fig.show()\n"
      ],
      "metadata": {
        "colab": {
          "base_uri": "https://localhost:8080/",
          "height": 542
        },
        "id": "U4tnSVZytHQi",
        "outputId": "edba5b26-4148-4392-aeef-dc1dfd2ba744"
      },
      "execution_count": null,
      "outputs": [
        {
          "output_type": "display_data",
          "data": {
            "text/html": [
              "<html>\n",
              "<head><meta charset=\"utf-8\" /></head>\n",
              "<body>\n",
              "    <div>            <script src=\"https://cdnjs.cloudflare.com/ajax/libs/mathjax/2.7.5/MathJax.js?config=TeX-AMS-MML_SVG\"></script><script type=\"text/javascript\">if (window.MathJax && window.MathJax.Hub && window.MathJax.Hub.Config) {window.MathJax.Hub.Config({SVG: {font: \"STIX-Web\"}});}</script>                <script type=\"text/javascript\">window.PlotlyConfig = {MathJaxConfig: 'local'};</script>\n",
              "        <script charset=\"utf-8\" src=\"https://cdn.plot.ly/plotly-2.35.2.min.js\"></script>                <div id=\"80d9b13f-f1b3-4113-b5ce-d8d1a8575765\" class=\"plotly-graph-div\" style=\"height:525px; width:100%;\"></div>            <script type=\"text/javascript\">                                    window.PLOTLYENV=window.PLOTLYENV || {};                                    if (document.getElementById(\"80d9b13f-f1b3-4113-b5ce-d8d1a8575765\")) {                    Plotly.newPlot(                        \"80d9b13f-f1b3-4113-b5ce-d8d1a8575765\",                        [{\"mode\":\"lines\",\"name\":\"IBEX35\",\"x\":[\"2025-01-01T00:00:00\",\"2025-01-02T00:00:00\",\"2025-01-03T00:00:00\",\"2025-01-04T00:00:00\",\"2025-01-05T00:00:00\",\"2025-01-06T00:00:00\",\"2025-01-07T00:00:00\",\"2025-01-08T00:00:00\",\"2025-01-09T00:00:00\",\"2025-01-10T00:00:00\",\"2025-01-11T00:00:00\",\"2025-01-12T00:00:00\",\"2025-01-13T00:00:00\",\"2025-01-14T00:00:00\",\"2025-01-15T00:00:00\",\"2025-01-16T00:00:00\",\"2025-01-17T00:00:00\",\"2025-01-18T00:00:00\",\"2025-01-19T00:00:00\",\"2025-01-20T00:00:00\",\"2025-01-21T00:00:00\",\"2025-01-22T00:00:00\",\"2025-01-23T00:00:00\",\"2025-01-24T00:00:00\",\"2025-01-25T00:00:00\",\"2025-01-26T00:00:00\",\"2025-01-27T00:00:00\",\"2025-01-28T00:00:00\",\"2025-01-29T00:00:00\",\"2025-01-30T00:00:00\",\"2025-01-31T00:00:00\",\"2025-02-01T00:00:00\",\"2025-02-02T00:00:00\",\"2025-02-03T00:00:00\",\"2025-02-04T00:00:00\",\"2025-02-05T00:00:00\",\"2025-02-06T00:00:00\",\"2025-02-07T00:00:00\",\"2025-02-08T00:00:00\",\"2025-02-09T00:00:00\",\"2025-02-10T00:00:00\",\"2025-02-11T00:00:00\",\"2025-02-12T00:00:00\",\"2025-02-13T00:00:00\",\"2025-02-14T00:00:00\",\"2025-02-15T00:00:00\",\"2025-02-16T00:00:00\",\"2025-02-17T00:00:00\",\"2025-02-18T00:00:00\",\"2025-02-19T00:00:00\",\"2025-02-20T00:00:00\",\"2025-02-21T00:00:00\",\"2025-02-22T00:00:00\",\"2025-02-23T00:00:00\",\"2025-02-24T00:00:00\",\"2025-02-25T00:00:00\",\"2025-02-26T00:00:00\",\"2025-02-27T00:00:00\",\"2025-02-28T00:00:00\",\"2025-03-01T00:00:00\",\"2025-03-02T00:00:00\",\"2025-03-03T00:00:00\",\"2025-03-04T00:00:00\",\"2025-03-05T00:00:00\",\"2025-03-06T00:00:00\",\"2025-03-07T00:00:00\",\"2025-03-08T00:00:00\",\"2025-03-09T00:00:00\",\"2025-03-10T00:00:00\",\"2025-03-11T00:00:00\",\"2025-03-12T00:00:00\",\"2025-03-13T00:00:00\",\"2025-03-14T00:00:00\",\"2025-03-15T00:00:00\",\"2025-03-16T00:00:00\",\"2025-03-17T00:00:00\",\"2025-03-18T00:00:00\",\"2025-03-19T00:00:00\",\"2025-03-20T00:00:00\",\"2025-03-21T00:00:00\",\"2025-03-22T00:00:00\",\"2025-03-23T00:00:00\",\"2025-03-24T00:00:00\",\"2025-03-25T00:00:00\",\"2025-03-26T00:00:00\",\"2025-03-27T00:00:00\",\"2025-03-28T00:00:00\",\"2025-03-29T00:00:00\",\"2025-03-30T00:00:00\",\"2025-03-31T00:00:00\",\"2025-04-01T00:00:00\",\"2025-04-02T00:00:00\",\"2025-04-03T00:00:00\",\"2025-04-04T00:00:00\",\"2025-04-05T00:00:00\",\"2025-04-06T00:00:00\",\"2025-04-07T00:00:00\",\"2025-04-08T00:00:00\",\"2025-04-09T00:00:00\",\"2025-04-10T00:00:00\",\"2025-04-11T00:00:00\"],\"y\":[0.0,0.0,0.0,0.9861097721053373,0.0,0.0,0.0,0.0,0.0,0.0,0.0,0.0,0.8668006496444014,0.8715394940782986,0.8823965648939879,0.8781026823787665,0.8837166185860593,0.0,0.0,0.8857411953160342,0.8845397981356096,0.881224831841475,0.8892934746334626,0.8886334477874269,0.0,0.0,0.8897087724242267,0.9013593586615547,0.9111707689683558,0.9210415075309806,0.91728157931817,0.8659626380308952,0.0,0.0,0.9900551011175961,0.0,0.0,0.0,0.0,0.0,0.0,0.0,0.0,0.9593601447609442,0.9608211030605964,0.0,0.0,0.9653374665351557,0.9747558271471267,0.9588484385544671,0.9616442826101467,0.9605244617814792,0.0,0.0,0.9650408252560385,0.9727460824811076,0.9887053832976128,0.9841519396631639,0.9898400361902361,0.864086381940479,0.9051860311621663,0.9917533724405421,0.9782636102726876,0.0,0.0,0.0,0.0,0.0,0.0,0.0,0.0,0.9508317079863249,0.964469790793738,0.0,0.0,0.9750005562023984,0.990388822556603,0.9943489836328175,0.9867994630792848,0.9900551011175961,0.0,0.0,0.9880601885155329,1.0,0.9961362473394987,0.9954243082696174,0.9870219440386226,0.0,0.0,0.9741254644290026,0.0,0.9175708045653093,0.9664350392678894,0.9212194922984508,0.0,0.0,0.0,0.0,0.0,0.0,0.0],\"type\":\"scatter\"},{\"mode\":\"lines\",\"name\":\"Petroleo_WTI\",\"x\":[\"2025-01-01T00:00:00\",\"2025-01-02T00:00:00\",\"2025-01-03T00:00:00\",\"2025-01-04T00:00:00\",\"2025-01-05T00:00:00\",\"2025-01-06T00:00:00\",\"2025-01-07T00:00:00\",\"2025-01-08T00:00:00\",\"2025-01-09T00:00:00\",\"2025-01-10T00:00:00\",\"2025-01-11T00:00:00\",\"2025-01-12T00:00:00\",\"2025-01-13T00:00:00\",\"2025-01-14T00:00:00\",\"2025-01-15T00:00:00\",\"2025-01-16T00:00:00\",\"2025-01-17T00:00:00\",\"2025-01-18T00:00:00\",\"2025-01-19T00:00:00\",\"2025-01-20T00:00:00\",\"2025-01-21T00:00:00\",\"2025-01-22T00:00:00\",\"2025-01-23T00:00:00\",\"2025-01-24T00:00:00\",\"2025-01-25T00:00:00\",\"2025-01-26T00:00:00\",\"2025-01-27T00:00:00\",\"2025-01-28T00:00:00\",\"2025-01-29T00:00:00\",\"2025-01-30T00:00:00\",\"2025-01-31T00:00:00\",\"2025-02-01T00:00:00\",\"2025-02-02T00:00:00\",\"2025-02-03T00:00:00\",\"2025-02-04T00:00:00\",\"2025-02-05T00:00:00\",\"2025-02-06T00:00:00\",\"2025-02-07T00:00:00\",\"2025-02-08T00:00:00\",\"2025-02-09T00:00:00\",\"2025-02-10T00:00:00\",\"2025-02-11T00:00:00\",\"2025-02-12T00:00:00\",\"2025-02-13T00:00:00\",\"2025-02-14T00:00:00\",\"2025-02-15T00:00:00\",\"2025-02-16T00:00:00\",\"2025-02-17T00:00:00\",\"2025-02-18T00:00:00\",\"2025-02-19T00:00:00\",\"2025-02-20T00:00:00\",\"2025-02-21T00:00:00\",\"2025-02-22T00:00:00\",\"2025-02-23T00:00:00\",\"2025-02-24T00:00:00\",\"2025-02-25T00:00:00\",\"2025-02-26T00:00:00\",\"2025-02-27T00:00:00\",\"2025-02-28T00:00:00\",\"2025-03-01T00:00:00\",\"2025-03-02T00:00:00\",\"2025-03-03T00:00:00\",\"2025-03-04T00:00:00\",\"2025-03-05T00:00:00\",\"2025-03-06T00:00:00\",\"2025-03-07T00:00:00\",\"2025-03-08T00:00:00\",\"2025-03-09T00:00:00\",\"2025-03-10T00:00:00\",\"2025-03-11T00:00:00\",\"2025-03-12T00:00:00\",\"2025-03-13T00:00:00\",\"2025-03-14T00:00:00\",\"2025-03-15T00:00:00\",\"2025-03-16T00:00:00\",\"2025-03-17T00:00:00\",\"2025-03-18T00:00:00\",\"2025-03-19T00:00:00\",\"2025-03-20T00:00:00\",\"2025-03-21T00:00:00\",\"2025-03-22T00:00:00\",\"2025-03-23T00:00:00\",\"2025-03-24T00:00:00\",\"2025-03-25T00:00:00\",\"2025-03-26T00:00:00\",\"2025-03-27T00:00:00\",\"2025-03-28T00:00:00\",\"2025-03-29T00:00:00\",\"2025-03-30T00:00:00\",\"2025-03-31T00:00:00\",\"2025-04-01T00:00:00\",\"2025-04-02T00:00:00\",\"2025-04-03T00:00:00\",\"2025-04-04T00:00:00\",\"2025-04-05T00:00:00\",\"2025-04-06T00:00:00\",\"2025-04-07T00:00:00\",\"2025-04-08T00:00:00\",\"2025-04-09T00:00:00\",\"2025-04-10T00:00:00\",\"2025-04-11T00:00:00\"],\"y\":[0.0,0.0,0.0,0.9045864566128828,0.0,0.0,0.0,0.0,0.0,0.0,0.0,0.0,0.9820861389912336,0.9702706136450262,1.0,0.9996188540210903,0.9894549612501589,0.0,0.0,0.0,0.9641722779824674,0.9584550882988185,0.948037098208614,0.9485452928471605,0.0,0.0,0.9296150425613011,0.9372379621394995,0.9226273662812858,0.9240249015372889,0.9214839283445561,0.9211027823656461,0.0,0.0,0.9110659382543514,0.0,0.0,0.0,0.0,0.0,0.0,0.0,0.0,0.903824164655063,0.8983610722906873,0.0,0.0,0.0,0.9128446194892644,0.9179265658747301,0.9219921229831025,0.8944225638419516,0.0,0.0,0.8982340236310508,0.8757464108753654,0.8718079024266295,0.8937873205437683,0.8862914496252066,0.9301232371998476,0.9294879939016644,0.8686316859357135,0.8505907762673105,0.0,0.0,0.0,0.0,0.0,0.0,0.0,0.0,0.8419514674120189,0.8500825816287638,0.0,0.0,0.8559268199720494,0.8499555329691273,0.8532587981196799,0.8672341506797104,0.8674882479989837,0.0,0.0,0.8780332867488249,0.8766357514928218,0.8848939143692035,0.8883242281793928,0.8812095032397409,0.0,0.0,0.9081438190827088,0.0,0.923643755558379,0.8672341506797104,0.7875746410875366,0.0,0.0,0.0,0.0,0.0,0.0,0.0],\"type\":\"scatter\"},{\"mode\":\"lines\",\"name\":\"VIX\",\"x\":[\"2025-01-01T00:00:00\",\"2025-01-02T00:00:00\",\"2025-01-03T00:00:00\",\"2025-01-04T00:00:00\",\"2025-01-05T00:00:00\",\"2025-01-06T00:00:00\",\"2025-01-07T00:00:00\",\"2025-01-08T00:00:00\",\"2025-01-09T00:00:00\",\"2025-01-10T00:00:00\",\"2025-01-11T00:00:00\",\"2025-01-12T00:00:00\",\"2025-01-13T00:00:00\",\"2025-01-14T00:00:00\",\"2025-01-15T00:00:00\",\"2025-01-16T00:00:00\",\"2025-01-17T00:00:00\",\"2025-01-18T00:00:00\",\"2025-01-19T00:00:00\",\"2025-01-20T00:00:00\",\"2025-01-21T00:00:00\",\"2025-01-22T00:00:00\",\"2025-01-23T00:00:00\",\"2025-01-24T00:00:00\",\"2025-01-25T00:00:00\",\"2025-01-26T00:00:00\",\"2025-01-27T00:00:00\",\"2025-01-28T00:00:00\",\"2025-01-29T00:00:00\",\"2025-01-30T00:00:00\",\"2025-01-31T00:00:00\",\"2025-02-01T00:00:00\",\"2025-02-02T00:00:00\",\"2025-02-03T00:00:00\",\"2025-02-04T00:00:00\",\"2025-02-05T00:00:00\",\"2025-02-06T00:00:00\",\"2025-02-07T00:00:00\",\"2025-02-08T00:00:00\",\"2025-02-09T00:00:00\",\"2025-02-10T00:00:00\",\"2025-02-11T00:00:00\",\"2025-02-12T00:00:00\",\"2025-02-13T00:00:00\",\"2025-02-14T00:00:00\",\"2025-02-15T00:00:00\",\"2025-02-16T00:00:00\",\"2025-02-17T00:00:00\",\"2025-02-18T00:00:00\",\"2025-02-19T00:00:00\",\"2025-02-20T00:00:00\",\"2025-02-21T00:00:00\",\"2025-02-22T00:00:00\",\"2025-02-23T00:00:00\",\"2025-02-24T00:00:00\",\"2025-02-25T00:00:00\",\"2025-02-26T00:00:00\",\"2025-02-27T00:00:00\",\"2025-02-28T00:00:00\",\"2025-03-01T00:00:00\",\"2025-03-02T00:00:00\",\"2025-03-03T00:00:00\",\"2025-03-04T00:00:00\",\"2025-03-05T00:00:00\",\"2025-03-06T00:00:00\",\"2025-03-07T00:00:00\",\"2025-03-08T00:00:00\",\"2025-03-09T00:00:00\",\"2025-03-10T00:00:00\",\"2025-03-11T00:00:00\",\"2025-03-12T00:00:00\",\"2025-03-13T00:00:00\",\"2025-03-14T00:00:00\",\"2025-03-15T00:00:00\",\"2025-03-16T00:00:00\",\"2025-03-17T00:00:00\",\"2025-03-18T00:00:00\",\"2025-03-19T00:00:00\",\"2025-03-20T00:00:00\",\"2025-03-21T00:00:00\",\"2025-03-22T00:00:00\",\"2025-03-23T00:00:00\",\"2025-03-24T00:00:00\",\"2025-03-25T00:00:00\",\"2025-03-26T00:00:00\",\"2025-03-27T00:00:00\",\"2025-03-28T00:00:00\",\"2025-03-29T00:00:00\",\"2025-03-30T00:00:00\",\"2025-03-31T00:00:00\",\"2025-04-01T00:00:00\",\"2025-04-02T00:00:00\",\"2025-04-03T00:00:00\",\"2025-04-04T00:00:00\",\"2025-04-05T00:00:00\",\"2025-04-06T00:00:00\",\"2025-04-07T00:00:00\",\"2025-04-08T00:00:00\",\"2025-04-09T00:00:00\",\"2025-04-10T00:00:00\",\"2025-04-11T00:00:00\"],\"y\":[0.0,0.0,0.0,0.4804678878834694,0.0,0.0,0.0,0.0,0.0,0.0,0.0,0.0,0.42352681527256675,0.41293312734495696,0.3557713529022291,0.3663650408298389,0.352460825424851,0.0,0.0,0.3489295961156478,0.33237695872875744,0.3332597660560582,0.3314941514014566,0.32774222026042815,0.0,0.0,0.39505627896711537,0.36217170602515997,0.365482233502538,0.34959170161112335,0.3626131096888104,0.395718384462591,0.0,0.0,0.47472964025601416,0.0,0.0,0.0,0.0,0.0,0.0,0.0,0.0,0.3332597660560582,0.3259766056058265,0.0,0.0,0.3392187155153387,0.33877731185168836,0.33701169719708673,0.3456190686382697,0.40189803575369676,0.0,0.0,0.41889207680423746,0.4288236592363716,0.4215404987861399,0.4663429706466563,0.4332376958728757,0.35599205473405426,0.41094681085853013,0.502758772897815,0.6625468991392628,0.0,0.0,0.0,0.0,0.0,0.0,0.0,0.0,0.5442507172809534,0.4804678878834694,0.0,0.0,0.4526594570734937,0.478922975060693,0.4391966453321562,0.4369896270139042,0.4255131317589936,0.0,0.0,0.38578680203045684,0.3785036415802251,0.40454645773559916,0.41249172368130654,0.47781946590156693,0.0,0.0,0.49172368130655486,0.0,0.37982785257117635,0.518870006621055,1.0,0.0,0.0,0.0,0.0,0.0,0.0,0.0],\"type\":\"scatter\"},{\"mode\":\"lines\",\"name\":\"EUR_USD\",\"x\":[\"2025-01-01T00:00:00\",\"2025-01-02T00:00:00\",\"2025-01-03T00:00:00\",\"2025-01-04T00:00:00\",\"2025-01-05T00:00:00\",\"2025-01-06T00:00:00\",\"2025-01-07T00:00:00\",\"2025-01-08T00:00:00\",\"2025-01-09T00:00:00\",\"2025-01-10T00:00:00\",\"2025-01-11T00:00:00\",\"2025-01-12T00:00:00\",\"2025-01-13T00:00:00\",\"2025-01-14T00:00:00\",\"2025-01-15T00:00:00\",\"2025-01-16T00:00:00\",\"2025-01-17T00:00:00\",\"2025-01-18T00:00:00\",\"2025-01-19T00:00:00\",\"2025-01-20T00:00:00\",\"2025-01-21T00:00:00\",\"2025-01-22T00:00:00\",\"2025-01-23T00:00:00\",\"2025-01-24T00:00:00\",\"2025-01-25T00:00:00\",\"2025-01-26T00:00:00\",\"2025-01-27T00:00:00\",\"2025-01-28T00:00:00\",\"2025-01-29T00:00:00\",\"2025-01-30T00:00:00\",\"2025-01-31T00:00:00\",\"2025-02-01T00:00:00\",\"2025-02-02T00:00:00\",\"2025-02-03T00:00:00\",\"2025-02-04T00:00:00\",\"2025-02-05T00:00:00\",\"2025-02-06T00:00:00\",\"2025-02-07T00:00:00\",\"2025-02-08T00:00:00\",\"2025-02-09T00:00:00\",\"2025-02-10T00:00:00\",\"2025-02-11T00:00:00\",\"2025-02-12T00:00:00\",\"2025-02-13T00:00:00\",\"2025-02-14T00:00:00\",\"2025-02-15T00:00:00\",\"2025-02-16T00:00:00\",\"2025-02-17T00:00:00\",\"2025-02-18T00:00:00\",\"2025-02-19T00:00:00\",\"2025-02-20T00:00:00\",\"2025-02-21T00:00:00\",\"2025-02-22T00:00:00\",\"2025-02-23T00:00:00\",\"2025-02-24T00:00:00\",\"2025-02-25T00:00:00\",\"2025-02-26T00:00:00\",\"2025-02-27T00:00:00\",\"2025-02-28T00:00:00\",\"2025-03-01T00:00:00\",\"2025-03-02T00:00:00\",\"2025-03-03T00:00:00\",\"2025-03-04T00:00:00\",\"2025-03-05T00:00:00\",\"2025-03-06T00:00:00\",\"2025-03-07T00:00:00\",\"2025-03-08T00:00:00\",\"2025-03-09T00:00:00\",\"2025-03-10T00:00:00\",\"2025-03-11T00:00:00\",\"2025-03-12T00:00:00\",\"2025-03-13T00:00:00\",\"2025-03-14T00:00:00\",\"2025-03-15T00:00:00\",\"2025-03-16T00:00:00\",\"2025-03-17T00:00:00\",\"2025-03-18T00:00:00\",\"2025-03-19T00:00:00\",\"2025-03-20T00:00:00\",\"2025-03-21T00:00:00\",\"2025-03-22T00:00:00\",\"2025-03-23T00:00:00\",\"2025-03-24T00:00:00\",\"2025-03-25T00:00:00\",\"2025-03-26T00:00:00\",\"2025-03-27T00:00:00\",\"2025-03-28T00:00:00\",\"2025-03-29T00:00:00\",\"2025-03-30T00:00:00\",\"2025-03-31T00:00:00\",\"2025-04-01T00:00:00\",\"2025-04-02T00:00:00\",\"2025-04-03T00:00:00\",\"2025-04-04T00:00:00\",\"2025-04-05T00:00:00\",\"2025-04-06T00:00:00\",\"2025-04-07T00:00:00\",\"2025-04-08T00:00:00\",\"2025-04-09T00:00:00\",\"2025-04-10T00:00:00\",\"2025-04-11T00:00:00\"],\"y\":[0.9371040723981902,0.0,0.0,0.9767420814479637,0.0,0.0,0.0,0.0,0.0,0.0,0.0,0.0,0.9270588235294117,0.9327601809954751,0.931131221719457,0.9319457013574661,0.9295022624434388,0.0,0.0,0.9424434389140273,0.9438009049773756,0.9418099547511312,0.9425339366515838,0.9495927601809954,0.0,0.0,0.9494117647058823,0.943710407239819,0.9429864253393666,0.9402714932126697,0.937737556561086,0.9289592760180996,0.0,0.0,0.9823529411764705,0.0,0.0,0.0,0.0,0.0,0.0,0.0,0.0,0.9469683257918552,0.9494117647058823,0.0,0.0,0.9485972850678733,0.9452488687782805,0.9430769230769231,0.9502262443438915,0.946425339366516,0.0,0.0,0.9471493212669683,0.9514027149321266,0.9486877828054299,0.9409049773755657,0.9389140271493214,0.9328506787330316,0.9361085972850679,0.9489592760180996,1.0,0.0,0.0,0.0,0.0,0.0,0.0,0.0,0.0,0.9820814479638008,0.9845248868778281,0.0,0.0,0.9883257918552038,0.990316742081448,0.9865158371040724,0.9819909502262443,0.9786425339366516,0.0,0.0,0.9773755656108598,0.9765610859728506,0.9730316742081447,0.9774660633484163,0.9798190045248869,0.0,0.0,0.9789140271493214,0.0,0.9390950226244345,0.961447963800905,0.9914027149321266,0.0,0.0,0.0,0.0,0.0,0.0,0.0],\"type\":\"scatter\"},{\"marker\":{\"color\":\"yellow\",\"size\":8},\"mode\":\"markers\",\"name\":\"Subida Points\",\"x\":[\"2025-01-04T00:00:00\",\"2025-01-13T00:00:00\",\"2025-02-04T00:00:00\",\"2025-02-24T00:00:00\",\"2025-03-13T00:00:00\",\"2025-03-17T00:00:00\",\"2025-03-31T00:00:00\"],\"y\":[0.9861097721053373,0.8668006496444014,0.9900551011175961,0.9650408252560385,0.9508317079863249,0.9750005562023984,0.9741254644290026],\"type\":\"scatter\"}],                        {\"template\":{\"data\":{\"barpolar\":[{\"marker\":{\"line\":{\"color\":\"white\",\"width\":0.5},\"pattern\":{\"fillmode\":\"overlay\",\"size\":10,\"solidity\":0.2}},\"type\":\"barpolar\"}],\"bar\":[{\"error_x\":{\"color\":\"#2a3f5f\"},\"error_y\":{\"color\":\"#2a3f5f\"},\"marker\":{\"line\":{\"color\":\"white\",\"width\":0.5},\"pattern\":{\"fillmode\":\"overlay\",\"size\":10,\"solidity\":0.2}},\"type\":\"bar\"}],\"carpet\":[{\"aaxis\":{\"endlinecolor\":\"#2a3f5f\",\"gridcolor\":\"#C8D4E3\",\"linecolor\":\"#C8D4E3\",\"minorgridcolor\":\"#C8D4E3\",\"startlinecolor\":\"#2a3f5f\"},\"baxis\":{\"endlinecolor\":\"#2a3f5f\",\"gridcolor\":\"#C8D4E3\",\"linecolor\":\"#C8D4E3\",\"minorgridcolor\":\"#C8D4E3\",\"startlinecolor\":\"#2a3f5f\"},\"type\":\"carpet\"}],\"choropleth\":[{\"colorbar\":{\"outlinewidth\":0,\"ticks\":\"\"},\"type\":\"choropleth\"}],\"contourcarpet\":[{\"colorbar\":{\"outlinewidth\":0,\"ticks\":\"\"},\"type\":\"contourcarpet\"}],\"contour\":[{\"colorbar\":{\"outlinewidth\":0,\"ticks\":\"\"},\"colorscale\":[[0.0,\"#0d0887\"],[0.1111111111111111,\"#46039f\"],[0.2222222222222222,\"#7201a8\"],[0.3333333333333333,\"#9c179e\"],[0.4444444444444444,\"#bd3786\"],[0.5555555555555556,\"#d8576b\"],[0.6666666666666666,\"#ed7953\"],[0.7777777777777778,\"#fb9f3a\"],[0.8888888888888888,\"#fdca26\"],[1.0,\"#f0f921\"]],\"type\":\"contour\"}],\"heatmapgl\":[{\"colorbar\":{\"outlinewidth\":0,\"ticks\":\"\"},\"colorscale\":[[0.0,\"#0d0887\"],[0.1111111111111111,\"#46039f\"],[0.2222222222222222,\"#7201a8\"],[0.3333333333333333,\"#9c179e\"],[0.4444444444444444,\"#bd3786\"],[0.5555555555555556,\"#d8576b\"],[0.6666666666666666,\"#ed7953\"],[0.7777777777777778,\"#fb9f3a\"],[0.8888888888888888,\"#fdca26\"],[1.0,\"#f0f921\"]],\"type\":\"heatmapgl\"}],\"heatmap\":[{\"colorbar\":{\"outlinewidth\":0,\"ticks\":\"\"},\"colorscale\":[[0.0,\"#0d0887\"],[0.1111111111111111,\"#46039f\"],[0.2222222222222222,\"#7201a8\"],[0.3333333333333333,\"#9c179e\"],[0.4444444444444444,\"#bd3786\"],[0.5555555555555556,\"#d8576b\"],[0.6666666666666666,\"#ed7953\"],[0.7777777777777778,\"#fb9f3a\"],[0.8888888888888888,\"#fdca26\"],[1.0,\"#f0f921\"]],\"type\":\"heatmap\"}],\"histogram2dcontour\":[{\"colorbar\":{\"outlinewidth\":0,\"ticks\":\"\"},\"colorscale\":[[0.0,\"#0d0887\"],[0.1111111111111111,\"#46039f\"],[0.2222222222222222,\"#7201a8\"],[0.3333333333333333,\"#9c179e\"],[0.4444444444444444,\"#bd3786\"],[0.5555555555555556,\"#d8576b\"],[0.6666666666666666,\"#ed7953\"],[0.7777777777777778,\"#fb9f3a\"],[0.8888888888888888,\"#fdca26\"],[1.0,\"#f0f921\"]],\"type\":\"histogram2dcontour\"}],\"histogram2d\":[{\"colorbar\":{\"outlinewidth\":0,\"ticks\":\"\"},\"colorscale\":[[0.0,\"#0d0887\"],[0.1111111111111111,\"#46039f\"],[0.2222222222222222,\"#7201a8\"],[0.3333333333333333,\"#9c179e\"],[0.4444444444444444,\"#bd3786\"],[0.5555555555555556,\"#d8576b\"],[0.6666666666666666,\"#ed7953\"],[0.7777777777777778,\"#fb9f3a\"],[0.8888888888888888,\"#fdca26\"],[1.0,\"#f0f921\"]],\"type\":\"histogram2d\"}],\"histogram\":[{\"marker\":{\"pattern\":{\"fillmode\":\"overlay\",\"size\":10,\"solidity\":0.2}},\"type\":\"histogram\"}],\"mesh3d\":[{\"colorbar\":{\"outlinewidth\":0,\"ticks\":\"\"},\"type\":\"mesh3d\"}],\"parcoords\":[{\"line\":{\"colorbar\":{\"outlinewidth\":0,\"ticks\":\"\"}},\"type\":\"parcoords\"}],\"pie\":[{\"automargin\":true,\"type\":\"pie\"}],\"scatter3d\":[{\"line\":{\"colorbar\":{\"outlinewidth\":0,\"ticks\":\"\"}},\"marker\":{\"colorbar\":{\"outlinewidth\":0,\"ticks\":\"\"}},\"type\":\"scatter3d\"}],\"scattercarpet\":[{\"marker\":{\"colorbar\":{\"outlinewidth\":0,\"ticks\":\"\"}},\"type\":\"scattercarpet\"}],\"scattergeo\":[{\"marker\":{\"colorbar\":{\"outlinewidth\":0,\"ticks\":\"\"}},\"type\":\"scattergeo\"}],\"scattergl\":[{\"marker\":{\"colorbar\":{\"outlinewidth\":0,\"ticks\":\"\"}},\"type\":\"scattergl\"}],\"scattermapbox\":[{\"marker\":{\"colorbar\":{\"outlinewidth\":0,\"ticks\":\"\"}},\"type\":\"scattermapbox\"}],\"scatterpolargl\":[{\"marker\":{\"colorbar\":{\"outlinewidth\":0,\"ticks\":\"\"}},\"type\":\"scatterpolargl\"}],\"scatterpolar\":[{\"marker\":{\"colorbar\":{\"outlinewidth\":0,\"ticks\":\"\"}},\"type\":\"scatterpolar\"}],\"scatter\":[{\"fillpattern\":{\"fillmode\":\"overlay\",\"size\":10,\"solidity\":0.2},\"type\":\"scatter\"}],\"scatterternary\":[{\"marker\":{\"colorbar\":{\"outlinewidth\":0,\"ticks\":\"\"}},\"type\":\"scatterternary\"}],\"surface\":[{\"colorbar\":{\"outlinewidth\":0,\"ticks\":\"\"},\"colorscale\":[[0.0,\"#0d0887\"],[0.1111111111111111,\"#46039f\"],[0.2222222222222222,\"#7201a8\"],[0.3333333333333333,\"#9c179e\"],[0.4444444444444444,\"#bd3786\"],[0.5555555555555556,\"#d8576b\"],[0.6666666666666666,\"#ed7953\"],[0.7777777777777778,\"#fb9f3a\"],[0.8888888888888888,\"#fdca26\"],[1.0,\"#f0f921\"]],\"type\":\"surface\"}],\"table\":[{\"cells\":{\"fill\":{\"color\":\"#EBF0F8\"},\"line\":{\"color\":\"white\"}},\"header\":{\"fill\":{\"color\":\"#C8D4E3\"},\"line\":{\"color\":\"white\"}},\"type\":\"table\"}]},\"layout\":{\"annotationdefaults\":{\"arrowcolor\":\"#2a3f5f\",\"arrowhead\":0,\"arrowwidth\":1},\"autotypenumbers\":\"strict\",\"coloraxis\":{\"colorbar\":{\"outlinewidth\":0,\"ticks\":\"\"}},\"colorscale\":{\"diverging\":[[0,\"#8e0152\"],[0.1,\"#c51b7d\"],[0.2,\"#de77ae\"],[0.3,\"#f1b6da\"],[0.4,\"#fde0ef\"],[0.5,\"#f7f7f7\"],[0.6,\"#e6f5d0\"],[0.7,\"#b8e186\"],[0.8,\"#7fbc41\"],[0.9,\"#4d9221\"],[1,\"#276419\"]],\"sequential\":[[0.0,\"#0d0887\"],[0.1111111111111111,\"#46039f\"],[0.2222222222222222,\"#7201a8\"],[0.3333333333333333,\"#9c179e\"],[0.4444444444444444,\"#bd3786\"],[0.5555555555555556,\"#d8576b\"],[0.6666666666666666,\"#ed7953\"],[0.7777777777777778,\"#fb9f3a\"],[0.8888888888888888,\"#fdca26\"],[1.0,\"#f0f921\"]],\"sequentialminus\":[[0.0,\"#0d0887\"],[0.1111111111111111,\"#46039f\"],[0.2222222222222222,\"#7201a8\"],[0.3333333333333333,\"#9c179e\"],[0.4444444444444444,\"#bd3786\"],[0.5555555555555556,\"#d8576b\"],[0.6666666666666666,\"#ed7953\"],[0.7777777777777778,\"#fb9f3a\"],[0.8888888888888888,\"#fdca26\"],[1.0,\"#f0f921\"]]},\"colorway\":[\"#636efa\",\"#EF553B\",\"#00cc96\",\"#ab63fa\",\"#FFA15A\",\"#19d3f3\",\"#FF6692\",\"#B6E880\",\"#FF97FF\",\"#FECB52\"],\"font\":{\"color\":\"#2a3f5f\"},\"geo\":{\"bgcolor\":\"white\",\"lakecolor\":\"white\",\"landcolor\":\"white\",\"showlakes\":true,\"showland\":true,\"subunitcolor\":\"#C8D4E3\"},\"hoverlabel\":{\"align\":\"left\"},\"hovermode\":\"closest\",\"mapbox\":{\"style\":\"light\"},\"paper_bgcolor\":\"white\",\"plot_bgcolor\":\"white\",\"polar\":{\"angularaxis\":{\"gridcolor\":\"#EBF0F8\",\"linecolor\":\"#EBF0F8\",\"ticks\":\"\"},\"bgcolor\":\"white\",\"radialaxis\":{\"gridcolor\":\"#EBF0F8\",\"linecolor\":\"#EBF0F8\",\"ticks\":\"\"}},\"scene\":{\"xaxis\":{\"backgroundcolor\":\"white\",\"gridcolor\":\"#DFE8F3\",\"gridwidth\":2,\"linecolor\":\"#EBF0F8\",\"showbackground\":true,\"ticks\":\"\",\"zerolinecolor\":\"#EBF0F8\"},\"yaxis\":{\"backgroundcolor\":\"white\",\"gridcolor\":\"#DFE8F3\",\"gridwidth\":2,\"linecolor\":\"#EBF0F8\",\"showbackground\":true,\"ticks\":\"\",\"zerolinecolor\":\"#EBF0F8\"},\"zaxis\":{\"backgroundcolor\":\"white\",\"gridcolor\":\"#DFE8F3\",\"gridwidth\":2,\"linecolor\":\"#EBF0F8\",\"showbackground\":true,\"ticks\":\"\",\"zerolinecolor\":\"#EBF0F8\"}},\"shapedefaults\":{\"line\":{\"color\":\"#2a3f5f\"}},\"ternary\":{\"aaxis\":{\"gridcolor\":\"#DFE8F3\",\"linecolor\":\"#A2B1C6\",\"ticks\":\"\"},\"baxis\":{\"gridcolor\":\"#DFE8F3\",\"linecolor\":\"#A2B1C6\",\"ticks\":\"\"},\"bgcolor\":\"white\",\"caxis\":{\"gridcolor\":\"#DFE8F3\",\"linecolor\":\"#A2B1C6\",\"ticks\":\"\"}},\"title\":{\"x\":0.05},\"xaxis\":{\"automargin\":true,\"gridcolor\":\"#EBF0F8\",\"linecolor\":\"#EBF0F8\",\"ticks\":\"\",\"title\":{\"standoff\":15},\"zerolinecolor\":\"#EBF0F8\",\"zerolinewidth\":2},\"yaxis\":{\"automargin\":true,\"gridcolor\":\"#EBF0F8\",\"linecolor\":\"#EBF0F8\",\"ticks\":\"\",\"title\":{\"standoff\":15},\"zerolinecolor\":\"#EBF0F8\",\"zerolinewidth\":2}}},\"title\":{\"text\":\"IBEX35 vs Petroleo_WTI vs VIX vs EUR_USD\"},\"xaxis\":{\"title\":{\"text\":\"Fecha\"}},\"yaxis\":{\"title\":{\"text\":\"Valor\"}},\"hovermode\":\"x unified\"},                        {\"responsive\": true}                    ).then(function(){\n",
              "                            \n",
              "var gd = document.getElementById('80d9b13f-f1b3-4113-b5ce-d8d1a8575765');\n",
              "var x = new MutationObserver(function (mutations, observer) {{\n",
              "        var display = window.getComputedStyle(gd).display;\n",
              "        if (!display || display === 'none') {{\n",
              "            console.log([gd, 'removed!']);\n",
              "            Plotly.purge(gd);\n",
              "            observer.disconnect();\n",
              "        }}\n",
              "}});\n",
              "\n",
              "// Listen for the removal of the full notebook cells\n",
              "var notebookContainer = gd.closest('#notebook-container');\n",
              "if (notebookContainer) {{\n",
              "    x.observe(notebookContainer, {childList: true});\n",
              "}}\n",
              "\n",
              "// Listen for the clearing of the current output cell\n",
              "var outputEl = gd.closest('.output');\n",
              "if (outputEl) {{\n",
              "    x.observe(outputEl, {childList: true});\n",
              "}}\n",
              "\n",
              "                        })                };                            </script>        </div>\n",
              "</body>\n",
              "</html>"
            ]
          },
          "metadata": {}
        }
      ]
    },
    {
      "cell_type": "markdown",
      "source": [
        "Yo concluiría que el índice de petroleo_WTI puede ser un indice adelantado del IBEX 35.\n",
        "\n",
        "¿Cómo puedo calcular el tiempo de adelanto?\n",
        "¿Habrá un factor de correlación?\n",
        "¿Esto se podría hacer con un modelo?.\n",
        "Problemas con los ejes, tienen diferente longitud, hay que ajustar siempre al eje con la misma longitud."
      ],
      "metadata": {
        "id": "MjWnyQB6y3-x"
      }
    },
    {
      "cell_type": "code",
      "source": [
        "# Assuming df_to_plot is already defined and contains your data\n",
        "\n",
        "# Set the window size for the rolling correlation\n",
        "window_size = 30  # You can adjust this to your needs\n",
        "\n",
        "# Calculate the rolling correlation\n",
        "rolling_correlation = df_to_plot['IBEX35'].rolling(window=window_size).corr(df_to_plot['Petroleo_WTI'])\n",
        "\n",
        "# Create a new DataFrame for the rolling correlation\n",
        "df_correlation = pd.DataFrame({'Correlation': rolling_correlation})\n",
        "df_correlation = df_correlation.reindex(df_to_plot.index, method='pad')\n",
        "\n",
        "# You can now plot or analyze df_correlation"
      ],
      "metadata": {
        "id": "UKWgPUystIuA"
      },
      "execution_count": null,
      "outputs": []
    },
    {
      "cell_type": "code",
      "source": [
        "# Add trace for the correlation\n",
        "fig.add_trace(go.Scatter(x=df_correlation.index, y=df_correlation['Correlation'],\n",
        "                         mode='lines', name='Correlation', yaxis='y2'))\n",
        "\n",
        "# Update layout for the second y-axis\n",
        "fig.update_layout(\n",
        "    yaxis2=dict(\n",
        "        title='Correlation',\n",
        "        overlaying='y',\n",
        "        side='right',\n",
        "        range=[-1, 1]  # Set range for correlation\n",
        "    ),\n",
        "    title='IBEX35, Petroleo_WTI, and Correlation',\n",
        "    xaxis_title='Fecha',\n",
        "    yaxis_title='Valor',\n",
        "    hovermode='x unified',\n",
        "    template='plotly_white'\n",
        ")\n",
        "\n",
        "# Show the plot"
      ],
      "metadata": {
        "colab": {
          "base_uri": "https://localhost:8080/",
          "height": 542
        },
        "id": "yw1lAIfi2ZoZ",
        "outputId": "50c58179-1c88-4e76-cdf7-1beff22952b4"
      },
      "execution_count": null,
      "outputs": [
        {
          "output_type": "display_data",
          "data": {
            "text/html": [
              "<html>\n",
              "<head><meta charset=\"utf-8\" /></head>\n",
              "<body>\n",
              "    <div>            <script src=\"https://cdnjs.cloudflare.com/ajax/libs/mathjax/2.7.5/MathJax.js?config=TeX-AMS-MML_SVG\"></script><script type=\"text/javascript\">if (window.MathJax && window.MathJax.Hub && window.MathJax.Hub.Config) {window.MathJax.Hub.Config({SVG: {font: \"STIX-Web\"}});}</script>                <script type=\"text/javascript\">window.PlotlyConfig = {MathJaxConfig: 'local'};</script>\n",
              "        <script charset=\"utf-8\" src=\"https://cdn.plot.ly/plotly-2.35.2.min.js\"></script>                <div id=\"ab9f722b-0d54-4fd2-a14b-7a6511543fd2\" class=\"plotly-graph-div\" style=\"height:525px; width:100%;\"></div>            <script type=\"text/javascript\">                                    window.PLOTLYENV=window.PLOTLYENV || {};                                    if (document.getElementById(\"ab9f722b-0d54-4fd2-a14b-7a6511543fd2\")) {                    Plotly.newPlot(                        \"ab9f722b-0d54-4fd2-a14b-7a6511543fd2\",                        [{\"mode\":\"lines\",\"name\":\"IBEX35\",\"x\":[\"2025-01-01T00:00:00\",\"2025-01-02T00:00:00\",\"2025-01-03T00:00:00\",\"2025-01-04T00:00:00\",\"2025-01-05T00:00:00\",\"2025-01-06T00:00:00\",\"2025-01-07T00:00:00\",\"2025-01-08T00:00:00\",\"2025-01-09T00:00:00\",\"2025-01-10T00:00:00\",\"2025-01-11T00:00:00\",\"2025-01-12T00:00:00\",\"2025-01-13T00:00:00\",\"2025-01-14T00:00:00\",\"2025-01-15T00:00:00\",\"2025-01-16T00:00:00\",\"2025-01-17T00:00:00\",\"2025-01-18T00:00:00\",\"2025-01-19T00:00:00\",\"2025-01-20T00:00:00\",\"2025-01-21T00:00:00\",\"2025-01-22T00:00:00\",\"2025-01-23T00:00:00\",\"2025-01-24T00:00:00\",\"2025-01-25T00:00:00\",\"2025-01-26T00:00:00\",\"2025-01-27T00:00:00\",\"2025-01-28T00:00:00\",\"2025-01-29T00:00:00\",\"2025-01-30T00:00:00\",\"2025-01-31T00:00:00\",\"2025-02-01T00:00:00\",\"2025-02-02T00:00:00\",\"2025-02-03T00:00:00\",\"2025-02-04T00:00:00\",\"2025-02-05T00:00:00\",\"2025-02-06T00:00:00\",\"2025-02-07T00:00:00\",\"2025-02-08T00:00:00\",\"2025-02-09T00:00:00\",\"2025-02-10T00:00:00\",\"2025-02-11T00:00:00\",\"2025-02-12T00:00:00\",\"2025-02-13T00:00:00\",\"2025-02-14T00:00:00\",\"2025-02-15T00:00:00\",\"2025-02-16T00:00:00\",\"2025-02-17T00:00:00\",\"2025-02-18T00:00:00\",\"2025-02-19T00:00:00\",\"2025-02-20T00:00:00\",\"2025-02-21T00:00:00\",\"2025-02-22T00:00:00\",\"2025-02-23T00:00:00\",\"2025-02-24T00:00:00\",\"2025-02-25T00:00:00\",\"2025-02-26T00:00:00\",\"2025-02-27T00:00:00\",\"2025-02-28T00:00:00\",\"2025-03-01T00:00:00\",\"2025-03-02T00:00:00\",\"2025-03-03T00:00:00\",\"2025-03-04T00:00:00\",\"2025-03-05T00:00:00\",\"2025-03-06T00:00:00\",\"2025-03-07T00:00:00\",\"2025-03-08T00:00:00\",\"2025-03-09T00:00:00\",\"2025-03-10T00:00:00\",\"2025-03-11T00:00:00\",\"2025-03-12T00:00:00\",\"2025-03-13T00:00:00\",\"2025-03-14T00:00:00\",\"2025-03-15T00:00:00\",\"2025-03-16T00:00:00\",\"2025-03-17T00:00:00\",\"2025-03-18T00:00:00\",\"2025-03-19T00:00:00\",\"2025-03-20T00:00:00\",\"2025-03-21T00:00:00\",\"2025-03-22T00:00:00\",\"2025-03-23T00:00:00\",\"2025-03-24T00:00:00\",\"2025-03-25T00:00:00\",\"2025-03-26T00:00:00\",\"2025-03-27T00:00:00\",\"2025-03-28T00:00:00\",\"2025-03-29T00:00:00\",\"2025-03-30T00:00:00\",\"2025-03-31T00:00:00\",\"2025-04-01T00:00:00\",\"2025-04-02T00:00:00\",\"2025-04-03T00:00:00\",\"2025-04-04T00:00:00\",\"2025-04-05T00:00:00\",\"2025-04-06T00:00:00\",\"2025-04-07T00:00:00\",\"2025-04-08T00:00:00\",\"2025-04-09T00:00:00\",\"2025-04-10T00:00:00\",\"2025-04-11T00:00:00\"],\"y\":[0.0,0.0,0.0,0.9861097721053373,0.0,0.0,0.0,0.0,0.0,0.0,0.0,0.0,0.8668006496444014,0.8715394940782986,0.8823965648939879,0.8781026823787665,0.8837166185860593,0.0,0.0,0.8857411953160342,0.8845397981356096,0.881224831841475,0.8892934746334626,0.8886334477874269,0.0,0.0,0.8897087724242267,0.9013593586615547,0.9111707689683558,0.9210415075309806,0.91728157931817,0.8659626380308952,0.0,0.0,0.9900551011175961,0.0,0.0,0.0,0.0,0.0,0.0,0.0,0.0,0.9593601447609442,0.9608211030605964,0.0,0.0,0.9653374665351557,0.9747558271471267,0.9588484385544671,0.9616442826101467,0.9605244617814792,0.0,0.0,0.9650408252560385,0.9727460824811076,0.9887053832976128,0.9841519396631639,0.9898400361902361,0.864086381940479,0.9051860311621663,0.9917533724405421,0.9782636102726876,0.0,0.0,0.0,0.0,0.0,0.0,0.0,0.0,0.9508317079863249,0.964469790793738,0.0,0.0,0.9750005562023984,0.990388822556603,0.9943489836328175,0.9867994630792848,0.9900551011175961,0.0,0.0,0.9880601885155329,1.0,0.9961362473394987,0.9954243082696174,0.9870219440386226,0.0,0.0,0.9741254644290026,0.0,0.9175708045653093,0.9664350392678894,0.9212194922984508,0.0,0.0,0.0,0.0,0.0,0.0,0.0],\"type\":\"scatter\"},{\"mode\":\"lines\",\"name\":\"Petroleo_WTI\",\"x\":[\"2025-01-01T00:00:00\",\"2025-01-02T00:00:00\",\"2025-01-03T00:00:00\",\"2025-01-04T00:00:00\",\"2025-01-05T00:00:00\",\"2025-01-06T00:00:00\",\"2025-01-07T00:00:00\",\"2025-01-08T00:00:00\",\"2025-01-09T00:00:00\",\"2025-01-10T00:00:00\",\"2025-01-11T00:00:00\",\"2025-01-12T00:00:00\",\"2025-01-13T00:00:00\",\"2025-01-14T00:00:00\",\"2025-01-15T00:00:00\",\"2025-01-16T00:00:00\",\"2025-01-17T00:00:00\",\"2025-01-18T00:00:00\",\"2025-01-19T00:00:00\",\"2025-01-20T00:00:00\",\"2025-01-21T00:00:00\",\"2025-01-22T00:00:00\",\"2025-01-23T00:00:00\",\"2025-01-24T00:00:00\",\"2025-01-25T00:00:00\",\"2025-01-26T00:00:00\",\"2025-01-27T00:00:00\",\"2025-01-28T00:00:00\",\"2025-01-29T00:00:00\",\"2025-01-30T00:00:00\",\"2025-01-31T00:00:00\",\"2025-02-01T00:00:00\",\"2025-02-02T00:00:00\",\"2025-02-03T00:00:00\",\"2025-02-04T00:00:00\",\"2025-02-05T00:00:00\",\"2025-02-06T00:00:00\",\"2025-02-07T00:00:00\",\"2025-02-08T00:00:00\",\"2025-02-09T00:00:00\",\"2025-02-10T00:00:00\",\"2025-02-11T00:00:00\",\"2025-02-12T00:00:00\",\"2025-02-13T00:00:00\",\"2025-02-14T00:00:00\",\"2025-02-15T00:00:00\",\"2025-02-16T00:00:00\",\"2025-02-17T00:00:00\",\"2025-02-18T00:00:00\",\"2025-02-19T00:00:00\",\"2025-02-20T00:00:00\",\"2025-02-21T00:00:00\",\"2025-02-22T00:00:00\",\"2025-02-23T00:00:00\",\"2025-02-24T00:00:00\",\"2025-02-25T00:00:00\",\"2025-02-26T00:00:00\",\"2025-02-27T00:00:00\",\"2025-02-28T00:00:00\",\"2025-03-01T00:00:00\",\"2025-03-02T00:00:00\",\"2025-03-03T00:00:00\",\"2025-03-04T00:00:00\",\"2025-03-05T00:00:00\",\"2025-03-06T00:00:00\",\"2025-03-07T00:00:00\",\"2025-03-08T00:00:00\",\"2025-03-09T00:00:00\",\"2025-03-10T00:00:00\",\"2025-03-11T00:00:00\",\"2025-03-12T00:00:00\",\"2025-03-13T00:00:00\",\"2025-03-14T00:00:00\",\"2025-03-15T00:00:00\",\"2025-03-16T00:00:00\",\"2025-03-17T00:00:00\",\"2025-03-18T00:00:00\",\"2025-03-19T00:00:00\",\"2025-03-20T00:00:00\",\"2025-03-21T00:00:00\",\"2025-03-22T00:00:00\",\"2025-03-23T00:00:00\",\"2025-03-24T00:00:00\",\"2025-03-25T00:00:00\",\"2025-03-26T00:00:00\",\"2025-03-27T00:00:00\",\"2025-03-28T00:00:00\",\"2025-03-29T00:00:00\",\"2025-03-30T00:00:00\",\"2025-03-31T00:00:00\",\"2025-04-01T00:00:00\",\"2025-04-02T00:00:00\",\"2025-04-03T00:00:00\",\"2025-04-04T00:00:00\",\"2025-04-05T00:00:00\",\"2025-04-06T00:00:00\",\"2025-04-07T00:00:00\",\"2025-04-08T00:00:00\",\"2025-04-09T00:00:00\",\"2025-04-10T00:00:00\",\"2025-04-11T00:00:00\"],\"y\":[0.0,0.0,0.0,0.9045864566128828,0.0,0.0,0.0,0.0,0.0,0.0,0.0,0.0,0.9820861389912336,0.9702706136450262,1.0,0.9996188540210903,0.9894549612501589,0.0,0.0,0.0,0.9641722779824674,0.9584550882988185,0.948037098208614,0.9485452928471605,0.0,0.0,0.9296150425613011,0.9372379621394995,0.9226273662812858,0.9240249015372889,0.9214839283445561,0.9211027823656461,0.0,0.0,0.9110659382543514,0.0,0.0,0.0,0.0,0.0,0.0,0.0,0.0,0.903824164655063,0.8983610722906873,0.0,0.0,0.0,0.9128446194892644,0.9179265658747301,0.9219921229831025,0.8944225638419516,0.0,0.0,0.8982340236310508,0.8757464108753654,0.8718079024266295,0.8937873205437683,0.8862914496252066,0.9301232371998476,0.9294879939016644,0.8686316859357135,0.8505907762673105,0.0,0.0,0.0,0.0,0.0,0.0,0.0,0.0,0.8419514674120189,0.8500825816287638,0.0,0.0,0.8559268199720494,0.8499555329691273,0.8532587981196799,0.8672341506797104,0.8674882479989837,0.0,0.0,0.8780332867488249,0.8766357514928218,0.8848939143692035,0.8883242281793928,0.8812095032397409,0.0,0.0,0.9081438190827088,0.0,0.923643755558379,0.8672341506797104,0.7875746410875366,0.0,0.0,0.0,0.0,0.0,0.0,0.0],\"type\":\"scatter\"},{\"mode\":\"lines\",\"name\":\"VIX\",\"x\":[\"2025-01-01T00:00:00\",\"2025-01-02T00:00:00\",\"2025-01-03T00:00:00\",\"2025-01-04T00:00:00\",\"2025-01-05T00:00:00\",\"2025-01-06T00:00:00\",\"2025-01-07T00:00:00\",\"2025-01-08T00:00:00\",\"2025-01-09T00:00:00\",\"2025-01-10T00:00:00\",\"2025-01-11T00:00:00\",\"2025-01-12T00:00:00\",\"2025-01-13T00:00:00\",\"2025-01-14T00:00:00\",\"2025-01-15T00:00:00\",\"2025-01-16T00:00:00\",\"2025-01-17T00:00:00\",\"2025-01-18T00:00:00\",\"2025-01-19T00:00:00\",\"2025-01-20T00:00:00\",\"2025-01-21T00:00:00\",\"2025-01-22T00:00:00\",\"2025-01-23T00:00:00\",\"2025-01-24T00:00:00\",\"2025-01-25T00:00:00\",\"2025-01-26T00:00:00\",\"2025-01-27T00:00:00\",\"2025-01-28T00:00:00\",\"2025-01-29T00:00:00\",\"2025-01-30T00:00:00\",\"2025-01-31T00:00:00\",\"2025-02-01T00:00:00\",\"2025-02-02T00:00:00\",\"2025-02-03T00:00:00\",\"2025-02-04T00:00:00\",\"2025-02-05T00:00:00\",\"2025-02-06T00:00:00\",\"2025-02-07T00:00:00\",\"2025-02-08T00:00:00\",\"2025-02-09T00:00:00\",\"2025-02-10T00:00:00\",\"2025-02-11T00:00:00\",\"2025-02-12T00:00:00\",\"2025-02-13T00:00:00\",\"2025-02-14T00:00:00\",\"2025-02-15T00:00:00\",\"2025-02-16T00:00:00\",\"2025-02-17T00:00:00\",\"2025-02-18T00:00:00\",\"2025-02-19T00:00:00\",\"2025-02-20T00:00:00\",\"2025-02-21T00:00:00\",\"2025-02-22T00:00:00\",\"2025-02-23T00:00:00\",\"2025-02-24T00:00:00\",\"2025-02-25T00:00:00\",\"2025-02-26T00:00:00\",\"2025-02-27T00:00:00\",\"2025-02-28T00:00:00\",\"2025-03-01T00:00:00\",\"2025-03-02T00:00:00\",\"2025-03-03T00:00:00\",\"2025-03-04T00:00:00\",\"2025-03-05T00:00:00\",\"2025-03-06T00:00:00\",\"2025-03-07T00:00:00\",\"2025-03-08T00:00:00\",\"2025-03-09T00:00:00\",\"2025-03-10T00:00:00\",\"2025-03-11T00:00:00\",\"2025-03-12T00:00:00\",\"2025-03-13T00:00:00\",\"2025-03-14T00:00:00\",\"2025-03-15T00:00:00\",\"2025-03-16T00:00:00\",\"2025-03-17T00:00:00\",\"2025-03-18T00:00:00\",\"2025-03-19T00:00:00\",\"2025-03-20T00:00:00\",\"2025-03-21T00:00:00\",\"2025-03-22T00:00:00\",\"2025-03-23T00:00:00\",\"2025-03-24T00:00:00\",\"2025-03-25T00:00:00\",\"2025-03-26T00:00:00\",\"2025-03-27T00:00:00\",\"2025-03-28T00:00:00\",\"2025-03-29T00:00:00\",\"2025-03-30T00:00:00\",\"2025-03-31T00:00:00\",\"2025-04-01T00:00:00\",\"2025-04-02T00:00:00\",\"2025-04-03T00:00:00\",\"2025-04-04T00:00:00\",\"2025-04-05T00:00:00\",\"2025-04-06T00:00:00\",\"2025-04-07T00:00:00\",\"2025-04-08T00:00:00\",\"2025-04-09T00:00:00\",\"2025-04-10T00:00:00\",\"2025-04-11T00:00:00\"],\"y\":[0.0,0.0,0.0,0.4804678878834694,0.0,0.0,0.0,0.0,0.0,0.0,0.0,0.0,0.42352681527256675,0.41293312734495696,0.3557713529022291,0.3663650408298389,0.352460825424851,0.0,0.0,0.3489295961156478,0.33237695872875744,0.3332597660560582,0.3314941514014566,0.32774222026042815,0.0,0.0,0.39505627896711537,0.36217170602515997,0.365482233502538,0.34959170161112335,0.3626131096888104,0.395718384462591,0.0,0.0,0.47472964025601416,0.0,0.0,0.0,0.0,0.0,0.0,0.0,0.0,0.3332597660560582,0.3259766056058265,0.0,0.0,0.3392187155153387,0.33877731185168836,0.33701169719708673,0.3456190686382697,0.40189803575369676,0.0,0.0,0.41889207680423746,0.4288236592363716,0.4215404987861399,0.4663429706466563,0.4332376958728757,0.35599205473405426,0.41094681085853013,0.502758772897815,0.6625468991392628,0.0,0.0,0.0,0.0,0.0,0.0,0.0,0.0,0.5442507172809534,0.4804678878834694,0.0,0.0,0.4526594570734937,0.478922975060693,0.4391966453321562,0.4369896270139042,0.4255131317589936,0.0,0.0,0.38578680203045684,0.3785036415802251,0.40454645773559916,0.41249172368130654,0.47781946590156693,0.0,0.0,0.49172368130655486,0.0,0.37982785257117635,0.518870006621055,1.0,0.0,0.0,0.0,0.0,0.0,0.0,0.0],\"type\":\"scatter\"},{\"mode\":\"lines\",\"name\":\"EUR_USD\",\"x\":[\"2025-01-01T00:00:00\",\"2025-01-02T00:00:00\",\"2025-01-03T00:00:00\",\"2025-01-04T00:00:00\",\"2025-01-05T00:00:00\",\"2025-01-06T00:00:00\",\"2025-01-07T00:00:00\",\"2025-01-08T00:00:00\",\"2025-01-09T00:00:00\",\"2025-01-10T00:00:00\",\"2025-01-11T00:00:00\",\"2025-01-12T00:00:00\",\"2025-01-13T00:00:00\",\"2025-01-14T00:00:00\",\"2025-01-15T00:00:00\",\"2025-01-16T00:00:00\",\"2025-01-17T00:00:00\",\"2025-01-18T00:00:00\",\"2025-01-19T00:00:00\",\"2025-01-20T00:00:00\",\"2025-01-21T00:00:00\",\"2025-01-22T00:00:00\",\"2025-01-23T00:00:00\",\"2025-01-24T00:00:00\",\"2025-01-25T00:00:00\",\"2025-01-26T00:00:00\",\"2025-01-27T00:00:00\",\"2025-01-28T00:00:00\",\"2025-01-29T00:00:00\",\"2025-01-30T00:00:00\",\"2025-01-31T00:00:00\",\"2025-02-01T00:00:00\",\"2025-02-02T00:00:00\",\"2025-02-03T00:00:00\",\"2025-02-04T00:00:00\",\"2025-02-05T00:00:00\",\"2025-02-06T00:00:00\",\"2025-02-07T00:00:00\",\"2025-02-08T00:00:00\",\"2025-02-09T00:00:00\",\"2025-02-10T00:00:00\",\"2025-02-11T00:00:00\",\"2025-02-12T00:00:00\",\"2025-02-13T00:00:00\",\"2025-02-14T00:00:00\",\"2025-02-15T00:00:00\",\"2025-02-16T00:00:00\",\"2025-02-17T00:00:00\",\"2025-02-18T00:00:00\",\"2025-02-19T00:00:00\",\"2025-02-20T00:00:00\",\"2025-02-21T00:00:00\",\"2025-02-22T00:00:00\",\"2025-02-23T00:00:00\",\"2025-02-24T00:00:00\",\"2025-02-25T00:00:00\",\"2025-02-26T00:00:00\",\"2025-02-27T00:00:00\",\"2025-02-28T00:00:00\",\"2025-03-01T00:00:00\",\"2025-03-02T00:00:00\",\"2025-03-03T00:00:00\",\"2025-03-04T00:00:00\",\"2025-03-05T00:00:00\",\"2025-03-06T00:00:00\",\"2025-03-07T00:00:00\",\"2025-03-08T00:00:00\",\"2025-03-09T00:00:00\",\"2025-03-10T00:00:00\",\"2025-03-11T00:00:00\",\"2025-03-12T00:00:00\",\"2025-03-13T00:00:00\",\"2025-03-14T00:00:00\",\"2025-03-15T00:00:00\",\"2025-03-16T00:00:00\",\"2025-03-17T00:00:00\",\"2025-03-18T00:00:00\",\"2025-03-19T00:00:00\",\"2025-03-20T00:00:00\",\"2025-03-21T00:00:00\",\"2025-03-22T00:00:00\",\"2025-03-23T00:00:00\",\"2025-03-24T00:00:00\",\"2025-03-25T00:00:00\",\"2025-03-26T00:00:00\",\"2025-03-27T00:00:00\",\"2025-03-28T00:00:00\",\"2025-03-29T00:00:00\",\"2025-03-30T00:00:00\",\"2025-03-31T00:00:00\",\"2025-04-01T00:00:00\",\"2025-04-02T00:00:00\",\"2025-04-03T00:00:00\",\"2025-04-04T00:00:00\",\"2025-04-05T00:00:00\",\"2025-04-06T00:00:00\",\"2025-04-07T00:00:00\",\"2025-04-08T00:00:00\",\"2025-04-09T00:00:00\",\"2025-04-10T00:00:00\",\"2025-04-11T00:00:00\"],\"y\":[0.9371040723981902,0.0,0.0,0.9767420814479637,0.0,0.0,0.0,0.0,0.0,0.0,0.0,0.0,0.9270588235294117,0.9327601809954751,0.931131221719457,0.9319457013574661,0.9295022624434388,0.0,0.0,0.9424434389140273,0.9438009049773756,0.9418099547511312,0.9425339366515838,0.9495927601809954,0.0,0.0,0.9494117647058823,0.943710407239819,0.9429864253393666,0.9402714932126697,0.937737556561086,0.9289592760180996,0.0,0.0,0.9823529411764705,0.0,0.0,0.0,0.0,0.0,0.0,0.0,0.0,0.9469683257918552,0.9494117647058823,0.0,0.0,0.9485972850678733,0.9452488687782805,0.9430769230769231,0.9502262443438915,0.946425339366516,0.0,0.0,0.9471493212669683,0.9514027149321266,0.9486877828054299,0.9409049773755657,0.9389140271493214,0.9328506787330316,0.9361085972850679,0.9489592760180996,1.0,0.0,0.0,0.0,0.0,0.0,0.0,0.0,0.0,0.9820814479638008,0.9845248868778281,0.0,0.0,0.9883257918552038,0.990316742081448,0.9865158371040724,0.9819909502262443,0.9786425339366516,0.0,0.0,0.9773755656108598,0.9765610859728506,0.9730316742081447,0.9774660633484163,0.9798190045248869,0.0,0.0,0.9789140271493214,0.0,0.9390950226244345,0.961447963800905,0.9914027149321266,0.0,0.0,0.0,0.0,0.0,0.0,0.0],\"type\":\"scatter\"},{\"marker\":{\"color\":\"yellow\",\"size\":8},\"mode\":\"markers\",\"name\":\"Subida Points\",\"x\":[\"2025-01-04T00:00:00\",\"2025-01-13T00:00:00\",\"2025-02-04T00:00:00\",\"2025-02-24T00:00:00\",\"2025-03-13T00:00:00\",\"2025-03-17T00:00:00\",\"2025-03-31T00:00:00\"],\"y\":[0.9861097721053373,0.8668006496444014,0.9900551011175961,0.9650408252560385,0.9508317079863249,0.9750005562023984,0.9741254644290026],\"type\":\"scatter\"},{\"mode\":\"lines\",\"name\":\"Correlation\",\"x\":[\"2025-01-01T00:00:00\",\"2025-01-02T00:00:00\",\"2025-01-03T00:00:00\",\"2025-01-04T00:00:00\",\"2025-01-05T00:00:00\",\"2025-01-06T00:00:00\",\"2025-01-07T00:00:00\",\"2025-01-08T00:00:00\",\"2025-01-09T00:00:00\",\"2025-01-10T00:00:00\",\"2025-01-11T00:00:00\",\"2025-01-12T00:00:00\",\"2025-01-13T00:00:00\",\"2025-01-14T00:00:00\",\"2025-01-15T00:00:00\",\"2025-01-16T00:00:00\",\"2025-01-17T00:00:00\",\"2025-01-18T00:00:00\",\"2025-01-19T00:00:00\",\"2025-01-20T00:00:00\",\"2025-01-21T00:00:00\",\"2025-01-22T00:00:00\",\"2025-01-23T00:00:00\",\"2025-01-24T00:00:00\",\"2025-01-25T00:00:00\",\"2025-01-26T00:00:00\",\"2025-01-27T00:00:00\",\"2025-01-28T00:00:00\",\"2025-01-29T00:00:00\",\"2025-01-30T00:00:00\",\"2025-01-31T00:00:00\",\"2025-02-01T00:00:00\",\"2025-02-02T00:00:00\",\"2025-02-03T00:00:00\",\"2025-02-04T00:00:00\",\"2025-02-05T00:00:00\",\"2025-02-06T00:00:00\",\"2025-02-07T00:00:00\",\"2025-02-08T00:00:00\",\"2025-02-09T00:00:00\",\"2025-02-10T00:00:00\",\"2025-02-11T00:00:00\",\"2025-02-12T00:00:00\",\"2025-02-13T00:00:00\",\"2025-02-14T00:00:00\",\"2025-02-15T00:00:00\",\"2025-02-16T00:00:00\",\"2025-02-17T00:00:00\",\"2025-02-18T00:00:00\",\"2025-02-19T00:00:00\",\"2025-02-20T00:00:00\",\"2025-02-21T00:00:00\",\"2025-02-22T00:00:00\",\"2025-02-23T00:00:00\",\"2025-02-24T00:00:00\",\"2025-02-25T00:00:00\",\"2025-02-26T00:00:00\",\"2025-02-27T00:00:00\",\"2025-02-28T00:00:00\",\"2025-03-01T00:00:00\",\"2025-03-02T00:00:00\",\"2025-03-03T00:00:00\",\"2025-03-04T00:00:00\",\"2025-03-05T00:00:00\",\"2025-03-06T00:00:00\",\"2025-03-07T00:00:00\",\"2025-03-08T00:00:00\",\"2025-03-09T00:00:00\",\"2025-03-10T00:00:00\",\"2025-03-11T00:00:00\",\"2025-03-12T00:00:00\",\"2025-03-13T00:00:00\",\"2025-03-14T00:00:00\",\"2025-03-15T00:00:00\",\"2025-03-16T00:00:00\",\"2025-03-17T00:00:00\",\"2025-03-18T00:00:00\",\"2025-03-19T00:00:00\",\"2025-03-20T00:00:00\",\"2025-03-21T00:00:00\",\"2025-03-22T00:00:00\",\"2025-03-23T00:00:00\",\"2025-03-24T00:00:00\",\"2025-03-25T00:00:00\",\"2025-03-26T00:00:00\",\"2025-03-27T00:00:00\",\"2025-03-28T00:00:00\",\"2025-03-29T00:00:00\",\"2025-03-30T00:00:00\",\"2025-03-31T00:00:00\",\"2025-04-01T00:00:00\",\"2025-04-02T00:00:00\",\"2025-04-03T00:00:00\",\"2025-04-04T00:00:00\",\"2025-04-05T00:00:00\",\"2025-04-06T00:00:00\",\"2025-04-07T00:00:00\",\"2025-04-08T00:00:00\",\"2025-04-09T00:00:00\",\"2025-04-10T00:00:00\",\"2025-04-11T00:00:00\"],\"y\":[null,null,null,null,null,null,null,null,null,null,null,null,null,null,null,null,null,null,null,null,null,null,null,null,null,null,null,null,null,0.9336654671558251,0.9336501551259201,0.932808306749403,0.932808306749403,0.9341046186952204,0.932893853433032,0.932893853433032,0.932893853433032,0.932893853433032,0.932893853433032,0.932893853433032,0.932893853433032,0.932893853433032,0.9340040433185887,0.9341907053543272,0.9346272038618435,0.9355585601592292,0.935799296290052,0.8683420332664467,0.8696052924427919,0.9258427709874635,0.9268984716001731,0.9278918108172216,0.9287107515577308,0.9290513587384076,0.9297767919784788,0.9296965324148248,0.9304902439382602,0.9315397660088094,0.932326335766451,0.9310297427893428,0.9307307908771263,0.932374550038341,0.9315921099740151,0.9315921099740151,0.9319480641912447,0.9319480641912447,0.9319480641912447,0.9319480641912447,0.9319480641912447,0.9319480641912447,0.9319480641912447,0.931110138784385,0.9297438348940559,0.9309933746905683,0.9315941163435753,0.9309423771939754,0.929620582229857,0.9956732513334987,0.9956004391061297,0.9956789478138642,0.9959906085960957,0.9961010585874097,0.9960374938755946,0.9958987324934527,0.9959745574552015,0.9959808367346916,0.9960038966963488,0.9960953984729416,0.9961405410914176,0.9982080144774765,0.9996369642715707,0.998573664080251,0.9986112000225726,0.9984935172063771,0.9984935172063771,0.9984935172063771,0.9984935172063771,0.9984935172063771,0.9984935172063771,0.9984935172063771,0.9984935172063771],\"yaxis\":\"y2\",\"type\":\"scatter\"}],                        {\"template\":{\"data\":{\"barpolar\":[{\"marker\":{\"line\":{\"color\":\"white\",\"width\":0.5},\"pattern\":{\"fillmode\":\"overlay\",\"size\":10,\"solidity\":0.2}},\"type\":\"barpolar\"}],\"bar\":[{\"error_x\":{\"color\":\"#2a3f5f\"},\"error_y\":{\"color\":\"#2a3f5f\"},\"marker\":{\"line\":{\"color\":\"white\",\"width\":0.5},\"pattern\":{\"fillmode\":\"overlay\",\"size\":10,\"solidity\":0.2}},\"type\":\"bar\"}],\"carpet\":[{\"aaxis\":{\"endlinecolor\":\"#2a3f5f\",\"gridcolor\":\"#C8D4E3\",\"linecolor\":\"#C8D4E3\",\"minorgridcolor\":\"#C8D4E3\",\"startlinecolor\":\"#2a3f5f\"},\"baxis\":{\"endlinecolor\":\"#2a3f5f\",\"gridcolor\":\"#C8D4E3\",\"linecolor\":\"#C8D4E3\",\"minorgridcolor\":\"#C8D4E3\",\"startlinecolor\":\"#2a3f5f\"},\"type\":\"carpet\"}],\"choropleth\":[{\"colorbar\":{\"outlinewidth\":0,\"ticks\":\"\"},\"type\":\"choropleth\"}],\"contourcarpet\":[{\"colorbar\":{\"outlinewidth\":0,\"ticks\":\"\"},\"type\":\"contourcarpet\"}],\"contour\":[{\"colorbar\":{\"outlinewidth\":0,\"ticks\":\"\"},\"colorscale\":[[0.0,\"#0d0887\"],[0.1111111111111111,\"#46039f\"],[0.2222222222222222,\"#7201a8\"],[0.3333333333333333,\"#9c179e\"],[0.4444444444444444,\"#bd3786\"],[0.5555555555555556,\"#d8576b\"],[0.6666666666666666,\"#ed7953\"],[0.7777777777777778,\"#fb9f3a\"],[0.8888888888888888,\"#fdca26\"],[1.0,\"#f0f921\"]],\"type\":\"contour\"}],\"heatmapgl\":[{\"colorbar\":{\"outlinewidth\":0,\"ticks\":\"\"},\"colorscale\":[[0.0,\"#0d0887\"],[0.1111111111111111,\"#46039f\"],[0.2222222222222222,\"#7201a8\"],[0.3333333333333333,\"#9c179e\"],[0.4444444444444444,\"#bd3786\"],[0.5555555555555556,\"#d8576b\"],[0.6666666666666666,\"#ed7953\"],[0.7777777777777778,\"#fb9f3a\"],[0.8888888888888888,\"#fdca26\"],[1.0,\"#f0f921\"]],\"type\":\"heatmapgl\"}],\"heatmap\":[{\"colorbar\":{\"outlinewidth\":0,\"ticks\":\"\"},\"colorscale\":[[0.0,\"#0d0887\"],[0.1111111111111111,\"#46039f\"],[0.2222222222222222,\"#7201a8\"],[0.3333333333333333,\"#9c179e\"],[0.4444444444444444,\"#bd3786\"],[0.5555555555555556,\"#d8576b\"],[0.6666666666666666,\"#ed7953\"],[0.7777777777777778,\"#fb9f3a\"],[0.8888888888888888,\"#fdca26\"],[1.0,\"#f0f921\"]],\"type\":\"heatmap\"}],\"histogram2dcontour\":[{\"colorbar\":{\"outlinewidth\":0,\"ticks\":\"\"},\"colorscale\":[[0.0,\"#0d0887\"],[0.1111111111111111,\"#46039f\"],[0.2222222222222222,\"#7201a8\"],[0.3333333333333333,\"#9c179e\"],[0.4444444444444444,\"#bd3786\"],[0.5555555555555556,\"#d8576b\"],[0.6666666666666666,\"#ed7953\"],[0.7777777777777778,\"#fb9f3a\"],[0.8888888888888888,\"#fdca26\"],[1.0,\"#f0f921\"]],\"type\":\"histogram2dcontour\"}],\"histogram2d\":[{\"colorbar\":{\"outlinewidth\":0,\"ticks\":\"\"},\"colorscale\":[[0.0,\"#0d0887\"],[0.1111111111111111,\"#46039f\"],[0.2222222222222222,\"#7201a8\"],[0.3333333333333333,\"#9c179e\"],[0.4444444444444444,\"#bd3786\"],[0.5555555555555556,\"#d8576b\"],[0.6666666666666666,\"#ed7953\"],[0.7777777777777778,\"#fb9f3a\"],[0.8888888888888888,\"#fdca26\"],[1.0,\"#f0f921\"]],\"type\":\"histogram2d\"}],\"histogram\":[{\"marker\":{\"pattern\":{\"fillmode\":\"overlay\",\"size\":10,\"solidity\":0.2}},\"type\":\"histogram\"}],\"mesh3d\":[{\"colorbar\":{\"outlinewidth\":0,\"ticks\":\"\"},\"type\":\"mesh3d\"}],\"parcoords\":[{\"line\":{\"colorbar\":{\"outlinewidth\":0,\"ticks\":\"\"}},\"type\":\"parcoords\"}],\"pie\":[{\"automargin\":true,\"type\":\"pie\"}],\"scatter3d\":[{\"line\":{\"colorbar\":{\"outlinewidth\":0,\"ticks\":\"\"}},\"marker\":{\"colorbar\":{\"outlinewidth\":0,\"ticks\":\"\"}},\"type\":\"scatter3d\"}],\"scattercarpet\":[{\"marker\":{\"colorbar\":{\"outlinewidth\":0,\"ticks\":\"\"}},\"type\":\"scattercarpet\"}],\"scattergeo\":[{\"marker\":{\"colorbar\":{\"outlinewidth\":0,\"ticks\":\"\"}},\"type\":\"scattergeo\"}],\"scattergl\":[{\"marker\":{\"colorbar\":{\"outlinewidth\":0,\"ticks\":\"\"}},\"type\":\"scattergl\"}],\"scattermapbox\":[{\"marker\":{\"colorbar\":{\"outlinewidth\":0,\"ticks\":\"\"}},\"type\":\"scattermapbox\"}],\"scatterpolargl\":[{\"marker\":{\"colorbar\":{\"outlinewidth\":0,\"ticks\":\"\"}},\"type\":\"scatterpolargl\"}],\"scatterpolar\":[{\"marker\":{\"colorbar\":{\"outlinewidth\":0,\"ticks\":\"\"}},\"type\":\"scatterpolar\"}],\"scatter\":[{\"fillpattern\":{\"fillmode\":\"overlay\",\"size\":10,\"solidity\":0.2},\"type\":\"scatter\"}],\"scatterternary\":[{\"marker\":{\"colorbar\":{\"outlinewidth\":0,\"ticks\":\"\"}},\"type\":\"scatterternary\"}],\"surface\":[{\"colorbar\":{\"outlinewidth\":0,\"ticks\":\"\"},\"colorscale\":[[0.0,\"#0d0887\"],[0.1111111111111111,\"#46039f\"],[0.2222222222222222,\"#7201a8\"],[0.3333333333333333,\"#9c179e\"],[0.4444444444444444,\"#bd3786\"],[0.5555555555555556,\"#d8576b\"],[0.6666666666666666,\"#ed7953\"],[0.7777777777777778,\"#fb9f3a\"],[0.8888888888888888,\"#fdca26\"],[1.0,\"#f0f921\"]],\"type\":\"surface\"}],\"table\":[{\"cells\":{\"fill\":{\"color\":\"#EBF0F8\"},\"line\":{\"color\":\"white\"}},\"header\":{\"fill\":{\"color\":\"#C8D4E3\"},\"line\":{\"color\":\"white\"}},\"type\":\"table\"}]},\"layout\":{\"annotationdefaults\":{\"arrowcolor\":\"#2a3f5f\",\"arrowhead\":0,\"arrowwidth\":1},\"autotypenumbers\":\"strict\",\"coloraxis\":{\"colorbar\":{\"outlinewidth\":0,\"ticks\":\"\"}},\"colorscale\":{\"diverging\":[[0,\"#8e0152\"],[0.1,\"#c51b7d\"],[0.2,\"#de77ae\"],[0.3,\"#f1b6da\"],[0.4,\"#fde0ef\"],[0.5,\"#f7f7f7\"],[0.6,\"#e6f5d0\"],[0.7,\"#b8e186\"],[0.8,\"#7fbc41\"],[0.9,\"#4d9221\"],[1,\"#276419\"]],\"sequential\":[[0.0,\"#0d0887\"],[0.1111111111111111,\"#46039f\"],[0.2222222222222222,\"#7201a8\"],[0.3333333333333333,\"#9c179e\"],[0.4444444444444444,\"#bd3786\"],[0.5555555555555556,\"#d8576b\"],[0.6666666666666666,\"#ed7953\"],[0.7777777777777778,\"#fb9f3a\"],[0.8888888888888888,\"#fdca26\"],[1.0,\"#f0f921\"]],\"sequentialminus\":[[0.0,\"#0d0887\"],[0.1111111111111111,\"#46039f\"],[0.2222222222222222,\"#7201a8\"],[0.3333333333333333,\"#9c179e\"],[0.4444444444444444,\"#bd3786\"],[0.5555555555555556,\"#d8576b\"],[0.6666666666666666,\"#ed7953\"],[0.7777777777777778,\"#fb9f3a\"],[0.8888888888888888,\"#fdca26\"],[1.0,\"#f0f921\"]]},\"colorway\":[\"#636efa\",\"#EF553B\",\"#00cc96\",\"#ab63fa\",\"#FFA15A\",\"#19d3f3\",\"#FF6692\",\"#B6E880\",\"#FF97FF\",\"#FECB52\"],\"font\":{\"color\":\"#2a3f5f\"},\"geo\":{\"bgcolor\":\"white\",\"lakecolor\":\"white\",\"landcolor\":\"white\",\"showlakes\":true,\"showland\":true,\"subunitcolor\":\"#C8D4E3\"},\"hoverlabel\":{\"align\":\"left\"},\"hovermode\":\"closest\",\"mapbox\":{\"style\":\"light\"},\"paper_bgcolor\":\"white\",\"plot_bgcolor\":\"white\",\"polar\":{\"angularaxis\":{\"gridcolor\":\"#EBF0F8\",\"linecolor\":\"#EBF0F8\",\"ticks\":\"\"},\"bgcolor\":\"white\",\"radialaxis\":{\"gridcolor\":\"#EBF0F8\",\"linecolor\":\"#EBF0F8\",\"ticks\":\"\"}},\"scene\":{\"xaxis\":{\"backgroundcolor\":\"white\",\"gridcolor\":\"#DFE8F3\",\"gridwidth\":2,\"linecolor\":\"#EBF0F8\",\"showbackground\":true,\"ticks\":\"\",\"zerolinecolor\":\"#EBF0F8\"},\"yaxis\":{\"backgroundcolor\":\"white\",\"gridcolor\":\"#DFE8F3\",\"gridwidth\":2,\"linecolor\":\"#EBF0F8\",\"showbackground\":true,\"ticks\":\"\",\"zerolinecolor\":\"#EBF0F8\"},\"zaxis\":{\"backgroundcolor\":\"white\",\"gridcolor\":\"#DFE8F3\",\"gridwidth\":2,\"linecolor\":\"#EBF0F8\",\"showbackground\":true,\"ticks\":\"\",\"zerolinecolor\":\"#EBF0F8\"}},\"shapedefaults\":{\"line\":{\"color\":\"#2a3f5f\"}},\"ternary\":{\"aaxis\":{\"gridcolor\":\"#DFE8F3\",\"linecolor\":\"#A2B1C6\",\"ticks\":\"\"},\"baxis\":{\"gridcolor\":\"#DFE8F3\",\"linecolor\":\"#A2B1C6\",\"ticks\":\"\"},\"bgcolor\":\"white\",\"caxis\":{\"gridcolor\":\"#DFE8F3\",\"linecolor\":\"#A2B1C6\",\"ticks\":\"\"}},\"title\":{\"x\":0.05},\"xaxis\":{\"automargin\":true,\"gridcolor\":\"#EBF0F8\",\"linecolor\":\"#EBF0F8\",\"ticks\":\"\",\"title\":{\"standoff\":15},\"zerolinecolor\":\"#EBF0F8\",\"zerolinewidth\":2},\"yaxis\":{\"automargin\":true,\"gridcolor\":\"#EBF0F8\",\"linecolor\":\"#EBF0F8\",\"ticks\":\"\",\"title\":{\"standoff\":15},\"zerolinecolor\":\"#EBF0F8\",\"zerolinewidth\":2}}},\"title\":{\"text\":\"IBEX35, Petroleo_WTI, and Correlation\"},\"xaxis\":{\"title\":{\"text\":\"Fecha\"}},\"yaxis\":{\"title\":{\"text\":\"Valor\"}},\"hovermode\":\"x unified\",\"yaxis2\":{\"title\":{\"text\":\"Correlation\"},\"overlaying\":\"y\",\"side\":\"right\",\"range\":[-1,1]}},                        {\"responsive\": true}                    ).then(function(){\n",
              "                            \n",
              "var gd = document.getElementById('ab9f722b-0d54-4fd2-a14b-7a6511543fd2');\n",
              "var x = new MutationObserver(function (mutations, observer) {{\n",
              "        var display = window.getComputedStyle(gd).display;\n",
              "        if (!display || display === 'none') {{\n",
              "            console.log([gd, 'removed!']);\n",
              "            Plotly.purge(gd);\n",
              "            observer.disconnect();\n",
              "        }}\n",
              "}});\n",
              "\n",
              "// Listen for the removal of the full notebook cells\n",
              "var notebookContainer = gd.closest('#notebook-container');\n",
              "if (notebookContainer) {{\n",
              "    x.observe(notebookContainer, {childList: true});\n",
              "}}\n",
              "\n",
              "// Listen for the clearing of the current output cell\n",
              "var outputEl = gd.closest('.output');\n",
              "if (outputEl) {{\n",
              "    x.observe(outputEl, {childList: true});\n",
              "}}\n",
              "\n",
              "                        })                };                            </script>        </div>\n",
              "</body>\n",
              "</html>"
            ]
          },
          "metadata": {}
        }
      ]
    },
    {
      "cell_type": "code",
      "source": [
        "df_ibex_reindexado['media_movil_3'] = df_ibex_reindexado['Último'].rolling(window=3).mean()\n",
        "df_ibex_reindexado['media_movil_7'] = df_ibex_reindexado['Último'].rolling(window=7).mean()\n",
        "df_ibex_reindexado['media_movil_30'] = df_ibex_reindexado['Último'].rolling(window=30).mean()\n",
        "\n",
        "df_ibex_reindexado['Señal'] = 0  # Inicializa la señal en 0\n",
        "\n",
        "# Define la condición para la señal de compra\n",
        "condicion_compra = (df_ibex_reindexado['media_movil_3'] > df_ibex_reindexado['media_movil_7']) & \\\n",
        "                  (df_ibex_reindexado['media_movil_7'] > df_ibex_reindexado['media_movil_30']) & \\\n",
        "                  (df_ibex_reindexado['media_movil_3'].shift(1) < df_ibex_reindexado['media_movil_7'].shift(1))  # Verifica el cruce\n",
        "\n",
        "# Asigna 1 a la señal cuando se cumple la condición\n",
        "df_ibex_reindexado.loc[condicion_compra, 'Señal'] = 1\n",
        "\n",
        "caracteristicas = ['Último', 'media_movil_3', 'media_movil_7', 'media_movil_30']\n",
        "X = df_ibex_reindexado[caracteristicas]\n",
        "y = df_ibex_reindexado['Señal']\n",
        "\n",
        "\n"
      ],
      "metadata": {
        "id": "b-p4rJEcvNlL"
      },
      "execution_count": null,
      "outputs": []
    },
    {
      "cell_type": "markdown",
      "source": [
        "ENTRENAR EL MODELO"
      ],
      "metadata": {
        "id": "gMC-HLq1wKv_"
      }
    },
    {
      "cell_type": "code",
      "source": [
        "# ESTE ES EL EXPERIMIENTO DE ENTRENAR UN MODELO PARA CREAR UNA SEÑAL 1/0 EN FUNCIÓN DE LAS MEDIAS MOVILES\n",
        "# SEGÚN INVESTIGACIÓN, EXISTE YA UNA TÉCNICA LLAMADA MODELO ARIMA: https://en.wikipedia.org/wiki/Autoregressive_integrated_moving_average\n",
        "# REHAGO EL CÓDIGO PARA ENTRENAR UN ARIMA CADA 7 DÍAS CON LOS DATOS DE 1 MES, Y QUE PREDIGA LOS VALORES DEL IBEX35 EN 7 DÍAS.\n",
        "\n",
        "from sklearn.model_selection import train_test_split\n",
        "from sklearn.linear_model import LogisticRegression\n",
        "from sklearn.impute import SimpleImputer\n",
        "\n",
        "# Divide los datos en conjuntos de entrenamiento y prueba\n",
        "X_train, X_test, y_train, y_test = train_test_split(X, y, test_size=0.2, random_state=42)\n",
        "\n",
        "imputer = SimpleImputer(strategy='mean') # O 'median', 'most_frequent', 'constant'\n",
        "X_train = imputer.fit_transform(X_train)\n",
        "print(X_train)\n",
        "# Crea y entrena el modelo\n",
        "modelo = LogisticRegression()\n",
        "modelo.fit(X_train, y_train)\n",
        "import joblib\n",
        "\n",
        "# Guardar el modelo en un fichero\n",
        "joblib.dump(modelo, 'modelo_entrenado.pkl')\n",
        "\n",
        "# Guardar el imputer en un fichero, si lo has usado\n",
        "joblib.dump(imputer, 'imputer.pkl')"
      ],
      "metadata": {
        "colab": {
          "base_uri": "https://localhost:8080/"
        },
        "id": "5UpXFLGLwHlg",
        "outputId": "6e96aa52-a735-4198-ec61-b531df8ae9af"
      },
      "execution_count": null,
      "outputs": [
        {
          "output_type": "stream",
          "name": "stdout",
          "text": [
            "[[13135.4         4378.46666667  9540.54285714  7042.34      ]\n",
            " [11997.1         3999.03333333  8540.18571429  6921.14304094]\n",
            " [    0.             0.             0.          6446.29      ]\n",
            " [    0.             0.             0.          6913.43      ]\n",
            " [11840.6        11830.4         6739.91428571  6921.14304094]\n",
            " [    0.             0.          1907.17142857  6835.89666667]\n",
            " [13005.2         8608.83333333  3689.5         7774.31333333]\n",
            " [    0.             0.          1899.57142857  6921.14304094]\n",
            " [    0.             0.          5403.78571429  7010.88666667]\n",
            " [    0.             0.             0.          6921.14304094]\n",
            " [12372.8         8502.73333333  7462.87142857  6602.13666667]\n",
            " [    0.          4397.06666667  9109.85714286  6913.43      ]\n",
            " [12286.5        12145.93333333  8630.27142857  6921.14304094]\n",
            " [13484.3         8935.86666667  9553.17142857  7856.73      ]\n",
            " [    0.          4432.33333333  6676.56635338  6921.14304094]\n",
            " [13016.9         4338.96666667  5558.45714286  6163.01333333]\n",
            " [    0.          4317.33333333  9287.04285714  5905.16666667]\n",
            " [    0.          4450.06666667  7116.51428571  6835.89666667]\n",
            " [11916.3        11885.13333333  8442.24285714  6921.14304094]\n",
            " [    0.          4450.06666667  9509.5         6963.14333333]\n",
            " [13350.2         4450.06666667  8871.72857143  6835.89666667]\n",
            " [    0.             0.          1899.57142857  6921.14304094]\n",
            " [12936.3         4312.1         1848.04285714  6485.76333333]\n",
            " [    0.          8608.83333333  3689.5         7343.10333333]\n",
            " [12154.2         8050.43333333  8572.58571429  6921.14304094]\n",
            " [11943.6         3981.2         8478.72857143  6921.14304094]\n",
            " [    0.          8484.56666667  7280.27142857  7010.88666667]\n",
            " [    0.          3994.2         8532.54285714  6921.14304094]\n",
            " [13191.2        12923.36666667 12910.22857143  7358.43666667]\n",
            " [12929.4        13030.06666667  9283.21428571  6634.00333333]\n",
            " [11752.1         7813.43333333  3348.61428571  6921.14304094]\n",
            " [    0.          7991.36666667  8532.54285714  6921.14304094]\n",
            " [13297.          4432.33333333  6676.56635338  6921.14304094]\n",
            " [    0.          7918.96666667  8442.24285714  6921.14304094]\n",
            " [    0.             0.          1907.17142857  6835.89666667]\n",
            " [    0.             0.          1899.57142857  6921.14304094]\n",
            " [13350.2        13354.86666667  9509.5         7827.11333333]\n",
            " [    0.             0.          1899.57142857  6921.14304094]\n",
            " [    0.             0.          7203.1         6913.43      ]\n",
            " [    0.          4450.06666667  5342.28571429  6835.89666667]\n",
            " [    0.          4436.43333333  9567.38571429  6992.88      ]\n",
            " [13332.         13153.9         9340.11428571  6820.65333333]\n",
            " [    0.             0.             0.          7010.88666667]\n",
            " [13012.9         4337.63333333  9286.47142857  6338.93      ]\n",
            " [12967.1        13013.46666667  9287.61428571  6668.66      ]\n",
            " [    0.             0.          1884.45714286  6913.43      ]\n",
            " [    0.          4318.66666667  3698.9         5729.11666667]\n",
            " [    0.             0.             0.          6913.43      ]\n",
            " [13373.1        12410.16666667 12899.6         6918.73      ]\n",
            " [    0.             0.          3636.24285714  7010.88666667]\n",
            " [    0.          8885.5         9509.5         7394.87666667]\n",
            " [    0.             0.             0.          6835.89666667]\n",
            " [13347.3        13316.63333333  9439.94285714  6893.22666667]\n",
            " [13143.9         8720.26666667  7436.15714286  6601.14333333]\n",
            " [    0.          4378.46666667  7614.21428571  6635.48      ]\n",
            " [13270.6        13239.8         9383.47142857  6857.86666667]\n",
            " [13147.2         4382.4         5567.67142857  7349.47666667]\n",
            " [    0.          8015.26666667 10414.74285714  6834.12333333]\n",
            " [    0.          4140.66666667  7280.27142857  7010.88666667]\n",
            " [11651.6        12756.5        11104.45714286  6867.62666667]\n",
            " [    0.          8854.76666667 11005.65714286  7358.43666667]\n",
            " [13422.6        13446.36666667  9573.22857143  7880.9       ]\n",
            " [    0.             0.          3575.3         6835.89666667]\n",
            " [12419.6        12286.76666667  8691.42857143  6032.59666667]\n",
            " [    0.          6278.17805907  6676.56635338  6921.14304094]\n",
            " [    0.          8639.7         9287.04285714  6304.58666667]\n",
            " [11882.7        11917.9         8501.51428571  6921.14304094]\n",
            " [    0.             0.          6676.56635338  6921.14304094]\n",
            " [11982.6        11952.26666667  8532.54285714  6921.14304094]\n",
            " [    0.          8910.63333333  9567.38571429  7437.79      ]\n",
            " [    0.             0.          1774.57142857  7010.88666667]\n",
            " [    0.          4335.06666667  3689.5         6911.23666667]\n",
            " [13309.3        13388.03333333  9567.38571429  7880.14333333]\n",
            " [13323.3         4441.1         9534.65714286  7407.25333333]\n",
            " [11927.4         7957.          8503.77142857  6921.14304094]\n",
            " [12205.8        12401.56666667 12848.14285714  6862.19      ]\n",
            " [12821.3         4273.76666667  1831.61428571  7340.80666667]\n",
            " [11898.5        11779.6         5048.4         6921.14304094]\n",
            " [13031.7         8468.16666667  7407.02857143  6596.82      ]\n",
            " [12952.         12949.5         9287.04285714  6704.30333333]]\n"
          ]
        },
        {
          "output_type": "execute_result",
          "data": {
            "text/plain": [
              "['imputer.pkl']"
            ]
          },
          "metadata": {},
          "execution_count": 163
        }
      ]
    },
    {
      "cell_type": "markdown",
      "source": [
        "**EVALUAR EL MODELO**"
      ],
      "metadata": {
        "id": "4B8ROTyqwOOS"
      }
    },
    {
      "cell_type": "code",
      "source": [
        "from sklearn.metrics import accuracy_score, precision_score, recall_score\n",
        "\n",
        "# Abrir la serie de IBEX35\n",
        "df_ibex_test = pd.read_csv('datos/datos_historicos_IBEX35.csv', parse_dates=['Fecha'], index_col='Fecha')\n",
        "# Convert 'Último' column to float\n",
        "df_ibex_test['Último'] = df_ibex_test['Último'].apply(lambda x: float(x.replace('.', '').replace(',', '.')))\n",
        "# Suponiendo que 'nuevos_datos' es un DataFrame con las nuevas observaciones\n",
        "nuevos_datos_reindexado = pd.DataFrame(index=vector_fechas_test, data=0, columns=df_ibex_test.columns)\n",
        "\n",
        "# Copiar los valores de df_ibex a df_ibex_reindexado cuando los índices coinciden\n",
        "for fecha in df_ibex_test.index:\n",
        "  if fecha in nuevos_datos_reindexado.index:\n",
        "    nuevos_datos_reindexado.loc[fecha] = df_ibex_test.loc[fecha]\n",
        "\n",
        "nuevos_datos_reindexado['Último'] = nuevos_datos_reindexado['Último']\n",
        "nuevos_datos_reindexado['media_movil_3'] = nuevos_datos_reindexado['Último'].rolling(window=3).mean()\n",
        "nuevos_datos_reindexado['media_movil_7'] = nuevos_datos_reindexado['Último'].rolling(window=7).mean()\n",
        "nuevos_datos_reindexado['media_movil_30'] = nuevos_datos_reindexado['Último'].rolling(window=30).mean()\n",
        "\n",
        "nuevos_datos_reindexado = nuevos_datos_reindexado.astype(object)\n",
        "\n",
        "datos_entrada = nuevos_datos_reindexado[caracteristicas]\n",
        "datos_entrada.fillna(0, inplace=True)\n",
        "datos_entrada_imputados = imputer.fit_transform(datos_entrada)\n",
        "\n",
        "# Realiza predicciones en el conjunto de prueba\n",
        "y_pred = modelo.predict(datos_entrada_imputados)\n",
        "\n",
        "# Filter nuevos_datos_reindexado to the dates in vector_fechas_test\n",
        "filtered_data = nuevos_datos_reindexado[nuevos_datos_reindexado.index.isin(vector_fechas_test)]\n",
        "\n",
        "# Calculate the condition for intersection of moving averages\n",
        "condition = (filtered_data['media_movil_3'] > filtered_data['media_movil_7']) & \\\n",
        "            (filtered_data['media_movil_7'] > filtered_data['media_movil_30']) & \\\n",
        "            (filtered_data['media_movil_3'].shift(1) < filtered_data['media_movil_7'].shift(1))\n",
        "\n",
        "# Create y_test based on the condition\n",
        "y_test = np.where(condition, 1, 0)\n",
        "\n",
        "print(y_pred)\n",
        "print(y_test)\n",
        "\n",
        "\n",
        "# Calcula las métricas\n",
        "accuracy = accuracy_score(y_test, y_pred)\n",
        "precision = precision_score(y_test, y_pred)\n",
        "recall = recall_score(y_test, y_pred)\n",
        "\n",
        "print(f\"Accuracy: {accuracy}\")\n",
        "print(f\"Precision: {precision}\")\n",
        "print(f\"Recall: {recall}\")\n"
      ],
      "metadata": {
        "colab": {
          "base_uri": "https://localhost:8080/"
        },
        "id": "6XrfQRKiwNnK",
        "outputId": "6df8806e-5800-482b-a879-1821b682be26"
      },
      "execution_count": null,
      "outputs": [
        {
          "output_type": "stream",
          "name": "stdout",
          "text": [
            "[0 0 0 1 0 0 0 0 0 0 0 0 1 1 1 1 1 0 0 1 1 1 1 1 0 0 1 1 1 0 0 0 0 0 0 0 0\n",
            " 0 0 0 0 0 0 0 0 0 0 0 0 0 0 0 0 0 0 0 0 0 0 0 0 0 0 0 0 0 0 0 0 0 0 0 0 0\n",
            " 0 0 0 0 0 0 0 0 0 0 0 0 0 0 0 0 0 0 0 0 0 0 0 0 0 0 0]\n",
            "[0 0 0 0 0 0 0 0 0 0 0 0 0 0 0 0 0 0 0 0 0 0 0 0 0 0 0 0 0 0 0 0 0 0 0 0 0\n",
            " 0 0 0 0 0 0 0 0 0 0 0 1 0 0 0 0 0 0 0 1 0 0 0 0 0 1 0 0 0 0 0 0 0 0 0 0 0\n",
            " 0 0 0 0 0 0 0 0 0 0 1 0 0 0 0 0 0 1 0 0 0 0 0 0 0 0 0]\n",
            "Accuracy: 0.8118811881188119\n",
            "Precision: 0.0\n",
            "Recall: 0.0\n"
          ]
        },
        {
          "output_type": "stream",
          "name": "stderr",
          "text": [
            "<ipython-input-164-7c18e362f62e>:13: FutureWarning:\n",
            "\n",
            "Setting an item of incompatible dtype is deprecated and will raise an error in a future version of pandas. Value '13.084,00' has dtype incompatible with int64, please explicitly cast to a compatible dtype first.\n",
            "\n",
            "<ipython-input-164-7c18e362f62e>:13: FutureWarning:\n",
            "\n",
            "Setting an item of incompatible dtype is deprecated and will raise an error in a future version of pandas. Value '13.091,60' has dtype incompatible with int64, please explicitly cast to a compatible dtype first.\n",
            "\n",
            "<ipython-input-164-7c18e362f62e>:13: FutureWarning:\n",
            "\n",
            "Setting an item of incompatible dtype is deprecated and will raise an error in a future version of pandas. Value '12.236,40' has dtype incompatible with int64, please explicitly cast to a compatible dtype first.\n",
            "\n",
            "<ipython-input-164-7c18e362f62e>:13: FutureWarning:\n",
            "\n",
            "Setting an item of incompatible dtype is deprecated and will raise an error in a future version of pandas. Value '371,36M' has dtype incompatible with int64, please explicitly cast to a compatible dtype first.\n",
            "\n",
            "<ipython-input-164-7c18e362f62e>:13: FutureWarning:\n",
            "\n",
            "Setting an item of incompatible dtype is deprecated and will raise an error in a future version of pandas. Value '-5,83%' has dtype incompatible with int64, please explicitly cast to a compatible dtype first.\n",
            "\n",
            "<ipython-input-164-7c18e362f62e>:13: FutureWarning:\n",
            "\n",
            "Setting an item of incompatible dtype is deprecated and will raise an error in a future version of pandas. Value '13191.2' has dtype incompatible with int64, please explicitly cast to a compatible dtype first.\n",
            "\n",
            "<ipython-input-164-7c18e362f62e>:23: FutureWarning:\n",
            "\n",
            "Downcasting object dtype arrays on .fillna, .ffill, .bfill is deprecated and will change in a future version. Call result.infer_objects(copy=False) instead. To opt-in to the future behavior, set `pd.set_option('future.no_silent_downcasting', True)`\n",
            "\n",
            "<ipython-input-164-7c18e362f62e>:23: SettingWithCopyWarning:\n",
            "\n",
            "\n",
            "A value is trying to be set on a copy of a slice from a DataFrame\n",
            "\n",
            "See the caveats in the documentation: https://pandas.pydata.org/pandas-docs/stable/user_guide/indexing.html#returning-a-view-versus-a-copy\n",
            "\n"
          ]
        }
      ]
    },
    {
      "cell_type": "code",
      "source": [
        "import gradio as gr\n",
        "import pandas as pd\n",
        "import numpy as np\n",
        "from sklearn.metrics import accuracy_score, precision_score, recall_score\n",
        "import joblib\n",
        "\n",
        "# Cargar modelo e imputador previamente entrenados\n",
        "modelo = joblib.load(\"modelo_entrenado.pkl\")\n",
        "imputer = joblib.load(\"imputer.pkl\")\n",
        "caracteristicas = [\"Último\", \"media_movil_3\", \"media_movil_7\", \"media_movil_30\"]\n",
        "\n",
        "# Función principal que ejecuta las predicciones\n",
        "def predecir_archivo(archivo_csv):\n",
        "    df_ibex_test = pd.read_csv(archivo_csv.name, parse_dates=['Fecha'], index_col='Fecha')\n",
        "\n",
        "    # Convertir columna 'Último' a float\n",
        "    df_ibex_test['Último'] = df_ibex_test['Último'].apply(lambda x: float(x.replace('.', '').replace(',', '.')))\n",
        "\n",
        "    vector_fechas_test = df_ibex_test.index\n",
        "    nuevos_datos_reindexado = pd.DataFrame(index=vector_fechas_test, data=0, columns=df_ibex_test.columns)\n",
        "\n",
        "    for fecha in df_ibex_test.index:\n",
        "        if fecha in nuevos_datos_reindexado.index:\n",
        "            nuevos_datos_reindexado.loc[fecha] = df_ibex_test.loc[fecha]\n",
        "\n",
        "    nuevos_datos_reindexado['media_movil_3'] = nuevos_datos_reindexado['Último'].rolling(window=3).mean()\n",
        "    nuevos_datos_reindexado['media_movil_7'] = nuevos_datos_reindexado['Último'].rolling(window=7).mean()\n",
        "    nuevos_datos_reindexado['media_movil_30'] = nuevos_datos_reindexado['Último'].rolling(window=30).mean()\n",
        "    nuevos_datos_reindexado.fillna(0, inplace=True)\n",
        "\n",
        "    datos_entrada = nuevos_datos_reindexado[caracteristicas]\n",
        "    datos_entrada_imputados = imputer.transform(datos_entrada)\n",
        "\n",
        "    y_pred = modelo.predict(datos_entrada_imputados)\n",
        "\n",
        "    # Generar etiqueta real simulada (como en tu código)\n",
        "    condition = (\n",
        "        (nuevos_datos_reindexado['media_movil_3'] > nuevos_datos_reindexado['media_movil_7']) &\n",
        "        (nuevos_datos_reindexado['media_movil_7'] > nuevos_datos_reindexado['media_movil_30']) &\n",
        "        (nuevos_datos_reindexado['media_movil_3'].shift(1) < nuevos_datos_reindexado['media_movil_7'].shift(1))\n",
        "    )\n",
        "    y_test = np.where(condition, 1, 0)\n",
        "\n",
        "    # Calcular métricas\n",
        "    accuracy = accuracy_score(y_test, y_pred)\n",
        "    precision = precision_score(y_test, y_pred)\n",
        "    recall = recall_score(y_test, y_pred)\n",
        "\n",
        "    # Resultado como string\n",
        "    resultado = f\"Accuracy: {accuracy:.2f}\\nPrecision: {precision:.2f}\\nRecall: {recall:.2f}\"\n",
        "\n",
        "    return resultado\n",
        "\n",
        "# Interfaz de Gradio\n",
        "iface = gr.Interface(\n",
        "    fn=predecir_archivo,\n",
        "    inputs=gr.File(label=\"Sube el CSV del IBEX35\"),\n",
        "    outputs=\"text\",\n",
        "    title=\"Predicción sobre IBEX35\",\n",
        "    description=\"Sube un archivo CSV con datos del IBEX35 y obtén las métricas del modelo entrenado.\"\n",
        ")\n",
        "\n",
        "iface.launch()"
      ],
      "metadata": {
        "id": "iS1XjQOlHxcx",
        "outputId": "e8809324-e4cc-404e-8951-2faa262fc785",
        "colab": {
          "base_uri": "https://localhost:8080/",
          "height": 651
        }
      },
      "execution_count": null,
      "outputs": [
        {
          "output_type": "stream",
          "name": "stdout",
          "text": [
            "It looks like you are running Gradio on a hosted a Jupyter notebook. For the Gradio app to work, sharing must be enabled. Automatically setting `share=True` (you can turn this off by setting `share=False` in `launch()` explicitly).\n",
            "\n",
            "Colab notebook detected. To show errors in colab notebook, set debug=True in launch()\n",
            "* Running on public URL: https://2426a7e0a094757610.gradio.live\n",
            "\n",
            "This share link expires in 1 week. For free permanent hosting and GPU upgrades, run `gradio deploy` from the terminal in the working directory to deploy to Hugging Face Spaces (https://huggingface.co/spaces)\n"
          ]
        },
        {
          "output_type": "display_data",
          "data": {
            "text/plain": [
              "<IPython.core.display.HTML object>"
            ],
            "text/html": [
              "<div><iframe src=\"https://2426a7e0a094757610.gradio.live\" width=\"100%\" height=\"500\" allow=\"autoplay; camera; microphone; clipboard-read; clipboard-write;\" frameborder=\"0\" allowfullscreen></iframe></div>"
            ]
          },
          "metadata": {}
        },
        {
          "output_type": "execute_result",
          "data": {
            "text/plain": []
          },
          "metadata": {},
          "execution_count": 165
        }
      ]
    },
    {
      "cell_type": "markdown",
      "source": [
        "**FUNCIÓN DE ENTRENAIENTO DEL MODELO ARIMA. LA ENTRADA SON LAS OBSERVACIONES OBTENIDAS QUE YO CARGO DE UN FICHERO CSV. EL VECTOR_FECHAS DETERMINA QUÉ PERIODO DE VALORES SE UTILIZA PARA LA OBSERVACIÓN. *"
      ],
      "metadata": {
        "id": "6kbwBU0yF7B4"
      }
    },
    {
      "cell_type": "code",
      "source": [
        "import pandas as pd\n",
        "from sklearn.model_selection import train_test_split\n",
        "from statsmodels.tsa.arima.model import ARIMA\n",
        "import joblib\n",
        "\n",
        "def train_arima_model():\n",
        "  #LOS VALORES DEL IBEX EN LAS FECHAS DADAS ESTÁN EN df_ibex_reindexado\n",
        "  # Filter data based on user input\n",
        "  # Use .loc to slice by labels, handling potential missing dates\n",
        "  filtered_df = df_ibex_reindexado\n",
        "  filtered_df['Último'] = filtered_df['Último'].astype(float)  # Ensure numeric type\n",
        "  #filtered_df['Último'].fillna(filtered_df['Último'].mean(), inplace=True)  # Replace NaN with mean\n",
        "  filtered_df = df_ibex_reindexado.loc[df_ibex_reindexado['Último'] != 0]\n",
        "  # Prepare the data for training\n",
        "  y = filtered_df['Último'].values  # Target: IBEX35 values\n",
        "\n",
        "  # Split the data into training and testing sets\n",
        "  y_train, y_test = train_test_split(y, test_size=0.2, shuffle=False)\n",
        "\n",
        "  # Determine the ARIMA order (p, d, q) - you might need to experiment with these values\n",
        "  # You can use tools like ACF and PACF plots to help determine the order\n",
        "  # Example order: (5, 1, 0)\n",
        "  # https://en.wikipedia.org/wiki/Autoregressive_integrated_moving_average\n",
        "\n",
        "\n",
        "  order = (5, 1, 0)\n",
        "\n",
        "\n",
        "  # Create and train the ARIMA model\n",
        "  model = ARIMA(y_train, order=order)\n",
        "  model_fit = model.fit()\n",
        "\n",
        "  # Save the trained model\n",
        "  joblib.dump(model_fit, 'ibex35_arima_model.pkl')\n",
        "\n",
        "  print(\"ARIMA model trained and saved successfully!\")"
      ],
      "metadata": {
        "id": "xrV4ZO9awE99"
      },
      "execution_count": null,
      "outputs": []
    },
    {
      "cell_type": "markdown",
      "source": [
        "\n",
        "\n",
        "**FUNCION DE PREDICCIÓN DE VALORES DEL IBEX A PARTIR DE LAS ÚLTIMAS 30 OBSERVAICONES**\n"
      ],
      "metadata": {
        "id": "FBK35EhEFosu"
      }
    },
    {
      "cell_type": "code",
      "source": [
        "# prompt: quiero crear una aplicación de gradio que use el modelo ibex35_arima recien entrenado para predecir los 7 valores siguientes del IBEX35\n",
        "\n",
        "import joblib\n",
        "import pandas as pd\n",
        "import numpy as np\n",
        "import gradio as gr\n",
        "from statsmodels.tsa.arima.model import ARIMA\n",
        "\n",
        "\n",
        "def predict_ibex35(df_last_observations,days_to_predict=7):\n",
        "\n",
        "    # Obtener las últimas observaciones del conjunto de datos (reemplaza con tu DataFrame)\n",
        "    # Asegúrate de que las fechas en tu DataFrame sean de tipo datetime64[ns]\n",
        "    # y estén ordenadas cronológicamente.\n",
        "    # Ejemplo, asumimos que df_ibex_reindexado ya está definido y cargado con datos:\n",
        "    # Eliminar ceros\n",
        "    #df_ibex_reindexado_filtered = df_ibex_reindexado[df_ibex_reindexado['Último'] != 0]\n",
        "    last_observations = df_last_observations['^IBEX'].astype(float)  # Obtener las ultimas 30 observaciones\n",
        "\n",
        "    # Realizar predicciones con el modelo ARIMA cargado\n",
        "    predictions = []\n",
        "    for i in range(days_to_predict):\n",
        "        # Extender la serie temporal con la predicción anterior\n",
        "        model_fit = ARIMA(last_observations.values, order=(5, 1, 0)).fit()  # Ajustar con las ultimas 30 obs.\n",
        "        prediction = model_fit.predict(start=len(last_observations), end=len(last_observations)) # Predice el prox valor\n",
        "        predictions.append(prediction[0])\n",
        "        last_observations = pd.concat([last_observations, pd.Series([prediction[0]])], ignore_index=True)\n",
        "        # Convert to list of regular Python floats using tolist()\n",
        "        predictions = np.array(predictions).tolist()\n",
        "    return predictions\n",
        "\n",
        "\n",
        "\n",
        "# Función de inicialización\n",
        "def initialize_app():\n",
        "    \"\"\"\n",
        "    Inicializa la aplicación obteniendo los últimos 30 valores del IBEX35.\n",
        "\n",
        "    Returns:\n",
        "        list: Una lista que contiene las últimas 30 observaciones del IBEX35.\n",
        "    \"\"\"\n",
        "    valores= obtener_ultimos_valores_ibex35_internet(ticker=\"^IBEX\", num_valores=30)  # Obtener solo los valores\n",
        "    return valores\n",
        "\n",
        "\n",
        "def launch_gradio():\n",
        "    # Inicializar la aplicación\n",
        "    initial_values = initialize_app()\n",
        "\n",
        "    with gr.Blocks() as demo:\n",
        "        with gr.Tab(\"Predict IBEX35\"):\n",
        "            days_to_predict_input = gr.Number(label=\"Número de días a predecir\", value=7)\n",
        "            predict_button = gr.Button(\"Predict\")\n",
        "            predict_output = gr.Textbox(label=\"Predicciones del IBEX35\")\n",
        "\n",
        "            # Predecir utilizando el modelo entrenado\n",
        "            predict_button.click(\n",
        "                fn=predict_ibex35,\n",
        "                inputs=[gr.State(initial_values), days_to_predict_input],\n",
        "                outputs=predict_output,\n",
        "            )\n",
        "\n",
        "    demo.launch(share=True)\n",
        "\n",
        "launch_gradio()\n",
        "#initial_values = initialize_app()\n",
        "#train_arima_model()\n",
        "#predict_ibex35(initial_values,7)\n"
      ],
      "metadata": {
        "colab": {
          "base_uri": "https://localhost:8080/",
          "height": 633
        },
        "id": "efvUgxO82fZp",
        "outputId": "d355e9f6-db1b-4a14-ae65-86f0aee9d032"
      },
      "execution_count": null,
      "outputs": [
        {
          "output_type": "stream",
          "name": "stderr",
          "text": [
            "\r[*********************100%***********************]  1 of 1 completed\n"
          ]
        },
        {
          "output_type": "stream",
          "name": "stdout",
          "text": [
            "Colab notebook detected. To show errors in colab notebook, set debug=True in launch()\n",
            "* Running on public URL: https://71e65a1c5166bbf8e3.gradio.live\n",
            "\n",
            "This share link expires in 1 week. For free permanent hosting and GPU upgrades, run `gradio deploy` from the terminal in the working directory to deploy to Hugging Face Spaces (https://huggingface.co/spaces)\n"
          ]
        },
        {
          "output_type": "display_data",
          "data": {
            "text/plain": [
              "<IPython.core.display.HTML object>"
            ],
            "text/html": [
              "<div><iframe src=\"https://71e65a1c5166bbf8e3.gradio.live\" width=\"100%\" height=\"500\" allow=\"autoplay; camera; microphone; clipboard-read; clipboard-write;\" frameborder=\"0\" allowfullscreen></iframe></div>"
            ]
          },
          "metadata": {}
        }
      ]
    },
    {
      "cell_type": "code",
      "source": [
        "import yfinance as yf\n",
        "import pandas as pd\n",
        "\n",
        "def obtener_ultimos_valores_ibex35_internet(ticker=\"^IBEX\", num_valores=30):\n",
        "    \"\"\"\n",
        "    Obtiene los últimos valores del IBEX35 y sus fechas desde Yahoo Finance\n",
        "    y los devuelve como un DataFrame.\n",
        "\n",
        "    Args:\n",
        "        ticker (str, optional): El ticker del IBEX35 en Yahoo Finance.\n",
        "                                 Por defecto es \"^IBEX\".\n",
        "        num_valores (int, optional): Número de últimos valores a obtener.\n",
        "                                      Por defecto es 30.\n",
        "\n",
        "    Returns:\n",
        "        pandas.DataFrame: Un DataFrame con los valores del IBEX35 y las fechas\n",
        "                         como índice.\n",
        "    \"\"\"\n",
        "    try:\n",
        "        # Descargar datos del IBEX35 desde Yahoo Finance\n",
        "        ibex_data = yf.download(ticker, period=f\"{num_valores}d\")\n",
        "\n",
        "        return ibex_data['Close']\n",
        "\n",
        "    except Exception as e:\n",
        "        print(f\"Error al obtener datos de Yahoo Finance: {e}\")\n",
        "        return pd.DataFrame()  # Devolver un DataFrame vacío en caso de error"
      ],
      "metadata": {
        "id": "U5tc5u-K8IlV"
      },
      "execution_count": null,
      "outputs": []
    }
  ]
}