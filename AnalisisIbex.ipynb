{
  "nbformat": 4,
  "nbformat_minor": 0,
  "metadata": {
    "colab": {
      "provenance": [],
      "history_visible": true,
      "authorship_tag": "ABX9TyM9cIyXRXqEk83C3H8kqNhW",
      "include_colab_link": true
    },
    "kernelspec": {
      "name": "python3",
      "display_name": "Python 3"
    },
    "language_info": {
      "name": "python"
    }
  },
  "cells": [
    {
      "cell_type": "markdown",
      "metadata": {
        "id": "view-in-github",
        "colab_type": "text"
      },
      "source": [
        "<a href=\"https://colab.research.google.com/github/joseluisll/AnalisisIbex/blob/main/AnalisisIbex.ipynb\" target=\"_parent\"><img src=\"https://colab.research.google.com/assets/colab-badge.svg\" alt=\"Open In Colab\"/></a>"
      ]
    },
    {
      "cell_type": "code",
      "source": [
        "# Instala plotly en Colab\n",
        "!pip install plotly\n",
        "!pip install gradio\n",
        "\n",
        "import numpy as np\n",
        "import pandas as pd\n",
        "import plotly.graph_objects as go"
      ],
      "metadata": {
        "colab": {
          "base_uri": "https://localhost:8080/"
        },
        "id": "tGbqaum6wBLo",
        "outputId": "6379a1d8-340a-4ac6-b31f-e0080646b440"
      },
      "execution_count": 8,
      "outputs": [
        {
          "output_type": "stream",
          "name": "stdout",
          "text": [
            "Requirement already satisfied: plotly in /usr/local/lib/python3.11/dist-packages (5.24.1)\n",
            "Requirement already satisfied: tenacity>=6.2.0 in /usr/local/lib/python3.11/dist-packages (from plotly) (9.1.2)\n",
            "Requirement already satisfied: packaging in /usr/local/lib/python3.11/dist-packages (from plotly) (24.2)\n",
            "Collecting gradio\n",
            "  Downloading gradio-5.25.1-py3-none-any.whl.metadata (16 kB)\n",
            "Collecting aiofiles<25.0,>=22.0 (from gradio)\n",
            "  Downloading aiofiles-24.1.0-py3-none-any.whl.metadata (10 kB)\n",
            "Requirement already satisfied: anyio<5.0,>=3.0 in /usr/local/lib/python3.11/dist-packages (from gradio) (4.9.0)\n",
            "Collecting fastapi<1.0,>=0.115.2 (from gradio)\n",
            "  Downloading fastapi-0.115.12-py3-none-any.whl.metadata (27 kB)\n",
            "Collecting ffmpy (from gradio)\n",
            "  Downloading ffmpy-0.5.0-py3-none-any.whl.metadata (3.0 kB)\n",
            "Collecting gradio-client==1.8.0 (from gradio)\n",
            "  Downloading gradio_client-1.8.0-py3-none-any.whl.metadata (7.1 kB)\n",
            "Collecting groovy~=0.1 (from gradio)\n",
            "  Downloading groovy-0.1.2-py3-none-any.whl.metadata (6.1 kB)\n",
            "Requirement already satisfied: httpx>=0.24.1 in /usr/local/lib/python3.11/dist-packages (from gradio) (0.28.1)\n",
            "Requirement already satisfied: huggingface-hub>=0.28.1 in /usr/local/lib/python3.11/dist-packages (from gradio) (0.30.2)\n",
            "Requirement already satisfied: jinja2<4.0 in /usr/local/lib/python3.11/dist-packages (from gradio) (3.1.6)\n",
            "Requirement already satisfied: markupsafe<4.0,>=2.0 in /usr/local/lib/python3.11/dist-packages (from gradio) (3.0.2)\n",
            "Requirement already satisfied: numpy<3.0,>=1.0 in /usr/local/lib/python3.11/dist-packages (from gradio) (2.0.2)\n",
            "Requirement already satisfied: orjson~=3.0 in /usr/local/lib/python3.11/dist-packages (from gradio) (3.10.16)\n",
            "Requirement already satisfied: packaging in /usr/local/lib/python3.11/dist-packages (from gradio) (24.2)\n",
            "Requirement already satisfied: pandas<3.0,>=1.0 in /usr/local/lib/python3.11/dist-packages (from gradio) (2.2.2)\n",
            "Requirement already satisfied: pillow<12.0,>=8.0 in /usr/local/lib/python3.11/dist-packages (from gradio) (11.1.0)\n",
            "Requirement already satisfied: pydantic<2.12,>=2.0 in /usr/local/lib/python3.11/dist-packages (from gradio) (2.11.3)\n",
            "Collecting pydub (from gradio)\n",
            "  Downloading pydub-0.25.1-py2.py3-none-any.whl.metadata (1.4 kB)\n",
            "Collecting python-multipart>=0.0.18 (from gradio)\n",
            "  Downloading python_multipart-0.0.20-py3-none-any.whl.metadata (1.8 kB)\n",
            "Requirement already satisfied: pyyaml<7.0,>=5.0 in /usr/local/lib/python3.11/dist-packages (from gradio) (6.0.2)\n",
            "Collecting ruff>=0.9.3 (from gradio)\n",
            "  Downloading ruff-0.11.5-py3-none-manylinux_2_17_x86_64.manylinux2014_x86_64.whl.metadata (25 kB)\n",
            "Collecting safehttpx<0.2.0,>=0.1.6 (from gradio)\n",
            "  Downloading safehttpx-0.1.6-py3-none-any.whl.metadata (4.2 kB)\n",
            "Collecting semantic-version~=2.0 (from gradio)\n",
            "  Downloading semantic_version-2.10.0-py2.py3-none-any.whl.metadata (9.7 kB)\n",
            "Collecting starlette<1.0,>=0.40.0 (from gradio)\n",
            "  Downloading starlette-0.46.2-py3-none-any.whl.metadata (6.2 kB)\n",
            "Collecting tomlkit<0.14.0,>=0.12.0 (from gradio)\n",
            "  Downloading tomlkit-0.13.2-py3-none-any.whl.metadata (2.7 kB)\n",
            "Requirement already satisfied: typer<1.0,>=0.12 in /usr/local/lib/python3.11/dist-packages (from gradio) (0.15.2)\n",
            "Requirement already satisfied: typing-extensions~=4.0 in /usr/local/lib/python3.11/dist-packages (from gradio) (4.13.1)\n",
            "Collecting uvicorn>=0.14.0 (from gradio)\n",
            "  Downloading uvicorn-0.34.1-py3-none-any.whl.metadata (6.5 kB)\n",
            "Requirement already satisfied: fsspec in /usr/local/lib/python3.11/dist-packages (from gradio-client==1.8.0->gradio) (2025.3.2)\n",
            "Requirement already satisfied: websockets<16.0,>=10.0 in /usr/local/lib/python3.11/dist-packages (from gradio-client==1.8.0->gradio) (15.0.1)\n",
            "Requirement already satisfied: idna>=2.8 in /usr/local/lib/python3.11/dist-packages (from anyio<5.0,>=3.0->gradio) (3.10)\n",
            "Requirement already satisfied: sniffio>=1.1 in /usr/local/lib/python3.11/dist-packages (from anyio<5.0,>=3.0->gradio) (1.3.1)\n",
            "Requirement already satisfied: certifi in /usr/local/lib/python3.11/dist-packages (from httpx>=0.24.1->gradio) (2025.1.31)\n",
            "Requirement already satisfied: httpcore==1.* in /usr/local/lib/python3.11/dist-packages (from httpx>=0.24.1->gradio) (1.0.7)\n",
            "Requirement already satisfied: h11<0.15,>=0.13 in /usr/local/lib/python3.11/dist-packages (from httpcore==1.*->httpx>=0.24.1->gradio) (0.14.0)\n",
            "Requirement already satisfied: filelock in /usr/local/lib/python3.11/dist-packages (from huggingface-hub>=0.28.1->gradio) (3.18.0)\n",
            "Requirement already satisfied: requests in /usr/local/lib/python3.11/dist-packages (from huggingface-hub>=0.28.1->gradio) (2.32.3)\n",
            "Requirement already satisfied: tqdm>=4.42.1 in /usr/local/lib/python3.11/dist-packages (from huggingface-hub>=0.28.1->gradio) (4.67.1)\n",
            "Requirement already satisfied: python-dateutil>=2.8.2 in /usr/local/lib/python3.11/dist-packages (from pandas<3.0,>=1.0->gradio) (2.8.2)\n",
            "Requirement already satisfied: pytz>=2020.1 in /usr/local/lib/python3.11/dist-packages (from pandas<3.0,>=1.0->gradio) (2025.2)\n",
            "Requirement already satisfied: tzdata>=2022.7 in /usr/local/lib/python3.11/dist-packages (from pandas<3.0,>=1.0->gradio) (2025.2)\n",
            "Requirement already satisfied: annotated-types>=0.6.0 in /usr/local/lib/python3.11/dist-packages (from pydantic<2.12,>=2.0->gradio) (0.7.0)\n",
            "Requirement already satisfied: pydantic-core==2.33.1 in /usr/local/lib/python3.11/dist-packages (from pydantic<2.12,>=2.0->gradio) (2.33.1)\n",
            "Requirement already satisfied: typing-inspection>=0.4.0 in /usr/local/lib/python3.11/dist-packages (from pydantic<2.12,>=2.0->gradio) (0.4.0)\n",
            "Requirement already satisfied: click>=8.0.0 in /usr/local/lib/python3.11/dist-packages (from typer<1.0,>=0.12->gradio) (8.1.8)\n",
            "Requirement already satisfied: shellingham>=1.3.0 in /usr/local/lib/python3.11/dist-packages (from typer<1.0,>=0.12->gradio) (1.5.4)\n",
            "Requirement already satisfied: rich>=10.11.0 in /usr/local/lib/python3.11/dist-packages (from typer<1.0,>=0.12->gradio) (13.9.4)\n",
            "Requirement already satisfied: six>=1.5 in /usr/local/lib/python3.11/dist-packages (from python-dateutil>=2.8.2->pandas<3.0,>=1.0->gradio) (1.17.0)\n",
            "Requirement already satisfied: markdown-it-py>=2.2.0 in /usr/local/lib/python3.11/dist-packages (from rich>=10.11.0->typer<1.0,>=0.12->gradio) (3.0.0)\n",
            "Requirement already satisfied: pygments<3.0.0,>=2.13.0 in /usr/local/lib/python3.11/dist-packages (from rich>=10.11.0->typer<1.0,>=0.12->gradio) (2.18.0)\n",
            "Requirement already satisfied: charset-normalizer<4,>=2 in /usr/local/lib/python3.11/dist-packages (from requests->huggingface-hub>=0.28.1->gradio) (3.4.1)\n",
            "Requirement already satisfied: urllib3<3,>=1.21.1 in /usr/local/lib/python3.11/dist-packages (from requests->huggingface-hub>=0.28.1->gradio) (2.3.0)\n",
            "Requirement already satisfied: mdurl~=0.1 in /usr/local/lib/python3.11/dist-packages (from markdown-it-py>=2.2.0->rich>=10.11.0->typer<1.0,>=0.12->gradio) (0.1.2)\n",
            "Downloading gradio-5.25.1-py3-none-any.whl (46.9 MB)\n",
            "\u001b[2K   \u001b[90m━━━━━━━━━━━━━━━━━━━━━━━━━━━━━━━━━━━━━━━━\u001b[0m \u001b[32m46.9/46.9 MB\u001b[0m \u001b[31m20.0 MB/s\u001b[0m eta \u001b[36m0:00:00\u001b[0m\n",
            "\u001b[?25hDownloading gradio_client-1.8.0-py3-none-any.whl (322 kB)\n",
            "\u001b[2K   \u001b[90m━━━━━━━━━━━━━━━━━━━━━━━━━━━━━━━━━━━━━━━━\u001b[0m \u001b[32m322.2/322.2 kB\u001b[0m \u001b[31m22.4 MB/s\u001b[0m eta \u001b[36m0:00:00\u001b[0m\n",
            "\u001b[?25hDownloading aiofiles-24.1.0-py3-none-any.whl (15 kB)\n",
            "Downloading fastapi-0.115.12-py3-none-any.whl (95 kB)\n",
            "\u001b[2K   \u001b[90m━━━━━━━━━━━━━━━━━━━━━━━━━━━━━━━━━━━━━━━━\u001b[0m \u001b[32m95.2/95.2 kB\u001b[0m \u001b[31m7.2 MB/s\u001b[0m eta \u001b[36m0:00:00\u001b[0m\n",
            "\u001b[?25hDownloading groovy-0.1.2-py3-none-any.whl (14 kB)\n",
            "Downloading python_multipart-0.0.20-py3-none-any.whl (24 kB)\n",
            "Downloading ruff-0.11.5-py3-none-manylinux_2_17_x86_64.manylinux2014_x86_64.whl (11.4 MB)\n",
            "\u001b[2K   \u001b[90m━━━━━━━━━━━━━━━━━━━━━━━━━━━━━━━━━━━━━━━━\u001b[0m \u001b[32m11.4/11.4 MB\u001b[0m \u001b[31m96.0 MB/s\u001b[0m eta \u001b[36m0:00:00\u001b[0m\n",
            "\u001b[?25hDownloading safehttpx-0.1.6-py3-none-any.whl (8.7 kB)\n",
            "Downloading semantic_version-2.10.0-py2.py3-none-any.whl (15 kB)\n",
            "Downloading starlette-0.46.2-py3-none-any.whl (72 kB)\n",
            "\u001b[2K   \u001b[90m━━━━━━━━━━━━━━━━━━━━━━━━━━━━━━━━━━━━━━━━\u001b[0m \u001b[32m72.0/72.0 kB\u001b[0m \u001b[31m5.4 MB/s\u001b[0m eta \u001b[36m0:00:00\u001b[0m\n",
            "\u001b[?25hDownloading tomlkit-0.13.2-py3-none-any.whl (37 kB)\n",
            "Downloading uvicorn-0.34.1-py3-none-any.whl (62 kB)\n",
            "\u001b[2K   \u001b[90m━━━━━━━━━━━━━━━━━━━━━━━━━━━━━━━━━━━━━━━━\u001b[0m \u001b[32m62.4/62.4 kB\u001b[0m \u001b[31m4.2 MB/s\u001b[0m eta \u001b[36m0:00:00\u001b[0m\n",
            "\u001b[?25hDownloading ffmpy-0.5.0-py3-none-any.whl (6.0 kB)\n",
            "Downloading pydub-0.25.1-py2.py3-none-any.whl (32 kB)\n",
            "Installing collected packages: pydub, uvicorn, tomlkit, semantic-version, ruff, python-multipart, groovy, ffmpy, aiofiles, starlette, safehttpx, gradio-client, fastapi, gradio\n",
            "Successfully installed aiofiles-24.1.0 fastapi-0.115.12 ffmpy-0.5.0 gradio-5.25.1 gradio-client-1.8.0 groovy-0.1.2 pydub-0.25.1 python-multipart-0.0.20 ruff-0.11.5 safehttpx-0.1.6 semantic-version-2.10.0 starlette-0.46.2 tomlkit-0.13.2 uvicorn-0.34.1\n"
          ]
        }
      ]
    },
    {
      "cell_type": "markdown",
      "source": [
        "**Creamos el vector de tiempos, para todos el mismo, cada posicion es un día.**"
      ],
      "metadata": {
        "id": "A1uTs9tfTSmS"
      }
    },
    {
      "cell_type": "code",
      "source": [
        "vector_fechas_test = pd.date_range(start='2025-01-01', end='2025-04-11')"
      ],
      "metadata": {
        "id": "E-b8duNUxkgF"
      },
      "execution_count": 9,
      "outputs": []
    },
    {
      "cell_type": "code",
      "source": [
        "vector_fechas = pd.date_range(start='2024-10-01', end='2024-12-31')"
      ],
      "metadata": {
        "id": "tYdtAQhxTRuw"
      },
      "execution_count": 10,
      "outputs": []
    },
    {
      "cell_type": "markdown",
      "source": [
        "#Preparar la serie HISTORICA de IBEX35 desde 1/1/2015 A 11/04/2025"
      ],
      "metadata": {
        "id": "NTwn98qowCaY"
      }
    },
    {
      "cell_type": "code",
      "source": [
        "# Abrir la serie de IBEX35\n",
        "df_ibex = pd.read_csv('datos/datos_historicos_IBEX35.csv', parse_dates=['Fecha'], index_col='Fecha')\n",
        "# Convert 'Último' column to float\n",
        "df_ibex['Último'] = df_ibex['Último'].apply(lambda x: float(x.replace('.', '').replace(',', '.')))\n"
      ],
      "metadata": {
        "id": "9vwjZ6TVidBI"
      },
      "execution_count": 11,
      "outputs": []
    },
    {
      "cell_type": "code",
      "source": [
        "# Crear un dataframe con índice vector_fechas y valores en cero\n",
        "df_ibex_reindexado = pd.DataFrame(index=vector_fechas, data=0, columns=df_ibex.columns)\n",
        "df_ibex_reindexado = df_ibex_reindexado.astype(object)\n",
        "\n",
        "# Copiar los valores de df_ibex a df_ibex_reindexado cuando los índices coinciden\n",
        "for fecha in df_ibex.index:\n",
        "  if fecha in df_ibex_reindexado.index:\n",
        "    df_ibex_reindexado.loc[fecha] = df_ibex.loc[fecha]\n",
        "\n",
        "\n",
        "\n",
        "# Method 1: Min-Max Scaling (Normalization to [0, 1])\n",
        "df_ibex_reindexado['Normalizado'] = (df_ibex_reindexado['Último'] - df_ibex_reindexado['Último'].min()) / (df_ibex_reindexado['Último'].max() - df_ibex_reindexado['Último'].min())"
      ],
      "metadata": {
        "id": "GSE2Q7UFWeXg"
      },
      "execution_count": 12,
      "outputs": []
    },
    {
      "cell_type": "markdown",
      "source": [
        "#Preparar la serie HISTORICA de Petroleo_WTI desde 1/1/2015 A 11/04/2025"
      ],
      "metadata": {
        "id": "o2hP3mEKvroC"
      }
    },
    {
      "cell_type": "code",
      "source": [
        "#datos históricos de petroleo_WTI y la normalizo\n",
        "df_petroleo = pd.read_csv('datos/datos_historico_petroleo_wti.csv', parse_dates=['Fecha'], index_col='Fecha')\n",
        "\n",
        "\n"
      ],
      "metadata": {
        "id": "Na6dDxiPitqy"
      },
      "execution_count": 14,
      "outputs": []
    },
    {
      "cell_type": "code",
      "source": [
        "# Convert 'Último' column to float\n",
        "df_petroleo['Último'] = df_petroleo['Último'].apply(lambda x: float(x.replace('.', '').replace(',', '.')))"
      ],
      "metadata": {
        "id": "t_ZbuyhZVAD5"
      },
      "execution_count": 15,
      "outputs": []
    },
    {
      "cell_type": "code",
      "source": [
        "df_petroleo_reindexado = pd.DataFrame(index=vector_fechas, data=0, columns=df_petroleo.columns)\n",
        "df_petroleo_reindexado = df_petroleo_reindexado.astype(object)\n",
        "\n",
        "# Copiar los valores de df_petroleo a df_petroleo_reindexado cuando los índices coinciden\n",
        "for fecha in df_petroleo.index:\n",
        "  if fecha in df_petroleo_reindexado.index:\n",
        "    df_petroleo_reindexado.loc[fecha] = df_petroleo.loc[fecha]\n",
        "\n",
        "\n",
        "# Min-Max Scaling\n",
        "df_petroleo_reindexado['Normalizado'] = (df_petroleo_reindexado['Último'] - df_petroleo_reindexado['Último'].min()) / (df_petroleo_reindexado['Último'].max() - df_petroleo_reindexado['Último'].min())\n"
      ],
      "metadata": {
        "id": "DQuE8vXmYeFW"
      },
      "execution_count": 16,
      "outputs": []
    },
    {
      "cell_type": "markdown",
      "source": [
        "**PREPARAR LA SERIE HISTÓRICA DE VOLATILIDAD DEL VIX MISMA ESCALA TEMPORAL QUE LAS ANTERIORES**"
      ],
      "metadata": {
        "id": "BXx1umOQd7Bl"
      }
    },
    {
      "cell_type": "code",
      "source": [
        "# Abrir la serie de IBEX35\n",
        "df_vix = pd.read_csv('datos/datos_historicos_VIX.csv', parse_dates=['Fecha'], index_col='Fecha')\n",
        "\n",
        "# Convert 'Último' column to float\n",
        "df_vix['Último'] = df_vix['Último'].apply(lambda x: float(x.replace('.', '').replace(',', '.')))\n",
        "\n",
        "df_vix_reindexado = pd.DataFrame(index=vector_fechas, data=0, columns=df_vix.columns)\n",
        "df_vix_reindexado = df_vix_reindexado.astype(object)\n",
        "\n",
        "# Copiar los valores de df_petroleo a df_petroleo_reindexado cuando los índices coinciden\n",
        "for fecha in df_vix.index:\n",
        "  if fecha in df_petroleo_reindexado.index:\n",
        "    df_vix_reindexado.loc[fecha] = df_vix.loc[fecha]\n",
        "\n",
        "\n",
        "# Min-Max Scaling\n",
        "df_vix_reindexado['Normalizado'] = (df_vix_reindexado['Último'] - df_vix_reindexado['Último'].min()) / (df_vix_reindexado['Último'].max() - df_vix_reindexado['Último'].min())\n"
      ],
      "metadata": {
        "id": "RZQsgRnMd6Jd"
      },
      "execution_count": 17,
      "outputs": []
    },
    {
      "cell_type": "markdown",
      "source": [
        "**Metro la cotización EUR/DOL**"
      ],
      "metadata": {
        "id": "XKDKLY2YjjYR"
      }
    },
    {
      "cell_type": "code",
      "source": [
        "# Abrir la serie de IBEX35\n",
        "df_eur_usd = pd.read_csv('datos/datos_historicos_EUR_USD.csv', parse_dates=['Fecha'], index_col='Fecha')\n",
        "\n",
        "# Convert 'Último' column to float\n",
        "df_eur_usd['Último'] = df_eur_usd['Último'].apply(lambda x: float(x.replace('.', '').replace(',', '.')))\n",
        "\n",
        "df_eur_usd_reindexado = pd.DataFrame(index=vector_fechas, data=0, columns=df_eur_usd.columns)\n",
        "df_eur_usd_reindexado = df_eur_usd_reindexado.astype(object)\n",
        "\n",
        "# Copiar los valores de df_petroleo a df_petroleo_reindexado cuando los índices coinciden\n",
        "for fecha in df_eur_usd.index:\n",
        "  if fecha in df_eur_usd_reindexado.index:\n",
        "    df_eur_usd_reindexado.loc[fecha] = df_eur_usd.loc[fecha]\n",
        "\n",
        "\n",
        "# Min-Max Scaling\n",
        "df_eur_usd_reindexado['Normalizado'] = (df_eur_usd_reindexado['Último'] - df_eur_usd_reindexado['Último'].min()) / (df_eur_usd_reindexado['Último'].max() - df_eur_usd_reindexado['Último'].min())\n"
      ],
      "metadata": {
        "id": "9xOi_YKAjjvs"
      },
      "execution_count": 18,
      "outputs": []
    },
    {
      "cell_type": "markdown",
      "source": [
        "#REPRESENTAR LAS SERIES TEMPORALES NORMALIZADAS SOBRE EL MISMO EJE\n",
        "\n",
        "El grafico es interactivo y permite hacer zoom.\n",
        "\n",
        "El OJO humano y el cerebro ya ha visto que hay relación entre ambas series."
      ],
      "metadata": {
        "id": "1oqrJl18tL7J"
      }
    },
    {
      "cell_type": "markdown",
      "source": [],
      "metadata": {
        "id": "eDdJV7_G4IoB"
      }
    },
    {
      "cell_type": "code",
      "source": [
        "# 1. Select 'Último' column from both DataFrames\n",
        "df_ibex_reindexado['Derivada'] = df_ibex_reindexado['Normalizado'].diff()\n",
        "\n",
        "ibex_ultimo = df_ibex_reindexado['Normalizado']\n",
        "df_petroleo_reindexado['Derivada'] = df_petroleo_reindexado['Normalizado'].diff()\n",
        "\n",
        "petroleo_ultimo = df_petroleo_reindexado['Normalizado']\n",
        "df_vix_reindexado['Derivada'] = df_vix_reindexado['Normalizado'].diff()\n",
        "\n",
        "vix_ultimo = df_vix_reindexado['Normalizado']\n",
        "\n",
        "df_eur_usd_reindexado['Derivada'] = df_eur_usd_reindexado['Normalizado'].diff()\n",
        "eur_usd_ultimo = df_eur_usd_reindexado['Normalizado']\n",
        "\n",
        "\n",
        "\n",
        "\n",
        "# Crear DataFrame para Plotly\n",
        "df_to_plot = pd.DataFrame({'IBEX35': ibex_ultimo, 'Petroleo_WTI': petroleo_ultimo, 'VIX' : vix_ultimo, 'EUR_USD' : eur_usd_ultimo},index=vector_fechas)\n",
        "\n",
        "\n",
        "# Crear gráfico interactivo\n",
        "fig = go.Figure()\n",
        "\n",
        "fig.add_trace(go.Scatter(x=df_to_plot.index, y=df_to_plot['IBEX35'],\n",
        "                         mode='lines', name='IBEX35'))\n",
        "\n",
        "fig.add_trace(go.Scatter(x=df_to_plot.index, y=df_to_plot['Petroleo_WTI'],\n",
        "                         mode='lines', name='Petroleo_WTI'))\n",
        "\n",
        "fig.add_trace(go.Scatter(x=df_to_plot.index, y=df_to_plot['VIX'],\n",
        "                         mode='lines', name='VIX'))\n",
        "\n",
        "fig.add_trace(go.Scatter(x=df_to_plot.index, y=df_to_plot['EUR_USD'],\n",
        "                         mode='lines', name='EUR_USD'))\n",
        "\n",
        "\n",
        "\n",
        "umbral=0.4\n",
        "\n",
        "df_subida = df_to_plot[(df_ibex_reindexado['Derivada'] > umbral) &\n",
        "                       (df_petroleo_reindexado['Derivada'] > umbral) &\n",
        "                       (df_vix_reindexado['Derivada'] > umbral) &\n",
        "                       (df_eur_usd_reindexado['Derivada'] > umbral)]\n",
        "\n",
        "\n",
        "# Add scatter trace for df_subida\n",
        "fig.add_trace(go.Scatter(\n",
        "    x=df_subida.index,\n",
        "    y=df_subida['IBEX35'],  # You can choose the column to represent on y-axis\n",
        "    mode='markers',\n",
        "    marker=dict(color='yellow', size=8),  # Customize marker appearance\n",
        "    name='Subida Points'\n",
        "))\n",
        "\n",
        "# Actualizar diseño del gráfico\n",
        "fig.update_layout(title='IBEX35 vs Petroleo_WTI vs VIX vs EUR_USD',\n",
        "                  xaxis_title='Fecha',\n",
        "                  yaxis_title='Valor',\n",
        "                  hovermode='x unified',\n",
        "                  template='plotly_white')\n",
        "\n",
        "fig.show()\n"
      ],
      "metadata": {
        "colab": {
          "base_uri": "https://localhost:8080/",
          "height": 542
        },
        "id": "U4tnSVZytHQi",
        "outputId": "d9d7a921-b6c0-4586-cfdb-35e8211492d6"
      },
      "execution_count": 19,
      "outputs": [
        {
          "output_type": "display_data",
          "data": {
            "text/html": [
              "<html>\n",
              "<head><meta charset=\"utf-8\" /></head>\n",
              "<body>\n",
              "    <div>            <script src=\"https://cdnjs.cloudflare.com/ajax/libs/mathjax/2.7.5/MathJax.js?config=TeX-AMS-MML_SVG\"></script><script type=\"text/javascript\">if (window.MathJax && window.MathJax.Hub && window.MathJax.Hub.Config) {window.MathJax.Hub.Config({SVG: {font: \"STIX-Web\"}});}</script>                <script type=\"text/javascript\">window.PlotlyConfig = {MathJaxConfig: 'local'};</script>\n",
              "        <script charset=\"utf-8\" src=\"https://cdn.plot.ly/plotly-2.35.2.min.js\"></script>                <div id=\"833b0556-890a-4c1c-8b4d-34e9b9393f77\" class=\"plotly-graph-div\" style=\"height:525px; width:100%;\"></div>            <script type=\"text/javascript\">                                    window.PLOTLYENV=window.PLOTLYENV || {};                                    if (document.getElementById(\"833b0556-890a-4c1c-8b4d-34e9b9393f77\")) {                    Plotly.newPlot(                        \"833b0556-890a-4c1c-8b4d-34e9b9393f77\",                        [{\"mode\":\"lines\",\"name\":\"IBEX35\",\"x\":[\"2024-10-01T00:00:00\",\"2024-10-02T00:00:00\",\"2024-10-03T00:00:00\",\"2024-10-04T00:00:00\",\"2024-10-05T00:00:00\",\"2024-10-06T00:00:00\",\"2024-10-07T00:00:00\",\"2024-10-08T00:00:00\",\"2024-10-09T00:00:00\",\"2024-10-10T00:00:00\",\"2024-10-11T00:00:00\",\"2024-10-12T00:00:00\",\"2024-10-13T00:00:00\",\"2024-10-14T00:00:00\",\"2024-10-15T00:00:00\",\"2024-10-16T00:00:00\",\"2024-10-17T00:00:00\",\"2024-10-18T00:00:00\",\"2024-10-19T00:00:00\",\"2024-10-20T00:00:00\",\"2024-10-21T00:00:00\",\"2024-10-22T00:00:00\",\"2024-10-23T00:00:00\",\"2024-10-24T00:00:00\",\"2024-10-25T00:00:00\",\"2024-10-26T00:00:00\",\"2024-10-27T00:00:00\",\"2024-10-28T00:00:00\",\"2024-10-29T00:00:00\",\"2024-10-30T00:00:00\",\"2024-10-31T00:00:00\",\"2024-11-01T00:00:00\",\"2024-11-02T00:00:00\",\"2024-11-03T00:00:00\",\"2024-11-04T00:00:00\",\"2024-11-05T00:00:00\",\"2024-11-06T00:00:00\",\"2024-11-07T00:00:00\",\"2024-11-08T00:00:00\",\"2024-11-09T00:00:00\",\"2024-11-10T00:00:00\",\"2024-11-11T00:00:00\",\"2024-11-12T00:00:00\",\"2024-11-13T00:00:00\",\"2024-11-14T00:00:00\",\"2024-11-15T00:00:00\",\"2024-11-16T00:00:00\",\"2024-11-17T00:00:00\",\"2024-11-18T00:00:00\",\"2024-11-19T00:00:00\",\"2024-11-20T00:00:00\",\"2024-11-21T00:00:00\",\"2024-11-22T00:00:00\",\"2024-11-23T00:00:00\",\"2024-11-24T00:00:00\",\"2024-11-25T00:00:00\",\"2024-11-26T00:00:00\",\"2024-11-27T00:00:00\",\"2024-11-28T00:00:00\",\"2024-11-29T00:00:00\",\"2024-11-30T00:00:00\",\"2024-12-01T00:00:00\",\"2024-12-02T00:00:00\",\"2024-12-03T00:00:00\",\"2024-12-04T00:00:00\",\"2024-12-05T00:00:00\",\"2024-12-06T00:00:00\",\"2024-12-07T00:00:00\",\"2024-12-08T00:00:00\",\"2024-12-09T00:00:00\",\"2024-12-10T00:00:00\",\"2024-12-11T00:00:00\",\"2024-12-12T00:00:00\",\"2024-12-13T00:00:00\",\"2024-12-14T00:00:00\",\"2024-12-15T00:00:00\",\"2024-12-16T00:00:00\",\"2024-12-17T00:00:00\",\"2024-12-18T00:00:00\",\"2024-12-19T00:00:00\",\"2024-12-20T00:00:00\",\"2024-12-21T00:00:00\",\"2024-12-22T00:00:00\",\"2024-12-23T00:00:00\",\"2024-12-24T00:00:00\",\"2024-12-25T00:00:00\",\"2024-12-26T00:00:00\",\"2024-12-27T00:00:00\",\"2024-12-28T00:00:00\",\"2024-12-29T00:00:00\",\"2024-12-30T00:00:00\",\"2024-12-31T00:00:00\"],\"y\":[0.839155767836155,0.0,0.0,0.8981636616736268,0.9257129043820383,0.9466936740937091,0.922887127293339,0.0,0.9338818174998124,0.9716588728567023,0.0,0.9973992848033209,0.0,0.9878466578309034,0.9944568089557961,1.0,0.992314553168788,0.9940400276742771,0.0,0.0,0.9870297665191261,0.986329573966174,0.989038652296048,0.986921403385931,0.9846457775888369,0.0,0.0,0.9922728750406361,0.9832120499804111,0.9765185425992148,0.972984237331933,0.8339710086940575,0.0,0.860711695716322,0.8877274583843889,0.0,0.9315478423233056,0.9310893829136345,0.0,0.9401668792251201,0.9769353238807338,0.9667075112322554,0.9827119124425883,0.948352463594155,0.9606225045220768,0.9699250627255828,0.0,0.0,0.9731676210958012,0.9659656405511515,0.9660573324330857,0.9679078413230305,0.9716505372310719,0.0,0.0,0.9762518025790424,0.9684246501121141,0.9652237698700475,0.967832820692357,0.9703751865096234,0.0,0.8414647361357706,0.8322872123167204,0.8659798111147231,0.8907449548625872,0.0,0.9373744446389423,0.9378078971717222,0.8874273758616953,0.9502779931147732,0.0,0.9488109230038261,0.9806696841631447,0.9796110597080864,0.0,0.0,0.9818200005001375,0.9659406336742604,0.9684246501121141,0.9535872364900346,0.9558711979127592,0.0,0.0,0.9532371402135588,0.9564213492043644,0.9564213492043644,0.0,0.9612310051930948,0.0,0.0,0.9616644577258745,0.9665157918427567],\"type\":\"scatter\"},{\"mode\":\"lines\",\"name\":\"Petroleo_WTI\",\"x\":[\"2024-10-01T00:00:00\",\"2024-10-02T00:00:00\",\"2024-10-03T00:00:00\",\"2024-10-04T00:00:00\",\"2024-10-05T00:00:00\",\"2024-10-06T00:00:00\",\"2024-10-07T00:00:00\",\"2024-10-08T00:00:00\",\"2024-10-09T00:00:00\",\"2024-10-10T00:00:00\",\"2024-10-11T00:00:00\",\"2024-10-12T00:00:00\",\"2024-10-13T00:00:00\",\"2024-10-14T00:00:00\",\"2024-10-15T00:00:00\",\"2024-10-16T00:00:00\",\"2024-10-17T00:00:00\",\"2024-10-18T00:00:00\",\"2024-10-19T00:00:00\",\"2024-10-20T00:00:00\",\"2024-10-21T00:00:00\",\"2024-10-22T00:00:00\",\"2024-10-23T00:00:00\",\"2024-10-24T00:00:00\",\"2024-10-25T00:00:00\",\"2024-10-26T00:00:00\",\"2024-10-27T00:00:00\",\"2024-10-28T00:00:00\",\"2024-10-29T00:00:00\",\"2024-10-30T00:00:00\",\"2024-10-31T00:00:00\",\"2024-11-01T00:00:00\",\"2024-11-02T00:00:00\",\"2024-11-03T00:00:00\",\"2024-11-04T00:00:00\",\"2024-11-05T00:00:00\",\"2024-11-06T00:00:00\",\"2024-11-07T00:00:00\",\"2024-11-08T00:00:00\",\"2024-11-09T00:00:00\",\"2024-11-10T00:00:00\",\"2024-11-11T00:00:00\",\"2024-11-12T00:00:00\",\"2024-11-13T00:00:00\",\"2024-11-14T00:00:00\",\"2024-11-15T00:00:00\",\"2024-11-16T00:00:00\",\"2024-11-17T00:00:00\",\"2024-11-18T00:00:00\",\"2024-11-19T00:00:00\",\"2024-11-20T00:00:00\",\"2024-11-21T00:00:00\",\"2024-11-22T00:00:00\",\"2024-11-23T00:00:00\",\"2024-11-24T00:00:00\",\"2024-11-25T00:00:00\",\"2024-11-26T00:00:00\",\"2024-11-27T00:00:00\",\"2024-11-28T00:00:00\",\"2024-11-29T00:00:00\",\"2024-11-30T00:00:00\",\"2024-12-01T00:00:00\",\"2024-12-02T00:00:00\",\"2024-12-03T00:00:00\",\"2024-12-04T00:00:00\",\"2024-12-05T00:00:00\",\"2024-12-06T00:00:00\",\"2024-12-07T00:00:00\",\"2024-12-08T00:00:00\",\"2024-12-09T00:00:00\",\"2024-12-10T00:00:00\",\"2024-12-11T00:00:00\",\"2024-12-12T00:00:00\",\"2024-12-13T00:00:00\",\"2024-12-14T00:00:00\",\"2024-12-15T00:00:00\",\"2024-12-16T00:00:00\",\"2024-12-17T00:00:00\",\"2024-12-18T00:00:00\",\"2024-12-19T00:00:00\",\"2024-12-20T00:00:00\",\"2024-12-21T00:00:00\",\"2024-12-22T00:00:00\",\"2024-12-23T00:00:00\",\"2024-12-24T00:00:00\",\"2024-12-25T00:00:00\",\"2024-12-26T00:00:00\",\"2024-12-27T00:00:00\",\"2024-12-28T00:00:00\",\"2024-12-29T00:00:00\",\"2024-12-30T00:00:00\",\"2024-12-31T00:00:00\"],\"y\":[0.8361423220973783,0.0,0.0,1.0,0.9110486891385768,0.9050795880149812,0.9488529962546816,0.0,0.7624063670411986,0.8790964419475655,0.0,0.7990402621722846,0.0,0.8572097378277154,0.8194054307116105,0.8171816479400749,0.8203417602996256,0.8039559925093633,0.0,0.0,0.8197565543071162,0.8396535580524345,0.8236189138576779,0.8174157303370787,0.8350889513108614,0.0,0.0,0.7839419475655431,0.7819522471910113,0.7979868913857678,0.8053604868913858,0.8437500000000001,0.0,0.9074204119850188,0.9884129213483147,0.0,0.9076544943820225,0.9524812734082396,0.0,0.7794943820224719,0.8760533707865168,0.7949438202247191,0.8177668539325843,0.7989232209737829,0.8020833333333334,0.7832397003745318,0.0,0.0,0.8095739700374532,0.8103932584269663,0.8046582397003745,0.8165964419475655,0.8283005617977528,0.0,0.0,0.8026685393258427,0.8010299625468165,0.7999765917602996,0.0,0.7926029962546817,0.0,0.8519428838951312,0.8991104868913857,0.9041432584269663,0.9957865168539326,0.0,0.9146769662921349,0.9482677902621722,0.9183052434456929,0.7976357677902622,0.0,0.7955290262172284,0.8153089887640449,0.8288857677902621,0.0,0.0,0.822682584269663,0.8151919475655431,0.8195224719101123,0.8120318352059924,0.807818352059925,0.0,0.0,0.8053604868913858,0.8150749063670413,0.0,0.8102762172284644,0.8213951310861424,0.0,0.0,0.8254915730337079,0.8339185393258427],\"type\":\"scatter\"},{\"mode\":\"lines\",\"name\":\"VIX\",\"x\":[\"2024-10-01T00:00:00\",\"2024-10-02T00:00:00\",\"2024-10-03T00:00:00\",\"2024-10-04T00:00:00\",\"2024-10-05T00:00:00\",\"2024-10-06T00:00:00\",\"2024-10-07T00:00:00\",\"2024-10-08T00:00:00\",\"2024-10-09T00:00:00\",\"2024-10-10T00:00:00\",\"2024-10-11T00:00:00\",\"2024-10-12T00:00:00\",\"2024-10-13T00:00:00\",\"2024-10-14T00:00:00\",\"2024-10-15T00:00:00\",\"2024-10-16T00:00:00\",\"2024-10-17T00:00:00\",\"2024-10-18T00:00:00\",\"2024-10-19T00:00:00\",\"2024-10-20T00:00:00\",\"2024-10-21T00:00:00\",\"2024-10-22T00:00:00\",\"2024-10-23T00:00:00\",\"2024-10-24T00:00:00\",\"2024-10-25T00:00:00\",\"2024-10-26T00:00:00\",\"2024-10-27T00:00:00\",\"2024-10-28T00:00:00\",\"2024-10-29T00:00:00\",\"2024-10-30T00:00:00\",\"2024-10-31T00:00:00\",\"2024-11-01T00:00:00\",\"2024-11-02T00:00:00\",\"2024-11-03T00:00:00\",\"2024-11-04T00:00:00\",\"2024-11-05T00:00:00\",\"2024-11-06T00:00:00\",\"2024-11-07T00:00:00\",\"2024-11-08T00:00:00\",\"2024-11-09T00:00:00\",\"2024-11-10T00:00:00\",\"2024-11-11T00:00:00\",\"2024-11-12T00:00:00\",\"2024-11-13T00:00:00\",\"2024-11-14T00:00:00\",\"2024-11-15T00:00:00\",\"2024-11-16T00:00:00\",\"2024-11-17T00:00:00\",\"2024-11-18T00:00:00\",\"2024-11-19T00:00:00\",\"2024-11-20T00:00:00\",\"2024-11-21T00:00:00\",\"2024-11-22T00:00:00\",\"2024-11-23T00:00:00\",\"2024-11-24T00:00:00\",\"2024-11-25T00:00:00\",\"2024-11-26T00:00:00\",\"2024-11-27T00:00:00\",\"2024-11-28T00:00:00\",\"2024-11-29T00:00:00\",\"2024-11-30T00:00:00\",\"2024-12-01T00:00:00\",\"2024-12-02T00:00:00\",\"2024-12-03T00:00:00\",\"2024-12-04T00:00:00\",\"2024-12-05T00:00:00\",\"2024-12-06T00:00:00\",\"2024-12-07T00:00:00\",\"2024-12-08T00:00:00\",\"2024-12-09T00:00:00\",\"2024-12-10T00:00:00\",\"2024-12-11T00:00:00\",\"2024-12-12T00:00:00\",\"2024-12-13T00:00:00\",\"2024-12-14T00:00:00\",\"2024-12-15T00:00:00\",\"2024-12-16T00:00:00\",\"2024-12-17T00:00:00\",\"2024-12-18T00:00:00\",\"2024-12-19T00:00:00\",\"2024-12-20T00:00:00\",\"2024-12-21T00:00:00\",\"2024-12-22T00:00:00\",\"2024-12-23T00:00:00\",\"2024-12-24T00:00:00\",\"2024-12-25T00:00:00\",\"2024-12-26T00:00:00\",\"2024-12-27T00:00:00\",\"2024-12-28T00:00:00\",\"2024-12-29T00:00:00\",\"2024-12-30T00:00:00\",\"2024-12-31T00:00:00\"],\"y\":[0.4594496741491672,0.0,0.0,0.5720492396813903,0.4543808834178132,0.4612599565532223,0.46524257784214335,0.0,0.6908037653874003,0.7577842143374366,0.0,0.5133960897900072,0.0,0.7132512671976828,0.7472845763939174,0.7089065894279507,0.6918899348298334,0.6527878349022448,0.0,0.0,0.665097755249819,0.6589427950760318,0.6965966690803764,0.6908037653874003,0.7360608254887762,0.0,0.0,0.7168718320057929,0.7002172338884866,0.7367849384503983,0.8385228095582911,0.45039826212889206,0.0,0.5510499637943519,0.5398262128892107,0.0,0.46524257784214335,0.4677769732078204,0.0,0.6404779145546705,0.7407675597393193,0.5419985517740767,0.49167270094134685,0.5076031860970311,0.5181028240405503,0.5843591600289645,0.0,0.0,0.5640839971035482,0.5919623461259956,0.6212889210716872,0.610789283128168,0.5517740767559739,0.0,0.0,0.5286024619840695,0.5104996379435192,0.5104996379435192,0.503258508327299,0.4891383055756698,0.0,0.4598117306299782,0.504344677769732,0.501086169442433,0.6267197682838522,0.0,0.4359160028964518,0.4511223750905141,0.7498189717595946,0.6180304127443881,0.0,0.5325850832729906,0.503982621288921,0.5,0.0,0.0,0.5318609703113686,0.5745836350470673,1.0,0.8721940622737147,0.664735698769008,0.0,0.0,0.6075307748008689,0.5166545981173063,0.0,0.5333091962346126,0.5774800868935553,0.0,0.0,0.6299782766111512,0.6281679942070963],\"type\":\"scatter\"},{\"mode\":\"lines\",\"name\":\"EUR_USD\",\"x\":[\"2024-10-01T00:00:00\",\"2024-10-02T00:00:00\",\"2024-10-03T00:00:00\",\"2024-10-04T00:00:00\",\"2024-10-05T00:00:00\",\"2024-10-06T00:00:00\",\"2024-10-07T00:00:00\",\"2024-10-08T00:00:00\",\"2024-10-09T00:00:00\",\"2024-10-10T00:00:00\",\"2024-10-11T00:00:00\",\"2024-10-12T00:00:00\",\"2024-10-13T00:00:00\",\"2024-10-14T00:00:00\",\"2024-10-15T00:00:00\",\"2024-10-16T00:00:00\",\"2024-10-17T00:00:00\",\"2024-10-18T00:00:00\",\"2024-10-19T00:00:00\",\"2024-10-20T00:00:00\",\"2024-10-21T00:00:00\",\"2024-10-22T00:00:00\",\"2024-10-23T00:00:00\",\"2024-10-24T00:00:00\",\"2024-10-25T00:00:00\",\"2024-10-26T00:00:00\",\"2024-10-27T00:00:00\",\"2024-10-28T00:00:00\",\"2024-10-29T00:00:00\",\"2024-10-30T00:00:00\",\"2024-10-31T00:00:00\",\"2024-11-01T00:00:00\",\"2024-11-02T00:00:00\",\"2024-11-03T00:00:00\",\"2024-11-04T00:00:00\",\"2024-11-05T00:00:00\",\"2024-11-06T00:00:00\",\"2024-11-07T00:00:00\",\"2024-11-08T00:00:00\",\"2024-11-09T00:00:00\",\"2024-11-10T00:00:00\",\"2024-11-11T00:00:00\",\"2024-11-12T00:00:00\",\"2024-11-13T00:00:00\",\"2024-11-14T00:00:00\",\"2024-11-15T00:00:00\",\"2024-11-16T00:00:00\",\"2024-11-17T00:00:00\",\"2024-11-18T00:00:00\",\"2024-11-19T00:00:00\",\"2024-11-20T00:00:00\",\"2024-11-21T00:00:00\",\"2024-11-22T00:00:00\",\"2024-11-23T00:00:00\",\"2024-11-24T00:00:00\",\"2024-11-25T00:00:00\",\"2024-11-26T00:00:00\",\"2024-11-27T00:00:00\",\"2024-11-28T00:00:00\",\"2024-11-29T00:00:00\",\"2024-11-30T00:00:00\",\"2024-12-01T00:00:00\",\"2024-12-02T00:00:00\",\"2024-12-03T00:00:00\",\"2024-12-04T00:00:00\",\"2024-12-05T00:00:00\",\"2024-12-06T00:00:00\",\"2024-12-07T00:00:00\",\"2024-12-08T00:00:00\",\"2024-12-09T00:00:00\",\"2024-12-10T00:00:00\",\"2024-12-11T00:00:00\",\"2024-12-12T00:00:00\",\"2024-12-13T00:00:00\",\"2024-12-14T00:00:00\",\"2024-12-15T00:00:00\",\"2024-12-16T00:00:00\",\"2024-12-17T00:00:00\",\"2024-12-18T00:00:00\",\"2024-12-19T00:00:00\",\"2024-12-20T00:00:00\",\"2024-12-21T00:00:00\",\"2024-12-22T00:00:00\",\"2024-12-23T00:00:00\",\"2024-12-24T00:00:00\",\"2024-12-25T00:00:00\",\"2024-12-26T00:00:00\",\"2024-12-27T00:00:00\",\"2024-12-28T00:00:00\",\"2024-12-29T00:00:00\",\"2024-12-30T00:00:00\",\"2024-12-31T00:00:00\"],\"y\":[0.9906989344410331,0.0,0.0,0.9700198663536211,0.9724580097525736,0.971916200108362,0.9779664078020589,0.0,0.9950334115947266,0.9874480765757631,0.0,0.9505147191620011,0.0,0.9851002347841792,0.9833845042441756,0.9807657576304859,0.9780567094094275,0.9812172656673289,0.0,0.0,0.9766118836915296,0.9749864547588949,0.9735416290409971,0.9776955029799531,0.9746252483294202,0.0,0.0,0.9763409788694238,0.9768827885136356,0.9802239479862741,0.9827523929925953,0.9906086328336645,0.0,0.9866353621094456,0.9683944374209862,0.0,0.9697489615315154,0.9811269640599604,0.0,0.9943109987357776,0.9876286797905002,0.9620733249051833,0.9476250677262057,0.9538558786346397,0.9508759255914755,0.9518692432725303,0.0,0.0,0.9571067364999098,0.9567455300704354,0.9520498464872675,0.9457287339714646,0.9406718439588225,0.0,0.0,0.9476250677262057,0.9469026548672567,0.9539461802420084,0.9529528625609536,0.9549394979230632,0.0,0.9887122990789237,0.9726386129673108,0.9864547588947085,0.9609897056167601,0.0,0.9758894708325808,0.9848293299620734,0.9870868701462886,1.0,0.0,0.9592739750767565,0.945186924327253,0.9483474805851545,0.0,0.0,0.9490698934441033,0.9471735596893625,0.9348022394798627,0.9357052555535489,0.9417554632472458,0.0,0.0,0.9395882246703992,0.9388658118114503,0.9394979230630306,0.9411233519956655,0.9415748600325086,0.0,0.0,0.9397688278851364,0.9348925410872315],\"type\":\"scatter\"},{\"marker\":{\"color\":\"yellow\",\"size\":8},\"mode\":\"markers\",\"name\":\"Subida Points\",\"x\":[\"2024-10-04T00:00:00\",\"2024-10-09T00:00:00\",\"2024-10-12T00:00:00\",\"2024-10-14T00:00:00\",\"2024-10-21T00:00:00\",\"2024-10-28T00:00:00\",\"2024-11-03T00:00:00\",\"2024-11-06T00:00:00\",\"2024-11-09T00:00:00\",\"2024-11-18T00:00:00\",\"2024-11-25T00:00:00\",\"2024-12-01T00:00:00\",\"2024-12-06T00:00:00\",\"2024-12-11T00:00:00\",\"2024-12-16T00:00:00\",\"2024-12-23T00:00:00\",\"2024-12-30T00:00:00\"],\"y\":[0.8981636616736268,0.9338818174998124,0.9973992848033209,0.9878466578309034,0.9870297665191261,0.9922728750406361,0.860711695716322,0.9315478423233056,0.9401668792251201,0.9731676210958012,0.9762518025790424,0.8414647361357706,0.9373744446389423,0.9488109230038261,0.9818200005001375,0.9532371402135588,0.9616644577258745],\"type\":\"scatter\"}],                        {\"template\":{\"data\":{\"barpolar\":[{\"marker\":{\"line\":{\"color\":\"white\",\"width\":0.5},\"pattern\":{\"fillmode\":\"overlay\",\"size\":10,\"solidity\":0.2}},\"type\":\"barpolar\"}],\"bar\":[{\"error_x\":{\"color\":\"#2a3f5f\"},\"error_y\":{\"color\":\"#2a3f5f\"},\"marker\":{\"line\":{\"color\":\"white\",\"width\":0.5},\"pattern\":{\"fillmode\":\"overlay\",\"size\":10,\"solidity\":0.2}},\"type\":\"bar\"}],\"carpet\":[{\"aaxis\":{\"endlinecolor\":\"#2a3f5f\",\"gridcolor\":\"#C8D4E3\",\"linecolor\":\"#C8D4E3\",\"minorgridcolor\":\"#C8D4E3\",\"startlinecolor\":\"#2a3f5f\"},\"baxis\":{\"endlinecolor\":\"#2a3f5f\",\"gridcolor\":\"#C8D4E3\",\"linecolor\":\"#C8D4E3\",\"minorgridcolor\":\"#C8D4E3\",\"startlinecolor\":\"#2a3f5f\"},\"type\":\"carpet\"}],\"choropleth\":[{\"colorbar\":{\"outlinewidth\":0,\"ticks\":\"\"},\"type\":\"choropleth\"}],\"contourcarpet\":[{\"colorbar\":{\"outlinewidth\":0,\"ticks\":\"\"},\"type\":\"contourcarpet\"}],\"contour\":[{\"colorbar\":{\"outlinewidth\":0,\"ticks\":\"\"},\"colorscale\":[[0.0,\"#0d0887\"],[0.1111111111111111,\"#46039f\"],[0.2222222222222222,\"#7201a8\"],[0.3333333333333333,\"#9c179e\"],[0.4444444444444444,\"#bd3786\"],[0.5555555555555556,\"#d8576b\"],[0.6666666666666666,\"#ed7953\"],[0.7777777777777778,\"#fb9f3a\"],[0.8888888888888888,\"#fdca26\"],[1.0,\"#f0f921\"]],\"type\":\"contour\"}],\"heatmapgl\":[{\"colorbar\":{\"outlinewidth\":0,\"ticks\":\"\"},\"colorscale\":[[0.0,\"#0d0887\"],[0.1111111111111111,\"#46039f\"],[0.2222222222222222,\"#7201a8\"],[0.3333333333333333,\"#9c179e\"],[0.4444444444444444,\"#bd3786\"],[0.5555555555555556,\"#d8576b\"],[0.6666666666666666,\"#ed7953\"],[0.7777777777777778,\"#fb9f3a\"],[0.8888888888888888,\"#fdca26\"],[1.0,\"#f0f921\"]],\"type\":\"heatmapgl\"}],\"heatmap\":[{\"colorbar\":{\"outlinewidth\":0,\"ticks\":\"\"},\"colorscale\":[[0.0,\"#0d0887\"],[0.1111111111111111,\"#46039f\"],[0.2222222222222222,\"#7201a8\"],[0.3333333333333333,\"#9c179e\"],[0.4444444444444444,\"#bd3786\"],[0.5555555555555556,\"#d8576b\"],[0.6666666666666666,\"#ed7953\"],[0.7777777777777778,\"#fb9f3a\"],[0.8888888888888888,\"#fdca26\"],[1.0,\"#f0f921\"]],\"type\":\"heatmap\"}],\"histogram2dcontour\":[{\"colorbar\":{\"outlinewidth\":0,\"ticks\":\"\"},\"colorscale\":[[0.0,\"#0d0887\"],[0.1111111111111111,\"#46039f\"],[0.2222222222222222,\"#7201a8\"],[0.3333333333333333,\"#9c179e\"],[0.4444444444444444,\"#bd3786\"],[0.5555555555555556,\"#d8576b\"],[0.6666666666666666,\"#ed7953\"],[0.7777777777777778,\"#fb9f3a\"],[0.8888888888888888,\"#fdca26\"],[1.0,\"#f0f921\"]],\"type\":\"histogram2dcontour\"}],\"histogram2d\":[{\"colorbar\":{\"outlinewidth\":0,\"ticks\":\"\"},\"colorscale\":[[0.0,\"#0d0887\"],[0.1111111111111111,\"#46039f\"],[0.2222222222222222,\"#7201a8\"],[0.3333333333333333,\"#9c179e\"],[0.4444444444444444,\"#bd3786\"],[0.5555555555555556,\"#d8576b\"],[0.6666666666666666,\"#ed7953\"],[0.7777777777777778,\"#fb9f3a\"],[0.8888888888888888,\"#fdca26\"],[1.0,\"#f0f921\"]],\"type\":\"histogram2d\"}],\"histogram\":[{\"marker\":{\"pattern\":{\"fillmode\":\"overlay\",\"size\":10,\"solidity\":0.2}},\"type\":\"histogram\"}],\"mesh3d\":[{\"colorbar\":{\"outlinewidth\":0,\"ticks\":\"\"},\"type\":\"mesh3d\"}],\"parcoords\":[{\"line\":{\"colorbar\":{\"outlinewidth\":0,\"ticks\":\"\"}},\"type\":\"parcoords\"}],\"pie\":[{\"automargin\":true,\"type\":\"pie\"}],\"scatter3d\":[{\"line\":{\"colorbar\":{\"outlinewidth\":0,\"ticks\":\"\"}},\"marker\":{\"colorbar\":{\"outlinewidth\":0,\"ticks\":\"\"}},\"type\":\"scatter3d\"}],\"scattercarpet\":[{\"marker\":{\"colorbar\":{\"outlinewidth\":0,\"ticks\":\"\"}},\"type\":\"scattercarpet\"}],\"scattergeo\":[{\"marker\":{\"colorbar\":{\"outlinewidth\":0,\"ticks\":\"\"}},\"type\":\"scattergeo\"}],\"scattergl\":[{\"marker\":{\"colorbar\":{\"outlinewidth\":0,\"ticks\":\"\"}},\"type\":\"scattergl\"}],\"scattermapbox\":[{\"marker\":{\"colorbar\":{\"outlinewidth\":0,\"ticks\":\"\"}},\"type\":\"scattermapbox\"}],\"scatterpolargl\":[{\"marker\":{\"colorbar\":{\"outlinewidth\":0,\"ticks\":\"\"}},\"type\":\"scatterpolargl\"}],\"scatterpolar\":[{\"marker\":{\"colorbar\":{\"outlinewidth\":0,\"ticks\":\"\"}},\"type\":\"scatterpolar\"}],\"scatter\":[{\"fillpattern\":{\"fillmode\":\"overlay\",\"size\":10,\"solidity\":0.2},\"type\":\"scatter\"}],\"scatterternary\":[{\"marker\":{\"colorbar\":{\"outlinewidth\":0,\"ticks\":\"\"}},\"type\":\"scatterternary\"}],\"surface\":[{\"colorbar\":{\"outlinewidth\":0,\"ticks\":\"\"},\"colorscale\":[[0.0,\"#0d0887\"],[0.1111111111111111,\"#46039f\"],[0.2222222222222222,\"#7201a8\"],[0.3333333333333333,\"#9c179e\"],[0.4444444444444444,\"#bd3786\"],[0.5555555555555556,\"#d8576b\"],[0.6666666666666666,\"#ed7953\"],[0.7777777777777778,\"#fb9f3a\"],[0.8888888888888888,\"#fdca26\"],[1.0,\"#f0f921\"]],\"type\":\"surface\"}],\"table\":[{\"cells\":{\"fill\":{\"color\":\"#EBF0F8\"},\"line\":{\"color\":\"white\"}},\"header\":{\"fill\":{\"color\":\"#C8D4E3\"},\"line\":{\"color\":\"white\"}},\"type\":\"table\"}]},\"layout\":{\"annotationdefaults\":{\"arrowcolor\":\"#2a3f5f\",\"arrowhead\":0,\"arrowwidth\":1},\"autotypenumbers\":\"strict\",\"coloraxis\":{\"colorbar\":{\"outlinewidth\":0,\"ticks\":\"\"}},\"colorscale\":{\"diverging\":[[0,\"#8e0152\"],[0.1,\"#c51b7d\"],[0.2,\"#de77ae\"],[0.3,\"#f1b6da\"],[0.4,\"#fde0ef\"],[0.5,\"#f7f7f7\"],[0.6,\"#e6f5d0\"],[0.7,\"#b8e186\"],[0.8,\"#7fbc41\"],[0.9,\"#4d9221\"],[1,\"#276419\"]],\"sequential\":[[0.0,\"#0d0887\"],[0.1111111111111111,\"#46039f\"],[0.2222222222222222,\"#7201a8\"],[0.3333333333333333,\"#9c179e\"],[0.4444444444444444,\"#bd3786\"],[0.5555555555555556,\"#d8576b\"],[0.6666666666666666,\"#ed7953\"],[0.7777777777777778,\"#fb9f3a\"],[0.8888888888888888,\"#fdca26\"],[1.0,\"#f0f921\"]],\"sequentialminus\":[[0.0,\"#0d0887\"],[0.1111111111111111,\"#46039f\"],[0.2222222222222222,\"#7201a8\"],[0.3333333333333333,\"#9c179e\"],[0.4444444444444444,\"#bd3786\"],[0.5555555555555556,\"#d8576b\"],[0.6666666666666666,\"#ed7953\"],[0.7777777777777778,\"#fb9f3a\"],[0.8888888888888888,\"#fdca26\"],[1.0,\"#f0f921\"]]},\"colorway\":[\"#636efa\",\"#EF553B\",\"#00cc96\",\"#ab63fa\",\"#FFA15A\",\"#19d3f3\",\"#FF6692\",\"#B6E880\",\"#FF97FF\",\"#FECB52\"],\"font\":{\"color\":\"#2a3f5f\"},\"geo\":{\"bgcolor\":\"white\",\"lakecolor\":\"white\",\"landcolor\":\"white\",\"showlakes\":true,\"showland\":true,\"subunitcolor\":\"#C8D4E3\"},\"hoverlabel\":{\"align\":\"left\"},\"hovermode\":\"closest\",\"mapbox\":{\"style\":\"light\"},\"paper_bgcolor\":\"white\",\"plot_bgcolor\":\"white\",\"polar\":{\"angularaxis\":{\"gridcolor\":\"#EBF0F8\",\"linecolor\":\"#EBF0F8\",\"ticks\":\"\"},\"bgcolor\":\"white\",\"radialaxis\":{\"gridcolor\":\"#EBF0F8\",\"linecolor\":\"#EBF0F8\",\"ticks\":\"\"}},\"scene\":{\"xaxis\":{\"backgroundcolor\":\"white\",\"gridcolor\":\"#DFE8F3\",\"gridwidth\":2,\"linecolor\":\"#EBF0F8\",\"showbackground\":true,\"ticks\":\"\",\"zerolinecolor\":\"#EBF0F8\"},\"yaxis\":{\"backgroundcolor\":\"white\",\"gridcolor\":\"#DFE8F3\",\"gridwidth\":2,\"linecolor\":\"#EBF0F8\",\"showbackground\":true,\"ticks\":\"\",\"zerolinecolor\":\"#EBF0F8\"},\"zaxis\":{\"backgroundcolor\":\"white\",\"gridcolor\":\"#DFE8F3\",\"gridwidth\":2,\"linecolor\":\"#EBF0F8\",\"showbackground\":true,\"ticks\":\"\",\"zerolinecolor\":\"#EBF0F8\"}},\"shapedefaults\":{\"line\":{\"color\":\"#2a3f5f\"}},\"ternary\":{\"aaxis\":{\"gridcolor\":\"#DFE8F3\",\"linecolor\":\"#A2B1C6\",\"ticks\":\"\"},\"baxis\":{\"gridcolor\":\"#DFE8F3\",\"linecolor\":\"#A2B1C6\",\"ticks\":\"\"},\"bgcolor\":\"white\",\"caxis\":{\"gridcolor\":\"#DFE8F3\",\"linecolor\":\"#A2B1C6\",\"ticks\":\"\"}},\"title\":{\"x\":0.05},\"xaxis\":{\"automargin\":true,\"gridcolor\":\"#EBF0F8\",\"linecolor\":\"#EBF0F8\",\"ticks\":\"\",\"title\":{\"standoff\":15},\"zerolinecolor\":\"#EBF0F8\",\"zerolinewidth\":2},\"yaxis\":{\"automargin\":true,\"gridcolor\":\"#EBF0F8\",\"linecolor\":\"#EBF0F8\",\"ticks\":\"\",\"title\":{\"standoff\":15},\"zerolinecolor\":\"#EBF0F8\",\"zerolinewidth\":2}}},\"title\":{\"text\":\"IBEX35 vs Petroleo_WTI vs VIX vs EUR_USD\"},\"xaxis\":{\"title\":{\"text\":\"Fecha\"}},\"yaxis\":{\"title\":{\"text\":\"Valor\"}},\"hovermode\":\"x unified\"},                        {\"responsive\": true}                    ).then(function(){\n",
              "                            \n",
              "var gd = document.getElementById('833b0556-890a-4c1c-8b4d-34e9b9393f77');\n",
              "var x = new MutationObserver(function (mutations, observer) {{\n",
              "        var display = window.getComputedStyle(gd).display;\n",
              "        if (!display || display === 'none') {{\n",
              "            console.log([gd, 'removed!']);\n",
              "            Plotly.purge(gd);\n",
              "            observer.disconnect();\n",
              "        }}\n",
              "}});\n",
              "\n",
              "// Listen for the removal of the full notebook cells\n",
              "var notebookContainer = gd.closest('#notebook-container');\n",
              "if (notebookContainer) {{\n",
              "    x.observe(notebookContainer, {childList: true});\n",
              "}}\n",
              "\n",
              "// Listen for the clearing of the current output cell\n",
              "var outputEl = gd.closest('.output');\n",
              "if (outputEl) {{\n",
              "    x.observe(outputEl, {childList: true});\n",
              "}}\n",
              "\n",
              "                        })                };                            </script>        </div>\n",
              "</body>\n",
              "</html>"
            ]
          },
          "metadata": {}
        }
      ]
    },
    {
      "cell_type": "markdown",
      "source": [
        "Yo concluiría que el índice de petroleo_WTI puede ser un indice adelantado del IBEX 35.\n",
        "\n",
        "¿Cómo puedo calcular el tiempo de adelanto?\n",
        "¿Habrá un factor de correlación?\n",
        "¿Esto se podría hacer con un modelo?.\n",
        "Problemas con los ejes, tienen diferente longitud, hay que ajustar siempre al eje con la misma longitud."
      ],
      "metadata": {
        "id": "MjWnyQB6y3-x"
      }
    },
    {
      "cell_type": "code",
      "source": [
        "# Assuming df_to_plot is already defined and contains your data\n",
        "\n",
        "# Set the window size for the rolling correlation\n",
        "window_size = 30  # You can adjust this to your needs\n",
        "\n",
        "# Calculate the rolling correlation\n",
        "rolling_correlation = df_to_plot['IBEX35'].rolling(window=window_size).corr(df_to_plot['Petroleo_WTI'])\n",
        "\n",
        "# Create a new DataFrame for the rolling correlation\n",
        "df_correlation = pd.DataFrame({'Correlation': rolling_correlation})\n",
        "df_correlation = df_correlation.reindex(df_to_plot.index, method='pad')\n",
        "\n",
        "# You can now plot or analyze df_correlation"
      ],
      "metadata": {
        "id": "UKWgPUystIuA"
      },
      "execution_count": 20,
      "outputs": []
    },
    {
      "cell_type": "code",
      "source": [
        "# Add trace for the correlation\n",
        "fig.add_trace(go.Scatter(x=df_correlation.index, y=df_correlation['Correlation'],\n",
        "                         mode='lines', name='Correlation', yaxis='y2'))\n",
        "\n",
        "# Update layout for the second y-axis\n",
        "fig.update_layout(\n",
        "    yaxis2=dict(\n",
        "        title='Correlation',\n",
        "        overlaying='y',\n",
        "        side='right',\n",
        "        range=[-1, 1]  # Set range for correlation\n",
        "    ),\n",
        "    title='IBEX35, Petroleo_WTI, and Correlation',\n",
        "    xaxis_title='Fecha',\n",
        "    yaxis_title='Valor',\n",
        "    hovermode='x unified',\n",
        "    template='plotly_white'\n",
        ")\n",
        "\n",
        "# Show the plot"
      ],
      "metadata": {
        "colab": {
          "base_uri": "https://localhost:8080/",
          "height": 542
        },
        "id": "yw1lAIfi2ZoZ",
        "outputId": "37e50781-c51d-4b27-8f61-127b6e912cd0"
      },
      "execution_count": 21,
      "outputs": [
        {
          "output_type": "display_data",
          "data": {
            "text/html": [
              "<html>\n",
              "<head><meta charset=\"utf-8\" /></head>\n",
              "<body>\n",
              "    <div>            <script src=\"https://cdnjs.cloudflare.com/ajax/libs/mathjax/2.7.5/MathJax.js?config=TeX-AMS-MML_SVG\"></script><script type=\"text/javascript\">if (window.MathJax && window.MathJax.Hub && window.MathJax.Hub.Config) {window.MathJax.Hub.Config({SVG: {font: \"STIX-Web\"}});}</script>                <script type=\"text/javascript\">window.PlotlyConfig = {MathJaxConfig: 'local'};</script>\n",
              "        <script charset=\"utf-8\" src=\"https://cdn.plot.ly/plotly-2.35.2.min.js\"></script>                <div id=\"5aaa92ef-ea2d-4e74-bb56-916d14e2078e\" class=\"plotly-graph-div\" style=\"height:525px; width:100%;\"></div>            <script type=\"text/javascript\">                                    window.PLOTLYENV=window.PLOTLYENV || {};                                    if (document.getElementById(\"5aaa92ef-ea2d-4e74-bb56-916d14e2078e\")) {                    Plotly.newPlot(                        \"5aaa92ef-ea2d-4e74-bb56-916d14e2078e\",                        [{\"mode\":\"lines\",\"name\":\"IBEX35\",\"x\":[\"2024-10-01T00:00:00\",\"2024-10-02T00:00:00\",\"2024-10-03T00:00:00\",\"2024-10-04T00:00:00\",\"2024-10-05T00:00:00\",\"2024-10-06T00:00:00\",\"2024-10-07T00:00:00\",\"2024-10-08T00:00:00\",\"2024-10-09T00:00:00\",\"2024-10-10T00:00:00\",\"2024-10-11T00:00:00\",\"2024-10-12T00:00:00\",\"2024-10-13T00:00:00\",\"2024-10-14T00:00:00\",\"2024-10-15T00:00:00\",\"2024-10-16T00:00:00\",\"2024-10-17T00:00:00\",\"2024-10-18T00:00:00\",\"2024-10-19T00:00:00\",\"2024-10-20T00:00:00\",\"2024-10-21T00:00:00\",\"2024-10-22T00:00:00\",\"2024-10-23T00:00:00\",\"2024-10-24T00:00:00\",\"2024-10-25T00:00:00\",\"2024-10-26T00:00:00\",\"2024-10-27T00:00:00\",\"2024-10-28T00:00:00\",\"2024-10-29T00:00:00\",\"2024-10-30T00:00:00\",\"2024-10-31T00:00:00\",\"2024-11-01T00:00:00\",\"2024-11-02T00:00:00\",\"2024-11-03T00:00:00\",\"2024-11-04T00:00:00\",\"2024-11-05T00:00:00\",\"2024-11-06T00:00:00\",\"2024-11-07T00:00:00\",\"2024-11-08T00:00:00\",\"2024-11-09T00:00:00\",\"2024-11-10T00:00:00\",\"2024-11-11T00:00:00\",\"2024-11-12T00:00:00\",\"2024-11-13T00:00:00\",\"2024-11-14T00:00:00\",\"2024-11-15T00:00:00\",\"2024-11-16T00:00:00\",\"2024-11-17T00:00:00\",\"2024-11-18T00:00:00\",\"2024-11-19T00:00:00\",\"2024-11-20T00:00:00\",\"2024-11-21T00:00:00\",\"2024-11-22T00:00:00\",\"2024-11-23T00:00:00\",\"2024-11-24T00:00:00\",\"2024-11-25T00:00:00\",\"2024-11-26T00:00:00\",\"2024-11-27T00:00:00\",\"2024-11-28T00:00:00\",\"2024-11-29T00:00:00\",\"2024-11-30T00:00:00\",\"2024-12-01T00:00:00\",\"2024-12-02T00:00:00\",\"2024-12-03T00:00:00\",\"2024-12-04T00:00:00\",\"2024-12-05T00:00:00\",\"2024-12-06T00:00:00\",\"2024-12-07T00:00:00\",\"2024-12-08T00:00:00\",\"2024-12-09T00:00:00\",\"2024-12-10T00:00:00\",\"2024-12-11T00:00:00\",\"2024-12-12T00:00:00\",\"2024-12-13T00:00:00\",\"2024-12-14T00:00:00\",\"2024-12-15T00:00:00\",\"2024-12-16T00:00:00\",\"2024-12-17T00:00:00\",\"2024-12-18T00:00:00\",\"2024-12-19T00:00:00\",\"2024-12-20T00:00:00\",\"2024-12-21T00:00:00\",\"2024-12-22T00:00:00\",\"2024-12-23T00:00:00\",\"2024-12-24T00:00:00\",\"2024-12-25T00:00:00\",\"2024-12-26T00:00:00\",\"2024-12-27T00:00:00\",\"2024-12-28T00:00:00\",\"2024-12-29T00:00:00\",\"2024-12-30T00:00:00\",\"2024-12-31T00:00:00\"],\"y\":[0.839155767836155,0.0,0.0,0.8981636616736268,0.9257129043820383,0.9466936740937091,0.922887127293339,0.0,0.9338818174998124,0.9716588728567023,0.0,0.9973992848033209,0.0,0.9878466578309034,0.9944568089557961,1.0,0.992314553168788,0.9940400276742771,0.0,0.0,0.9870297665191261,0.986329573966174,0.989038652296048,0.986921403385931,0.9846457775888369,0.0,0.0,0.9922728750406361,0.9832120499804111,0.9765185425992148,0.972984237331933,0.8339710086940575,0.0,0.860711695716322,0.8877274583843889,0.0,0.9315478423233056,0.9310893829136345,0.0,0.9401668792251201,0.9769353238807338,0.9667075112322554,0.9827119124425883,0.948352463594155,0.9606225045220768,0.9699250627255828,0.0,0.0,0.9731676210958012,0.9659656405511515,0.9660573324330857,0.9679078413230305,0.9716505372310719,0.0,0.0,0.9762518025790424,0.9684246501121141,0.9652237698700475,0.967832820692357,0.9703751865096234,0.0,0.8414647361357706,0.8322872123167204,0.8659798111147231,0.8907449548625872,0.0,0.9373744446389423,0.9378078971717222,0.8874273758616953,0.9502779931147732,0.0,0.9488109230038261,0.9806696841631447,0.9796110597080864,0.0,0.0,0.9818200005001375,0.9659406336742604,0.9684246501121141,0.9535872364900346,0.9558711979127592,0.0,0.0,0.9532371402135588,0.9564213492043644,0.9564213492043644,0.0,0.9612310051930948,0.0,0.0,0.9616644577258745,0.9665157918427567],\"type\":\"scatter\"},{\"mode\":\"lines\",\"name\":\"Petroleo_WTI\",\"x\":[\"2024-10-01T00:00:00\",\"2024-10-02T00:00:00\",\"2024-10-03T00:00:00\",\"2024-10-04T00:00:00\",\"2024-10-05T00:00:00\",\"2024-10-06T00:00:00\",\"2024-10-07T00:00:00\",\"2024-10-08T00:00:00\",\"2024-10-09T00:00:00\",\"2024-10-10T00:00:00\",\"2024-10-11T00:00:00\",\"2024-10-12T00:00:00\",\"2024-10-13T00:00:00\",\"2024-10-14T00:00:00\",\"2024-10-15T00:00:00\",\"2024-10-16T00:00:00\",\"2024-10-17T00:00:00\",\"2024-10-18T00:00:00\",\"2024-10-19T00:00:00\",\"2024-10-20T00:00:00\",\"2024-10-21T00:00:00\",\"2024-10-22T00:00:00\",\"2024-10-23T00:00:00\",\"2024-10-24T00:00:00\",\"2024-10-25T00:00:00\",\"2024-10-26T00:00:00\",\"2024-10-27T00:00:00\",\"2024-10-28T00:00:00\",\"2024-10-29T00:00:00\",\"2024-10-30T00:00:00\",\"2024-10-31T00:00:00\",\"2024-11-01T00:00:00\",\"2024-11-02T00:00:00\",\"2024-11-03T00:00:00\",\"2024-11-04T00:00:00\",\"2024-11-05T00:00:00\",\"2024-11-06T00:00:00\",\"2024-11-07T00:00:00\",\"2024-11-08T00:00:00\",\"2024-11-09T00:00:00\",\"2024-11-10T00:00:00\",\"2024-11-11T00:00:00\",\"2024-11-12T00:00:00\",\"2024-11-13T00:00:00\",\"2024-11-14T00:00:00\",\"2024-11-15T00:00:00\",\"2024-11-16T00:00:00\",\"2024-11-17T00:00:00\",\"2024-11-18T00:00:00\",\"2024-11-19T00:00:00\",\"2024-11-20T00:00:00\",\"2024-11-21T00:00:00\",\"2024-11-22T00:00:00\",\"2024-11-23T00:00:00\",\"2024-11-24T00:00:00\",\"2024-11-25T00:00:00\",\"2024-11-26T00:00:00\",\"2024-11-27T00:00:00\",\"2024-11-28T00:00:00\",\"2024-11-29T00:00:00\",\"2024-11-30T00:00:00\",\"2024-12-01T00:00:00\",\"2024-12-02T00:00:00\",\"2024-12-03T00:00:00\",\"2024-12-04T00:00:00\",\"2024-12-05T00:00:00\",\"2024-12-06T00:00:00\",\"2024-12-07T00:00:00\",\"2024-12-08T00:00:00\",\"2024-12-09T00:00:00\",\"2024-12-10T00:00:00\",\"2024-12-11T00:00:00\",\"2024-12-12T00:00:00\",\"2024-12-13T00:00:00\",\"2024-12-14T00:00:00\",\"2024-12-15T00:00:00\",\"2024-12-16T00:00:00\",\"2024-12-17T00:00:00\",\"2024-12-18T00:00:00\",\"2024-12-19T00:00:00\",\"2024-12-20T00:00:00\",\"2024-12-21T00:00:00\",\"2024-12-22T00:00:00\",\"2024-12-23T00:00:00\",\"2024-12-24T00:00:00\",\"2024-12-25T00:00:00\",\"2024-12-26T00:00:00\",\"2024-12-27T00:00:00\",\"2024-12-28T00:00:00\",\"2024-12-29T00:00:00\",\"2024-12-30T00:00:00\",\"2024-12-31T00:00:00\"],\"y\":[0.8361423220973783,0.0,0.0,1.0,0.9110486891385768,0.9050795880149812,0.9488529962546816,0.0,0.7624063670411986,0.8790964419475655,0.0,0.7990402621722846,0.0,0.8572097378277154,0.8194054307116105,0.8171816479400749,0.8203417602996256,0.8039559925093633,0.0,0.0,0.8197565543071162,0.8396535580524345,0.8236189138576779,0.8174157303370787,0.8350889513108614,0.0,0.0,0.7839419475655431,0.7819522471910113,0.7979868913857678,0.8053604868913858,0.8437500000000001,0.0,0.9074204119850188,0.9884129213483147,0.0,0.9076544943820225,0.9524812734082396,0.0,0.7794943820224719,0.8760533707865168,0.7949438202247191,0.8177668539325843,0.7989232209737829,0.8020833333333334,0.7832397003745318,0.0,0.0,0.8095739700374532,0.8103932584269663,0.8046582397003745,0.8165964419475655,0.8283005617977528,0.0,0.0,0.8026685393258427,0.8010299625468165,0.7999765917602996,0.0,0.7926029962546817,0.0,0.8519428838951312,0.8991104868913857,0.9041432584269663,0.9957865168539326,0.0,0.9146769662921349,0.9482677902621722,0.9183052434456929,0.7976357677902622,0.0,0.7955290262172284,0.8153089887640449,0.8288857677902621,0.0,0.0,0.822682584269663,0.8151919475655431,0.8195224719101123,0.8120318352059924,0.807818352059925,0.0,0.0,0.8053604868913858,0.8150749063670413,0.0,0.8102762172284644,0.8213951310861424,0.0,0.0,0.8254915730337079,0.8339185393258427],\"type\":\"scatter\"},{\"mode\":\"lines\",\"name\":\"VIX\",\"x\":[\"2024-10-01T00:00:00\",\"2024-10-02T00:00:00\",\"2024-10-03T00:00:00\",\"2024-10-04T00:00:00\",\"2024-10-05T00:00:00\",\"2024-10-06T00:00:00\",\"2024-10-07T00:00:00\",\"2024-10-08T00:00:00\",\"2024-10-09T00:00:00\",\"2024-10-10T00:00:00\",\"2024-10-11T00:00:00\",\"2024-10-12T00:00:00\",\"2024-10-13T00:00:00\",\"2024-10-14T00:00:00\",\"2024-10-15T00:00:00\",\"2024-10-16T00:00:00\",\"2024-10-17T00:00:00\",\"2024-10-18T00:00:00\",\"2024-10-19T00:00:00\",\"2024-10-20T00:00:00\",\"2024-10-21T00:00:00\",\"2024-10-22T00:00:00\",\"2024-10-23T00:00:00\",\"2024-10-24T00:00:00\",\"2024-10-25T00:00:00\",\"2024-10-26T00:00:00\",\"2024-10-27T00:00:00\",\"2024-10-28T00:00:00\",\"2024-10-29T00:00:00\",\"2024-10-30T00:00:00\",\"2024-10-31T00:00:00\",\"2024-11-01T00:00:00\",\"2024-11-02T00:00:00\",\"2024-11-03T00:00:00\",\"2024-11-04T00:00:00\",\"2024-11-05T00:00:00\",\"2024-11-06T00:00:00\",\"2024-11-07T00:00:00\",\"2024-11-08T00:00:00\",\"2024-11-09T00:00:00\",\"2024-11-10T00:00:00\",\"2024-11-11T00:00:00\",\"2024-11-12T00:00:00\",\"2024-11-13T00:00:00\",\"2024-11-14T00:00:00\",\"2024-11-15T00:00:00\",\"2024-11-16T00:00:00\",\"2024-11-17T00:00:00\",\"2024-11-18T00:00:00\",\"2024-11-19T00:00:00\",\"2024-11-20T00:00:00\",\"2024-11-21T00:00:00\",\"2024-11-22T00:00:00\",\"2024-11-23T00:00:00\",\"2024-11-24T00:00:00\",\"2024-11-25T00:00:00\",\"2024-11-26T00:00:00\",\"2024-11-27T00:00:00\",\"2024-11-28T00:00:00\",\"2024-11-29T00:00:00\",\"2024-11-30T00:00:00\",\"2024-12-01T00:00:00\",\"2024-12-02T00:00:00\",\"2024-12-03T00:00:00\",\"2024-12-04T00:00:00\",\"2024-12-05T00:00:00\",\"2024-12-06T00:00:00\",\"2024-12-07T00:00:00\",\"2024-12-08T00:00:00\",\"2024-12-09T00:00:00\",\"2024-12-10T00:00:00\",\"2024-12-11T00:00:00\",\"2024-12-12T00:00:00\",\"2024-12-13T00:00:00\",\"2024-12-14T00:00:00\",\"2024-12-15T00:00:00\",\"2024-12-16T00:00:00\",\"2024-12-17T00:00:00\",\"2024-12-18T00:00:00\",\"2024-12-19T00:00:00\",\"2024-12-20T00:00:00\",\"2024-12-21T00:00:00\",\"2024-12-22T00:00:00\",\"2024-12-23T00:00:00\",\"2024-12-24T00:00:00\",\"2024-12-25T00:00:00\",\"2024-12-26T00:00:00\",\"2024-12-27T00:00:00\",\"2024-12-28T00:00:00\",\"2024-12-29T00:00:00\",\"2024-12-30T00:00:00\",\"2024-12-31T00:00:00\"],\"y\":[0.4594496741491672,0.0,0.0,0.5720492396813903,0.4543808834178132,0.4612599565532223,0.46524257784214335,0.0,0.6908037653874003,0.7577842143374366,0.0,0.5133960897900072,0.0,0.7132512671976828,0.7472845763939174,0.7089065894279507,0.6918899348298334,0.6527878349022448,0.0,0.0,0.665097755249819,0.6589427950760318,0.6965966690803764,0.6908037653874003,0.7360608254887762,0.0,0.0,0.7168718320057929,0.7002172338884866,0.7367849384503983,0.8385228095582911,0.45039826212889206,0.0,0.5510499637943519,0.5398262128892107,0.0,0.46524257784214335,0.4677769732078204,0.0,0.6404779145546705,0.7407675597393193,0.5419985517740767,0.49167270094134685,0.5076031860970311,0.5181028240405503,0.5843591600289645,0.0,0.0,0.5640839971035482,0.5919623461259956,0.6212889210716872,0.610789283128168,0.5517740767559739,0.0,0.0,0.5286024619840695,0.5104996379435192,0.5104996379435192,0.503258508327299,0.4891383055756698,0.0,0.4598117306299782,0.504344677769732,0.501086169442433,0.6267197682838522,0.0,0.4359160028964518,0.4511223750905141,0.7498189717595946,0.6180304127443881,0.0,0.5325850832729906,0.503982621288921,0.5,0.0,0.0,0.5318609703113686,0.5745836350470673,1.0,0.8721940622737147,0.664735698769008,0.0,0.0,0.6075307748008689,0.5166545981173063,0.0,0.5333091962346126,0.5774800868935553,0.0,0.0,0.6299782766111512,0.6281679942070963],\"type\":\"scatter\"},{\"mode\":\"lines\",\"name\":\"EUR_USD\",\"x\":[\"2024-10-01T00:00:00\",\"2024-10-02T00:00:00\",\"2024-10-03T00:00:00\",\"2024-10-04T00:00:00\",\"2024-10-05T00:00:00\",\"2024-10-06T00:00:00\",\"2024-10-07T00:00:00\",\"2024-10-08T00:00:00\",\"2024-10-09T00:00:00\",\"2024-10-10T00:00:00\",\"2024-10-11T00:00:00\",\"2024-10-12T00:00:00\",\"2024-10-13T00:00:00\",\"2024-10-14T00:00:00\",\"2024-10-15T00:00:00\",\"2024-10-16T00:00:00\",\"2024-10-17T00:00:00\",\"2024-10-18T00:00:00\",\"2024-10-19T00:00:00\",\"2024-10-20T00:00:00\",\"2024-10-21T00:00:00\",\"2024-10-22T00:00:00\",\"2024-10-23T00:00:00\",\"2024-10-24T00:00:00\",\"2024-10-25T00:00:00\",\"2024-10-26T00:00:00\",\"2024-10-27T00:00:00\",\"2024-10-28T00:00:00\",\"2024-10-29T00:00:00\",\"2024-10-30T00:00:00\",\"2024-10-31T00:00:00\",\"2024-11-01T00:00:00\",\"2024-11-02T00:00:00\",\"2024-11-03T00:00:00\",\"2024-11-04T00:00:00\",\"2024-11-05T00:00:00\",\"2024-11-06T00:00:00\",\"2024-11-07T00:00:00\",\"2024-11-08T00:00:00\",\"2024-11-09T00:00:00\",\"2024-11-10T00:00:00\",\"2024-11-11T00:00:00\",\"2024-11-12T00:00:00\",\"2024-11-13T00:00:00\",\"2024-11-14T00:00:00\",\"2024-11-15T00:00:00\",\"2024-11-16T00:00:00\",\"2024-11-17T00:00:00\",\"2024-11-18T00:00:00\",\"2024-11-19T00:00:00\",\"2024-11-20T00:00:00\",\"2024-11-21T00:00:00\",\"2024-11-22T00:00:00\",\"2024-11-23T00:00:00\",\"2024-11-24T00:00:00\",\"2024-11-25T00:00:00\",\"2024-11-26T00:00:00\",\"2024-11-27T00:00:00\",\"2024-11-28T00:00:00\",\"2024-11-29T00:00:00\",\"2024-11-30T00:00:00\",\"2024-12-01T00:00:00\",\"2024-12-02T00:00:00\",\"2024-12-03T00:00:00\",\"2024-12-04T00:00:00\",\"2024-12-05T00:00:00\",\"2024-12-06T00:00:00\",\"2024-12-07T00:00:00\",\"2024-12-08T00:00:00\",\"2024-12-09T00:00:00\",\"2024-12-10T00:00:00\",\"2024-12-11T00:00:00\",\"2024-12-12T00:00:00\",\"2024-12-13T00:00:00\",\"2024-12-14T00:00:00\",\"2024-12-15T00:00:00\",\"2024-12-16T00:00:00\",\"2024-12-17T00:00:00\",\"2024-12-18T00:00:00\",\"2024-12-19T00:00:00\",\"2024-12-20T00:00:00\",\"2024-12-21T00:00:00\",\"2024-12-22T00:00:00\",\"2024-12-23T00:00:00\",\"2024-12-24T00:00:00\",\"2024-12-25T00:00:00\",\"2024-12-26T00:00:00\",\"2024-12-27T00:00:00\",\"2024-12-28T00:00:00\",\"2024-12-29T00:00:00\",\"2024-12-30T00:00:00\",\"2024-12-31T00:00:00\"],\"y\":[0.9906989344410331,0.0,0.0,0.9700198663536211,0.9724580097525736,0.971916200108362,0.9779664078020589,0.0,0.9950334115947266,0.9874480765757631,0.0,0.9505147191620011,0.0,0.9851002347841792,0.9833845042441756,0.9807657576304859,0.9780567094094275,0.9812172656673289,0.0,0.0,0.9766118836915296,0.9749864547588949,0.9735416290409971,0.9776955029799531,0.9746252483294202,0.0,0.0,0.9763409788694238,0.9768827885136356,0.9802239479862741,0.9827523929925953,0.9906086328336645,0.0,0.9866353621094456,0.9683944374209862,0.0,0.9697489615315154,0.9811269640599604,0.0,0.9943109987357776,0.9876286797905002,0.9620733249051833,0.9476250677262057,0.9538558786346397,0.9508759255914755,0.9518692432725303,0.0,0.0,0.9571067364999098,0.9567455300704354,0.9520498464872675,0.9457287339714646,0.9406718439588225,0.0,0.0,0.9476250677262057,0.9469026548672567,0.9539461802420084,0.9529528625609536,0.9549394979230632,0.0,0.9887122990789237,0.9726386129673108,0.9864547588947085,0.9609897056167601,0.0,0.9758894708325808,0.9848293299620734,0.9870868701462886,1.0,0.0,0.9592739750767565,0.945186924327253,0.9483474805851545,0.0,0.0,0.9490698934441033,0.9471735596893625,0.9348022394798627,0.9357052555535489,0.9417554632472458,0.0,0.0,0.9395882246703992,0.9388658118114503,0.9394979230630306,0.9411233519956655,0.9415748600325086,0.0,0.0,0.9397688278851364,0.9348925410872315],\"type\":\"scatter\"},{\"marker\":{\"color\":\"yellow\",\"size\":8},\"mode\":\"markers\",\"name\":\"Subida Points\",\"x\":[\"2024-10-04T00:00:00\",\"2024-10-09T00:00:00\",\"2024-10-12T00:00:00\",\"2024-10-14T00:00:00\",\"2024-10-21T00:00:00\",\"2024-10-28T00:00:00\",\"2024-11-03T00:00:00\",\"2024-11-06T00:00:00\",\"2024-11-09T00:00:00\",\"2024-11-18T00:00:00\",\"2024-11-25T00:00:00\",\"2024-12-01T00:00:00\",\"2024-12-06T00:00:00\",\"2024-12-11T00:00:00\",\"2024-12-16T00:00:00\",\"2024-12-23T00:00:00\",\"2024-12-30T00:00:00\"],\"y\":[0.8981636616736268,0.9338818174998124,0.9973992848033209,0.9878466578309034,0.9870297665191261,0.9922728750406361,0.860711695716322,0.9315478423233056,0.9401668792251201,0.9731676210958012,0.9762518025790424,0.8414647361357706,0.9373744446389423,0.9488109230038261,0.9818200005001375,0.9532371402135588,0.9616644577258745],\"type\":\"scatter\"},{\"mode\":\"lines\",\"name\":\"Correlation\",\"x\":[\"2024-10-01T00:00:00\",\"2024-10-02T00:00:00\",\"2024-10-03T00:00:00\",\"2024-10-04T00:00:00\",\"2024-10-05T00:00:00\",\"2024-10-06T00:00:00\",\"2024-10-07T00:00:00\",\"2024-10-08T00:00:00\",\"2024-10-09T00:00:00\",\"2024-10-10T00:00:00\",\"2024-10-11T00:00:00\",\"2024-10-12T00:00:00\",\"2024-10-13T00:00:00\",\"2024-10-14T00:00:00\",\"2024-10-15T00:00:00\",\"2024-10-16T00:00:00\",\"2024-10-17T00:00:00\",\"2024-10-18T00:00:00\",\"2024-10-19T00:00:00\",\"2024-10-20T00:00:00\",\"2024-10-21T00:00:00\",\"2024-10-22T00:00:00\",\"2024-10-23T00:00:00\",\"2024-10-24T00:00:00\",\"2024-10-25T00:00:00\",\"2024-10-26T00:00:00\",\"2024-10-27T00:00:00\",\"2024-10-28T00:00:00\",\"2024-10-29T00:00:00\",\"2024-10-30T00:00:00\",\"2024-10-31T00:00:00\",\"2024-11-01T00:00:00\",\"2024-11-02T00:00:00\",\"2024-11-03T00:00:00\",\"2024-11-04T00:00:00\",\"2024-11-05T00:00:00\",\"2024-11-06T00:00:00\",\"2024-11-07T00:00:00\",\"2024-11-08T00:00:00\",\"2024-11-09T00:00:00\",\"2024-11-10T00:00:00\",\"2024-11-11T00:00:00\",\"2024-11-12T00:00:00\",\"2024-11-13T00:00:00\",\"2024-11-14T00:00:00\",\"2024-11-15T00:00:00\",\"2024-11-16T00:00:00\",\"2024-11-17T00:00:00\",\"2024-11-18T00:00:00\",\"2024-11-19T00:00:00\",\"2024-11-20T00:00:00\",\"2024-11-21T00:00:00\",\"2024-11-22T00:00:00\",\"2024-11-23T00:00:00\",\"2024-11-24T00:00:00\",\"2024-11-25T00:00:00\",\"2024-11-26T00:00:00\",\"2024-11-27T00:00:00\",\"2024-11-28T00:00:00\",\"2024-11-29T00:00:00\",\"2024-11-30T00:00:00\",\"2024-12-01T00:00:00\",\"2024-12-02T00:00:00\",\"2024-12-03T00:00:00\",\"2024-12-04T00:00:00\",\"2024-12-05T00:00:00\",\"2024-12-06T00:00:00\",\"2024-12-07T00:00:00\",\"2024-12-08T00:00:00\",\"2024-12-09T00:00:00\",\"2024-12-10T00:00:00\",\"2024-12-11T00:00:00\",\"2024-12-12T00:00:00\",\"2024-12-13T00:00:00\",\"2024-12-14T00:00:00\",\"2024-12-15T00:00:00\",\"2024-12-16T00:00:00\",\"2024-12-17T00:00:00\",\"2024-12-18T00:00:00\",\"2024-12-19T00:00:00\",\"2024-12-20T00:00:00\",\"2024-12-21T00:00:00\",\"2024-12-22T00:00:00\",\"2024-12-23T00:00:00\",\"2024-12-24T00:00:00\",\"2024-12-25T00:00:00\",\"2024-12-26T00:00:00\",\"2024-12-27T00:00:00\",\"2024-12-28T00:00:00\",\"2024-12-29T00:00:00\",\"2024-12-30T00:00:00\",\"2024-12-31T00:00:00\"],\"y\":[null,null,null,null,null,null,null,null,null,null,null,null,null,null,null,null,null,null,null,null,null,null,null,null,null,null,null,null,null,0.984828123386328,0.9860009087768962,0.9831704225535466,0.9831704225535466,0.9857684849680635,0.9815671584100961,0.9835000791528296,0.9848199799256363,0.981361758959184,0.9830329449818322,0.9828261755134283,0.9815584277463991,0.981856733026365,0.9799764642434413,0.9797849503769062,0.9798686211794511,0.9796921584947895,0.9816320767588013,0.983363730023896,0.9819229712200457,0.9800974648921141,0.980098381360698,0.9800111806864518,0.9801588902612861,0.9820712260037352,0.9833501671655347,0.9817932189405275,0.9798344127953394,0.9804886426893364,0.8949877297049317,0.8949328725073133,0.9027289984662427,0.902755271424756,0.8908741819031042,0.8911827147973671,0.8910217575154213,0.8910217575154213,0.89106493864177,0.8914109493670379,0.8780670282859333,0.8782858172562624,0.8889016826560957,0.8889811707265319,0.8889502944055645,0.889284291523579,0.8976461045569681,0.9043075869280714,0.8982356306443885,0.890056282991419,0.8902067203889161,0.890245007866089,0.8903179027753076,0.8984750270453083,0.9044587886660113,0.8982249716176993,0.8900552144550461,0.8172256327734274,0.739986161127564,0.7404158040383302,0.8293273790845972,0.8395703967080766,0.8300972722160714,0.8315997010278161],\"yaxis\":\"y2\",\"type\":\"scatter\"}],                        {\"template\":{\"data\":{\"barpolar\":[{\"marker\":{\"line\":{\"color\":\"white\",\"width\":0.5},\"pattern\":{\"fillmode\":\"overlay\",\"size\":10,\"solidity\":0.2}},\"type\":\"barpolar\"}],\"bar\":[{\"error_x\":{\"color\":\"#2a3f5f\"},\"error_y\":{\"color\":\"#2a3f5f\"},\"marker\":{\"line\":{\"color\":\"white\",\"width\":0.5},\"pattern\":{\"fillmode\":\"overlay\",\"size\":10,\"solidity\":0.2}},\"type\":\"bar\"}],\"carpet\":[{\"aaxis\":{\"endlinecolor\":\"#2a3f5f\",\"gridcolor\":\"#C8D4E3\",\"linecolor\":\"#C8D4E3\",\"minorgridcolor\":\"#C8D4E3\",\"startlinecolor\":\"#2a3f5f\"},\"baxis\":{\"endlinecolor\":\"#2a3f5f\",\"gridcolor\":\"#C8D4E3\",\"linecolor\":\"#C8D4E3\",\"minorgridcolor\":\"#C8D4E3\",\"startlinecolor\":\"#2a3f5f\"},\"type\":\"carpet\"}],\"choropleth\":[{\"colorbar\":{\"outlinewidth\":0,\"ticks\":\"\"},\"type\":\"choropleth\"}],\"contourcarpet\":[{\"colorbar\":{\"outlinewidth\":0,\"ticks\":\"\"},\"type\":\"contourcarpet\"}],\"contour\":[{\"colorbar\":{\"outlinewidth\":0,\"ticks\":\"\"},\"colorscale\":[[0.0,\"#0d0887\"],[0.1111111111111111,\"#46039f\"],[0.2222222222222222,\"#7201a8\"],[0.3333333333333333,\"#9c179e\"],[0.4444444444444444,\"#bd3786\"],[0.5555555555555556,\"#d8576b\"],[0.6666666666666666,\"#ed7953\"],[0.7777777777777778,\"#fb9f3a\"],[0.8888888888888888,\"#fdca26\"],[1.0,\"#f0f921\"]],\"type\":\"contour\"}],\"heatmapgl\":[{\"colorbar\":{\"outlinewidth\":0,\"ticks\":\"\"},\"colorscale\":[[0.0,\"#0d0887\"],[0.1111111111111111,\"#46039f\"],[0.2222222222222222,\"#7201a8\"],[0.3333333333333333,\"#9c179e\"],[0.4444444444444444,\"#bd3786\"],[0.5555555555555556,\"#d8576b\"],[0.6666666666666666,\"#ed7953\"],[0.7777777777777778,\"#fb9f3a\"],[0.8888888888888888,\"#fdca26\"],[1.0,\"#f0f921\"]],\"type\":\"heatmapgl\"}],\"heatmap\":[{\"colorbar\":{\"outlinewidth\":0,\"ticks\":\"\"},\"colorscale\":[[0.0,\"#0d0887\"],[0.1111111111111111,\"#46039f\"],[0.2222222222222222,\"#7201a8\"],[0.3333333333333333,\"#9c179e\"],[0.4444444444444444,\"#bd3786\"],[0.5555555555555556,\"#d8576b\"],[0.6666666666666666,\"#ed7953\"],[0.7777777777777778,\"#fb9f3a\"],[0.8888888888888888,\"#fdca26\"],[1.0,\"#f0f921\"]],\"type\":\"heatmap\"}],\"histogram2dcontour\":[{\"colorbar\":{\"outlinewidth\":0,\"ticks\":\"\"},\"colorscale\":[[0.0,\"#0d0887\"],[0.1111111111111111,\"#46039f\"],[0.2222222222222222,\"#7201a8\"],[0.3333333333333333,\"#9c179e\"],[0.4444444444444444,\"#bd3786\"],[0.5555555555555556,\"#d8576b\"],[0.6666666666666666,\"#ed7953\"],[0.7777777777777778,\"#fb9f3a\"],[0.8888888888888888,\"#fdca26\"],[1.0,\"#f0f921\"]],\"type\":\"histogram2dcontour\"}],\"histogram2d\":[{\"colorbar\":{\"outlinewidth\":0,\"ticks\":\"\"},\"colorscale\":[[0.0,\"#0d0887\"],[0.1111111111111111,\"#46039f\"],[0.2222222222222222,\"#7201a8\"],[0.3333333333333333,\"#9c179e\"],[0.4444444444444444,\"#bd3786\"],[0.5555555555555556,\"#d8576b\"],[0.6666666666666666,\"#ed7953\"],[0.7777777777777778,\"#fb9f3a\"],[0.8888888888888888,\"#fdca26\"],[1.0,\"#f0f921\"]],\"type\":\"histogram2d\"}],\"histogram\":[{\"marker\":{\"pattern\":{\"fillmode\":\"overlay\",\"size\":10,\"solidity\":0.2}},\"type\":\"histogram\"}],\"mesh3d\":[{\"colorbar\":{\"outlinewidth\":0,\"ticks\":\"\"},\"type\":\"mesh3d\"}],\"parcoords\":[{\"line\":{\"colorbar\":{\"outlinewidth\":0,\"ticks\":\"\"}},\"type\":\"parcoords\"}],\"pie\":[{\"automargin\":true,\"type\":\"pie\"}],\"scatter3d\":[{\"line\":{\"colorbar\":{\"outlinewidth\":0,\"ticks\":\"\"}},\"marker\":{\"colorbar\":{\"outlinewidth\":0,\"ticks\":\"\"}},\"type\":\"scatter3d\"}],\"scattercarpet\":[{\"marker\":{\"colorbar\":{\"outlinewidth\":0,\"ticks\":\"\"}},\"type\":\"scattercarpet\"}],\"scattergeo\":[{\"marker\":{\"colorbar\":{\"outlinewidth\":0,\"ticks\":\"\"}},\"type\":\"scattergeo\"}],\"scattergl\":[{\"marker\":{\"colorbar\":{\"outlinewidth\":0,\"ticks\":\"\"}},\"type\":\"scattergl\"}],\"scattermapbox\":[{\"marker\":{\"colorbar\":{\"outlinewidth\":0,\"ticks\":\"\"}},\"type\":\"scattermapbox\"}],\"scatterpolargl\":[{\"marker\":{\"colorbar\":{\"outlinewidth\":0,\"ticks\":\"\"}},\"type\":\"scatterpolargl\"}],\"scatterpolar\":[{\"marker\":{\"colorbar\":{\"outlinewidth\":0,\"ticks\":\"\"}},\"type\":\"scatterpolar\"}],\"scatter\":[{\"fillpattern\":{\"fillmode\":\"overlay\",\"size\":10,\"solidity\":0.2},\"type\":\"scatter\"}],\"scatterternary\":[{\"marker\":{\"colorbar\":{\"outlinewidth\":0,\"ticks\":\"\"}},\"type\":\"scatterternary\"}],\"surface\":[{\"colorbar\":{\"outlinewidth\":0,\"ticks\":\"\"},\"colorscale\":[[0.0,\"#0d0887\"],[0.1111111111111111,\"#46039f\"],[0.2222222222222222,\"#7201a8\"],[0.3333333333333333,\"#9c179e\"],[0.4444444444444444,\"#bd3786\"],[0.5555555555555556,\"#d8576b\"],[0.6666666666666666,\"#ed7953\"],[0.7777777777777778,\"#fb9f3a\"],[0.8888888888888888,\"#fdca26\"],[1.0,\"#f0f921\"]],\"type\":\"surface\"}],\"table\":[{\"cells\":{\"fill\":{\"color\":\"#EBF0F8\"},\"line\":{\"color\":\"white\"}},\"header\":{\"fill\":{\"color\":\"#C8D4E3\"},\"line\":{\"color\":\"white\"}},\"type\":\"table\"}]},\"layout\":{\"annotationdefaults\":{\"arrowcolor\":\"#2a3f5f\",\"arrowhead\":0,\"arrowwidth\":1},\"autotypenumbers\":\"strict\",\"coloraxis\":{\"colorbar\":{\"outlinewidth\":0,\"ticks\":\"\"}},\"colorscale\":{\"diverging\":[[0,\"#8e0152\"],[0.1,\"#c51b7d\"],[0.2,\"#de77ae\"],[0.3,\"#f1b6da\"],[0.4,\"#fde0ef\"],[0.5,\"#f7f7f7\"],[0.6,\"#e6f5d0\"],[0.7,\"#b8e186\"],[0.8,\"#7fbc41\"],[0.9,\"#4d9221\"],[1,\"#276419\"]],\"sequential\":[[0.0,\"#0d0887\"],[0.1111111111111111,\"#46039f\"],[0.2222222222222222,\"#7201a8\"],[0.3333333333333333,\"#9c179e\"],[0.4444444444444444,\"#bd3786\"],[0.5555555555555556,\"#d8576b\"],[0.6666666666666666,\"#ed7953\"],[0.7777777777777778,\"#fb9f3a\"],[0.8888888888888888,\"#fdca26\"],[1.0,\"#f0f921\"]],\"sequentialminus\":[[0.0,\"#0d0887\"],[0.1111111111111111,\"#46039f\"],[0.2222222222222222,\"#7201a8\"],[0.3333333333333333,\"#9c179e\"],[0.4444444444444444,\"#bd3786\"],[0.5555555555555556,\"#d8576b\"],[0.6666666666666666,\"#ed7953\"],[0.7777777777777778,\"#fb9f3a\"],[0.8888888888888888,\"#fdca26\"],[1.0,\"#f0f921\"]]},\"colorway\":[\"#636efa\",\"#EF553B\",\"#00cc96\",\"#ab63fa\",\"#FFA15A\",\"#19d3f3\",\"#FF6692\",\"#B6E880\",\"#FF97FF\",\"#FECB52\"],\"font\":{\"color\":\"#2a3f5f\"},\"geo\":{\"bgcolor\":\"white\",\"lakecolor\":\"white\",\"landcolor\":\"white\",\"showlakes\":true,\"showland\":true,\"subunitcolor\":\"#C8D4E3\"},\"hoverlabel\":{\"align\":\"left\"},\"hovermode\":\"closest\",\"mapbox\":{\"style\":\"light\"},\"paper_bgcolor\":\"white\",\"plot_bgcolor\":\"white\",\"polar\":{\"angularaxis\":{\"gridcolor\":\"#EBF0F8\",\"linecolor\":\"#EBF0F8\",\"ticks\":\"\"},\"bgcolor\":\"white\",\"radialaxis\":{\"gridcolor\":\"#EBF0F8\",\"linecolor\":\"#EBF0F8\",\"ticks\":\"\"}},\"scene\":{\"xaxis\":{\"backgroundcolor\":\"white\",\"gridcolor\":\"#DFE8F3\",\"gridwidth\":2,\"linecolor\":\"#EBF0F8\",\"showbackground\":true,\"ticks\":\"\",\"zerolinecolor\":\"#EBF0F8\"},\"yaxis\":{\"backgroundcolor\":\"white\",\"gridcolor\":\"#DFE8F3\",\"gridwidth\":2,\"linecolor\":\"#EBF0F8\",\"showbackground\":true,\"ticks\":\"\",\"zerolinecolor\":\"#EBF0F8\"},\"zaxis\":{\"backgroundcolor\":\"white\",\"gridcolor\":\"#DFE8F3\",\"gridwidth\":2,\"linecolor\":\"#EBF0F8\",\"showbackground\":true,\"ticks\":\"\",\"zerolinecolor\":\"#EBF0F8\"}},\"shapedefaults\":{\"line\":{\"color\":\"#2a3f5f\"}},\"ternary\":{\"aaxis\":{\"gridcolor\":\"#DFE8F3\",\"linecolor\":\"#A2B1C6\",\"ticks\":\"\"},\"baxis\":{\"gridcolor\":\"#DFE8F3\",\"linecolor\":\"#A2B1C6\",\"ticks\":\"\"},\"bgcolor\":\"white\",\"caxis\":{\"gridcolor\":\"#DFE8F3\",\"linecolor\":\"#A2B1C6\",\"ticks\":\"\"}},\"title\":{\"x\":0.05},\"xaxis\":{\"automargin\":true,\"gridcolor\":\"#EBF0F8\",\"linecolor\":\"#EBF0F8\",\"ticks\":\"\",\"title\":{\"standoff\":15},\"zerolinecolor\":\"#EBF0F8\",\"zerolinewidth\":2},\"yaxis\":{\"automargin\":true,\"gridcolor\":\"#EBF0F8\",\"linecolor\":\"#EBF0F8\",\"ticks\":\"\",\"title\":{\"standoff\":15},\"zerolinecolor\":\"#EBF0F8\",\"zerolinewidth\":2}}},\"title\":{\"text\":\"IBEX35, Petroleo_WTI, and Correlation\"},\"xaxis\":{\"title\":{\"text\":\"Fecha\"}},\"yaxis\":{\"title\":{\"text\":\"Valor\"}},\"hovermode\":\"x unified\",\"yaxis2\":{\"title\":{\"text\":\"Correlation\"},\"overlaying\":\"y\",\"side\":\"right\",\"range\":[-1,1]}},                        {\"responsive\": true}                    ).then(function(){\n",
              "                            \n",
              "var gd = document.getElementById('5aaa92ef-ea2d-4e74-bb56-916d14e2078e');\n",
              "var x = new MutationObserver(function (mutations, observer) {{\n",
              "        var display = window.getComputedStyle(gd).display;\n",
              "        if (!display || display === 'none') {{\n",
              "            console.log([gd, 'removed!']);\n",
              "            Plotly.purge(gd);\n",
              "            observer.disconnect();\n",
              "        }}\n",
              "}});\n",
              "\n",
              "// Listen for the removal of the full notebook cells\n",
              "var notebookContainer = gd.closest('#notebook-container');\n",
              "if (notebookContainer) {{\n",
              "    x.observe(notebookContainer, {childList: true});\n",
              "}}\n",
              "\n",
              "// Listen for the clearing of the current output cell\n",
              "var outputEl = gd.closest('.output');\n",
              "if (outputEl) {{\n",
              "    x.observe(outputEl, {childList: true});\n",
              "}}\n",
              "\n",
              "                        })                };                            </script>        </div>\n",
              "</body>\n",
              "</html>"
            ]
          },
          "metadata": {}
        }
      ]
    },
    {
      "cell_type": "code",
      "source": [
        "df_ibex_reindexado['media_movil_3'] = df_ibex_reindexado['Último'].rolling(window=3).mean()\n",
        "df_ibex_reindexado['media_movil_7'] = df_ibex_reindexado['Último'].rolling(window=7).mean()\n",
        "df_ibex_reindexado['media_movil_30'] = df_ibex_reindexado['Último'].rolling(window=30).mean()\n",
        "\n",
        "df_ibex_reindexado['Señal'] = 0  # Inicializa la señal en 0\n",
        "\n",
        "# Define la condición para la señal de compra\n",
        "condicion_compra = (df_ibex_reindexado['media_movil_3'] > df_ibex_reindexado['media_movil_7']) & \\\n",
        "                  (df_ibex_reindexado['media_movil_7'] > df_ibex_reindexado['media_movil_30']) & \\\n",
        "                  (df_ibex_reindexado['media_movil_3'].shift(1) < df_ibex_reindexado['media_movil_7'].shift(1))  # Verifica el cruce\n",
        "\n",
        "# Asigna 1 a la señal cuando se cumple la condición\n",
        "df_ibex_reindexado.loc[condicion_compra, 'Señal'] = 1\n",
        "\n",
        "caracteristicas = ['Último', 'media_movil_3', 'media_movil_7', 'media_movil_30']\n",
        "X = df_ibex_reindexado[caracteristicas]\n",
        "y = df_ibex_reindexado['Señal']\n",
        "\n",
        "\n"
      ],
      "metadata": {
        "id": "b-p4rJEcvNlL"
      },
      "execution_count": 22,
      "outputs": []
    },
    {
      "cell_type": "markdown",
      "source": [
        "ENTRENAR EL MODELO"
      ],
      "metadata": {
        "id": "gMC-HLq1wKv_"
      }
    },
    {
      "cell_type": "code",
      "source": [
        "# ESTE ES EL EXPERIMIENTO DE ENTRENAR UN MODELO PARA CREAR UNA SEÑAL 1/0 EN FUNCIÓN DE LAS MEDIAS MOVILES\n",
        "# SEGÚN INVESTIGACIÓN, EXISTE YA UNA TÉCNICA LLAMADA MODELO ARIMA: https://en.wikipedia.org/wiki/Autoregressive_integrated_moving_average\n",
        "# REHAGO EL CÓDIGO PARA ENTRENAR UN ARIMA CADA 7 DÍAS CON LOS DATOS DE 1 MES, Y QUE PREDIGA LOS VALORES DEL IBEX35 EN 7 DÍAS.\n",
        "\n",
        "from sklearn.model_selection import train_test_split\n",
        "from sklearn.linear_model import LogisticRegression\n",
        "from sklearn.impute import SimpleImputer\n",
        "\n",
        "# Divide los datos en conjuntos de entrenamiento y prueba\n",
        "X_train, X_test, y_train, y_test = train_test_split(X, y, test_size=0.2, random_state=42)\n",
        "\n",
        "imputer = SimpleImputer(strategy='mean') # O 'median', 'most_frequent', 'constant'\n",
        "X_train = imputer.fit_transform(X_train)\n",
        "print(X_train)\n",
        "# Crea y entrena el modelo\n",
        "modelo = LogisticRegression()\n",
        "modelo.fit(X_train, y_train)\n",
        "import joblib\n",
        "\n",
        "# Guardar el modelo en un fichero\n",
        "joblib.dump(modelo, 'modelo_entrenado.pkl')\n",
        "\n",
        "# Guardar el imputer en un fichero, si lo has usado\n",
        "joblib.dump(imputer, 'imputer.pkl')"
      ],
      "metadata": {
        "colab": {
          "base_uri": "https://localhost:8080/"
        },
        "id": "5UpXFLGLwHlg",
        "outputId": "94f827b5-ff1a-4a5d-90f6-a6750d498d75"
      },
      "execution_count": 23,
      "outputs": [
        {
          "output_type": "stream",
          "name": "stdout",
          "text": [
            "[[    0.          7024.96666667  7542.24285714  8690.16666667]\n",
            " [11996.7        11925.93333333  8485.71428571  8475.14628205]\n",
            " [10646.2        11047.4         9171.68571429  9050.05666667]\n",
            " [11617.9        11661.53333333  8357.35714286  8672.94666667]\n",
            " [11672.6        11727.63333333  8414.2         8167.35666667]\n",
            " [10325.7         6776.86666667  9631.07142857  8485.87666667]\n",
            " [11965.5         7874.06666667  8179.21428571  8475.14628205]\n",
            " [11245.4         7310.46666667  7485.68571429  8692.49666667]\n",
            " [11400.2        11099.          9373.9         9054.1       ]\n",
            " [10004.9        11130.83333333  8155.97142857  8500.85333333]\n",
            " [11588.1         7788.9         8323.74285714  8674.84333333]\n",
            " [11656.7         7620.06666667  9595.64285714  8475.14628205]\n",
            " [    0.          7348.8         7889.77142857  8663.43333333]\n",
            " [11357.2        11079.23333333  8290.36604555  8475.14628205]\n",
            " [11789.3        11702.2         9818.71428571  8853.23666667]\n",
            " [    0.          3878.63333333  8274.84285714  8017.56333333]\n",
            " [11904.5        11943.8         8521.11428571  8475.14628205]\n",
            " [11635.9        11512.43333333 11560.4         8811.88666667]\n",
            " [10649.8         6991.83333333  9451.9         8470.68666667]\n",
            " [    0.          7476.26666667  6329.9         8475.14628205]\n",
            " [11467.3        11508.36666667  8270.25714286  8663.92333333]\n",
            " [11904.          3968.          8464.88571429  8475.14628205]\n",
            " [    0.          3975.06666667  8515.35714286  8475.14628205]\n",
            " [11778.6         3926.2         6668.3         8288.57333333]\n",
            " [    0.          7884.1         8455.9         8475.14628205]\n",
            " [    0.          7756.1         8303.          8375.63666667]\n",
            " [11850.9         7938.8         6668.08571429  8475.14628205]\n",
            " [11812.5        11839.16666667  8455.9         8475.14628205]\n",
            " [10775.          3591.66666667  8290.36604555  8475.14628205]\n",
            " [11925.2        11942.13333333 10224.71428571  8475.14628205]\n",
            " [    0.          7448.5         6188.71428571  8094.46      ]\n",
            " [11203.5         7425.03333333  7930.4         8475.14628205]\n",
            " [11752.1        11633.16666667  9742.35714286  8667.96      ]\n",
            " [11071.6        11178.1         7768.05714286  8475.14628205]\n",
            " [    0.          3843.86666667  6559.3         7868.15      ]\n",
            " [11175.5         7275.1         7689.78571429  8095.57666667]\n",
            " [    0.          7649.26666667  6550.11428571  8256.77333333]\n",
            " [11617.9         7776.56666667  8312.5         8759.54333333]\n",
            " [11595.          7710.6         6591.04285714  7914.67333333]\n",
            " [    0.          3885.53333333  8303.          7981.88666667]\n",
            " [11377.1        11587.9         9847.51428571  8837.44333333]\n",
            " [11589.5        11617.56666667  8287.55714286  8784.61666667]\n",
            " [    0.          3917.36666667  6614.24285714  7895.95333333]\n",
            " [    0.          7720.06666667  9949.12857143  8415.07      ]\n",
            " [10686.         10353.2         9200.92857143  8690.16666667]\n",
            " [10094.8         7245.36666667  9750.87142857  8354.03      ]\n",
            " [11536.8         3845.6         6573.74285714  7864.66666667]\n",
            " [11473.9         7636.53333333  8204.95714286  8651.96666667]\n",
            " [11597.3        11532.06666667  8134.52857143  8460.26      ]\n",
            " [11610.8        11602.73333333  8310.94285714  8742.57666667]\n",
            " [11674.8         3891.6         8285.91428571  8406.72333333]\n",
            " [    0.          7635.73333333  8270.25714286  8276.86666667]\n",
            " [11579.5        11636.4         8311.07142857  8748.72666667]\n",
            " [    0.          7225.83333333  8155.97142857  8500.85333333]\n",
            " [11531.6         7668.5         6559.3         8255.17666667]\n",
            " [11641.3        11610.53333333  8308.75714286  8740.12      ]\n",
            " [10388.9        10156.13333333  9328.57142857  8688.96      ]\n",
            " [11439.9        11548.63333333  8310.94285714  8667.99666667]\n",
            " [11170.          7448.5         7617.98571429  8467.91      ]\n",
            " [11715.         11804.76666667  8438.08571429  8113.84      ]\n",
            " [    0.          8464.04861111  8290.36604555  8475.14628205]\n",
            " [11656.6        11619.26666667  8303.          8770.29666667]\n",
            " [11832.7         7891.26666667  8500.02857143  8475.14628205]\n",
            " [    0.          3355.7         8290.36604555  8475.14628205]\n",
            " [11839.8        11845.9         8472.          8475.14628205]\n",
            " [11473.9        11461.16666667  8184.38571429  8644.03666667]\n",
            " [    0.          7838.96666667  8135.12857143  8283.81666667]\n",
            " [    0.          3822.43333333  8270.25714286  7888.31333333]\n",
            " [11841.1         3947.03333333  8513.95714286  8475.14628205]\n",
            " [    0.          7750.7         8308.75714286  8351.03333333]\n",
            " [11382.6         7594.26666667  7989.28571429  8656.27666667]\n",
            " [11930.2         7927.03333333  8372.4         8475.14628205]\n",
            " [11611.7        11596.53333333  8300.04285714  8777.25      ]]\n"
          ]
        },
        {
          "output_type": "execute_result",
          "data": {
            "text/plain": [
              "['imputer.pkl']"
            ]
          },
          "metadata": {},
          "execution_count": 23
        }
      ]
    },
    {
      "cell_type": "markdown",
      "source": [
        "**EVALUAR EL MODELO**"
      ],
      "metadata": {
        "id": "4B8ROTyqwOOS"
      }
    },
    {
      "cell_type": "code",
      "source": [
        "from sklearn.metrics import accuracy_score, precision_score, recall_score\n",
        "\n",
        "# Abrir la serie de IBEX35\n",
        "df_ibex_test = pd.read_csv('datos/datos_historicos_IBEX35.csv', parse_dates=['Fecha'], index_col='Fecha')\n",
        "# Convert 'Último' column to float\n",
        "df_ibex_test['Último'] = df_ibex_test['Último'].apply(lambda x: float(x.replace('.', '').replace(',', '.')))\n",
        "# Suponiendo que 'nuevos_datos' es un DataFrame con las nuevas observaciones\n",
        "nuevos_datos_reindexado = pd.DataFrame(index=vector_fechas_test, data=0, columns=df_ibex_test.columns)\n",
        "\n",
        "# Copiar los valores de df_ibex a df_ibex_reindexado cuando los índices coinciden\n",
        "for fecha in df_ibex_test.index:\n",
        "  if fecha in nuevos_datos_reindexado.index:\n",
        "    nuevos_datos_reindexado.loc[fecha] = df_ibex_test.loc[fecha]\n",
        "\n",
        "nuevos_datos_reindexado['Último'] = nuevos_datos_reindexado['Último']\n",
        "nuevos_datos_reindexado['media_movil_3'] = nuevos_datos_reindexado['Último'].rolling(window=3).mean()\n",
        "nuevos_datos_reindexado['media_movil_7'] = nuevos_datos_reindexado['Último'].rolling(window=7).mean()\n",
        "nuevos_datos_reindexado['media_movil_30'] = nuevos_datos_reindexado['Último'].rolling(window=30).mean()\n",
        "\n",
        "nuevos_datos_reindexado = nuevos_datos_reindexado.astype(object)\n",
        "\n",
        "datos_entrada = nuevos_datos_reindexado[caracteristicas]\n",
        "datos_entrada.fillna(0, inplace=True)\n",
        "datos_entrada_imputados = imputer.fit_transform(datos_entrada)\n",
        "\n",
        "# Realiza predicciones en el conjunto de prueba\n",
        "y_pred = modelo.predict(datos_entrada_imputados)\n",
        "\n",
        "# Filter nuevos_datos_reindexado to the dates in vector_fechas_test\n",
        "filtered_data = nuevos_datos_reindexado[nuevos_datos_reindexado.index.isin(vector_fechas_test)]\n",
        "\n",
        "# Calculate the condition for intersection of moving averages\n",
        "condition = (filtered_data['media_movil_3'] > filtered_data['media_movil_7']) & \\\n",
        "            (filtered_data['media_movil_7'] > filtered_data['media_movil_30']) & \\\n",
        "            (filtered_data['media_movil_3'].shift(1) < filtered_data['media_movil_7'].shift(1))\n",
        "\n",
        "# Create y_test based on the condition\n",
        "y_test = np.where(condition, 1, 0)\n",
        "\n",
        "print(y_pred)\n",
        "print(y_test)\n",
        "\n",
        "\n",
        "# Calcula las métricas\n",
        "accuracy = accuracy_score(y_test, y_pred)\n",
        "precision = precision_score(y_test, y_pred)\n",
        "recall = recall_score(y_test, y_pred)\n",
        "\n",
        "print(f\"Accuracy: {accuracy}\")\n",
        "print(f\"Precision: {precision}\")\n",
        "print(f\"Recall: {recall}\")\n"
      ],
      "metadata": {
        "colab": {
          "base_uri": "https://localhost:8080/"
        },
        "id": "6XrfQRKiwNnK",
        "outputId": "426fbdf2-1bc8-4358-ce2d-b300913c0caf"
      },
      "execution_count": 24,
      "outputs": [
        {
          "output_type": "stream",
          "name": "stdout",
          "text": [
            "[0 0 0 0 0 0 0 0 0 0 0 0 0 0 0 0 1 0 0 0 0 1 1 1 0 0 0 0 1 0 0 1 0 0 0 0 0\n",
            " 0 0 0 0 0 0 0 0 0 0 0 0 0 0 0 0 0 0 0 0 0 0 1 1 1 1 0 0 0 0 0 0 0 0 0 0 0\n",
            " 0 0 0 0 0 0 0 0 0 0 0 0 0 0 0 0 0 0 0 0 0 0 0 0 0 0 0]\n",
            "[0 0 0 0 0 0 0 0 0 0 0 0 0 0 0 0 0 0 0 0 0 0 0 0 0 0 0 0 0 0 0 0 0 0 0 0 0\n",
            " 0 0 0 0 0 0 0 0 0 0 0 1 0 0 0 0 0 0 0 1 0 0 0 0 0 1 0 0 0 0 0 0 0 0 0 0 0\n",
            " 0 0 0 0 0 0 0 0 0 0 1 0 0 0 0 0 0 1 0 0 0 0 0 0 0 0 0]\n",
            "Accuracy: 0.8712871287128713\n",
            "Precision: 0.1\n",
            "Recall: 0.2\n"
          ]
        },
        {
          "output_type": "stream",
          "name": "stderr",
          "text": [
            "<ipython-input-24-7c18e362f62e>:13: FutureWarning:\n",
            "\n",
            "Setting an item of incompatible dtype is deprecated and will raise an error in a future version of pandas. Value '13.084,00' has dtype incompatible with int64, please explicitly cast to a compatible dtype first.\n",
            "\n",
            "<ipython-input-24-7c18e362f62e>:13: FutureWarning:\n",
            "\n",
            "Setting an item of incompatible dtype is deprecated and will raise an error in a future version of pandas. Value '13.091,60' has dtype incompatible with int64, please explicitly cast to a compatible dtype first.\n",
            "\n",
            "<ipython-input-24-7c18e362f62e>:13: FutureWarning:\n",
            "\n",
            "Setting an item of incompatible dtype is deprecated and will raise an error in a future version of pandas. Value '12.236,40' has dtype incompatible with int64, please explicitly cast to a compatible dtype first.\n",
            "\n",
            "<ipython-input-24-7c18e362f62e>:13: FutureWarning:\n",
            "\n",
            "Setting an item of incompatible dtype is deprecated and will raise an error in a future version of pandas. Value '371,36M' has dtype incompatible with int64, please explicitly cast to a compatible dtype first.\n",
            "\n",
            "<ipython-input-24-7c18e362f62e>:13: FutureWarning:\n",
            "\n",
            "Setting an item of incompatible dtype is deprecated and will raise an error in a future version of pandas. Value '-5,83%' has dtype incompatible with int64, please explicitly cast to a compatible dtype first.\n",
            "\n",
            "<ipython-input-24-7c18e362f62e>:13: FutureWarning:\n",
            "\n",
            "Setting an item of incompatible dtype is deprecated and will raise an error in a future version of pandas. Value '13191.2' has dtype incompatible with int64, please explicitly cast to a compatible dtype first.\n",
            "\n",
            "<ipython-input-24-7c18e362f62e>:23: FutureWarning:\n",
            "\n",
            "Downcasting object dtype arrays on .fillna, .ffill, .bfill is deprecated and will change in a future version. Call result.infer_objects(copy=False) instead. To opt-in to the future behavior, set `pd.set_option('future.no_silent_downcasting', True)`\n",
            "\n",
            "<ipython-input-24-7c18e362f62e>:23: SettingWithCopyWarning:\n",
            "\n",
            "\n",
            "A value is trying to be set on a copy of a slice from a DataFrame\n",
            "\n",
            "See the caveats in the documentation: https://pandas.pydata.org/pandas-docs/stable/user_guide/indexing.html#returning-a-view-versus-a-copy\n",
            "\n"
          ]
        }
      ]
    },
    {
      "cell_type": "code",
      "source": [
        "import gradio as gr\n",
        "import pandas as pd\n",
        "import numpy as np\n",
        "from sklearn.metrics import accuracy_score, precision_score, recall_score\n",
        "import joblib\n",
        "\n",
        "# Cargar modelo e imputador previamente entrenados\n",
        "modelo = joblib.load(\"modelo_entrenado.pkl\")\n",
        "imputer = joblib.load(\"imputer.pkl\")\n",
        "caracteristicas = [\"Último\", \"media_movil_3\", \"media_movil_7\", \"media_movil_30\"]\n",
        "\n",
        "# Función principal que ejecuta las predicciones\n",
        "def predecir_archivo(archivo_csv):\n",
        "    df_ibex_test = pd.read_csv(archivo_csv.name, parse_dates=['Fecha'], index_col='Fecha')\n",
        "\n",
        "    # Convertir columna 'Último' a float\n",
        "    df_ibex_test['Último'] = df_ibex_test['Último'].apply(lambda x: float(x.replace('.', '').replace(',', '.')))\n",
        "\n",
        "    vector_fechas_test = df_ibex_test.index\n",
        "    nuevos_datos_reindexado = pd.DataFrame(index=vector_fechas_test, data=0, columns=df_ibex_test.columns)\n",
        "\n",
        "    for fecha in df_ibex_test.index:\n",
        "        if fecha in nuevos_datos_reindexado.index:\n",
        "            nuevos_datos_reindexado.loc[fecha] = df_ibex_test.loc[fecha]\n",
        "\n",
        "    nuevos_datos_reindexado['media_movil_3'] = nuevos_datos_reindexado['Último'].rolling(window=3).mean()\n",
        "    nuevos_datos_reindexado['media_movil_7'] = nuevos_datos_reindexado['Último'].rolling(window=7).mean()\n",
        "    nuevos_datos_reindexado['media_movil_30'] = nuevos_datos_reindexado['Último'].rolling(window=30).mean()\n",
        "    nuevos_datos_reindexado.fillna(0, inplace=True)\n",
        "\n",
        "    datos_entrada = nuevos_datos_reindexado[caracteristicas]\n",
        "    datos_entrada_imputados = imputer.transform(datos_entrada)\n",
        "\n",
        "    y_pred = modelo.predict(datos_entrada_imputados)\n",
        "\n",
        "    # Generar etiqueta real simulada (como en tu código)\n",
        "    condition = (\n",
        "        (nuevos_datos_reindexado['media_movil_3'] > nuevos_datos_reindexado['media_movil_7']) &\n",
        "        (nuevos_datos_reindexado['media_movil_7'] > nuevos_datos_reindexado['media_movil_30']) &\n",
        "        (nuevos_datos_reindexado['media_movil_3'].shift(1) < nuevos_datos_reindexado['media_movil_7'].shift(1))\n",
        "    )\n",
        "    y_test = np.where(condition, 1, 0)\n",
        "\n",
        "    # Calcular métricas\n",
        "    accuracy = accuracy_score(y_test, y_pred)\n",
        "    precision = precision_score(y_test, y_pred)\n",
        "    recall = recall_score(y_test, y_pred)\n",
        "\n",
        "    # Resultado como string\n",
        "    resultado = f\"Accuracy: {accuracy:.2f}\\nPrecision: {precision:.2f}\\nRecall: {recall:.2f}\"\n",
        "\n",
        "    return resultado\n",
        "\n",
        "# Interfaz de Gradio\n",
        "iface = gr.Interface(\n",
        "    fn=predecir_archivo,\n",
        "    inputs=gr.File(label=\"Sube el CSV del IBEX35\"),\n",
        "    outputs=\"text\",\n",
        "    title=\"Predicción sobre IBEX35\",\n",
        "    description=\"Sube un archivo CSV con datos del IBEX35 y obtén las métricas del modelo entrenado.\"\n",
        ")\n",
        "\n",
        "iface.launch()"
      ],
      "metadata": {
        "id": "iS1XjQOlHxcx",
        "outputId": "7b912294-ae29-405c-ddb0-100ebc746a0d",
        "colab": {
          "base_uri": "https://localhost:8080/",
          "height": 651
        }
      },
      "execution_count": 25,
      "outputs": [
        {
          "output_type": "stream",
          "name": "stdout",
          "text": [
            "It looks like you are running Gradio on a hosted a Jupyter notebook. For the Gradio app to work, sharing must be enabled. Automatically setting `share=True` (you can turn this off by setting `share=False` in `launch()` explicitly).\n",
            "\n",
            "Colab notebook detected. To show errors in colab notebook, set debug=True in launch()\n",
            "* Running on public URL: https://fae93263edc11a17ce.gradio.live\n",
            "\n",
            "This share link expires in 1 week. For free permanent hosting and GPU upgrades, run `gradio deploy` from the terminal in the working directory to deploy to Hugging Face Spaces (https://huggingface.co/spaces)\n"
          ]
        },
        {
          "output_type": "display_data",
          "data": {
            "text/plain": [
              "<IPython.core.display.HTML object>"
            ],
            "text/html": [
              "<div><iframe src=\"https://fae93263edc11a17ce.gradio.live\" width=\"100%\" height=\"500\" allow=\"autoplay; camera; microphone; clipboard-read; clipboard-write;\" frameborder=\"0\" allowfullscreen></iframe></div>"
            ]
          },
          "metadata": {}
        },
        {
          "output_type": "execute_result",
          "data": {
            "text/plain": []
          },
          "metadata": {},
          "execution_count": 25
        }
      ]
    },
    {
      "cell_type": "markdown",
      "source": [
        "**FUNCIÓN DE ENTRENAIENTO DEL MODELO. LA ENTRADA SON LAS OBSERVACIONES OBTENIDAS DE UN SERVICIO, YA SEA CARGANDO CON CSV U OBTENIENDO LOS ULTIMOS 30 VALORES DEL SERVICIO DE YAHOO FINANCE**"
      ],
      "metadata": {
        "id": "6kbwBU0yF7B4"
      }
    },
    {
      "cell_type": "code",
      "source": [
        "import pandas as pd\n",
        "from sklearn.model_selection import train_test_split\n",
        "from statsmodels.tsa.arima.model import ARIMA\n",
        "import joblib\n",
        "\n",
        "def train_arima_model():\n",
        "  #LOS VALORES DEL IBEX EN LAS FECHAS DADAS ESTÁN EN df_ibex_reindexado\n",
        "  # Filter data based on user input\n",
        "  # Use .loc to slice by labels, handling potential missing dates\n",
        "  filtered_df = df_ibex_reindexado\n",
        "  filtered_df['Último'] = filtered_df['Último'].astype(float)  # Ensure numeric type\n",
        "  #filtered_df['Último'].fillna(filtered_df['Último'].mean(), inplace=True)  # Replace NaN with mean\n",
        "  filtered_df = df_ibex_reindexado.loc[df_ibex_reindexado['Último'] != 0]\n",
        "  # Prepare the data for training\n",
        "  y = filtered_df['Último'].values  # Target: IBEX35 values\n",
        "\n",
        "  # Split the data into training and testing sets\n",
        "  y_train, y_test = train_test_split(y, test_size=0.2, shuffle=False)\n",
        "\n",
        "  # Determine the ARIMA order (p, d, q) - you might need to experiment with these values\n",
        "  # You can use tools like ACF and PACF plots to help determine the order\n",
        "  # Example order: (5, 1, 0)\n",
        "  # https://en.wikipedia.org/wiki/Autoregressive_integrated_moving_average\n",
        "\n",
        "\n",
        "  order = (5, 1, 0)\n",
        "\n",
        "\n",
        "  # Create and train the ARIMA model\n",
        "  model = ARIMA(y_train, order=order)\n",
        "  model_fit = model.fit()\n",
        "\n",
        "  # Save the trained model\n",
        "  joblib.dump(model_fit, 'ibex35_arima_model.pkl')\n",
        "\n",
        "  print(\"ARIMA model trained and saved successfully!\")"
      ],
      "metadata": {
        "id": "xrV4ZO9awE99"
      },
      "execution_count": 143,
      "outputs": []
    },
    {
      "cell_type": "markdown",
      "source": [
        "\n",
        "\n",
        "**FUNCION DE PREDICCIÓN DE VALORES DEL IBEX A PARTIR DE LAS ÚLTIMAS 30 OBSERVAICONES**\n"
      ],
      "metadata": {
        "id": "FBK35EhEFosu"
      }
    },
    {
      "cell_type": "code",
      "source": [
        "# prompt: quiero crear una aplicación de gradio que use el modelo ibex35_arima recien entrenado para predecir los 7 valores siguientes del IBEX35\n",
        "\n",
        "import joblib\n",
        "import pandas as pd\n",
        "import numpy as np\n",
        "import gradio as gr\n",
        "from statsmodels.tsa.arima.model import ARIMA\n",
        "\n",
        "\n",
        "def predict_ibex35(df_last_observations,days_to_predict=7):\n",
        "\n",
        "    # Obtener las últimas observaciones del conjunto de datos (reemplaza con tu DataFrame)\n",
        "    # Asegúrate de que las fechas en tu DataFrame sean de tipo datetime64[ns]\n",
        "    # y estén ordenadas cronológicamente.\n",
        "    # Ejemplo, asumimos que df_ibex_reindexado ya está definido y cargado con datos:\n",
        "    # Eliminar ceros\n",
        "    #df_ibex_reindexado_filtered = df_ibex_reindexado[df_ibex_reindexado['Último'] != 0]\n",
        "    last_observations = df_last_observations['^IBEX'].astype(float)  # Obtener las ultimas 30 observaciones\n",
        "\n",
        "    # Realizar predicciones con el modelo ARIMA cargado\n",
        "    predictions = []\n",
        "    for i in range(days_to_predict):\n",
        "        # Extender la serie temporal con la predicción anterior\n",
        "        model_fit = ARIMA(last_observations.values, order=(5, 1, 0)).fit()  # Ajustar con las ultimas 30 obs.\n",
        "        prediction = model_fit.predict(start=len(last_observations), end=len(last_observations)) # Predice el prox valor\n",
        "        predictions.append(prediction[0])\n",
        "        last_observations = pd.concat([last_observations, pd.Series([prediction[0]])], ignore_index=True)\n",
        "        # Convert to list of regular Python floats using tolist()\n",
        "        predictions = np.array(predictions).tolist()\n",
        "    return predictions\n",
        "\n",
        "\n",
        "\n",
        "# Función de inicialización\n",
        "def initialize_app():\n",
        "    \"\"\"\n",
        "    Inicializa la aplicación obteniendo los últimos 30 valores del IBEX35.\n",
        "\n",
        "    Returns:\n",
        "        list: Una lista que contiene las últimas 30 observaciones del IBEX35.\n",
        "    \"\"\"\n",
        "    valores= obtener_ultimos_valores_ibex35_internet(ticker=\"^IBEX\", num_valores=30)  # Obtener solo los valores\n",
        "    return valores\n",
        "\n",
        "\n",
        "def launch_gradio():\n",
        "    # Inicializar la aplicación\n",
        "    initial_values = initialize_app()\n",
        "\n",
        "    with gr.Blocks() as demo:\n",
        "        with gr.Tab(\"Predict IBEX35\"):\n",
        "            days_to_predict_input = gr.Number(label=\"Número de días a predecir\", value=7)\n",
        "            predict_button = gr.Button(\"Predict\")\n",
        "            predict_output = gr.Textbox(label=\"Predicciones del IBEX35\")\n",
        "\n",
        "            # Predecir utilizando el modelo entrenado\n",
        "            predict_button.click(\n",
        "                fn=predict_ibex35,\n",
        "                inputs=[gr.State(initial_values), days_to_predict_input],\n",
        "                outputs=predict_output,\n",
        "            )\n",
        "\n",
        "    demo.launch(share=True)\n",
        "\n",
        "launch_gradio()\n",
        "#initial_values = initialize_app()\n",
        "#train_arima_model()\n",
        "#predict_ibex35(initial_values,7)\n"
      ],
      "metadata": {
        "id": "efvUgxO82fZp",
        "outputId": "10d2b184-2fad-4d5c-9204-c71bb6ea1b49",
        "colab": {
          "base_uri": "https://localhost:8080/",
          "height": 633
        }
      },
      "execution_count": 145,
      "outputs": [
        {
          "output_type": "stream",
          "name": "stderr",
          "text": [
            "\r[*********************100%***********************]  1 of 1 completed\n"
          ]
        },
        {
          "output_type": "stream",
          "name": "stdout",
          "text": [
            "Colab notebook detected. To show errors in colab notebook, set debug=True in launch()\n",
            "* Running on public URL: https://8716be561fd96d2a63.gradio.live\n",
            "\n",
            "This share link expires in 1 week. For free permanent hosting and GPU upgrades, run `gradio deploy` from the terminal in the working directory to deploy to Hugging Face Spaces (https://huggingface.co/spaces)\n"
          ]
        },
        {
          "output_type": "display_data",
          "data": {
            "text/plain": [
              "<IPython.core.display.HTML object>"
            ],
            "text/html": [
              "<div><iframe src=\"https://8716be561fd96d2a63.gradio.live\" width=\"100%\" height=\"500\" allow=\"autoplay; camera; microphone; clipboard-read; clipboard-write;\" frameborder=\"0\" allowfullscreen></iframe></div>"
            ]
          },
          "metadata": {}
        }
      ]
    },
    {
      "cell_type": "code",
      "source": [
        "import yfinance as yf\n",
        "import pandas as pd\n",
        "\n",
        "def obtener_ultimos_valores_ibex35_internet(ticker=\"^IBEX\", num_valores=30):\n",
        "    \"\"\"\n",
        "    Obtiene los últimos valores del IBEX35 y sus fechas desde Yahoo Finance\n",
        "    y los devuelve como un DataFrame.\n",
        "\n",
        "    Args:\n",
        "        ticker (str, optional): El ticker del IBEX35 en Yahoo Finance.\n",
        "                                 Por defecto es \"^IBEX\".\n",
        "        num_valores (int, optional): Número de últimos valores a obtener.\n",
        "                                      Por defecto es 30.\n",
        "\n",
        "    Returns:\n",
        "        pandas.DataFrame: Un DataFrame con los valores del IBEX35 y las fechas\n",
        "                         como índice.\n",
        "    \"\"\"\n",
        "    try:\n",
        "        # Descargar datos del IBEX35 desde Yahoo Finance\n",
        "        ibex_data = yf.download(ticker, period=f\"{num_valores}d\")\n",
        "\n",
        "        return ibex_data['Close']\n",
        "\n",
        "    except Exception as e:\n",
        "        print(f\"Error al obtener datos de Yahoo Finance: {e}\")\n",
        "        return pd.DataFrame()  # Devolver un DataFrame vacío en caso de error"
      ],
      "metadata": {
        "id": "U5tc5u-K8IlV"
      },
      "execution_count": 132,
      "outputs": []
    }
  ]
}